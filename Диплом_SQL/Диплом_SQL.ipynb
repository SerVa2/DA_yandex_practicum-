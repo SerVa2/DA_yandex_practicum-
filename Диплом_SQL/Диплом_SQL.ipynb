{
 "cells": [
  {
   "cell_type": "markdown",
   "metadata": {},
   "source": [
    "# Проект по SQL\n",
    "Коронавирус застал мир врасплох, изменив привычный порядок вещей. В свободное время жители городов больше не выходят на улицу, не посещают кафе и торговые центры. Зато стало больше времени для книг. Это заметили стартаперы — и бросились создавать приложения для тех, кто любит читать.\n",
    "Ваша компания решила быть на волне и купила крупный сервис для чтения книг по подписке. "
   ]
  },
  {
   "cell_type": "markdown",
   "metadata": {},
   "source": [
    "# Цели и задачи проекта\n",
    "\n",
    "Задача — проанализировать базу данных. В ней — информация о книгах, издательствах, авторах, а также пользовательские обзоры книг. Эти данные помогут сформулировать ценностное предложение для нового продукта."
   ]
  },
  {
   "cell_type": "markdown",
   "metadata": {},
   "source": [
    "# Описание данных \n",
    "\n",
    "**Таблица `books`**\n",
    "\n",
    "Содержит данные о книгах:\n",
    "    \n",
    "`book_id` — идентификатор книги;\n",
    "\n",
    "`author_id` — идентификатор автора;\n",
    "\n",
    "`title` — название книги;\n",
    "\n",
    "`num_pages` — количество страниц;\n",
    "\n",
    "`publication_date` — дата публикации книги;\n",
    "\n",
    "`publisher_id` — идентификатор издателя.\n",
    "\n",
    "\n",
    "**Таблица `authors`**\n",
    "\n",
    "Содержит данные об авторах:\n",
    "    \n",
    "`author_id` — идентификатор автора;\n",
    "\n",
    "`author` — имя автора.\n",
    "\n",
    "\n",
    "\n",
    "**Таблица `publishers`**\n",
    "\n",
    "Содержит данные об издательствах:\n",
    "    \n",
    "`publisher_id` — идентификатор издательства;\n",
    "\n",
    "`publisher` — название издательства;\n",
    "\n",
    "**Таблица `ratings`**\n",
    "\n",
    "Содержит данные о пользовательских оценках книг:\n",
    "    \n",
    "`rating_id` — идентификатор оценки;\n",
    "\n",
    "`book_id` — идентификатор книги;\n",
    "\n",
    "`username` — имя пользователя, оставившего оценку;\n",
    "\n",
    "`rating` — оценка книги.\n",
    "\n",
    "\n",
    "\n",
    "**Таблица reviews**\n",
    "\n",
    "Содержит данные о пользовательских обзорах:\n",
    "    \n",
    "`review_id` — идентификатор обзора;\n",
    "\n",
    "`book_id` — идентификатор книги;\n",
    "\n",
    "`username` — имя автора обзора;\n",
    "\n",
    "`text` — текст обзора."
   ]
  },
  {
   "cell_type": "markdown",
   "metadata": {},
   "source": [
    "# Задания\n",
    "\n",
    "- Посчитайте, сколько книг вышло после 1 января 2000 года;\n",
    "\n",
    "- Для каждой книги посчитайте количество обзоров и среднюю оценку;\n",
    "\n",
    "- Определите издательство, которое выпустило наибольшее число книг толще 50 страниц — так вы исключите из анализа брошюры;\n",
    "\n",
    "- Определите автора с самой высокой средней оценкой книг — учитывайте только книги с 50 и более оценками;\n",
    "\n",
    "- Cосчитайте среднее количество обзоров от пользователей, которые поставили больше 48 оценок."
   ]
  },
  {
   "cell_type": "markdown",
   "metadata": {},
   "source": [
    "# Как выполнить задание?\n",
    "\n",
    "- Опишите цели исследования;\n",
    "\n",
    "- Исследуйте таблицы — выведите первые строки;\n",
    "\n",
    "- Сделайте по одному SQL-запросу для решения каждого задания;\n",
    "\n",
    "- Выведите результаты каждого запроса в тетрадке;\n",
    "\n",
    "- Опишите выводы по каждой из решённых задач."
   ]
  },
  {
   "cell_type": "markdown",
   "metadata": {},
   "source": [
    "\n",
    "# Примечания\n",
    "\n",
    "Не забывайте про функции, они упрощают работу;\n",
    "\n",
    "Получите ответы, используя только язык запросов SQL. Pandas допускается только для хранения и вывода результатов."
   ]
  },
  {
   "cell_type": "markdown",
   "metadata": {},
   "source": [
    "## Импорт библиотек,подключение к БД"
   ]
  },
  {
   "cell_type": "code",
   "execution_count": 1,
   "metadata": {},
   "outputs": [],
   "source": [
    "# импортируем библиотеки\n",
    "import pandas as pd\n",
    "from sqlalchemy import text, create_engine"
   ]
  },
  {
   "cell_type": "code",
   "execution_count": 2,
   "metadata": {},
   "outputs": [],
   "source": [
    "# устанавливаем параметры\n",
    "db_config = {'user': 'praktikum_student', # имя пользователя\n",
    "'pwd': 'Sdf4$2;d-d30pp', # пароль\n",
    "'host': 'rc1b-wcoijxj3yxfsf3fs.mdb.yandexcloud.net',\n",
    "'port': 6432, # порт подключения\n",
    "'db': 'data-analyst-final-project-db'} # название базы данных\n",
    "connection_string = 'postgresql://{user}:{pwd}@{host}:{port}/{db}'.format(**db_config)\n",
    "# сохраняем коннектор\n",
    "engine = create_engine(connection_string, connect_args={'sslmode':'require'})"
   ]
  },
  {
   "cell_type": "markdown",
   "metadata": {},
   "source": [
    "**Добавим функцию для выгрузки таблиц**"
   ]
  },
  {
   "cell_type": "code",
   "execution_count": 3,
   "metadata": {},
   "outputs": [],
   "source": [
    "def select(query):\n",
    "    return pd.read_sql(query,con = engine)"
   ]
  },
  {
   "cell_type": "markdown",
   "metadata": {},
   "source": [
    "**Добавим функцию для вывода информации о таблицах**"
   ]
  },
  {
   "cell_type": "code",
   "execution_count": 4,
   "metadata": {},
   "outputs": [],
   "source": [
    "def inform(df):\n",
    "    display(df.head()) # вывод первых 5 строк таблицы\n",
    "    df.info() # получение информации\n",
    "    print ('Количество дубликатов -', df.duplicated().sum()) # проверка на дубликаты\n",
    "    print ('Число пропусков -',df.isna().sum())# число пропусков\n",
    "    return df"
   ]
  },
  {
   "cell_type": "markdown",
   "metadata": {},
   "source": [
    "## Выгрузка и изучение данных"
   ]
  },
  {
   "cell_type": "markdown",
   "metadata": {},
   "source": [
    "**Таблица `books`**"
   ]
  },
  {
   "cell_type": "code",
   "execution_count": 5,
   "metadata": {},
   "outputs": [
    {
     "data": {
      "text/html": [
       "<div>\n",
       "<style scoped>\n",
       "    .dataframe tbody tr th:only-of-type {\n",
       "        vertical-align: middle;\n",
       "    }\n",
       "\n",
       "    .dataframe tbody tr th {\n",
       "        vertical-align: top;\n",
       "    }\n",
       "\n",
       "    .dataframe thead th {\n",
       "        text-align: right;\n",
       "    }\n",
       "</style>\n",
       "<table border=\"1\" class=\"dataframe\">\n",
       "  <thead>\n",
       "    <tr style=\"text-align: right;\">\n",
       "      <th></th>\n",
       "      <th>book_id</th>\n",
       "      <th>author_id</th>\n",
       "      <th>title</th>\n",
       "      <th>num_pages</th>\n",
       "      <th>publication_date</th>\n",
       "      <th>publisher_id</th>\n",
       "    </tr>\n",
       "  </thead>\n",
       "  <tbody>\n",
       "    <tr>\n",
       "      <th>0</th>\n",
       "      <td>1</td>\n",
       "      <td>546</td>\n",
       "      <td>'Salem's Lot</td>\n",
       "      <td>594</td>\n",
       "      <td>2005-11-01</td>\n",
       "      <td>93</td>\n",
       "    </tr>\n",
       "    <tr>\n",
       "      <th>1</th>\n",
       "      <td>2</td>\n",
       "      <td>465</td>\n",
       "      <td>1 000 Places to See Before You Die</td>\n",
       "      <td>992</td>\n",
       "      <td>2003-05-22</td>\n",
       "      <td>336</td>\n",
       "    </tr>\n",
       "    <tr>\n",
       "      <th>2</th>\n",
       "      <td>3</td>\n",
       "      <td>407</td>\n",
       "      <td>13 Little Blue Envelopes (Little Blue Envelope...</td>\n",
       "      <td>322</td>\n",
       "      <td>2010-12-21</td>\n",
       "      <td>135</td>\n",
       "    </tr>\n",
       "    <tr>\n",
       "      <th>3</th>\n",
       "      <td>4</td>\n",
       "      <td>82</td>\n",
       "      <td>1491: New Revelations of the Americas Before C...</td>\n",
       "      <td>541</td>\n",
       "      <td>2006-10-10</td>\n",
       "      <td>309</td>\n",
       "    </tr>\n",
       "    <tr>\n",
       "      <th>4</th>\n",
       "      <td>5</td>\n",
       "      <td>125</td>\n",
       "      <td>1776</td>\n",
       "      <td>386</td>\n",
       "      <td>2006-07-04</td>\n",
       "      <td>268</td>\n",
       "    </tr>\n",
       "  </tbody>\n",
       "</table>\n",
       "</div>"
      ],
      "text/plain": [
       "   book_id  author_id                                              title  \\\n",
       "0        1        546                                       'Salem's Lot   \n",
       "1        2        465                 1 000 Places to See Before You Die   \n",
       "2        3        407  13 Little Blue Envelopes (Little Blue Envelope...   \n",
       "3        4         82  1491: New Revelations of the Americas Before C...   \n",
       "4        5        125                                               1776   \n",
       "\n",
       "   num_pages publication_date  publisher_id  \n",
       "0        594       2005-11-01            93  \n",
       "1        992       2003-05-22           336  \n",
       "2        322       2010-12-21           135  \n",
       "3        541       2006-10-10           309  \n",
       "4        386       2006-07-04           268  "
      ]
     },
     "metadata": {},
     "output_type": "display_data"
    },
    {
     "name": "stdout",
     "output_type": "stream",
     "text": [
      "<class 'pandas.core.frame.DataFrame'>\n",
      "RangeIndex: 1000 entries, 0 to 999\n",
      "Data columns (total 6 columns):\n",
      " #   Column            Non-Null Count  Dtype \n",
      "---  ------            --------------  ----- \n",
      " 0   book_id           1000 non-null   int64 \n",
      " 1   author_id         1000 non-null   int64 \n",
      " 2   title             1000 non-null   object\n",
      " 3   num_pages         1000 non-null   int64 \n",
      " 4   publication_date  1000 non-null   object\n",
      " 5   publisher_id      1000 non-null   int64 \n",
      "dtypes: int64(4), object(2)\n",
      "memory usage: 47.0+ KB\n",
      "Количество дубликатов - 0\n",
      "Число пропусков - book_id             0\n",
      "author_id           0\n",
      "title               0\n",
      "num_pages           0\n",
      "publication_date    0\n",
      "publisher_id        0\n",
      "dtype: int64\n"
     ]
    }
   ],
   "source": [
    "books = '''\n",
    "          SELECT * FROM books\n",
    "        '''\n",
    "books = select(books)\n",
    "books = inform(books)"
   ]
  },
  {
   "cell_type": "markdown",
   "metadata": {},
   "source": [
    "Таблица `books` содержит 1000 записей в 6 столбцах.Пропусков и дубликатов не обнаружено. "
   ]
  },
  {
   "cell_type": "markdown",
   "metadata": {},
   "source": [
    "**Таблица `authors`**"
   ]
  },
  {
   "cell_type": "code",
   "execution_count": 6,
   "metadata": {},
   "outputs": [
    {
     "data": {
      "text/html": [
       "<div>\n",
       "<style scoped>\n",
       "    .dataframe tbody tr th:only-of-type {\n",
       "        vertical-align: middle;\n",
       "    }\n",
       "\n",
       "    .dataframe tbody tr th {\n",
       "        vertical-align: top;\n",
       "    }\n",
       "\n",
       "    .dataframe thead th {\n",
       "        text-align: right;\n",
       "    }\n",
       "</style>\n",
       "<table border=\"1\" class=\"dataframe\">\n",
       "  <thead>\n",
       "    <tr style=\"text-align: right;\">\n",
       "      <th></th>\n",
       "      <th>author_id</th>\n",
       "      <th>author</th>\n",
       "    </tr>\n",
       "  </thead>\n",
       "  <tbody>\n",
       "    <tr>\n",
       "      <th>0</th>\n",
       "      <td>1</td>\n",
       "      <td>A.S. Byatt</td>\n",
       "    </tr>\n",
       "    <tr>\n",
       "      <th>1</th>\n",
       "      <td>2</td>\n",
       "      <td>Aesop/Laura Harris/Laura Gibbs</td>\n",
       "    </tr>\n",
       "    <tr>\n",
       "      <th>2</th>\n",
       "      <td>3</td>\n",
       "      <td>Agatha Christie</td>\n",
       "    </tr>\n",
       "    <tr>\n",
       "      <th>3</th>\n",
       "      <td>4</td>\n",
       "      <td>Alan Brennert</td>\n",
       "    </tr>\n",
       "    <tr>\n",
       "      <th>4</th>\n",
       "      <td>5</td>\n",
       "      <td>Alan Moore/David   Lloyd</td>\n",
       "    </tr>\n",
       "  </tbody>\n",
       "</table>\n",
       "</div>"
      ],
      "text/plain": [
       "   author_id                          author\n",
       "0          1                      A.S. Byatt\n",
       "1          2  Aesop/Laura Harris/Laura Gibbs\n",
       "2          3                 Agatha Christie\n",
       "3          4                   Alan Brennert\n",
       "4          5        Alan Moore/David   Lloyd"
      ]
     },
     "metadata": {},
     "output_type": "display_data"
    },
    {
     "name": "stdout",
     "output_type": "stream",
     "text": [
      "<class 'pandas.core.frame.DataFrame'>\n",
      "RangeIndex: 636 entries, 0 to 635\n",
      "Data columns (total 2 columns):\n",
      " #   Column     Non-Null Count  Dtype \n",
      "---  ------     --------------  ----- \n",
      " 0   author_id  636 non-null    int64 \n",
      " 1   author     636 non-null    object\n",
      "dtypes: int64(1), object(1)\n",
      "memory usage: 10.1+ KB\n",
      "Количество дубликатов - 0\n",
      "Число пропусков - author_id    0\n",
      "author       0\n",
      "dtype: int64\n"
     ]
    }
   ],
   "source": [
    "authors = '''\n",
    "            SELECT * FROM authors\n",
    "          '''\n",
    "authors = select(authors)\n",
    "authors = inform(authors)"
   ]
  },
  {
   "cell_type": "markdown",
   "metadata": {},
   "source": [
    "Таблица `authors` содержит 636 записей в 2 столбцах.Пропусков и дубликатов не обнаружено. "
   ]
  },
  {
   "cell_type": "markdown",
   "metadata": {},
   "source": [
    "**Таблица `publishers`**"
   ]
  },
  {
   "cell_type": "code",
   "execution_count": 7,
   "metadata": {},
   "outputs": [
    {
     "data": {
      "text/html": [
       "<div>\n",
       "<style scoped>\n",
       "    .dataframe tbody tr th:only-of-type {\n",
       "        vertical-align: middle;\n",
       "    }\n",
       "\n",
       "    .dataframe tbody tr th {\n",
       "        vertical-align: top;\n",
       "    }\n",
       "\n",
       "    .dataframe thead th {\n",
       "        text-align: right;\n",
       "    }\n",
       "</style>\n",
       "<table border=\"1\" class=\"dataframe\">\n",
       "  <thead>\n",
       "    <tr style=\"text-align: right;\">\n",
       "      <th></th>\n",
       "      <th>publisher_id</th>\n",
       "      <th>publisher</th>\n",
       "    </tr>\n",
       "  </thead>\n",
       "  <tbody>\n",
       "    <tr>\n",
       "      <th>0</th>\n",
       "      <td>1</td>\n",
       "      <td>Ace</td>\n",
       "    </tr>\n",
       "    <tr>\n",
       "      <th>1</th>\n",
       "      <td>2</td>\n",
       "      <td>Ace Book</td>\n",
       "    </tr>\n",
       "    <tr>\n",
       "      <th>2</th>\n",
       "      <td>3</td>\n",
       "      <td>Ace Books</td>\n",
       "    </tr>\n",
       "    <tr>\n",
       "      <th>3</th>\n",
       "      <td>4</td>\n",
       "      <td>Ace Hardcover</td>\n",
       "    </tr>\n",
       "    <tr>\n",
       "      <th>4</th>\n",
       "      <td>5</td>\n",
       "      <td>Addison Wesley Publishing Company</td>\n",
       "    </tr>\n",
       "  </tbody>\n",
       "</table>\n",
       "</div>"
      ],
      "text/plain": [
       "   publisher_id                          publisher\n",
       "0             1                                Ace\n",
       "1             2                           Ace Book\n",
       "2             3                          Ace Books\n",
       "3             4                      Ace Hardcover\n",
       "4             5  Addison Wesley Publishing Company"
      ]
     },
     "metadata": {},
     "output_type": "display_data"
    },
    {
     "name": "stdout",
     "output_type": "stream",
     "text": [
      "<class 'pandas.core.frame.DataFrame'>\n",
      "RangeIndex: 340 entries, 0 to 339\n",
      "Data columns (total 2 columns):\n",
      " #   Column        Non-Null Count  Dtype \n",
      "---  ------        --------------  ----- \n",
      " 0   publisher_id  340 non-null    int64 \n",
      " 1   publisher     340 non-null    object\n",
      "dtypes: int64(1), object(1)\n",
      "memory usage: 5.4+ KB\n",
      "Количество дубликатов - 0\n",
      "Число пропусков - publisher_id    0\n",
      "publisher       0\n",
      "dtype: int64\n"
     ]
    }
   ],
   "source": [
    "publishers = '''\n",
    "            SELECT * FROM publishers\n",
    "             '''\n",
    "publishers = select(publishers)\n",
    "publishers = inform(publishers)"
   ]
  },
  {
   "cell_type": "markdown",
   "metadata": {},
   "source": [
    "Таблица `publishers` содержит 340 записей в 2 столбцах.Пропусков и дубликатов не обнаружено. "
   ]
  },
  {
   "cell_type": "markdown",
   "metadata": {},
   "source": [
    "**Таблица `ratings`**"
   ]
  },
  {
   "cell_type": "code",
   "execution_count": 8,
   "metadata": {},
   "outputs": [
    {
     "data": {
      "text/html": [
       "<div>\n",
       "<style scoped>\n",
       "    .dataframe tbody tr th:only-of-type {\n",
       "        vertical-align: middle;\n",
       "    }\n",
       "\n",
       "    .dataframe tbody tr th {\n",
       "        vertical-align: top;\n",
       "    }\n",
       "\n",
       "    .dataframe thead th {\n",
       "        text-align: right;\n",
       "    }\n",
       "</style>\n",
       "<table border=\"1\" class=\"dataframe\">\n",
       "  <thead>\n",
       "    <tr style=\"text-align: right;\">\n",
       "      <th></th>\n",
       "      <th>rating_id</th>\n",
       "      <th>book_id</th>\n",
       "      <th>username</th>\n",
       "      <th>rating</th>\n",
       "    </tr>\n",
       "  </thead>\n",
       "  <tbody>\n",
       "    <tr>\n",
       "      <th>0</th>\n",
       "      <td>1</td>\n",
       "      <td>1</td>\n",
       "      <td>ryanfranco</td>\n",
       "      <td>4</td>\n",
       "    </tr>\n",
       "    <tr>\n",
       "      <th>1</th>\n",
       "      <td>2</td>\n",
       "      <td>1</td>\n",
       "      <td>grantpatricia</td>\n",
       "      <td>2</td>\n",
       "    </tr>\n",
       "    <tr>\n",
       "      <th>2</th>\n",
       "      <td>3</td>\n",
       "      <td>1</td>\n",
       "      <td>brandtandrea</td>\n",
       "      <td>5</td>\n",
       "    </tr>\n",
       "    <tr>\n",
       "      <th>3</th>\n",
       "      <td>4</td>\n",
       "      <td>2</td>\n",
       "      <td>lorichen</td>\n",
       "      <td>3</td>\n",
       "    </tr>\n",
       "    <tr>\n",
       "      <th>4</th>\n",
       "      <td>5</td>\n",
       "      <td>2</td>\n",
       "      <td>mariokeller</td>\n",
       "      <td>2</td>\n",
       "    </tr>\n",
       "  </tbody>\n",
       "</table>\n",
       "</div>"
      ],
      "text/plain": [
       "   rating_id  book_id       username  rating\n",
       "0          1        1     ryanfranco       4\n",
       "1          2        1  grantpatricia       2\n",
       "2          3        1   brandtandrea       5\n",
       "3          4        2       lorichen       3\n",
       "4          5        2    mariokeller       2"
      ]
     },
     "metadata": {},
     "output_type": "display_data"
    },
    {
     "name": "stdout",
     "output_type": "stream",
     "text": [
      "<class 'pandas.core.frame.DataFrame'>\n",
      "RangeIndex: 6456 entries, 0 to 6455\n",
      "Data columns (total 4 columns):\n",
      " #   Column     Non-Null Count  Dtype \n",
      "---  ------     --------------  ----- \n",
      " 0   rating_id  6456 non-null   int64 \n",
      " 1   book_id    6456 non-null   int64 \n",
      " 2   username   6456 non-null   object\n",
      " 3   rating     6456 non-null   int64 \n",
      "dtypes: int64(3), object(1)\n",
      "memory usage: 201.9+ KB\n",
      "Количество дубликатов - 0\n",
      "Число пропусков - rating_id    0\n",
      "book_id      0\n",
      "username     0\n",
      "rating       0\n",
      "dtype: int64\n"
     ]
    }
   ],
   "source": [
    "ratings= ''' \n",
    "            SELECT * FROM ratings\n",
    "         '''\n",
    "ratings = select(ratings)\n",
    "ratings = inform(ratings)"
   ]
  },
  {
   "cell_type": "markdown",
   "metadata": {},
   "source": [
    "Таблица `ratings` содержит 6456 записей в 4 столбцах.Пропусков и дубликатов не обнаружено. "
   ]
  },
  {
   "cell_type": "markdown",
   "metadata": {},
   "source": [
    "**Таблица `reviews`**"
   ]
  },
  {
   "cell_type": "code",
   "execution_count": 9,
   "metadata": {},
   "outputs": [
    {
     "data": {
      "text/html": [
       "<div>\n",
       "<style scoped>\n",
       "    .dataframe tbody tr th:only-of-type {\n",
       "        vertical-align: middle;\n",
       "    }\n",
       "\n",
       "    .dataframe tbody tr th {\n",
       "        vertical-align: top;\n",
       "    }\n",
       "\n",
       "    .dataframe thead th {\n",
       "        text-align: right;\n",
       "    }\n",
       "</style>\n",
       "<table border=\"1\" class=\"dataframe\">\n",
       "  <thead>\n",
       "    <tr style=\"text-align: right;\">\n",
       "      <th></th>\n",
       "      <th>review_id</th>\n",
       "      <th>book_id</th>\n",
       "      <th>username</th>\n",
       "      <th>text</th>\n",
       "    </tr>\n",
       "  </thead>\n",
       "  <tbody>\n",
       "    <tr>\n",
       "      <th>0</th>\n",
       "      <td>1</td>\n",
       "      <td>1</td>\n",
       "      <td>brandtandrea</td>\n",
       "      <td>Mention society tell send professor analysis. ...</td>\n",
       "    </tr>\n",
       "    <tr>\n",
       "      <th>1</th>\n",
       "      <td>2</td>\n",
       "      <td>1</td>\n",
       "      <td>ryanfranco</td>\n",
       "      <td>Foot glass pretty audience hit themselves. Amo...</td>\n",
       "    </tr>\n",
       "    <tr>\n",
       "      <th>2</th>\n",
       "      <td>3</td>\n",
       "      <td>2</td>\n",
       "      <td>lorichen</td>\n",
       "      <td>Listen treat keep worry. Miss husband tax but ...</td>\n",
       "    </tr>\n",
       "    <tr>\n",
       "      <th>3</th>\n",
       "      <td>4</td>\n",
       "      <td>3</td>\n",
       "      <td>johnsonamanda</td>\n",
       "      <td>Finally month interesting blue could nature cu...</td>\n",
       "    </tr>\n",
       "    <tr>\n",
       "      <th>4</th>\n",
       "      <td>5</td>\n",
       "      <td>3</td>\n",
       "      <td>scotttamara</td>\n",
       "      <td>Nation purpose heavy give wait song will. List...</td>\n",
       "    </tr>\n",
       "  </tbody>\n",
       "</table>\n",
       "</div>"
      ],
      "text/plain": [
       "   review_id  book_id       username  \\\n",
       "0          1        1   brandtandrea   \n",
       "1          2        1     ryanfranco   \n",
       "2          3        2       lorichen   \n",
       "3          4        3  johnsonamanda   \n",
       "4          5        3    scotttamara   \n",
       "\n",
       "                                                text  \n",
       "0  Mention society tell send professor analysis. ...  \n",
       "1  Foot glass pretty audience hit themselves. Amo...  \n",
       "2  Listen treat keep worry. Miss husband tax but ...  \n",
       "3  Finally month interesting blue could nature cu...  \n",
       "4  Nation purpose heavy give wait song will. List...  "
      ]
     },
     "metadata": {},
     "output_type": "display_data"
    },
    {
     "name": "stdout",
     "output_type": "stream",
     "text": [
      "<class 'pandas.core.frame.DataFrame'>\n",
      "RangeIndex: 2793 entries, 0 to 2792\n",
      "Data columns (total 4 columns):\n",
      " #   Column     Non-Null Count  Dtype \n",
      "---  ------     --------------  ----- \n",
      " 0   review_id  2793 non-null   int64 \n",
      " 1   book_id    2793 non-null   int64 \n",
      " 2   username   2793 non-null   object\n",
      " 3   text       2793 non-null   object\n",
      "dtypes: int64(2), object(2)\n",
      "memory usage: 87.4+ KB\n",
      "Количество дубликатов - 0\n",
      "Число пропусков - review_id    0\n",
      "book_id      0\n",
      "username     0\n",
      "text         0\n",
      "dtype: int64\n"
     ]
    }
   ],
   "source": [
    "reviews = '''\n",
    "            SELECT * FROM reviews\n",
    "          '''\n",
    "reviews = select(reviews)\n",
    "reviews = inform(reviews)"
   ]
  },
  {
   "cell_type": "markdown",
   "metadata": {},
   "source": [
    "Таблица `reviews` содержит  2793 записи в 4 столбцах.Пропусков и дубликатов не обнаружено. "
   ]
  },
  {
   "cell_type": "markdown",
   "metadata": {},
   "source": [
    "## Задания"
   ]
  },
  {
   "cell_type": "markdown",
   "metadata": {},
   "source": [
    "### Cколько книг вышло после 1 января 2000 года?"
   ]
  },
  {
   "cell_type": "code",
   "execution_count": 10,
   "metadata": {},
   "outputs": [
    {
     "data": {
      "text/html": [
       "<div>\n",
       "<style scoped>\n",
       "    .dataframe tbody tr th:only-of-type {\n",
       "        vertical-align: middle;\n",
       "    }\n",
       "\n",
       "    .dataframe tbody tr th {\n",
       "        vertical-align: top;\n",
       "    }\n",
       "\n",
       "    .dataframe thead th {\n",
       "        text-align: right;\n",
       "    }\n",
       "</style>\n",
       "<table border=\"1\" class=\"dataframe\">\n",
       "  <thead>\n",
       "    <tr style=\"text-align: right;\">\n",
       "      <th></th>\n",
       "      <th>count</th>\n",
       "    </tr>\n",
       "  </thead>\n",
       "  <tbody>\n",
       "    <tr>\n",
       "      <th>0</th>\n",
       "      <td>819</td>\n",
       "    </tr>\n",
       "  </tbody>\n",
       "</table>\n",
       "</div>"
      ],
      "text/plain": [
       "   count\n",
       "0    819"
      ]
     },
     "execution_count": 10,
     "metadata": {},
     "output_type": "execute_result"
    }
   ],
   "source": [
    "query = '''\n",
    "            SELECT COUNT(book_id)\n",
    "            FROM books \n",
    "            WHERE publication_date > '01-01-2000'\n",
    "        '''\n",
    "select(query)\n"
   ]
  },
  {
   "cell_type": "markdown",
   "metadata": {},
   "source": [
    "После 1 января 2020 года выпущено 819 книг из пр.едставлееных 1000."
   ]
  },
  {
   "cell_type": "markdown",
   "metadata": {},
   "source": [
    "### Расчет для каждой книги  количества обзоров и среднюю оценку"
   ]
  },
  {
   "cell_type": "code",
   "execution_count": 11,
   "metadata": {},
   "outputs": [
    {
     "data": {
      "text/html": [
       "<div>\n",
       "<style scoped>\n",
       "    .dataframe tbody tr th:only-of-type {\n",
       "        vertical-align: middle;\n",
       "    }\n",
       "\n",
       "    .dataframe tbody tr th {\n",
       "        vertical-align: top;\n",
       "    }\n",
       "\n",
       "    .dataframe thead th {\n",
       "        text-align: right;\n",
       "    }\n",
       "</style>\n",
       "<table border=\"1\" class=\"dataframe\">\n",
       "  <thead>\n",
       "    <tr style=\"text-align: right;\">\n",
       "      <th></th>\n",
       "      <th>book_id</th>\n",
       "      <th>title</th>\n",
       "      <th>count_reviews</th>\n",
       "      <th>avg_rating</th>\n",
       "    </tr>\n",
       "  </thead>\n",
       "  <tbody>\n",
       "    <tr>\n",
       "      <th>0</th>\n",
       "      <td>948</td>\n",
       "      <td>Twilight (Twilight  #1)</td>\n",
       "      <td>7</td>\n",
       "      <td>3.66</td>\n",
       "    </tr>\n",
       "    <tr>\n",
       "      <th>1</th>\n",
       "      <td>302</td>\n",
       "      <td>Harry Potter and the Prisoner of Azkaban (Harr...</td>\n",
       "      <td>6</td>\n",
       "      <td>4.41</td>\n",
       "    </tr>\n",
       "    <tr>\n",
       "      <th>2</th>\n",
       "      <td>299</td>\n",
       "      <td>Harry Potter and the Chamber of Secrets (Harry...</td>\n",
       "      <td>6</td>\n",
       "      <td>4.29</td>\n",
       "    </tr>\n",
       "    <tr>\n",
       "      <th>3</th>\n",
       "      <td>656</td>\n",
       "      <td>The Book Thief</td>\n",
       "      <td>6</td>\n",
       "      <td>4.26</td>\n",
       "    </tr>\n",
       "    <tr>\n",
       "      <th>4</th>\n",
       "      <td>734</td>\n",
       "      <td>The Glass Castle</td>\n",
       "      <td>6</td>\n",
       "      <td>4.21</td>\n",
       "    </tr>\n",
       "    <tr>\n",
       "      <th>...</th>\n",
       "      <td>...</td>\n",
       "      <td>...</td>\n",
       "      <td>...</td>\n",
       "      <td>...</td>\n",
       "    </tr>\n",
       "    <tr>\n",
       "      <th>995</th>\n",
       "      <td>191</td>\n",
       "      <td>Disney's Beauty and the Beast (A Little Golden...</td>\n",
       "      <td>0</td>\n",
       "      <td>4.00</td>\n",
       "    </tr>\n",
       "    <tr>\n",
       "      <th>996</th>\n",
       "      <td>387</td>\n",
       "      <td>Leonardo's Notebooks</td>\n",
       "      <td>0</td>\n",
       "      <td>4.00</td>\n",
       "    </tr>\n",
       "    <tr>\n",
       "      <th>997</th>\n",
       "      <td>221</td>\n",
       "      <td>Essential Tales and Poems</td>\n",
       "      <td>0</td>\n",
       "      <td>4.00</td>\n",
       "    </tr>\n",
       "    <tr>\n",
       "      <th>998</th>\n",
       "      <td>83</td>\n",
       "      <td>Anne Rice's The Vampire Lestat: A Graphic Novel</td>\n",
       "      <td>0</td>\n",
       "      <td>3.67</td>\n",
       "    </tr>\n",
       "    <tr>\n",
       "      <th>999</th>\n",
       "      <td>808</td>\n",
       "      <td>The Natural Way to Draw</td>\n",
       "      <td>0</td>\n",
       "      <td>3.00</td>\n",
       "    </tr>\n",
       "  </tbody>\n",
       "</table>\n",
       "<p>1000 rows × 4 columns</p>\n",
       "</div>"
      ],
      "text/plain": [
       "     book_id                                              title  \\\n",
       "0        948                            Twilight (Twilight  #1)   \n",
       "1        302  Harry Potter and the Prisoner of Azkaban (Harr...   \n",
       "2        299  Harry Potter and the Chamber of Secrets (Harry...   \n",
       "3        656                                     The Book Thief   \n",
       "4        734                                   The Glass Castle   \n",
       "..       ...                                                ...   \n",
       "995      191  Disney's Beauty and the Beast (A Little Golden...   \n",
       "996      387                               Leonardo's Notebooks   \n",
       "997      221                          Essential Tales and Poems   \n",
       "998       83    Anne Rice's The Vampire Lestat: A Graphic Novel   \n",
       "999      808                            The Natural Way to Draw   \n",
       "\n",
       "     count_reviews  avg_rating  \n",
       "0                7        3.66  \n",
       "1                6        4.41  \n",
       "2                6        4.29  \n",
       "3                6        4.26  \n",
       "4                6        4.21  \n",
       "..             ...         ...  \n",
       "995              0        4.00  \n",
       "996              0        4.00  \n",
       "997              0        4.00  \n",
       "998              0        3.67  \n",
       "999              0        3.00  \n",
       "\n",
       "[1000 rows x 4 columns]"
      ]
     },
     "execution_count": 11,
     "metadata": {},
     "output_type": "execute_result"
    }
   ],
   "source": [
    "query = '''\n",
    "    SELECT \n",
    "        books.book_id,\n",
    "        books.title,\n",
    "        COUNT(DISTINCT reviews.text) AS count_reviews,\n",
    "        ROUND(AVG(ratings.rating), 2) AS avg_rating\n",
    "    FROM  books\n",
    "    LEFT JOIN ratings ON ratings.book_id = books.book_id\n",
    "    LEFT JOIN reviews ON reviews.book_id = books.book_id\n",
    "    GROUP BY \n",
    "         books.title,\n",
    "         books.book_id\n",
    "    ORDER BY\n",
    "    count_reviews DESC,\n",
    "    avg_rating DESC\n",
    " '''\n",
    "select(query)    "
   ]
  },
  {
   "cell_type": "markdown",
   "metadata": {},
   "source": [
    "Посмотрим,что из себя прадставляет шкала оценок"
   ]
  },
  {
   "cell_type": "code",
   "execution_count": 12,
   "metadata": {},
   "outputs": [
    {
     "data": {
      "text/html": [
       "<div>\n",
       "<style scoped>\n",
       "    .dataframe tbody tr th:only-of-type {\n",
       "        vertical-align: middle;\n",
       "    }\n",
       "\n",
       "    .dataframe tbody tr th {\n",
       "        vertical-align: top;\n",
       "    }\n",
       "\n",
       "    .dataframe thead th {\n",
       "        text-align: right;\n",
       "    }\n",
       "</style>\n",
       "<table border=\"1\" class=\"dataframe\">\n",
       "  <thead>\n",
       "    <tr style=\"text-align: right;\">\n",
       "      <th></th>\n",
       "      <th>rating</th>\n",
       "    </tr>\n",
       "  </thead>\n",
       "  <tbody>\n",
       "    <tr>\n",
       "      <th>0</th>\n",
       "      <td>1</td>\n",
       "    </tr>\n",
       "    <tr>\n",
       "      <th>1</th>\n",
       "      <td>3</td>\n",
       "    </tr>\n",
       "    <tr>\n",
       "      <th>2</th>\n",
       "      <td>5</td>\n",
       "    </tr>\n",
       "    <tr>\n",
       "      <th>3</th>\n",
       "      <td>2</td>\n",
       "    </tr>\n",
       "    <tr>\n",
       "      <th>4</th>\n",
       "      <td>4</td>\n",
       "    </tr>\n",
       "  </tbody>\n",
       "</table>\n",
       "</div>"
      ],
      "text/plain": [
       "   rating\n",
       "0       1\n",
       "1       3\n",
       "2       5\n",
       "3       2\n",
       "4       4"
      ]
     },
     "execution_count": 12,
     "metadata": {},
     "output_type": "execute_result"
    }
   ],
   "source": [
    "query = '''\n",
    "    SELECT \n",
    "      DISTINCT rating\n",
    "    FROM  ratings\n",
    " '''\n",
    "select(query)  "
   ]
  },
  {
   "cell_type": "markdown",
   "metadata": {},
   "source": [
    "Расчитали для каждой книги количество обзоров и среднюю оценку пользователей. Больше всего обзоров  у книги `Twilight`('Сумерки')- **7** при средней оценке пользователей **3.66**.Однако есть книги и без обзоров.Максимальный возможный рейтинг **5** баллов.Высокий рейтинг **4.41** и **4.29** при среднем числе обзоров -**6** имеют книги о Гарри Поттере"
   ]
  },
  {
   "cell_type": "markdown",
   "metadata": {},
   "source": [
    "### Определение издательства, которое выпустило наибольшее число книг толще 50 страниц"
   ]
  },
  {
   "cell_type": "code",
   "execution_count": 13,
   "metadata": {},
   "outputs": [
    {
     "data": {
      "text/html": [
       "<div>\n",
       "<style scoped>\n",
       "    .dataframe tbody tr th:only-of-type {\n",
       "        vertical-align: middle;\n",
       "    }\n",
       "\n",
       "    .dataframe tbody tr th {\n",
       "        vertical-align: top;\n",
       "    }\n",
       "\n",
       "    .dataframe thead th {\n",
       "        text-align: right;\n",
       "    }\n",
       "</style>\n",
       "<table border=\"1\" class=\"dataframe\">\n",
       "  <thead>\n",
       "    <tr style=\"text-align: right;\">\n",
       "      <th></th>\n",
       "      <th>publisher</th>\n",
       "      <th>count_books</th>\n",
       "    </tr>\n",
       "  </thead>\n",
       "  <tbody>\n",
       "    <tr>\n",
       "      <th>0</th>\n",
       "      <td>Penguin Books</td>\n",
       "      <td>42</td>\n",
       "    </tr>\n",
       "  </tbody>\n",
       "</table>\n",
       "</div>"
      ],
      "text/plain": [
       "       publisher  count_books\n",
       "0  Penguin Books           42"
      ]
     },
     "execution_count": 13,
     "metadata": {},
     "output_type": "execute_result"
    }
   ],
   "source": [
    "query = '''\n",
    "            SELECT\n",
    "                   publishers.publisher,\n",
    "                   COUNT(books.book_id) AS count_books      \n",
    "            FROM books           \n",
    "            LEFT JOIN publishers AS publishers ON books.publisher_id=publishers.publisher_id\n",
    "            WHERE books.num_pages > 50\n",
    "            GROUP BY books.publisher_id, publishers.publisher_id\n",
    "            ORDER BY count_books DESC\n",
    "            LIMIT 1            \n",
    "        '''\n",
    "select(query) "
   ]
  },
  {
   "cell_type": "markdown",
   "metadata": {},
   "source": [
    "Издательство, которое выпустило наибольшее число книг толще 50 страниц  - это `Penguin Books`(42 книги).Это известное крупное британское издательство."
   ]
  },
  {
   "cell_type": "markdown",
   "metadata": {},
   "source": [
    "### Определение автора с самой высокой средней оценкой книг(учитывайте только книги с 50 и более оценками)"
   ]
  },
  {
   "cell_type": "code",
   "execution_count": 14,
   "metadata": {},
   "outputs": [
    {
     "data": {
      "text/html": [
       "<div>\n",
       "<style scoped>\n",
       "    .dataframe tbody tr th:only-of-type {\n",
       "        vertical-align: middle;\n",
       "    }\n",
       "\n",
       "    .dataframe tbody tr th {\n",
       "        vertical-align: top;\n",
       "    }\n",
       "\n",
       "    .dataframe thead th {\n",
       "        text-align: right;\n",
       "    }\n",
       "</style>\n",
       "<table border=\"1\" class=\"dataframe\">\n",
       "  <thead>\n",
       "    <tr style=\"text-align: right;\">\n",
       "      <th></th>\n",
       "      <th>author</th>\n",
       "      <th>avg_rating</th>\n",
       "    </tr>\n",
       "  </thead>\n",
       "  <tbody>\n",
       "    <tr>\n",
       "      <th>0</th>\n",
       "      <td>J.K. Rowling/Mary GrandPré</td>\n",
       "      <td>4.29</td>\n",
       "    </tr>\n",
       "    <tr>\n",
       "      <th>1</th>\n",
       "      <td>Markus Zusak/Cao Xuân Việt Khương</td>\n",
       "      <td>4.26</td>\n",
       "    </tr>\n",
       "    <tr>\n",
       "      <th>2</th>\n",
       "      <td>J.R.R. Tolkien</td>\n",
       "      <td>4.25</td>\n",
       "    </tr>\n",
       "    <tr>\n",
       "      <th>3</th>\n",
       "      <td>Louisa May Alcott</td>\n",
       "      <td>4.19</td>\n",
       "    </tr>\n",
       "    <tr>\n",
       "      <th>4</th>\n",
       "      <td>Rick Riordan</td>\n",
       "      <td>4.08</td>\n",
       "    </tr>\n",
       "  </tbody>\n",
       "</table>\n",
       "</div>"
      ],
      "text/plain": [
       "                              author  avg_rating\n",
       "0         J.K. Rowling/Mary GrandPré        4.29\n",
       "1  Markus Zusak/Cao Xuân Việt Khương        4.26\n",
       "2                     J.R.R. Tolkien        4.25\n",
       "3                  Louisa May Alcott        4.19\n",
       "4                       Rick Riordan        4.08"
      ]
     },
     "execution_count": 14,
     "metadata": {},
     "output_type": "execute_result"
    }
   ],
   "source": [
    "query = '''\n",
    "\n",
    "     SELECT\n",
    "          authors.author,\n",
    "          ROUND(AVG(ratings.rating),2) AS avg_rating\n",
    "    FROM ratings\n",
    "    JOIN books ON books.book_id = ratings.book_id\n",
    "    JOIN authors ON books.author_id = authors.author_id\n",
    "    WHERE ratings.book_id IN (\n",
    "          SELECT ratings.book_id\n",
    "          FROM ratings\n",
    "          GROUP BY ratings.book_id\n",
    "          HAVING COUNT(ratings.book_id) >= 50)\n",
    "    GROUP BY authors.author_id\n",
    "    ORDER BY AVG(ratings.rating) DESC\n",
    "    LIMIT 5\n",
    "    '''\n",
    "select(query) "
   ]
  },
  {
   "cell_type": "markdown",
   "metadata": {},
   "source": [
    "Автор с максимальной рейтинговой оценкой - `J.K. Rowling/Mary GrandPré`(Джоан К. Роулинг/Мэри Гранпре).Оценка - **4.29** Это автор всемирно известной серии книг о Гарри Поттере"
   ]
  },
  {
   "cell_type": "markdown",
   "metadata": {},
   "source": [
    "### Расчет среднего количество обзоров от пользователей, которые поставили больше 48 оценок."
   ]
  },
  {
   "cell_type": "code",
   "execution_count": 15,
   "metadata": {},
   "outputs": [
    {
     "data": {
      "text/html": [
       "<div>\n",
       "<style scoped>\n",
       "    .dataframe tbody tr th:only-of-type {\n",
       "        vertical-align: middle;\n",
       "    }\n",
       "\n",
       "    .dataframe tbody tr th {\n",
       "        vertical-align: top;\n",
       "    }\n",
       "\n",
       "    .dataframe thead th {\n",
       "        text-align: right;\n",
       "    }\n",
       "</style>\n",
       "<table border=\"1\" class=\"dataframe\">\n",
       "  <thead>\n",
       "    <tr style=\"text-align: right;\">\n",
       "      <th></th>\n",
       "      <th>avg_review</th>\n",
       "    </tr>\n",
       "  </thead>\n",
       "  <tbody>\n",
       "    <tr>\n",
       "      <th>0</th>\n",
       "      <td>24.0</td>\n",
       "    </tr>\n",
       "  </tbody>\n",
       "</table>\n",
       "</div>"
      ],
      "text/plain": [
       "   avg_review\n",
       "0        24.0"
      ]
     },
     "execution_count": 15,
     "metadata": {},
     "output_type": "execute_result"
    }
   ],
   "source": [
    "query = '''\n",
    "        SELECT ROUND(AVG(r.count),2) AS avg_review\n",
    "        FROM \n",
    "            (SELECT count(*)\n",
    "             FROM reviews\n",
    "             WHERE username IN\n",
    "             (SELECT username\n",
    "             FROM ratings\n",
    "             GROUP BY username\n",
    "             HAVING count(rating) > 48)\n",
    "        GROUP BY username) AS r\n",
    "'''\n",
    "select(query) "
   ]
  },
  {
   "cell_type": "markdown",
   "metadata": {},
   "source": [
    "Среднее  количество обзоров от пользователей, которые поставили больше 48 оценок - **24** обзоров"
   ]
  },
  {
   "cell_type": "markdown",
   "metadata": {},
   "source": [
    "## Вывод"
   ]
  },
  {
   "cell_type": "markdown",
   "metadata": {},
   "source": [
    "**Задача проекта**  — проанализировать базу данных с  информацией о книгах, издательствах, авторах, а также пользовательские обзоры книг.Получить данные, которые  данные помогут сформулировать ценностное предложение для нового продукта(компания решила быть на волне и купила крупный сервис для чтения книг по подписке.)\n",
    "\n",
    "Для анализа были  выгружены  таблицы :\n",
    "\n",
    "- `authors` содержащую  636 записей в 2 столбцах о авторах книг\n",
    "\n",
    "- `books` содержащую 1000 записей в 6 столбцах о названии книг,количестве страниц в них,дате выпуска             и идентефикаторах издателя,книги и автора\n",
    " \n",
    "- `publishers` содержащую  340 записей в 2 столбцах о издательствах\n",
    "\n",
    "- `ratings` содержащую 6456 записей в 4 столбцах о пользовательских оценках книг\n",
    "\n",
    "- `reviews` содержащую 2793 записи в 4 столбцах о отзывах пользователей\n",
    "\n",
    "Пропусков и дубликатов в них не обнаружено.\n",
    "\n",
    "**Получены ответы на вопросы задания:**\n",
    "\n",
    "**Посчитайте, сколько книг вышло после 1 января 2000 года**\n",
    "   \n",
    "   - После 1 января 2020 года выпущено 819 книг из представлееных 1000. \n",
    "\n",
    "**Для каждой книги посчитайте количество обзоров и среднюю оценку**\n",
    "   \n",
    "   - Расчитали для каждой книги количество обзоров и среднюю оценку пользователей. Больше всего           обзоров у книги Twilight('Сумерки')- 7 при средней оценке пользователей 3.66.Однако есть книги и       без обзоров.Максимальный возможный рейтинг 5 баллов.Высокий рейтинг 4.41 и 4.29 при среднем           числе  обзоров -6 имеют книги о Гарри Поттере\n",
    "   \n",
    "**Определите издательство, которое выпустило наибольшее число книг толще 50 страниц — так вы исключите из анализа брошюр**\n",
    "   \n",
    "   - Издательство, которое выпустило наибольшее число книг толще 50 страниц  - это `Penguin Books`(42      книги).Это известное крупное британское издательство.\n",
    "   \n",
    "**Определите автора с самой высокой средней оценкой книг — учитывайте только книги с 50 и более          оценками**\n",
    "   \n",
    "   - Автор с максимальной рейтинговой оценкой - `J.K. Rowling/Mary GrandPré`(Джоан К. Роулинг/Мэри         Гранпре).Оценка - **4.29** Это автор всемирно известной серии книг о Гарри Поттере\n",
    "   \n",
    "**Cосчитайте среднее количество обзоров от пользователей, которые поставили больше 48 оценок.**\n",
    "  \n",
    "   - Среднее  количество обзоров от пользователей, которые поставили больше 48 оценок - **24** обзоров\n",
    "  \n",
    "В целом можно сказать, что более востребованна литература жанра фентези.\n",
    "\n",
    "  **Рекомендации**\n",
    "  \n",
    "  - Стоит ориентироваться на новые изданные книги.\n",
    "  \n",
    "  - Предлагать книги с высокими пользовательскими оценкми и учетом отзывов\n",
    "  \n",
    "  - Предлагать книги популярных писателей и издательств\n",
    "  \n",
    "  - Сделать акцент на легких жанрах.\n",
    "  \n",
    "  "
   ]
  },
  {
   "cell_type": "code",
   "execution_count": null,
   "metadata": {},
   "outputs": [],
   "source": []
  }
 ],
 "metadata": {
  "ExecuteTimeLog": [
   {
    "duration": 94,
    "start_time": "2023-05-26T08:46:34.354Z"
   },
   {
    "duration": 545,
    "start_time": "2023-05-26T08:54:50.050Z"
   },
   {
    "duration": 46,
    "start_time": "2023-05-26T08:55:18.216Z"
   },
   {
    "duration": 5676,
    "start_time": "2023-05-26T08:55:44.855Z"
   },
   {
    "duration": 73,
    "start_time": "2023-05-26T08:58:17.534Z"
   },
   {
    "duration": 4,
    "start_time": "2023-05-26T08:59:58.261Z"
   },
   {
    "duration": 56,
    "start_time": "2023-05-26T09:02:34.656Z"
   },
   {
    "duration": 4,
    "start_time": "2023-05-26T10:20:59.005Z"
   },
   {
    "duration": 3,
    "start_time": "2023-05-26T10:23:25.113Z"
   },
   {
    "duration": 28,
    "start_time": "2023-05-26T10:24:53.436Z"
   },
   {
    "duration": 30,
    "start_time": "2023-05-26T10:25:14.135Z"
   },
   {
    "duration": 27,
    "start_time": "2023-05-26T10:25:40.154Z"
   },
   {
    "duration": 33,
    "start_time": "2023-05-26T10:26:02.750Z"
   },
   {
    "duration": 31,
    "start_time": "2023-05-26T10:26:17.853Z"
   },
   {
    "duration": 2,
    "start_time": "2023-05-26T10:28:01.047Z"
   },
   {
    "duration": 34,
    "start_time": "2023-05-26T10:28:01.051Z"
   },
   {
    "duration": 31,
    "start_time": "2023-05-26T10:28:01.087Z"
   },
   {
    "duration": 62,
    "start_time": "2023-05-26T10:28:01.120Z"
   },
   {
    "duration": 98,
    "start_time": "2023-05-26T10:28:01.184Z"
   },
   {
    "duration": 21,
    "start_time": "2023-05-26T10:28:01.284Z"
   },
   {
    "duration": 30,
    "start_time": "2023-05-26T10:28:01.307Z"
   },
   {
    "duration": 63,
    "start_time": "2023-05-26T10:28:01.338Z"
   },
   {
    "duration": 95,
    "start_time": "2023-05-26T10:28:01.402Z"
   },
   {
    "duration": 58,
    "start_time": "2023-05-26T10:36:44.520Z"
   },
   {
    "duration": 71,
    "start_time": "2023-05-26T10:38:31.872Z"
   },
   {
    "duration": 43,
    "start_time": "2023-05-26T11:50:30.707Z"
   },
   {
    "duration": 10,
    "start_time": "2023-05-26T11:50:57.308Z"
   },
   {
    "duration": 11,
    "start_time": "2023-05-26T12:09:10.322Z"
   },
   {
    "duration": 154,
    "start_time": "2023-05-26T12:10:30.881Z"
   },
   {
    "duration": 41,
    "start_time": "2023-05-26T12:10:41.599Z"
   },
   {
    "duration": 45,
    "start_time": "2023-05-26T12:13:50.822Z"
   },
   {
    "duration": 12,
    "start_time": "2023-05-26T12:38:36.180Z"
   },
   {
    "duration": 16,
    "start_time": "2023-05-26T13:30:42.920Z"
   },
   {
    "duration": 60,
    "start_time": "2023-05-26T13:51:42.414Z"
   },
   {
    "duration": 75,
    "start_time": "2023-05-26T13:52:48.052Z"
   },
   {
    "duration": 571,
    "start_time": "2023-05-26T13:53:12.711Z"
   },
   {
    "duration": 4925,
    "start_time": "2023-05-26T13:53:13.284Z"
   },
   {
    "duration": 4,
    "start_time": "2023-05-26T13:53:18.212Z"
   },
   {
    "duration": 11,
    "start_time": "2023-05-26T13:53:18.219Z"
   },
   {
    "duration": 103,
    "start_time": "2023-05-26T13:53:18.233Z"
   },
   {
    "duration": 28,
    "start_time": "2023-05-26T13:53:18.338Z"
   },
   {
    "duration": 24,
    "start_time": "2023-05-26T13:53:18.368Z"
   },
   {
    "duration": 23,
    "start_time": "2023-05-26T13:53:18.394Z"
   },
   {
    "duration": 57,
    "start_time": "2023-05-26T13:53:18.419Z"
   },
   {
    "duration": 11,
    "start_time": "2023-05-26T13:53:18.478Z"
   },
   {
    "duration": 33,
    "start_time": "2023-05-26T13:53:18.491Z"
   },
   {
    "duration": 12,
    "start_time": "2023-05-26T13:53:18.526Z"
   },
   {
    "duration": 12,
    "start_time": "2023-05-26T13:53:18.540Z"
   },
   {
    "duration": 21,
    "start_time": "2023-05-26T13:53:18.555Z"
   },
   {
    "duration": 152,
    "start_time": "2023-05-26T13:53:18.578Z"
   },
   {
    "duration": 76,
    "start_time": "2023-05-26T13:53:36.706Z"
   },
   {
    "duration": 14,
    "start_time": "2023-05-26T13:54:18.802Z"
   },
   {
    "duration": 13,
    "start_time": "2023-05-26T13:54:37.410Z"
   },
   {
    "duration": 14,
    "start_time": "2023-05-26T13:58:15.667Z"
   },
   {
    "duration": 45,
    "start_time": "2023-05-26T16:05:49.041Z"
   },
   {
    "duration": 6,
    "start_time": "2023-05-26T16:05:56.730Z"
   },
   {
    "duration": 522,
    "start_time": "2023-05-26T16:06:15.710Z"
   },
   {
    "duration": 8577,
    "start_time": "2023-05-26T16:06:16.234Z"
   },
   {
    "duration": 2,
    "start_time": "2023-05-26T16:06:24.812Z"
   },
   {
    "duration": 6,
    "start_time": "2023-05-26T16:06:24.816Z"
   },
   {
    "duration": 336,
    "start_time": "2023-05-26T16:06:24.824Z"
   },
   {
    "duration": 88,
    "start_time": "2023-05-26T16:06:25.162Z"
   },
   {
    "duration": 78,
    "start_time": "2023-05-26T16:06:25.251Z"
   },
   {
    "duration": 88,
    "start_time": "2023-05-26T16:06:25.331Z"
   },
   {
    "duration": 107,
    "start_time": "2023-05-26T16:06:25.421Z"
   },
   {
    "duration": 70,
    "start_time": "2023-05-26T16:06:25.529Z"
   },
   {
    "duration": 94,
    "start_time": "2023-05-26T16:06:25.600Z"
   },
   {
    "duration": 94,
    "start_time": "2023-05-26T16:06:25.695Z"
   },
   {
    "duration": 75,
    "start_time": "2023-05-26T16:06:25.790Z"
   },
   {
    "duration": 72,
    "start_time": "2023-05-26T16:06:25.867Z"
   },
   {
    "duration": 84,
    "start_time": "2023-05-26T16:06:25.940Z"
   },
   {
    "duration": 74,
    "start_time": "2023-05-26T16:06:26.025Z"
   },
   {
    "duration": 199,
    "start_time": "2023-05-26T16:08:05.517Z"
   },
   {
    "duration": 152,
    "start_time": "2023-05-26T16:09:08.924Z"
   },
   {
    "duration": 112,
    "start_time": "2023-05-26T16:09:13.697Z"
   },
   {
    "duration": 117,
    "start_time": "2023-05-26T16:11:26.072Z"
   },
   {
    "duration": 109,
    "start_time": "2023-05-26T16:11:52.238Z"
   },
   {
    "duration": 128,
    "start_time": "2023-05-26T16:28:57.097Z"
   },
   {
    "duration": 136,
    "start_time": "2023-05-26T16:30:23.506Z"
   },
   {
    "duration": 120,
    "start_time": "2023-05-26T16:32:54.411Z"
   },
   {
    "duration": 154,
    "start_time": "2023-05-26T16:43:25.022Z"
   },
   {
    "duration": 471,
    "start_time": "2023-05-26T17:28:33.131Z"
   },
   {
    "duration": 7587,
    "start_time": "2023-05-26T17:28:33.604Z"
   },
   {
    "duration": 2,
    "start_time": "2023-05-26T17:28:41.192Z"
   },
   {
    "duration": 4,
    "start_time": "2023-05-26T17:28:41.196Z"
   },
   {
    "duration": 274,
    "start_time": "2023-05-26T17:28:41.202Z"
   },
   {
    "duration": 78,
    "start_time": "2023-05-26T17:28:41.477Z"
   },
   {
    "duration": 77,
    "start_time": "2023-05-26T17:28:41.557Z"
   },
   {
    "duration": 108,
    "start_time": "2023-05-26T17:28:41.635Z"
   },
   {
    "duration": 95,
    "start_time": "2023-05-26T17:28:41.745Z"
   },
   {
    "duration": 68,
    "start_time": "2023-05-26T17:28:41.842Z"
   },
   {
    "duration": 92,
    "start_time": "2023-05-26T17:28:41.912Z"
   },
   {
    "duration": 70,
    "start_time": "2023-05-26T17:28:42.006Z"
   },
   {
    "duration": 71,
    "start_time": "2023-05-26T17:28:42.077Z"
   },
   {
    "duration": 74,
    "start_time": "2023-05-26T17:28:42.149Z"
   },
   {
    "duration": 70,
    "start_time": "2023-05-26T17:28:42.225Z"
   }
  ],
  "kernelspec": {
   "display_name": "Python 3",
   "language": "python",
   "name": "python3"
  },
  "language_info": {
   "codemirror_mode": {
    "name": "ipython",
    "version": 3
   },
   "file_extension": ".py",
   "mimetype": "text/x-python",
   "name": "python",
   "nbconvert_exporter": "python",
   "pygments_lexer": "ipython3",
   "version": "3.8.8"
  },
  "toc": {
   "base_numbering": 1,
   "nav_menu": {},
   "number_sections": true,
   "sideBar": true,
   "skip_h1_title": true,
   "title_cell": "Table of Contents",
   "title_sidebar": "Contents",
   "toc_cell": false,
   "toc_position": {},
   "toc_section_display": true,
   "toc_window_display": false
  }
 },
 "nbformat": 4,
 "nbformat_minor": 2
}
