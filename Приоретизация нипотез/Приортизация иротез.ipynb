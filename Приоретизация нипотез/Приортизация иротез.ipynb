{
 "cells": [
  {
   "cell_type": "markdown",
   "metadata": {},
   "source": [
    "# Принятие решений в бизнесе на основе данных.Проверка гипотез с целью увеличения выручки для крупного интернет-магазина"
   ]
  },
  {
   "cell_type": "markdown",
   "metadata": {},
   "source": [
    "# Описание данных\n",
    "\n",
    "\n",
    "**Данные для первой части**\n",
    "\n",
    "**Файл `/datasets/hypothesis.csv`** \n",
    "\n",
    "`Hypothesis` — краткое описание гипотезы;\n",
    "\n",
    "`Reach` — охват пользователей по 10-балльной шкале;\n",
    "\n",
    "`Impact` — влияние на пользователей по 10-балльной шкале;\n",
    "\n",
    "`Confidence` — уверенность в гипотезе по 10-балльной шкале;\n",
    "\n",
    "`Efforts` — затраты ресурсов на проверку гипотезы по 10-балльной шкале. Чем больше значение `Efforts`, тем дороже проверка гипотезы.\n",
    "\n",
    "\n",
    "**Данные для второй части**\n",
    "\n",
    "**Файл `/datasets/orders.csv`**\n",
    "\n",
    "`transactionId` — идентификатор заказа;\n",
    "\n",
    "`visitorId` — идентификатор пользователя, совершившего заказ;\n",
    "\n",
    "`date` — дата, когда был совершён заказ;\n",
    "\n",
    "`revenue` — выручка заказа;\n",
    "\n",
    "`group` — группа A/B-теста, в которую попал заказ.\n",
    "\n",
    "\n",
    "\n",
    "**Файл `/datasets/visitors.csv`**\n",
    "\n",
    "`date` — дата;\n",
    "\n",
    "`group` — группа A/B-теста;\n",
    "\n",
    "`visitors` — количество пользователей в указанную дату в указанной группе A/B-теста\n",
    "\n"
   ]
  },
  {
   "cell_type": "markdown",
   "metadata": {},
   "source": [
    "\n",
    "\n",
    "# Описание проекта\n",
    "\n",
    "**Контекст**\n",
    "\n",
    "\n",
    "Вы — аналитик крупного интернет-магазина. Вместе с отделом маркетинга вы подготовили список гипотез для увеличения выручки.\n",
    "Приоритизируйте гипотезы, запустите A/B-тест и проанализируйте результаты."
   ]
  },
  {
   "cell_type": "markdown",
   "metadata": {},
   "source": [
    "# Часть 1. Приоритизация гипотез.\n",
    "\n",
    "В файле `/datasets/hypothesis.csv` 9 гипотез по увеличению выручки интернет-магазина с указанными параметрами `Reach`, `Impact`, `Confidence`, `Effort`.\n",
    "\n",
    "**Задача**\n",
    "- Примените фреймворк `ICE` для приоритизации гипотез. Отсортируйте их по убыванию приоритета.\n",
    "\n",
    "- Примените фреймворк `RICE` для приоритизации гипотез. Отсортируйте их по убыванию приоритета.\n",
    "\n",
    "- Укажите, как изменилась приоритизация гипотез при применении `RICE` вместо `ICE`. Объясните, почему так произошло.\n",
    "\n",
    "\n",
    "# Часть 2. Анализ A/B-теста\n",
    "\n",
    "\n",
    "Вы провели A/B-тест и получили результаты, которые описаны в файлах `/datasets/orders.csv` и `/datasets/visitors.csv`.\n",
    "\n",
    "**Задача**\n",
    "\n",
    "Проанализируйте A/B-тест:\n",
    "\n",
    "- 1.Постройте график кумулятивной выручки по группам. Сделайте выводы и предположения.\n",
    "\n",
    "\n",
    "- 2.Постройте график кумулятивного среднего чека по группам. Сделайте выводы и предположения.\n",
    "\n",
    "\n",
    "- 3.Постройте график относительного изменения кумулятивного среднего чека группы B к группе A. Сделайте выводы и предположения.\n",
    "\n",
    "\n",
    "- 4.Постройте график кумулятивного среднего количества заказов на посетителя по группам. Сделайте выводы и предположения.\n",
    "\n",
    "\n",
    "- 5.Постройте график относительного изменения кумулятивного среднего количества заказов на посетителя группы B к группе A. Сделайте выводы и предположения.\n",
    "\n",
    "\n",
    "- 6.Постройте точечный график количества заказов по пользователям. Сделайте выводы и предположения.\n",
    "\n",
    "\n",
    "- 7.Посчитайте 95-й и 99-й перцентили количества заказов на пользователя. Выберите границу для определения аномальных пользователей.\n",
    "\n",
    "\n",
    "- 8.Постройте точечный график стоимостей заказов. Сделайте выводы и предположения.\n",
    "\n",
    "\n",
    "- 9.Посчитайте 95-й и 99-й перцентили стоимости заказов. Выберите границу для определения аномальных заказов.\n",
    "\n",
    "\n",
    "- 10.Посчитайте статистическую значимость различий в среднем количестве заказов на посетителя между группами по «сырым» данным. Сделайте выводы и предположения.\n",
    "\n",
    "\n",
    "- 11.Посчитайте статистическую значимость различий в среднем чеке заказа между группами по «сырым» данным. Сделайте выводы и предположения.\n",
    "\n",
    "\n",
    "- 12.Посчитайте статистическую значимость различий в среднем количестве заказов на посетителя между группами по «очищенным» данным. Сделайте выводы и предположения.\n",
    "\n",
    "\n",
    "- 13.Посчитайте статистическую значимость различий в среднем чеке заказа между группами по «очищенным» данным. Сделайте выводы и предположения.\n",
    "\n",
    "\n",
    "- 14.Примите решение по результатам теста и объясните его. Варианты решений:\n",
    "    1. Остановить тест, зафиксировать победу одной из групп.\n",
    "    2. Остановить тест, зафиксировать отсутствие различий между группами.\n",
    "    3. Продолжить тест."
   ]
  },
  {
   "cell_type": "markdown",
   "metadata": {},
   "source": [
    "## Выгрузка данных и их подготовка к анализу"
   ]
  },
  {
   "cell_type": "code",
   "execution_count": 1,
   "metadata": {},
   "outputs": [],
   "source": [
    "#импорт библиотек  \n",
    "import pandas as pd\n",
    "import matplotlib.pyplot as plt\n",
    "import seaborn as sns\n",
    "from scipy import stats as st\n",
    "import numpy as np\n",
    "import datetime as dt"
   ]
  },
  {
   "cell_type": "code",
   "execution_count": 2,
   "metadata": {},
   "outputs": [],
   "source": [
    "# отключение уведомлений об ошибке \n",
    "import warnings\n",
    "warnings.filterwarnings('ignore')\n",
    "\n",
    "# снятие ограничений на ширину и число столбцов\n",
    "pd.set_option('display.max_columns', None)\n",
    "pd.set_option('display.max_colwidth', None)"
   ]
  },
  {
   "cell_type": "code",
   "execution_count": 3,
   "metadata": {},
   "outputs": [],
   "source": [
    "hypothesis, orders, visitors = (\n",
    "                            pd.read_csv('/datasets/hypothesis.csv'),\n",
    "                            pd.read_csv('/datasets/orders.csv'),\n",
    "                            pd.read_csv('/datasets/visitors.csv')\n",
    "                            )"
   ]
  },
  {
   "cell_type": "markdown",
   "metadata": {},
   "source": [
    "### Знакомство с данными"
   ]
  },
  {
   "cell_type": "markdown",
   "metadata": {},
   "source": [
    "**hypothesis(гипотезы)**"
   ]
  },
  {
   "cell_type": "code",
   "execution_count": 4,
   "metadata": {},
   "outputs": [
    {
     "data": {
      "text/html": [
       "<div>\n",
       "<style scoped>\n",
       "    .dataframe tbody tr th:only-of-type {\n",
       "        vertical-align: middle;\n",
       "    }\n",
       "\n",
       "    .dataframe tbody tr th {\n",
       "        vertical-align: top;\n",
       "    }\n",
       "\n",
       "    .dataframe thead th {\n",
       "        text-align: right;\n",
       "    }\n",
       "</style>\n",
       "<table border=\"1\" class=\"dataframe\">\n",
       "  <thead>\n",
       "    <tr style=\"text-align: right;\">\n",
       "      <th></th>\n",
       "      <th>Hypothesis</th>\n",
       "      <th>Reach</th>\n",
       "      <th>Impact</th>\n",
       "      <th>Confidence</th>\n",
       "      <th>Efforts</th>\n",
       "    </tr>\n",
       "  </thead>\n",
       "  <tbody>\n",
       "    <tr>\n",
       "      <th>0</th>\n",
       "      <td>Добавить два новых канала привлечения трафика, что позволит привлекать на 30% больше пользователей</td>\n",
       "      <td>3</td>\n",
       "      <td>10</td>\n",
       "      <td>8</td>\n",
       "      <td>6</td>\n",
       "    </tr>\n",
       "    <tr>\n",
       "      <th>1</th>\n",
       "      <td>Запустить собственную службу доставки, что сократит срок доставки заказов</td>\n",
       "      <td>2</td>\n",
       "      <td>5</td>\n",
       "      <td>4</td>\n",
       "      <td>10</td>\n",
       "    </tr>\n",
       "    <tr>\n",
       "      <th>2</th>\n",
       "      <td>Добавить блоки рекомендаций товаров на сайт интернет магазина, чтобы повысить конверсию и средний чек заказа</td>\n",
       "      <td>8</td>\n",
       "      <td>3</td>\n",
       "      <td>7</td>\n",
       "      <td>3</td>\n",
       "    </tr>\n",
       "    <tr>\n",
       "      <th>3</th>\n",
       "      <td>Изменить структура категорий, что увеличит конверсию, т.к. пользователи быстрее найдут нужный товар</td>\n",
       "      <td>8</td>\n",
       "      <td>3</td>\n",
       "      <td>3</td>\n",
       "      <td>8</td>\n",
       "    </tr>\n",
       "    <tr>\n",
       "      <th>4</th>\n",
       "      <td>Изменить цвет фона главной страницы, чтобы увеличить вовлеченность пользователей</td>\n",
       "      <td>3</td>\n",
       "      <td>1</td>\n",
       "      <td>1</td>\n",
       "      <td>1</td>\n",
       "    </tr>\n",
       "    <tr>\n",
       "      <th>5</th>\n",
       "      <td>Добавить страницу отзывов клиентов о магазине, что позволит увеличить количество заказов</td>\n",
       "      <td>3</td>\n",
       "      <td>2</td>\n",
       "      <td>2</td>\n",
       "      <td>3</td>\n",
       "    </tr>\n",
       "    <tr>\n",
       "      <th>6</th>\n",
       "      <td>Показать на главной странице баннеры с актуальными акциями и распродажами, чтобы увеличить конверсию</td>\n",
       "      <td>5</td>\n",
       "      <td>3</td>\n",
       "      <td>8</td>\n",
       "      <td>3</td>\n",
       "    </tr>\n",
       "    <tr>\n",
       "      <th>7</th>\n",
       "      <td>Добавить форму подписки на все основные страницы, чтобы собрать базу клиентов для email-рассылок</td>\n",
       "      <td>10</td>\n",
       "      <td>7</td>\n",
       "      <td>8</td>\n",
       "      <td>5</td>\n",
       "    </tr>\n",
       "    <tr>\n",
       "      <th>8</th>\n",
       "      <td>Запустить акцию, дающую скидку на товар в день рождения</td>\n",
       "      <td>1</td>\n",
       "      <td>9</td>\n",
       "      <td>9</td>\n",
       "      <td>5</td>\n",
       "    </tr>\n",
       "  </tbody>\n",
       "</table>\n",
       "</div>"
      ],
      "text/plain": [
       "                                                                                                     Hypothesis  \\\n",
       "0            Добавить два новых канала привлечения трафика, что позволит привлекать на 30% больше пользователей   \n",
       "1                                     Запустить собственную службу доставки, что сократит срок доставки заказов   \n",
       "2  Добавить блоки рекомендаций товаров на сайт интернет магазина, чтобы повысить конверсию и средний чек заказа   \n",
       "3           Изменить структура категорий, что увеличит конверсию, т.к. пользователи быстрее найдут нужный товар   \n",
       "4                              Изменить цвет фона главной страницы, чтобы увеличить вовлеченность пользователей   \n",
       "5                      Добавить страницу отзывов клиентов о магазине, что позволит увеличить количество заказов   \n",
       "6          Показать на главной странице баннеры с актуальными акциями и распродажами, чтобы увеличить конверсию   \n",
       "7              Добавить форму подписки на все основные страницы, чтобы собрать базу клиентов для email-рассылок   \n",
       "8                                                       Запустить акцию, дающую скидку на товар в день рождения   \n",
       "\n",
       "   Reach  Impact  Confidence  Efforts  \n",
       "0      3      10           8        6  \n",
       "1      2       5           4       10  \n",
       "2      8       3           7        3  \n",
       "3      8       3           3        8  \n",
       "4      3       1           1        1  \n",
       "5      3       2           2        3  \n",
       "6      5       3           8        3  \n",
       "7     10       7           8        5  \n",
       "8      1       9           9        5  "
      ]
     },
     "execution_count": 4,
     "metadata": {},
     "output_type": "execute_result"
    }
   ],
   "source": [
    "hypothesis"
   ]
  },
  {
   "cell_type": "code",
   "execution_count": 5,
   "metadata": {},
   "outputs": [
    {
     "name": "stdout",
     "output_type": "stream",
     "text": [
      "<class 'pandas.core.frame.DataFrame'>\n",
      "RangeIndex: 9 entries, 0 to 8\n",
      "Data columns (total 5 columns):\n",
      " #   Column      Non-Null Count  Dtype \n",
      "---  ------      --------------  ----- \n",
      " 0   Hypothesis  9 non-null      object\n",
      " 1   Reach       9 non-null      int64 \n",
      " 2   Impact      9 non-null      int64 \n",
      " 3   Confidence  9 non-null      int64 \n",
      " 4   Efforts     9 non-null      int64 \n",
      "dtypes: int64(4), object(1)\n",
      "memory usage: 488.0+ bytes\n"
     ]
    }
   ],
   "source": [
    "hypothesis.info(10)"
   ]
  },
  {
   "cell_type": "markdown",
   "metadata": {},
   "source": [
    "Таблица hypothesis\n",
    "- Действительно содержит информацию о 9 различных гипотезах с оценками от 1  до 10 по 4 критериям.\n",
    "- Пропусков и дубликатов нет,типы данных соответствуют своей природе\n",
    "- Названия столбцов нужно привести к нижнему регистру в соответствии с общепринятыми нормами\n"
   ]
  },
  {
   "cell_type": "markdown",
   "metadata": {},
   "source": [
    "**orders(заказы)**"
   ]
  },
  {
   "cell_type": "code",
   "execution_count": 6,
   "metadata": {},
   "outputs": [
    {
     "data": {
      "text/html": [
       "<div>\n",
       "<style scoped>\n",
       "    .dataframe tbody tr th:only-of-type {\n",
       "        vertical-align: middle;\n",
       "    }\n",
       "\n",
       "    .dataframe tbody tr th {\n",
       "        vertical-align: top;\n",
       "    }\n",
       "\n",
       "    .dataframe thead th {\n",
       "        text-align: right;\n",
       "    }\n",
       "</style>\n",
       "<table border=\"1\" class=\"dataframe\">\n",
       "  <thead>\n",
       "    <tr style=\"text-align: right;\">\n",
       "      <th></th>\n",
       "      <th>transactionId</th>\n",
       "      <th>visitorId</th>\n",
       "      <th>date</th>\n",
       "      <th>revenue</th>\n",
       "      <th>group</th>\n",
       "    </tr>\n",
       "  </thead>\n",
       "  <tbody>\n",
       "    <tr>\n",
       "      <th>0</th>\n",
       "      <td>3667963787</td>\n",
       "      <td>3312258926</td>\n",
       "      <td>2019-08-15</td>\n",
       "      <td>1650</td>\n",
       "      <td>B</td>\n",
       "    </tr>\n",
       "    <tr>\n",
       "      <th>1</th>\n",
       "      <td>2804400009</td>\n",
       "      <td>3642806036</td>\n",
       "      <td>2019-08-15</td>\n",
       "      <td>730</td>\n",
       "      <td>B</td>\n",
       "    </tr>\n",
       "    <tr>\n",
       "      <th>2</th>\n",
       "      <td>2961555356</td>\n",
       "      <td>4069496402</td>\n",
       "      <td>2019-08-15</td>\n",
       "      <td>400</td>\n",
       "      <td>A</td>\n",
       "    </tr>\n",
       "    <tr>\n",
       "      <th>3</th>\n",
       "      <td>3797467345</td>\n",
       "      <td>1196621759</td>\n",
       "      <td>2019-08-15</td>\n",
       "      <td>9759</td>\n",
       "      <td>B</td>\n",
       "    </tr>\n",
       "    <tr>\n",
       "      <th>4</th>\n",
       "      <td>2282983706</td>\n",
       "      <td>2322279887</td>\n",
       "      <td>2019-08-15</td>\n",
       "      <td>2308</td>\n",
       "      <td>B</td>\n",
       "    </tr>\n",
       "  </tbody>\n",
       "</table>\n",
       "</div>"
      ],
      "text/plain": [
       "   transactionId   visitorId        date  revenue group\n",
       "0     3667963787  3312258926  2019-08-15     1650     B\n",
       "1     2804400009  3642806036  2019-08-15      730     B\n",
       "2     2961555356  4069496402  2019-08-15      400     A\n",
       "3     3797467345  1196621759  2019-08-15     9759     B\n",
       "4     2282983706  2322279887  2019-08-15     2308     B"
      ]
     },
     "execution_count": 6,
     "metadata": {},
     "output_type": "execute_result"
    }
   ],
   "source": [
    "orders.head(5)"
   ]
  },
  {
   "cell_type": "code",
   "execution_count": 7,
   "metadata": {},
   "outputs": [
    {
     "name": "stdout",
     "output_type": "stream",
     "text": [
      "<class 'pandas.core.frame.DataFrame'>\n",
      "RangeIndex: 1197 entries, 0 to 1196\n",
      "Data columns (total 5 columns):\n",
      " #   Column         Non-Null Count  Dtype \n",
      "---  ------         --------------  ----- \n",
      " 0   transactionId  1197 non-null   int64 \n",
      " 1   visitorId      1197 non-null   int64 \n",
      " 2   date           1197 non-null   object\n",
      " 3   revenue        1197 non-null   int64 \n",
      " 4   group          1197 non-null   object\n",
      "dtypes: int64(3), object(2)\n",
      "memory usage: 46.9+ KB\n"
     ]
    }
   ],
   "source": [
    "orders.info()"
   ]
  },
  {
   "cell_type": "markdown",
   "metadata": {},
   "source": [
    "Таблица orders :\n",
    "- Имнеет 1197 записей о заказах, пропусков нет\n",
    "- Стоит проверить на дубликаты\n",
    "- Тип данных в столбце date некорректен.Его следукт привести к формату 'datetime'\n",
    "- Названия столбцов также нужно привести к общепринятому виду\n"
   ]
  },
  {
   "cell_type": "markdown",
   "metadata": {},
   "source": [
    "**visitors(пользователи)**"
   ]
  },
  {
   "cell_type": "code",
   "execution_count": 8,
   "metadata": {},
   "outputs": [
    {
     "data": {
      "text/html": [
       "<div>\n",
       "<style scoped>\n",
       "    .dataframe tbody tr th:only-of-type {\n",
       "        vertical-align: middle;\n",
       "    }\n",
       "\n",
       "    .dataframe tbody tr th {\n",
       "        vertical-align: top;\n",
       "    }\n",
       "\n",
       "    .dataframe thead th {\n",
       "        text-align: right;\n",
       "    }\n",
       "</style>\n",
       "<table border=\"1\" class=\"dataframe\">\n",
       "  <thead>\n",
       "    <tr style=\"text-align: right;\">\n",
       "      <th></th>\n",
       "      <th>date</th>\n",
       "      <th>group</th>\n",
       "      <th>visitors</th>\n",
       "    </tr>\n",
       "  </thead>\n",
       "  <tbody>\n",
       "    <tr>\n",
       "      <th>0</th>\n",
       "      <td>2019-08-01</td>\n",
       "      <td>A</td>\n",
       "      <td>719</td>\n",
       "    </tr>\n",
       "    <tr>\n",
       "      <th>1</th>\n",
       "      <td>2019-08-02</td>\n",
       "      <td>A</td>\n",
       "      <td>619</td>\n",
       "    </tr>\n",
       "    <tr>\n",
       "      <th>2</th>\n",
       "      <td>2019-08-03</td>\n",
       "      <td>A</td>\n",
       "      <td>507</td>\n",
       "    </tr>\n",
       "    <tr>\n",
       "      <th>3</th>\n",
       "      <td>2019-08-04</td>\n",
       "      <td>A</td>\n",
       "      <td>717</td>\n",
       "    </tr>\n",
       "    <tr>\n",
       "      <th>4</th>\n",
       "      <td>2019-08-05</td>\n",
       "      <td>A</td>\n",
       "      <td>756</td>\n",
       "    </tr>\n",
       "  </tbody>\n",
       "</table>\n",
       "</div>"
      ],
      "text/plain": [
       "         date group  visitors\n",
       "0  2019-08-01     A       719\n",
       "1  2019-08-02     A       619\n",
       "2  2019-08-03     A       507\n",
       "3  2019-08-04     A       717\n",
       "4  2019-08-05     A       756"
      ]
     },
     "execution_count": 8,
     "metadata": {},
     "output_type": "execute_result"
    }
   ],
   "source": [
    "visitors.head()"
   ]
  },
  {
   "cell_type": "code",
   "execution_count": 9,
   "metadata": {},
   "outputs": [
    {
     "name": "stdout",
     "output_type": "stream",
     "text": [
      "<class 'pandas.core.frame.DataFrame'>\n",
      "RangeIndex: 62 entries, 0 to 61\n",
      "Data columns (total 3 columns):\n",
      " #   Column    Non-Null Count  Dtype \n",
      "---  ------    --------------  ----- \n",
      " 0   date      62 non-null     object\n",
      " 1   group     62 non-null     object\n",
      " 2   visitors  62 non-null     int64 \n",
      "dtypes: int64(1), object(2)\n",
      "memory usage: 1.6+ KB\n"
     ]
    }
   ],
   "source": [
    "visitors.info()"
   ]
  },
  {
   "cell_type": "markdown",
   "metadata": {},
   "source": [
    "Таблица visitors :\n",
    "- Содержит 62 записи о распределении пользователей по датам и группам А/В теста, пропксков нет.\n",
    "- Стоит проверить на дубликаты\n",
    "- Тип данных в столбце date также некорректен.Его следукт привести к формату 'datetime'\n"
   ]
  },
  {
   "cell_type": "markdown",
   "metadata": {},
   "source": [
    "### Предобработка данных"
   ]
  },
  {
   "cell_type": "markdown",
   "metadata": {},
   "source": [
    "Приведем к нижнему регистру названия столбцов в **hypothesis**.И перереименуем столбцы 'transactionId' и 'visitorId' в **orders**"
   ]
  },
  {
   "cell_type": "code",
   "execution_count": 10,
   "metadata": {},
   "outputs": [
    {
     "data": {
      "text/plain": [
       "Index(['hypothesis', 'reach', 'impact', 'confidence', 'efforts'], dtype='object')"
      ]
     },
     "execution_count": 10,
     "metadata": {},
     "output_type": "execute_result"
    }
   ],
   "source": [
    "hypothesis.columns = hypothesis.columns.str.lower()\n",
    "hypothesis.columns"
   ]
  },
  {
   "cell_type": "code",
   "execution_count": 11,
   "metadata": {},
   "outputs": [
    {
     "data": {
      "text/plain": [
       "Index(['transaction_id', 'visitor_id', 'date', 'revenue', 'group'], dtype='object')"
      ]
     },
     "execution_count": 11,
     "metadata": {},
     "output_type": "execute_result"
    }
   ],
   "source": [
    "orders = orders.rename(columns={'transactionId':'transaction_id', 'visitorId':'visitor_id'})\n",
    "orders.columns"
   ]
  },
  {
   "cell_type": "markdown",
   "metadata": {},
   "source": [
    "Изменим тип данных в столбцах с датами в **orders** и  **visitors** и заодно посмотрим,за какой период предоставлены нам данные"
   ]
  },
  {
   "cell_type": "code",
   "execution_count": 12,
   "metadata": {},
   "outputs": [],
   "source": [
    "orders['date'] = pd.to_datetime(orders['date'],format='%Y.%m.%d')\n",
    "\n",
    "visitors['date'] = pd.to_datetime(visitors['date'],format='%Y.%m.%d')"
   ]
  },
  {
   "cell_type": "code",
   "execution_count": 13,
   "metadata": {},
   "outputs": [
    {
     "data": {
      "text/plain": [
       "Timestamp('2019-08-01 00:00:00')"
      ]
     },
     "metadata": {},
     "output_type": "display_data"
    },
    {
     "data": {
      "text/plain": [
       "Timestamp('2019-08-31 00:00:00')"
      ]
     },
     "metadata": {},
     "output_type": "display_data"
    },
    {
     "data": {
      "text/plain": [
       "Timestamp('2019-08-01 00:00:00')"
      ]
     },
     "metadata": {},
     "output_type": "display_data"
    },
    {
     "data": {
      "text/plain": [
       "Timestamp('2019-08-31 00:00:00')"
      ]
     },
     "metadata": {},
     "output_type": "display_data"
    }
   ],
   "source": [
    "display(orders['date'].min(),orders['date'].max())\n",
    "display(visitors['date'].min(),visitors['date'].max())"
   ]
  },
  {
   "cell_type": "markdown",
   "metadata": {},
   "source": [
    "Видно, что данные в обоих таблицах представлены за август 2019 года"
   ]
  },
  {
   "cell_type": "markdown",
   "metadata": {},
   "source": [
    "Проверка на полные дубликаты"
   ]
  },
  {
   "cell_type": "code",
   "execution_count": 14,
   "metadata": {},
   "outputs": [],
   "source": [
    "#orders.duplicated().sum()"
   ]
  },
  {
   "cell_type": "code",
   "execution_count": 15,
   "metadata": {},
   "outputs": [],
   "source": [
    "#visitors.duplicated().sum()"
   ]
  },
  {
   "cell_type": "code",
   "execution_count": 16,
   "metadata": {},
   "outputs": [
    {
     "data": {
      "text/plain": [
       "transaction_id    0\n",
       "visitor_id        0\n",
       "date              0\n",
       "revenue           0\n",
       "group             0\n",
       "dtype: int64"
      ]
     },
     "execution_count": 16,
     "metadata": {},
     "output_type": "execute_result"
    }
   ],
   "source": [
    "orders.isna().sum()"
   ]
  },
  {
   "cell_type": "code",
   "execution_count": 17,
   "metadata": {},
   "outputs": [
    {
     "data": {
      "text/plain": [
       "date        0\n",
       "group       0\n",
       "visitors    0\n",
       "dtype: int64"
      ]
     },
     "execution_count": 17,
     "metadata": {},
     "output_type": "execute_result"
    }
   ],
   "source": [
    "visitors.isna().sum()"
   ]
  },
  {
   "cell_type": "markdown",
   "metadata": {},
   "source": [
    "**Проверка на неявные дубликаты**"
   ]
  },
  {
   "cell_type": "markdown",
   "metadata": {},
   "source": [
    "Посмотрим на уникальные значения `group`  в таблицах **orders** и **visitors**.А также на число уникальных пользователей,сделавших  заказ и сколько в какой группе."
   ]
  },
  {
   "cell_type": "code",
   "execution_count": 18,
   "metadata": {},
   "outputs": [
    {
     "data": {
      "text/plain": [
       "array(['B', 'A'], dtype=object)"
      ]
     },
     "metadata": {},
     "output_type": "display_data"
    },
    {
     "data": {
      "text/plain": [
       "array(['A', 'B'], dtype=object)"
      ]
     },
     "metadata": {},
     "output_type": "display_data"
    }
   ],
   "source": [
    "\n",
    "display(orders['group'].unique(),visitors['group'].unique())"
   ]
  },
  {
   "cell_type": "code",
   "execution_count": 19,
   "metadata": {},
   "outputs": [
    {
     "data": {
      "text/plain": [
       "1031"
      ]
     },
     "execution_count": 19,
     "metadata": {},
     "output_type": "execute_result"
    }
   ],
   "source": [
    "len(orders['visitor_id'].unique())"
   ]
  },
  {
   "cell_type": "code",
   "execution_count": 20,
   "metadata": {},
   "outputs": [
    {
     "data": {
      "text/plain": [
       "503"
      ]
     },
     "execution_count": 20,
     "metadata": {},
     "output_type": "execute_result"
    }
   ],
   "source": [
    "group_A = orders.query('group == \"A\"')\n",
    "len(group_A['visitor_id'].unique())"
   ]
  },
  {
   "cell_type": "code",
   "execution_count": 21,
   "metadata": {},
   "outputs": [
    {
     "data": {
      "text/plain": [
       "586"
      ]
     },
     "execution_count": 21,
     "metadata": {},
     "output_type": "execute_result"
    }
   ],
   "source": [
    "group_B = orders.query('group == \"B\"')\n",
    "len(group_B['visitor_id'].unique())"
   ]
  },
  {
   "cell_type": "markdown",
   "metadata": {},
   "source": [
    "1031 уникальный пользователь распределен по группам A и B.Но если мы сложим пользователей по группам, то получим 503 + 586 = 1089.Получается,что  есть те, кто попал в обе группы"
   ]
  },
  {
   "cell_type": "code",
   "execution_count": 22,
   "metadata": {},
   "outputs": [
    {
     "data": {
      "text/plain": [
       "58"
      ]
     },
     "execution_count": 22,
     "metadata": {},
     "output_type": "execute_result"
    }
   ],
   "source": [
    "df_dup = group_A.merge(group_B,on = 'visitor_id')\n",
    "len(df_dup['visitor_id'].unique())"
   ]
  },
  {
   "cell_type": "markdown",
   "metadata": {},
   "source": [
    "Таких пользователей 58.Возможно это произошло из-за технической ошибки.Получается, что мы не можем однозначно оценить действия этих пользователей и это не позволит провести корректный анализ. Следует их исключить из исследования."
   ]
  },
  {
   "cell_type": "code",
   "execution_count": 23,
   "metadata": {},
   "outputs": [
    {
     "data": {
      "text/plain": [
       "973"
      ]
     },
     "execution_count": 23,
     "metadata": {},
     "output_type": "execute_result"
    }
   ],
   "source": [
    "list_dup = df_dup['visitor_id'].to_list()\n",
    "orders = orders[~orders['visitor_id'].isin(list_dup)]\n",
    "len(orders['visitor_id'].unique())"
   ]
  },
  {
   "cell_type": "markdown",
   "metadata": {},
   "source": [
    "**ВЫВОД**\n",
    "\n",
    "На этапе знакомства и предобработки данных:\n",
    "\n",
    "- Выгружены данные и предоставленных трех файлов.Они представляют собой  данные для приоритизации гипотез и результаты проведения А/В теста за период с 01.08.2019 по 31.08.2019.\n",
    "- в данном случае в А/В тесте две группы- тест парный.Временные рамки теста- календарный месяц\n",
    "\n",
    "- Пропусков и явных дубликатов в данных не обнаружено.\n",
    "\n",
    "- Приведены к нижнему регистру названия столбцов в таблице  **hypothesis** и  переименованы столбцы `transactionId` и `visitorId` в таблице **orders** в соответствии с общепринятыми нормаим.\n",
    "\n",
    "- Изменен  тип данных в столбцах `date`в таблицах **orders** и **visitors**\n",
    "\n",
    "- Выявлены неявные дубликаты: Обнаружены 58 пользователей относящихся одновременно к группам `A`\n",
    "  и `B`.Во избежание ошибок в анализе они удалены\n",
    "\n"
   ]
  },
  {
   "cell_type": "markdown",
   "metadata": {},
   "source": [
    "## Часть 1. Приоритизация гипотез."
   ]
  },
  {
   "cell_type": "markdown",
   "metadata": {},
   "source": [
    "### Применение фреймворка ICE (Impact, Confidence, Effort/ Влияние, Уверенность, Усилия)для приоритизации гипотез.Сортировка их по убыванию приоритета"
   ]
  },
  {
   "cell_type": "code",
   "execution_count": 24,
   "metadata": {},
   "outputs": [
    {
     "data": {
      "text/html": [
       "<div>\n",
       "<style scoped>\n",
       "    .dataframe tbody tr th:only-of-type {\n",
       "        vertical-align: middle;\n",
       "    }\n",
       "\n",
       "    .dataframe tbody tr th {\n",
       "        vertical-align: top;\n",
       "    }\n",
       "\n",
       "    .dataframe thead th {\n",
       "        text-align: right;\n",
       "    }\n",
       "</style>\n",
       "<table border=\"1\" class=\"dataframe\">\n",
       "  <thead>\n",
       "    <tr style=\"text-align: right;\">\n",
       "      <th></th>\n",
       "      <th>hypothesis</th>\n",
       "      <th>reach</th>\n",
       "      <th>impact</th>\n",
       "      <th>confidence</th>\n",
       "      <th>efforts</th>\n",
       "    </tr>\n",
       "  </thead>\n",
       "  <tbody>\n",
       "    <tr>\n",
       "      <th>0</th>\n",
       "      <td>Добавить два новых канала привлечения трафика, что позволит привлекать на 30% больше пользователей</td>\n",
       "      <td>3</td>\n",
       "      <td>10</td>\n",
       "      <td>8</td>\n",
       "      <td>6</td>\n",
       "    </tr>\n",
       "    <tr>\n",
       "      <th>1</th>\n",
       "      <td>Запустить собственную службу доставки, что сократит срок доставки заказов</td>\n",
       "      <td>2</td>\n",
       "      <td>5</td>\n",
       "      <td>4</td>\n",
       "      <td>10</td>\n",
       "    </tr>\n",
       "    <tr>\n",
       "      <th>2</th>\n",
       "      <td>Добавить блоки рекомендаций товаров на сайт интернет магазина, чтобы повысить конверсию и средний чек заказа</td>\n",
       "      <td>8</td>\n",
       "      <td>3</td>\n",
       "      <td>7</td>\n",
       "      <td>3</td>\n",
       "    </tr>\n",
       "    <tr>\n",
       "      <th>3</th>\n",
       "      <td>Изменить структура категорий, что увеличит конверсию, т.к. пользователи быстрее найдут нужный товар</td>\n",
       "      <td>8</td>\n",
       "      <td>3</td>\n",
       "      <td>3</td>\n",
       "      <td>8</td>\n",
       "    </tr>\n",
       "    <tr>\n",
       "      <th>4</th>\n",
       "      <td>Изменить цвет фона главной страницы, чтобы увеличить вовлеченность пользователей</td>\n",
       "      <td>3</td>\n",
       "      <td>1</td>\n",
       "      <td>1</td>\n",
       "      <td>1</td>\n",
       "    </tr>\n",
       "    <tr>\n",
       "      <th>5</th>\n",
       "      <td>Добавить страницу отзывов клиентов о магазине, что позволит увеличить количество заказов</td>\n",
       "      <td>3</td>\n",
       "      <td>2</td>\n",
       "      <td>2</td>\n",
       "      <td>3</td>\n",
       "    </tr>\n",
       "    <tr>\n",
       "      <th>6</th>\n",
       "      <td>Показать на главной странице баннеры с актуальными акциями и распродажами, чтобы увеличить конверсию</td>\n",
       "      <td>5</td>\n",
       "      <td>3</td>\n",
       "      <td>8</td>\n",
       "      <td>3</td>\n",
       "    </tr>\n",
       "    <tr>\n",
       "      <th>7</th>\n",
       "      <td>Добавить форму подписки на все основные страницы, чтобы собрать базу клиентов для email-рассылок</td>\n",
       "      <td>10</td>\n",
       "      <td>7</td>\n",
       "      <td>8</td>\n",
       "      <td>5</td>\n",
       "    </tr>\n",
       "    <tr>\n",
       "      <th>8</th>\n",
       "      <td>Запустить акцию, дающую скидку на товар в день рождения</td>\n",
       "      <td>1</td>\n",
       "      <td>9</td>\n",
       "      <td>9</td>\n",
       "      <td>5</td>\n",
       "    </tr>\n",
       "  </tbody>\n",
       "</table>\n",
       "</div>"
      ],
      "text/plain": [
       "                                                                                                     hypothesis  \\\n",
       "0            Добавить два новых канала привлечения трафика, что позволит привлекать на 30% больше пользователей   \n",
       "1                                     Запустить собственную службу доставки, что сократит срок доставки заказов   \n",
       "2  Добавить блоки рекомендаций товаров на сайт интернет магазина, чтобы повысить конверсию и средний чек заказа   \n",
       "3           Изменить структура категорий, что увеличит конверсию, т.к. пользователи быстрее найдут нужный товар   \n",
       "4                              Изменить цвет фона главной страницы, чтобы увеличить вовлеченность пользователей   \n",
       "5                      Добавить страницу отзывов клиентов о магазине, что позволит увеличить количество заказов   \n",
       "6          Показать на главной странице баннеры с актуальными акциями и распродажами, чтобы увеличить конверсию   \n",
       "7              Добавить форму подписки на все основные страницы, чтобы собрать базу клиентов для email-рассылок   \n",
       "8                                                       Запустить акцию, дающую скидку на товар в день рождения   \n",
       "\n",
       "   reach  impact  confidence  efforts  \n",
       "0      3      10           8        6  \n",
       "1      2       5           4       10  \n",
       "2      8       3           7        3  \n",
       "3      8       3           3        8  \n",
       "4      3       1           1        1  \n",
       "5      3       2           2        3  \n",
       "6      5       3           8        3  \n",
       "7     10       7           8        5  \n",
       "8      1       9           9        5  "
      ]
     },
     "execution_count": 24,
     "metadata": {},
     "output_type": "execute_result"
    }
   ],
   "source": [
    "hypothesis"
   ]
  },
  {
   "cell_type": "code",
   "execution_count": 25,
   "metadata": {},
   "outputs": [
    {
     "data": {
      "text/html": [
       "<div>\n",
       "<style scoped>\n",
       "    .dataframe tbody tr th:only-of-type {\n",
       "        vertical-align: middle;\n",
       "    }\n",
       "\n",
       "    .dataframe tbody tr th {\n",
       "        vertical-align: top;\n",
       "    }\n",
       "\n",
       "    .dataframe thead th {\n",
       "        text-align: right;\n",
       "    }\n",
       "</style>\n",
       "<table border=\"1\" class=\"dataframe\">\n",
       "  <thead>\n",
       "    <tr style=\"text-align: right;\">\n",
       "      <th></th>\n",
       "      <th>hypothesis</th>\n",
       "      <th>ICE</th>\n",
       "    </tr>\n",
       "  </thead>\n",
       "  <tbody>\n",
       "    <tr>\n",
       "      <th>8</th>\n",
       "      <td>Запустить акцию, дающую скидку на товар в день рождения</td>\n",
       "      <td>16.20</td>\n",
       "    </tr>\n",
       "    <tr>\n",
       "      <th>0</th>\n",
       "      <td>Добавить два новых канала привлечения трафика, что позволит привлекать на 30% больше пользователей</td>\n",
       "      <td>13.33</td>\n",
       "    </tr>\n",
       "    <tr>\n",
       "      <th>7</th>\n",
       "      <td>Добавить форму подписки на все основные страницы, чтобы собрать базу клиентов для email-рассылок</td>\n",
       "      <td>11.20</td>\n",
       "    </tr>\n",
       "    <tr>\n",
       "      <th>6</th>\n",
       "      <td>Показать на главной странице баннеры с актуальными акциями и распродажами, чтобы увеличить конверсию</td>\n",
       "      <td>8.00</td>\n",
       "    </tr>\n",
       "    <tr>\n",
       "      <th>2</th>\n",
       "      <td>Добавить блоки рекомендаций товаров на сайт интернет магазина, чтобы повысить конверсию и средний чек заказа</td>\n",
       "      <td>7.00</td>\n",
       "    </tr>\n",
       "    <tr>\n",
       "      <th>1</th>\n",
       "      <td>Запустить собственную службу доставки, что сократит срок доставки заказов</td>\n",
       "      <td>2.00</td>\n",
       "    </tr>\n",
       "    <tr>\n",
       "      <th>5</th>\n",
       "      <td>Добавить страницу отзывов клиентов о магазине, что позволит увеличить количество заказов</td>\n",
       "      <td>1.33</td>\n",
       "    </tr>\n",
       "    <tr>\n",
       "      <th>3</th>\n",
       "      <td>Изменить структура категорий, что увеличит конверсию, т.к. пользователи быстрее найдут нужный товар</td>\n",
       "      <td>1.12</td>\n",
       "    </tr>\n",
       "    <tr>\n",
       "      <th>4</th>\n",
       "      <td>Изменить цвет фона главной страницы, чтобы увеличить вовлеченность пользователей</td>\n",
       "      <td>1.00</td>\n",
       "    </tr>\n",
       "  </tbody>\n",
       "</table>\n",
       "</div>"
      ],
      "text/plain": [
       "                                                                                                     hypothesis  \\\n",
       "8                                                       Запустить акцию, дающую скидку на товар в день рождения   \n",
       "0            Добавить два новых канала привлечения трафика, что позволит привлекать на 30% больше пользователей   \n",
       "7              Добавить форму подписки на все основные страницы, чтобы собрать базу клиентов для email-рассылок   \n",
       "6          Показать на главной странице баннеры с актуальными акциями и распродажами, чтобы увеличить конверсию   \n",
       "2  Добавить блоки рекомендаций товаров на сайт интернет магазина, чтобы повысить конверсию и средний чек заказа   \n",
       "1                                     Запустить собственную службу доставки, что сократит срок доставки заказов   \n",
       "5                      Добавить страницу отзывов клиентов о магазине, что позволит увеличить количество заказов   \n",
       "3           Изменить структура категорий, что увеличит конверсию, т.к. пользователи быстрее найдут нужный товар   \n",
       "4                              Изменить цвет фона главной страницы, чтобы увеличить вовлеченность пользователей   \n",
       "\n",
       "     ICE  \n",
       "8  16.20  \n",
       "0  13.33  \n",
       "7  11.20  \n",
       "6   8.00  \n",
       "2   7.00  \n",
       "1   2.00  \n",
       "5   1.33  \n",
       "3   1.12  \n",
       "4   1.00  "
      ]
     },
     "execution_count": 25,
     "metadata": {},
     "output_type": "execute_result"
    }
   ],
   "source": [
    "hypothesis['ICE'] = ( hypothesis['impact'] * hypothesis['confidence']) / hypothesis['efforts']\n",
    "hypothesis[['hypothesis', 'ICE']].sort_values(by='ICE', ascending=False).round(2)"
   ]
  },
  {
   "cell_type": "markdown",
   "metadata": {},
   "source": [
    "При при именении фреймворка ICE топ-5 гипотез:\n",
    "    \n",
    "   8--\tЗапустить акцию, дающую скидку на товар в день рождения\n",
    "    \n",
    "   0--\tДобавить два новых канала привлечения трафика, что позволит привлекать на 30% больше пользователей\n",
    "    \n",
    "   7--\tДобавить форму подписки на все основные страницы, чтобы собрать базу клиентов для email-рассылок\n",
    "    \n",
    "   6--\tПоказать на главной странице баннеры с актуальными акциями и распродажами, чтобы увеличить конверсию\n",
    "    \n",
    "   2--\tДобавить блоки рекомендаций товаров на сайт интернет магазина, чтобы повысить конверсию и средний чек заказа\n",
    "   \n",
    "   На первом месте гипотеза 8-Запустить акцию, дающую скидку на товар в день рождения\n",
    "    "
   ]
  },
  {
   "cell_type": "markdown",
   "metadata": {},
   "source": [
    " ### Применение фреймворка RICE (Reach,Impact, Confidence, Effort/ Охват,Влияние, Уверенность, Усилия) для приоритизации гипотез.Сортировка их по убыванию приоритета"
   ]
  },
  {
   "cell_type": "code",
   "execution_count": 26,
   "metadata": {},
   "outputs": [
    {
     "data": {
      "text/html": [
       "<div>\n",
       "<style scoped>\n",
       "    .dataframe tbody tr th:only-of-type {\n",
       "        vertical-align: middle;\n",
       "    }\n",
       "\n",
       "    .dataframe tbody tr th {\n",
       "        vertical-align: top;\n",
       "    }\n",
       "\n",
       "    .dataframe thead th {\n",
       "        text-align: right;\n",
       "    }\n",
       "</style>\n",
       "<table border=\"1\" class=\"dataframe\">\n",
       "  <thead>\n",
       "    <tr style=\"text-align: right;\">\n",
       "      <th></th>\n",
       "      <th>hypothesis</th>\n",
       "      <th>RICE</th>\n",
       "    </tr>\n",
       "  </thead>\n",
       "  <tbody>\n",
       "    <tr>\n",
       "      <th>7</th>\n",
       "      <td>Добавить форму подписки на все основные страницы, чтобы собрать базу клиентов для email-рассылок</td>\n",
       "      <td>112.0</td>\n",
       "    </tr>\n",
       "    <tr>\n",
       "      <th>2</th>\n",
       "      <td>Добавить блоки рекомендаций товаров на сайт интернет магазина, чтобы повысить конверсию и средний чек заказа</td>\n",
       "      <td>56.0</td>\n",
       "    </tr>\n",
       "    <tr>\n",
       "      <th>0</th>\n",
       "      <td>Добавить два новых канала привлечения трафика, что позволит привлекать на 30% больше пользователей</td>\n",
       "      <td>40.0</td>\n",
       "    </tr>\n",
       "    <tr>\n",
       "      <th>6</th>\n",
       "      <td>Показать на главной странице баннеры с актуальными акциями и распродажами, чтобы увеличить конверсию</td>\n",
       "      <td>40.0</td>\n",
       "    </tr>\n",
       "    <tr>\n",
       "      <th>8</th>\n",
       "      <td>Запустить акцию, дающую скидку на товар в день рождения</td>\n",
       "      <td>16.2</td>\n",
       "    </tr>\n",
       "    <tr>\n",
       "      <th>3</th>\n",
       "      <td>Изменить структура категорий, что увеличит конверсию, т.к. пользователи быстрее найдут нужный товар</td>\n",
       "      <td>9.0</td>\n",
       "    </tr>\n",
       "    <tr>\n",
       "      <th>1</th>\n",
       "      <td>Запустить собственную службу доставки, что сократит срок доставки заказов</td>\n",
       "      <td>4.0</td>\n",
       "    </tr>\n",
       "    <tr>\n",
       "      <th>5</th>\n",
       "      <td>Добавить страницу отзывов клиентов о магазине, что позволит увеличить количество заказов</td>\n",
       "      <td>4.0</td>\n",
       "    </tr>\n",
       "    <tr>\n",
       "      <th>4</th>\n",
       "      <td>Изменить цвет фона главной страницы, чтобы увеличить вовлеченность пользователей</td>\n",
       "      <td>3.0</td>\n",
       "    </tr>\n",
       "  </tbody>\n",
       "</table>\n",
       "</div>"
      ],
      "text/plain": [
       "                                                                                                     hypothesis  \\\n",
       "7              Добавить форму подписки на все основные страницы, чтобы собрать базу клиентов для email-рассылок   \n",
       "2  Добавить блоки рекомендаций товаров на сайт интернет магазина, чтобы повысить конверсию и средний чек заказа   \n",
       "0            Добавить два новых канала привлечения трафика, что позволит привлекать на 30% больше пользователей   \n",
       "6          Показать на главной странице баннеры с актуальными акциями и распродажами, чтобы увеличить конверсию   \n",
       "8                                                       Запустить акцию, дающую скидку на товар в день рождения   \n",
       "3           Изменить структура категорий, что увеличит конверсию, т.к. пользователи быстрее найдут нужный товар   \n",
       "1                                     Запустить собственную службу доставки, что сократит срок доставки заказов   \n",
       "5                      Добавить страницу отзывов клиентов о магазине, что позволит увеличить количество заказов   \n",
       "4                              Изменить цвет фона главной страницы, чтобы увеличить вовлеченность пользователей   \n",
       "\n",
       "    RICE  \n",
       "7  112.0  \n",
       "2   56.0  \n",
       "0   40.0  \n",
       "6   40.0  \n",
       "8   16.2  \n",
       "3    9.0  \n",
       "1    4.0  \n",
       "5    4.0  \n",
       "4    3.0  "
      ]
     },
     "execution_count": 26,
     "metadata": {},
     "output_type": "execute_result"
    }
   ],
   "source": [
    "hypothesis['RICE'] = (hypothesis['reach'] *  hypothesis['impact'] * hypothesis['confidence']) / hypothesis['efforts']\n",
    "hypothesis[['hypothesis', 'RICE']].sort_values(by='RICE', ascending=False).round(2)"
   ]
  },
  {
   "cell_type": "markdown",
   "metadata": {},
   "source": [
    "При при именении фреймворка RICE топ-5 гипотез:\n",
    "\n",
    "7--\tДобавить форму подписки на все основные страницы, чтобы собрать базу клиентов для email-рассылок\n",
    "\n",
    "2--\tДобавить блоки рекомендаций товаров на сайт интернет магазина, чтобы повысить конверсию и средний чек заказа\n",
    "\n",
    "0--\tДобавить два новых канала привлечения трафика, что позволит привлекать на 30% больше пользователей\n",
    "\n",
    "6--\tПоказать на главной странице баннеры с актуальными акциями и распродажами, чтобы увеличить конверсию\n",
    "\n",
    "8--\tЗапустить акцию, дающую скидку на товар в день рождения\n",
    "\n",
    "На первом месте гипотеза 7 -'Добавить форму подписки на все основные страницы, чтобы собрать базу клиентов для email-рассылок'.Величина показателя RICE у нее самая высокая- 112."
   ]
  },
  {
   "cell_type": "markdown",
   "metadata": {},
   "source": [
    "### Как изменилась приоритизация гипотез при применении RICE вместо ICE"
   ]
  },
  {
   "cell_type": "code",
   "execution_count": 27,
   "metadata": {},
   "outputs": [
    {
     "data": {
      "text/html": [
       "<div>\n",
       "<style scoped>\n",
       "    .dataframe tbody tr th:only-of-type {\n",
       "        vertical-align: middle;\n",
       "    }\n",
       "\n",
       "    .dataframe tbody tr th {\n",
       "        vertical-align: top;\n",
       "    }\n",
       "\n",
       "    .dataframe thead th {\n",
       "        text-align: right;\n",
       "    }\n",
       "</style>\n",
       "<table border=\"1\" class=\"dataframe\">\n",
       "  <thead>\n",
       "    <tr style=\"text-align: right;\">\n",
       "      <th></th>\n",
       "      <th>hypothesis</th>\n",
       "      <th>reach</th>\n",
       "      <th>ICE</th>\n",
       "      <th>RICE</th>\n",
       "    </tr>\n",
       "  </thead>\n",
       "  <tbody>\n",
       "    <tr>\n",
       "      <th>7</th>\n",
       "      <td>Добавить форму подписки на все основные страницы, чтобы собрать базу клиентов для email-рассылок</td>\n",
       "      <td>10</td>\n",
       "      <td>11.20</td>\n",
       "      <td>112.0</td>\n",
       "    </tr>\n",
       "    <tr>\n",
       "      <th>2</th>\n",
       "      <td>Добавить блоки рекомендаций товаров на сайт интернет магазина, чтобы повысить конверсию и средний чек заказа</td>\n",
       "      <td>8</td>\n",
       "      <td>7.00</td>\n",
       "      <td>56.0</td>\n",
       "    </tr>\n",
       "    <tr>\n",
       "      <th>0</th>\n",
       "      <td>Добавить два новых канала привлечения трафика, что позволит привлекать на 30% больше пользователей</td>\n",
       "      <td>3</td>\n",
       "      <td>13.33</td>\n",
       "      <td>40.0</td>\n",
       "    </tr>\n",
       "    <tr>\n",
       "      <th>6</th>\n",
       "      <td>Показать на главной странице баннеры с актуальными акциями и распродажами, чтобы увеличить конверсию</td>\n",
       "      <td>5</td>\n",
       "      <td>8.00</td>\n",
       "      <td>40.0</td>\n",
       "    </tr>\n",
       "    <tr>\n",
       "      <th>8</th>\n",
       "      <td>Запустить акцию, дающую скидку на товар в день рождения</td>\n",
       "      <td>1</td>\n",
       "      <td>16.20</td>\n",
       "      <td>16.2</td>\n",
       "    </tr>\n",
       "  </tbody>\n",
       "</table>\n",
       "</div>"
      ],
      "text/plain": [
       "                                                                                                     hypothesis  \\\n",
       "7              Добавить форму подписки на все основные страницы, чтобы собрать базу клиентов для email-рассылок   \n",
       "2  Добавить блоки рекомендаций товаров на сайт интернет магазина, чтобы повысить конверсию и средний чек заказа   \n",
       "0            Добавить два новых канала привлечения трафика, что позволит привлекать на 30% больше пользователей   \n",
       "6          Показать на главной странице баннеры с актуальными акциями и распродажами, чтобы увеличить конверсию   \n",
       "8                                                       Запустить акцию, дающую скидку на товар в день рождения   \n",
       "\n",
       "   reach    ICE   RICE  \n",
       "7     10  11.20  112.0  \n",
       "2      8   7.00   56.0  \n",
       "0      3  13.33   40.0  \n",
       "6      5   8.00   40.0  \n",
       "8      1  16.20   16.2  "
      ]
     },
     "execution_count": 27,
     "metadata": {},
     "output_type": "execute_result"
    }
   ],
   "source": [
    "hypothesis[['hypothesis','reach','ICE','RICE']].sort_values(by='RICE', ascending=False).head(5).round(2)"
   ]
  },
  {
   "cell_type": "markdown",
   "metadata": {},
   "source": [
    "Видно,что в ТОП-5 гипотез по методам ICE и RICE  входт одинаковые гипотезы, однако при применении параметра Reach(Охват)(т.е.  количество пользователей, которое затронет изменение)приоритет гипотез меняется.Этот параметр при включении в формулу напрямую влияет на изменение приоритизации.\n",
    "Например,у гипотезы  c индексами 7 и 2 этот параметр имеет значение 10 и 8 соответственно,а гипотеза с инднксом 8 оказалась уже  на пятом месте, потому что у неё значение reach всего 1.\n",
    " "
   ]
  },
  {
   "cell_type": "markdown",
   "metadata": {},
   "source": [
    "**Вывод по Части 1**\n",
    "\n",
    "В части 1 проекта:\n",
    "\n",
    "- Изучен файл с 9 гипотезами по увеличению выручки интернет-магазина с указанными параметрами Reach, Impact, Confidence, Effort.\n",
    "\n",
    "- При применении фреймворка ICE определены топ-5 гипотез:\n",
    "\n",
    "    'Запустить акцию, дающую скидку на товар в день рождения'\n",
    "    \n",
    "    'Добавить два новых канала привлечения трафика, что позволит привлекать на 30% больше пользователей'   \n",
    "    \n",
    "     'Добавить форму подписки на все основные страницы, чтобы собрать базу клиентов для email-рассылок\n",
    "    \n",
    "     'Показать на главной странице баннеры с актуальными акциями и распродажами, чтобы увеличить конверсию'\n",
    "    \n",
    "     'Добавить блоки рекомендаций товаров на сайт интернет магазина, чтобы повысить конверсию и средний чек заказа'          \n",
    "- При применении фреймворка RICE определены топ-5 гипотез:\n",
    "\n",
    "     'Добавить форму подписки на все основные страницы, чтобы собрать базу клиентов для email-рассылок'\n",
    "     \n",
    "     'Добавить блоки рекомендаций товаров на сайт интернет магазина, чтобы повысить конверсию и средний чек заказа'\n",
    "     \n",
    "     'Добавить два новых канала увеличения трафика, что позволит привлекать на 30% больше пользователей'\n",
    "     \n",
    "     'Показать на главной странице баннеры с актуальными акциями и распродажами, чтобы увеличить конверсию'\n",
    "     \n",
    "     'Запустить акцию, дающую скидку на товар в день рождения'\n",
    "     \n",
    "      \n",
    "- Определено, что  при применении RICE вместо ICE на изменение приоритизации существенное влияние оказывает параметр **Reach(Охват)**.Когда мы добавили этот параметр в расчеты,то мы изменили приоритеты: теперь значимость гипотезы зависит не только от  уверенности в гипотезе,влияния на пользователей,затрат ресурсов на проверку гипотезы , а еще и  от количества пользователей, которых затронет изменение."
   ]
  },
  {
   "cell_type": "markdown",
   "metadata": {},
   "source": [
    "## Часть 2. Анализ A/B-теста"
   ]
  },
  {
   "cell_type": "markdown",
   "metadata": {},
   "source": [
    "Чтобы построить графики, нужно собрать кумулятивные данные в датафрейм "
   ]
  },
  {
   "cell_type": "code",
   "execution_count": 28,
   "metadata": {},
   "outputs": [],
   "source": [
    "# создаем массив уникальных пар значений дат и групп теста\n",
    "df_group = orders[['date', 'group']].drop_duplicates()\n",
    "\n",
    "\n"
   ]
  },
  {
   "cell_type": "code",
   "execution_count": 29,
   "metadata": {},
   "outputs": [],
   "source": [
    "# получаем агрегированные кумулятивные по дням данные о заказах\n",
    "orders_agg = df_group.apply(lambda x: orders[np.logical_and(orders['date'] <= x['date'], orders['group'] == x['group'])]\n",
    "    .agg({'date':'max', 'group':'max', 'transaction_id':'nunique', 'visitor_id':'nunique', 'revenue':'sum'}),axis=1).sort_values(by=['date', 'group'])\n"
   ]
  },
  {
   "cell_type": "code",
   "execution_count": 30,
   "metadata": {},
   "outputs": [],
   "source": [
    "# получаем агрегированные кумулятивные по дням данные о посетителях интернет-магазина \n",
    "visitors_agg = df_group.apply(lambda x: visitors[np.logical_and(visitors['date'] <= x['date'], visitors['group'] == x['group'])]\n",
    "    .agg({'date' : 'max', 'group' : 'max', 'visitors' : 'sum'}), axis=1).sort_values(by=['date','group'])\n"
   ]
  },
  {
   "cell_type": "code",
   "execution_count": 31,
   "metadata": {},
   "outputs": [
    {
     "data": {
      "text/html": [
       "<div>\n",
       "<style scoped>\n",
       "    .dataframe tbody tr th:only-of-type {\n",
       "        vertical-align: middle;\n",
       "    }\n",
       "\n",
       "    .dataframe tbody tr th {\n",
       "        vertical-align: top;\n",
       "    }\n",
       "\n",
       "    .dataframe thead th {\n",
       "        text-align: right;\n",
       "    }\n",
       "</style>\n",
       "<table border=\"1\" class=\"dataframe\">\n",
       "  <thead>\n",
       "    <tr style=\"text-align: right;\">\n",
       "      <th></th>\n",
       "      <th>date</th>\n",
       "      <th>group</th>\n",
       "      <th>orders</th>\n",
       "      <th>buyers</th>\n",
       "      <th>revenue</th>\n",
       "      <th>visitors</th>\n",
       "    </tr>\n",
       "  </thead>\n",
       "  <tbody>\n",
       "    <tr>\n",
       "      <th>0</th>\n",
       "      <td>2019-08-01</td>\n",
       "      <td>A</td>\n",
       "      <td>23</td>\n",
       "      <td>19</td>\n",
       "      <td>142779</td>\n",
       "      <td>719</td>\n",
       "    </tr>\n",
       "    <tr>\n",
       "      <th>1</th>\n",
       "      <td>2019-08-01</td>\n",
       "      <td>B</td>\n",
       "      <td>17</td>\n",
       "      <td>17</td>\n",
       "      <td>59758</td>\n",
       "      <td>713</td>\n",
       "    </tr>\n",
       "    <tr>\n",
       "      <th>2</th>\n",
       "      <td>2019-08-02</td>\n",
       "      <td>A</td>\n",
       "      <td>42</td>\n",
       "      <td>36</td>\n",
       "      <td>234381</td>\n",
       "      <td>1338</td>\n",
       "    </tr>\n",
       "    <tr>\n",
       "      <th>3</th>\n",
       "      <td>2019-08-02</td>\n",
       "      <td>B</td>\n",
       "      <td>40</td>\n",
       "      <td>39</td>\n",
       "      <td>221801</td>\n",
       "      <td>1294</td>\n",
       "    </tr>\n",
       "    <tr>\n",
       "      <th>4</th>\n",
       "      <td>2019-08-03</td>\n",
       "      <td>A</td>\n",
       "      <td>66</td>\n",
       "      <td>60</td>\n",
       "      <td>346854</td>\n",
       "      <td>1845</td>\n",
       "    </tr>\n",
       "  </tbody>\n",
       "</table>\n",
       "</div>"
      ],
      "text/plain": [
       "        date group  orders  buyers  revenue  visitors\n",
       "0 2019-08-01     A      23      19   142779       719\n",
       "1 2019-08-01     B      17      17    59758       713\n",
       "2 2019-08-02     A      42      36   234381      1338\n",
       "3 2019-08-02     B      40      39   221801      1294\n",
       "4 2019-08-03     A      66      60   346854      1845"
      ]
     },
     "execution_count": 31,
     "metadata": {},
     "output_type": "execute_result"
    }
   ],
   "source": [
    "# объединяем кумулятивные данные в одной таблице и присваиваем ее столбцам понятные названия\n",
    "df_cumulative = orders_agg.merge(visitors_agg, left_on=['date', 'group'], right_on=['date', 'group'])\n",
    "df_cumulative.columns = ['date', 'group', 'orders', 'buyers', 'revenue', 'visitors']\n",
    "\n",
    "df_cumulative.head()"
   ]
  },
  {
   "cell_type": "markdown",
   "metadata": {},
   "source": [
    "`date` — дата;\n",
    "\n",
    "`group` — группа A/B-теста (A или B);\n",
    "\n",
    "`orders` — кумулятивное количество заказов на указанную дату в указанной группе;\n",
    "\n",
    "`buyers` — кумулятивноое количество пользователей, совершивших хотя бы один заказ, на указанную дату в указанной группе;\n",
    "\n",
    "`revenue` — кумулятивная выручка на указанную дату в указанной группе (средний чек);"
   ]
  },
  {
   "cell_type": "markdown",
   "metadata": {},
   "source": [
    "### График кумулятивной выручки по группам"
   ]
  },
  {
   "cell_type": "code",
   "execution_count": 32,
   "metadata": {},
   "outputs": [],
   "source": [
    "\n",
    "# датафрейм с кумулятивным количеством заказов и кумулятивной выручкой по дням в группе А\n",
    "cum_revenueA = df_cumulative[df_cumulative['group']=='A'][['date','revenue', 'orders']]\n",
    "\n",
    "# датафрейм с кумулятивным количеством заказов и кумулятивной выручкой по дням в группе B\n",
    "cum_revenueB = df_cumulative[df_cumulative['group']=='B'][['date','revenue', 'orders']]\n",
    "\n"
   ]
  },
  {
   "cell_type": "code",
   "execution_count": 33,
   "metadata": {},
   "outputs": [
    {
     "data": {
      "image/png": "[encoded data removed]",
      "text/plain": [
       "<Figure size 1080x576 with 1 Axes>"
      ]
     },
     "metadata": {
      "needs_background": "light"
     },
     "output_type": "display_data"
    }
   ],
   "source": [
    "plt.figure(figsize=(15, 8))\n",
    "\n",
    "# Строим график выручки группы А\n",
    "plt.plot(cum_revenueA['date'], cum_revenueA['revenue'],label='Кумулятивная выручка гр.A')\n",
    "\n",
    "# Строим график выручки группы B\n",
    "plt.plot(cum_revenueB['date'], cum_revenueB['revenue'], label='Кумулятивная выручка гр.B')\n",
    "plt.title('Графики кумулятивной выручки по группам')\n",
    "plt.xlabel('Дата')\n",
    "plt.ylabel('Выручка')\n",
    "plt.grid()\n",
    "plt.legend() ;\n"
   ]
  },
  {
   "cell_type": "markdown",
   "metadata": {},
   "source": [
    "**ВЫВОД**\n",
    "\n",
    "- Выручка вцелом растет равномерно.\n",
    "- Кумулятивная выручка группы `В` примерно до середины месяца чуть выше, чем в группе `А`.\n",
    "- Кумулятивная выручка группы `В` в середине месяца начинает расти быстрее чем в группе `А` и наблюдается резкий скачок (примерно  20.08.2018).Возможно этот   скачок обусловлен крупной выручкой в этот день."
   ]
  },
  {
   "cell_type": "markdown",
   "metadata": {},
   "source": [
    "###  График кумулятивного среднего чека по группам"
   ]
  },
  {
   "cell_type": "code",
   "execution_count": 34,
   "metadata": {},
   "outputs": [
    {
     "data": {
      "image/png": "[encoded data removed]",
      "text/plain": [
       "<Figure size 1080x576 with 1 Axes>"
      ]
     },
     "metadata": {
      "needs_background": "light"
     },
     "output_type": "display_data"
    }
   ],
   "source": [
    "plt.figure(figsize=(15, 8))\n",
    "plt.plot(cum_revenueA['date'],cum_revenueA['revenue']/cum_revenueA['orders'], label='A')\n",
    "\n",
    "plt.plot(cum_revenueB['date'],cum_revenueB['revenue']/cum_revenueB['orders'], label='B')\n",
    "plt.title('Графики кумулятивного среднего чека по группам')\n",
    "plt.xlabel('Дата')\n",
    "plt.ylabel('Сумма среднего чека')\n",
    "plt.grid()\n",
    "plt.legend() ; "
   ]
  },
  {
   "cell_type": "markdown",
   "metadata": {},
   "source": [
    "**ВЫВОД**\n",
    "\n",
    "- Группа `А` -  средний чек в начале периода немного падает, потом происходит резкий скачок,а затем стабилизируется на 7000 и наблюдается небольшая тенденция к росту. \n",
    "\n",
    "- Группа `В` - средний чек в группе  растет до середины месяца,в одной точке резко растет(Это та жне дата,что и на графике выручки- 20.08.2019) и возрастает до 10000.Что подтверждает версию о высокоцй выручке в этот дннь.Далее наблюдается тенденция к снижению среднего чека в этой группе до 9000.\n",
    "\n"
   ]
  },
  {
   "cell_type": "markdown",
   "metadata": {},
   "source": [
    "### График относительного изменения кумулятивного среднего чека группы B к группе A."
   ]
  },
  {
   "cell_type": "code",
   "execution_count": 35,
   "metadata": {},
   "outputs": [
    {
     "data": {
      "image/png": "[encoded data removed]",
      "text/plain": [
       "<Figure size 1080x720 with 1 Axes>"
      ]
     },
     "metadata": {
      "needs_background": "light"
     },
     "output_type": "display_data"
    }
   ],
   "source": [
    "# собираем данные в одном датафрейме\n",
    "merge_cum = cum_revenueA.merge(cum_revenueB, left_on='date', right_on='date', how='left', suffixes=['A', 'B'])\n",
    "\n",
    "# задаём размер для графика\n",
    "plt.figure(figsize=(15, 10))\n",
    "\n",
    "# cтроим отношение средних чеков\n",
    "plt.plot(merge_cum['date'], (merge_cum['revenueB']/merge_cum['ordersB'])/(merge_cum['revenueA']/merge_cum['ordersA'])-1)\n",
    "\n",
    "# добавляем ось X\n",
    "plt.axhline(y=0, color='red', linestyle='--')\n",
    "\n",
    "\n",
    "\n",
    "plt.title('График относительного изменения кумулятивного среднего чека группы B к группе A', fontsize=14)\n",
    "plt.xlabel('Дата', fontsize=12)\n",
    "plt.ylabel('Разница средних чеков', fontsize=12)\n",
    "plt.grid();\n"
   ]
  },
  {
   "cell_type": "markdown",
   "metadata": {},
   "source": [
    "**ВЫВОД**\n",
    "\n",
    "- График относительного изменения кумулятивного среднего чека группы `B` к группе `A` говорит о том, что результаты группы `B` нестабильны: мы наблюдаем относительный рост суммы кумулятивного чека группы В примерно до 8 августа, его резкий спад к 13 августу ,такой же резкий подъем до 20 августа(как и на предыдущих двух графиках), и снова относительное падение, но не ниже нулевого уровня.Возможно что  в эти даты и были сделаны аномальные заказы.\n",
    "\n",
    "- Кумулятивная выручка группы `В`  выше, чем у группы `А`, но она нестабильна."
   ]
  },
  {
   "cell_type": "markdown",
   "metadata": {},
   "source": [
    "###  График кумулятивного среднего количества заказов на посетителя по группам"
   ]
  },
  {
   "cell_type": "code",
   "execution_count": 36,
   "metadata": {},
   "outputs": [
    {
     "data": {
      "image/png": "[encoded data removed]",
      "text/plain": [
       "<Figure size 1080x504 with 1 Axes>"
      ]
     },
     "metadata": {
      "needs_background": "light"
     },
     "output_type": "display_data"
    }
   ],
   "source": [
    "# считаем кумулятивного среднего количество заказов на посетителя  по группам\n",
    "df_cumulative['conversion'] = df_cumulative['orders']/df_cumulative['visitors']\n",
    "\n",
    "# отделяем данные по группе A\n",
    "cum_df_a = df_cumulative[df_cumulative['group']=='A']\n",
    "\n",
    "# отделяем данные по группе B\n",
    "cum_df_b = df_cumulative[df_cumulative['group']=='B']\n",
    "\n",
    "# задаём размер для графиков\n",
    "plt.figure(figsize=(15,7))\n",
    "\n",
    "# строим графики\n",
    "plt.plot(cum_df_a['date'],cum_df_a['conversion'], label='A')\n",
    "plt.plot(cum_df_b['date'],cum_df_b['conversion'], label='B')\n",
    "\n",
    "# задаем масштаб осей\n",
    "#plt.axis([dt.datetime(2019, 8, 1), dt.datetime(2019, 8, 31), 0, 0.05]) \n",
    "\n",
    "plt.grid(visible=True)\n",
    "plt.title('График кумулятивного среднего количества заказов на посетителя по группам', fontsize=14)\n",
    "plt.xlabel('Дата', fontsize=12)\n",
    "plt.ylabel('Среднее количество заказов на посетителя', fontsize=12)\n",
    "plt.legend()\n",
    "plt.show()"
   ]
  },
  {
   "cell_type": "markdown",
   "metadata": {},
   "source": [
    "**ВЫВОД**\n",
    "\n",
    "Ккмулятивное среднее количество заказов на посетителя первые первые шесть дней было у группы `A`,наблюдался одновременно небольшой всплеск значений.Затем к началу второй недели месяца показатели для групп `A` и `B` выровнялись.Далее у группы `B` произошел рост и показатели выровнялись и в итоге установились примерно для группы `B` на уровне 0,03, а для группы `A` чуть ниже- 0.026"
   ]
  },
  {
   "cell_type": "markdown",
   "metadata": {},
   "source": [
    "### График относительного изменения кумулятивного среднего количества заказов на посетителя группы B к группе A."
   ]
  },
  {
   "cell_type": "code",
   "execution_count": 37,
   "metadata": {},
   "outputs": [
    {
     "data": {
      "image/png": "[encoded data removed]",
      "text/plain": [
       "<Figure size 1080x720 with 1 Axes>"
      ]
     },
     "metadata": {
      "needs_background": "light"
     },
     "output_type": "display_data"
    }
   ],
   "source": [
    "merge_cum1 = cum_df_a[['date','conversion']].merge(cum_df_b[['date','conversion']], left_on='date', right_on='date', how='left', suffixes=['A', 'B'])\n",
    "# задаём размер для графика\n",
    "plt.figure(figsize=(15, 10))\n",
    "plt.plot(merge_cum1['date'],merge_cum1['conversionB']/merge_cum1['conversionA']-1)\n",
    "\n",
    "\n",
    "plt.axhline(y=0, color='red', linestyle='--')\n",
    "plt.axhline(y=0.2, color='grey', linestyle='--')\n",
    "\n",
    "\n",
    "plt.title('График относительного изменения кумулятивного среднего количества заказов на посетителя группы B к группе A')\n",
    "plt.xlabel('Дата', fontsize=12)\n",
    "plt.ylabel('Отношение изменения', fontsize=12)\n",
    "\n",
    "plt.grid();"
   ]
  },
  {
   "cell_type": "markdown",
   "metadata": {},
   "source": [
    "**ВЫВОД**\n",
    "\n",
    "\n",
    "- Здесь мы также видим, что до 6 августа изменение кумулятивного среднего количества заказов на посетителя группы `B` к группе `A` отрицательно, то есть лидирует группа `А`.Наблюдается стремительный рост показателя у группы `В`; И после 20 августа идет снижение показателей у группы  `В` относительно группы `А` , но среднем прирост не падет ниже 10%.\n",
    "\n",
    "- Стоит отметить,что тендеции для группы В схожи с теми,что наблюдались на предыдущих куммулятивных граф"
   ]
  },
  {
   "cell_type": "markdown",
   "metadata": {},
   "source": [
    "### Точечный график количества заказов по пользователям"
   ]
  },
  {
   "cell_type": "markdown",
   "metadata": {},
   "source": [
    "Изучим аномалии, которые могут искажать результаты A/B-теста. Подсчитаем количество заказов по пользователям."
   ]
  },
  {
   "cell_type": "code",
   "execution_count": 38,
   "metadata": {},
   "outputs": [
    {
     "data": {
      "text/html": [
       "<div>\n",
       "<style scoped>\n",
       "    .dataframe tbody tr th:only-of-type {\n",
       "        vertical-align: middle;\n",
       "    }\n",
       "\n",
       "    .dataframe tbody tr th {\n",
       "        vertical-align: top;\n",
       "    }\n",
       "\n",
       "    .dataframe thead th {\n",
       "        text-align: right;\n",
       "    }\n",
       "</style>\n",
       "<table border=\"1\" class=\"dataframe\">\n",
       "  <thead>\n",
       "    <tr style=\"text-align: right;\">\n",
       "      <th></th>\n",
       "      <th>user_id</th>\n",
       "      <th>orders</th>\n",
       "    </tr>\n",
       "  </thead>\n",
       "  <tbody>\n",
       "    <tr>\n",
       "      <th>908</th>\n",
       "      <td>3967698036</td>\n",
       "      <td>3</td>\n",
       "    </tr>\n",
       "    <tr>\n",
       "      <th>55</th>\n",
       "      <td>249864742</td>\n",
       "      <td>3</td>\n",
       "    </tr>\n",
       "    <tr>\n",
       "      <th>478</th>\n",
       "      <td>2108163459</td>\n",
       "      <td>3</td>\n",
       "    </tr>\n",
       "    <tr>\n",
       "      <th>687</th>\n",
       "      <td>2988190573</td>\n",
       "      <td>3</td>\n",
       "    </tr>\n",
       "    <tr>\n",
       "      <th>890</th>\n",
       "      <td>3908431265</td>\n",
       "      <td>3</td>\n",
       "    </tr>\n",
       "    <tr>\n",
       "      <th>138</th>\n",
       "      <td>611059232</td>\n",
       "      <td>3</td>\n",
       "    </tr>\n",
       "    <tr>\n",
       "      <th>632</th>\n",
       "      <td>2742574263</td>\n",
       "      <td>3</td>\n",
       "    </tr>\n",
       "    <tr>\n",
       "      <th>157</th>\n",
       "      <td>678354126</td>\n",
       "      <td>2</td>\n",
       "    </tr>\n",
       "    <tr>\n",
       "      <th>323</th>\n",
       "      <td>1404560065</td>\n",
       "      <td>2</td>\n",
       "    </tr>\n",
       "    <tr>\n",
       "      <th>452</th>\n",
       "      <td>1985475298</td>\n",
       "      <td>2</td>\n",
       "    </tr>\n",
       "  </tbody>\n",
       "</table>\n",
       "</div>"
      ],
      "text/plain": [
       "        user_id  orders\n",
       "908  3967698036       3\n",
       "55    249864742       3\n",
       "478  2108163459       3\n",
       "687  2988190573       3\n",
       "890  3908431265       3\n",
       "138   611059232       3\n",
       "632  2742574263       3\n",
       "157   678354126       2\n",
       "323  1404560065       2\n",
       "452  1985475298       2"
      ]
     },
     "execution_count": 38,
     "metadata": {},
     "output_type": "execute_result"
    }
   ],
   "source": [
    "# число заказов(транзакций) по пользователям\n",
    "orders_by_users = orders.groupby('visitor_id', as_index=False).agg({'transaction_id' : pd.Series.nunique}) \n",
    "                                                                       \n",
    "orders_by_users.columns = ['user_id','orders']\n",
    "\n",
    "orders_by_users.sort_values(by='orders',ascending=False).head(10)\n"
   ]
  },
  {
   "cell_type": "code",
   "execution_count": 39,
   "metadata": {},
   "outputs": [
    {
     "data": {
      "text/plain": [
       "count    973.000000\n",
       "mean       1.044193\n",
       "std        0.238090\n",
       "min        1.000000\n",
       "25%        1.000000\n",
       "50%        1.000000\n",
       "75%        1.000000\n",
       "max        3.000000\n",
       "Name: orders, dtype: float64"
      ]
     },
     "execution_count": 39,
     "metadata": {},
     "output_type": "execute_result"
    }
   ],
   "source": [
    "orders_by_users['orders'].describe()"
   ]
  },
  {
   "cell_type": "markdown",
   "metadata": {},
   "source": [
    "Посмотрим, как распределились подьзователи по числу заказов"
   ]
  },
  {
   "cell_type": "code",
   "execution_count": 40,
   "metadata": {},
   "outputs": [
    {
     "data": {
      "image/png": "[encoded data removed]",
      "text/plain": [
       "<Figure size 432x288 with 1 Axes>"
      ]
     },
     "metadata": {
      "needs_background": "light"
     },
     "output_type": "display_data"
    }
   ],
   "source": [
    "plt.hist(orders_by_users['orders'])\n",
    "plt.title('Распределение заказов пользователей')\n",
    "plt.xlabel('Заказы')\n",
    "plt.ylabel('Частота');"
   ]
  },
  {
   "cell_type": "markdown",
   "metadata": {},
   "source": [
    "Видно,что большинство пользователей делают 1 заказ.Построим точечный график количества заказов по пользователям"
   ]
  },
  {
   "cell_type": "code",
   "execution_count": 41,
   "metadata": {},
   "outputs": [
    {
     "data": {
      "text/plain": [
       "Text(0, 0.5, 'Кол-во заказов')"
      ]
     },
     "execution_count": 41,
     "metadata": {},
     "output_type": "execute_result"
    },
    {
     "data": {
      "image/png": "[encoded data removed]",
      "text/plain": [
       "<Figure size 864x504 with 1 Axes>"
      ]
     },
     "metadata": {
      "needs_background": "light"
     },
     "output_type": "display_data"
    }
   ],
   "source": [
    "# серия из чисел от 0 до количества наблюдений в orders_by_users\n",
    "x_values = pd.Series(range(0, len(orders_by_users)))\n",
    "plt.figure(figsize=(12, 7))\n",
    "plt.scatter(x_values, orders_by_users['orders'],color='red')  \n",
    "plt.grid()\n",
    "plt.title('График количества заказов по пользователям')\n",
    "plt.xlabel('Кол-во пользователей')\n",
    "plt.ylabel('Кол-во заказов')\n"
   ]
  },
  {
   "cell_type": "markdown",
   "metadata": {},
   "source": [
    "**ВЫВОД**\n",
    "\n",
    "По точечному графику видно,что большиство делает 1 заказ,небольшое количество - 2 заказа и всего 7 человек- 3 заказа"
   ]
  },
  {
   "cell_type": "markdown",
   "metadata": {},
   "source": [
    "### Расчет  95-й и 99-й перцентили количества заказов на пользователя. Выбор границы для определения аномальных пользователей"
   ]
  },
  {
   "cell_type": "code",
   "execution_count": 42,
   "metadata": {},
   "outputs": [
    {
     "name": "stdout",
     "output_type": "stream",
     "text": [
      "Количество заказов для 5% пользователей: 1.0\n",
      "Количество заказов для 1% пользователей: 2.0\n"
     ]
    }
   ],
   "source": [
    "print('Количество заказов для 5% пользователей:',np.percentile(orders_by_users['orders'], 95))\n",
    "\n",
    "\n",
    "print('Количество заказов для 1% пользователей:',np.percentile(orders_by_users['orders'],99))\n",
    "\n"
   ]
  },
  {
   "cell_type": "markdown",
   "metadata": {},
   "source": [
    "**ВЫВОД**\n",
    "\n",
    "- Получается, что 99 процентов пользователей делают от 1 до 2 заказов.\n",
    "\n",
    "- Выберем  за границу аномальности 99 перцентиль : от 2 заказов"
   ]
  },
  {
   "cell_type": "markdown",
   "metadata": {},
   "source": [
    "### Построение точечного графика стоимостей заказов."
   ]
  },
  {
   "cell_type": "code",
   "execution_count": 43,
   "metadata": {},
   "outputs": [
    {
     "data": {
      "text/plain": [
       "count    1.016000e+03\n",
       "mean     8.300815e+03\n",
       "std      4.212199e+04\n",
       "min      5.000000e+01\n",
       "25%      1.190000e+03\n",
       "50%      2.955000e+03\n",
       "75%      8.134250e+03\n",
       "max      1.294500e+06\n",
       "Name: revenue, dtype: float64"
      ]
     },
     "execution_count": 43,
     "metadata": {},
     "output_type": "execute_result"
    }
   ],
   "source": [
    "orders['revenue'].describe()"
   ]
  },
  {
   "cell_type": "code",
   "execution_count": 44,
   "metadata": {},
   "outputs": [
    {
     "data": {
      "image/png": "[encoded data removed]",
      "text/plain": [
       "<Figure size 864x504 with 1 Axes>"
      ]
     },
     "metadata": {
      "needs_background": "light"
     },
     "output_type": "display_data"
    }
   ],
   "source": [
    "x_values = pd.Series(range(0,len(orders['revenue'])))\n",
    "plt.figure(figsize=(12, 7))\n",
    "plt.scatter(x_values, orders['revenue'],color='red')\n",
    "\n",
    "plt.grid()\n",
    "\n",
    "plt.xlabel('число пользователей')\n",
    "plt.ylabel('стоимость заказа')\n",
    "plt.title('График стоимости заказов');"
   ]
  },
  {
   "cell_type": "code",
   "execution_count": 45,
   "metadata": {},
   "outputs": [
    {
     "data": {
      "text/plain": [
       "131       53904\n",
       "940       58550\n",
       "949       60450\n",
       "1099      65710\n",
       "1103      66350\n",
       "743       67990\n",
       "744       86620\n",
       "1136      92550\n",
       "1196     202740\n",
       "425     1294500\n",
       "Name: revenue, dtype: int64"
      ]
     },
     "execution_count": 45,
     "metadata": {},
     "output_type": "execute_result"
    }
   ],
   "source": [
    "#Посмотрим точные суммы аномальных заказов.\n",
    "orders['revenue'].sort_values().tail(10)"
   ]
  },
  {
   "cell_type": "markdown",
   "metadata": {},
   "source": [
    "Отчетливо видены:  заказ с огромной суммой - 1294500 и второй- 202740. Они и могли вызвать всплески на построеных ранее графиках.\n",
    "    Посмотрим на график без этих явных выбросов"
   ]
  },
  {
   "cell_type": "code",
   "execution_count": 46,
   "metadata": {},
   "outputs": [
    {
     "data": {
      "image/png": "[encoded data removed]",
      "text/plain": [
       "<Figure size 864x504 with 1 Axes>"
      ]
     },
     "metadata": {
      "needs_background": "light"
     },
     "output_type": "display_data"
    }
   ],
   "source": [
    "\n",
    "x_values = pd.Series(range(0,len(orders['revenue'])))\n",
    "plt.figure(figsize=(12, 7))\n",
    "plt.scatter(x_values, orders['revenue'],color='red')\n",
    "\n",
    "plt.grid()\n",
    "plt.ylim(0, 100000)\n",
    "plt.xlabel('число пользователей')\n",
    "plt.ylabel('стоимость заказа')\n",
    "plt.title('График стоимости заказов');"
   ]
  },
  {
   "cell_type": "markdown",
   "metadata": {},
   "source": [
    "**ВЫВОД**\n",
    "\n",
    "- В основном заказы в пределах суммы 20000.Как они расрпеделились можно узнать расчиав перцентили\n",
    "\n",
    "- выявлены аномальные заказы с огромной суммой - 1 294500 и второй- 202740.Они вероятно и быди причиной всплесков на графиках."
   ]
  },
  {
   "cell_type": "markdown",
   "metadata": {},
   "source": [
    "### Расчет  95-й и 99-й перцентили стоимости заказов.Выбор границы для определения аномальных заказов."
   ]
  },
  {
   "cell_type": "code",
   "execution_count": 47,
   "metadata": {},
   "outputs": [
    {
     "name": "stdout",
     "output_type": "stream",
     "text": [
      "Стоимость заказа для 5% пользователей: 26785.0\n",
      "Стоимость заказа для 1% пользователей: 53904.0\n"
     ]
    }
   ],
   "source": [
    "print('Стоимость заказа для 5% пользователей:',np.percentile(orders['revenue'], 95))\n",
    "\n",
    "print('Стоимость заказа для 1% пользователей:',np.percentile(orders['revenue'],99))"
   ]
  },
  {
   "cell_type": "markdown",
   "metadata": {},
   "source": [
    "**ВЫВОД**\n",
    "\n",
    "- Не более 5% заказов на сумму свыше 26785 и Не более 1% заказов на сумму свыше 58233 руб - не более 1%. \n",
    "\n",
    "- За нижнюю границу можно выбрать стоимость заказа в 26785 (95 перцентиль) и остальные признать аномальными"
   ]
  },
  {
   "cell_type": "markdown",
   "metadata": {},
   "source": [
    "### Расчет статистической значимости различий в среднем количестве заказов на посетителя между группами по «сырым» данным"
   ]
  },
  {
   "cell_type": "markdown",
   "metadata": {},
   "source": [
    "**Сформулируем гипотезы:**\n",
    "\n",
    "**H0** - статистически значимых различий в среднем количестве заказов на посетителя  нет\n",
    "\n",
    "**H1** - статистически значимые различия в среднем количестве заказов на посетителя есть\n",
    "\n",
    "Критический уровень значимости - 0.05\n",
    "\n",
    "Метод проверки гипотез - критерий Манна-Уитни(так как данные по среднему числу заказов и среднему чеку не распределены нормально.)\n",
    "\n",
    "\n",
    "Для расчета статистической значимости различий в среднем количестве заказов на посетителя между группами подготовим данные"
   ]
  },
  {
   "cell_type": "code",
   "execution_count": 48,
   "metadata": {},
   "outputs": [
    {
     "data": {
      "text/html": [
       "<div>\n",
       "<style scoped>\n",
       "    .dataframe tbody tr th:only-of-type {\n",
       "        vertical-align: middle;\n",
       "    }\n",
       "\n",
       "    .dataframe tbody tr th {\n",
       "        vertical-align: top;\n",
       "    }\n",
       "\n",
       "    .dataframe thead th {\n",
       "        text-align: right;\n",
       "    }\n",
       "</style>\n",
       "<table border=\"1\" class=\"dataframe\">\n",
       "  <thead>\n",
       "    <tr style=\"text-align: right;\">\n",
       "      <th></th>\n",
       "      <th>date</th>\n",
       "      <th>vis_date_a</th>\n",
       "      <th>vis_date_b</th>\n",
       "    </tr>\n",
       "  </thead>\n",
       "  <tbody>\n",
       "    <tr>\n",
       "      <th>0</th>\n",
       "      <td>2019-08-01</td>\n",
       "      <td>719</td>\n",
       "      <td>713</td>\n",
       "    </tr>\n",
       "    <tr>\n",
       "      <th>1</th>\n",
       "      <td>2019-08-02</td>\n",
       "      <td>619</td>\n",
       "      <td>581</td>\n",
       "    </tr>\n",
       "    <tr>\n",
       "      <th>2</th>\n",
       "      <td>2019-08-03</td>\n",
       "      <td>507</td>\n",
       "      <td>509</td>\n",
       "    </tr>\n",
       "    <tr>\n",
       "      <th>3</th>\n",
       "      <td>2019-08-04</td>\n",
       "      <td>717</td>\n",
       "      <td>770</td>\n",
       "    </tr>\n",
       "    <tr>\n",
       "      <th>4</th>\n",
       "      <td>2019-08-05</td>\n",
       "      <td>756</td>\n",
       "      <td>707</td>\n",
       "    </tr>\n",
       "  </tbody>\n",
       "</table>\n",
       "</div>"
      ],
      "text/plain": [
       "        date  vis_date_a  vis_date_b\n",
       "0 2019-08-01         719         713\n",
       "1 2019-08-02         619         581\n",
       "2 2019-08-03         507         509\n",
       "3 2019-08-04         717         770\n",
       "4 2019-08-05         756         707"
      ]
     },
     "execution_count": 48,
     "metadata": {},
     "output_type": "execute_result"
    }
   ],
   "source": [
    "# расчет количества пользователей в выбранную дату в группе А\n",
    "visit_a_daily = visitors[visitors['group'] == 'A'][['date', 'visitors']]\n",
    "visit_a_daily.columns = ['date', 'vis_date_a']\n",
    "                       \n",
    "# расчет количества пользователей в выбранную дату в группе В\n",
    "visit_b_daily = visitors[visitors['group'] == 'B'][['date', 'visitors']]\n",
    "visit_b_daily.columns = ['date', 'vis_date_b'] \n",
    "\n",
    "df_visits = (visit_a_daily.merge(\n",
    "        visit_b_daily, left_on='date', right_on='date', how='left'))\n",
    "df_visits.head()"
   ]
  },
  {
   "cell_type": "code",
   "execution_count": 49,
   "metadata": {},
   "outputs": [],
   "source": [
    "# формирование датафреймов в которых указано число совершённых заказов\n",
    "# для пользователей, которые заказывали хотя бы 1 раз\n",
    "orders_by_users_a = (\n",
    "    orders[orders['group'] == 'A']\n",
    "    .groupby('visitor_id', as_index=False)\n",
    "    .agg({'transaction_id': pd.Series.nunique})\n",
    ")\n",
    "orders_by_users_a.columns = ['visitor_id', 'orders']\n",
    "\n",
    "orders_by_users_b = (\n",
    "    orders[orders['group'] == 'B']\n",
    "    .groupby('visitor_id', as_index=False)\n",
    "    .agg({'transaction_id': pd.Series.nunique})\n",
    ")\n",
    "orders_by_users_b.columns = ['visitor_id', 'orders']"
   ]
  },
  {
   "cell_type": "code",
   "execution_count": 50,
   "metadata": {},
   "outputs": [],
   "source": [
    "# формирование переменных в которых пользователям с заказами\n",
    "# будет соответствовать число заказов пользователя,\n",
    "# а пользователям без заказов — нули\n",
    "sample_a = pd.concat([orders_by_users_a['orders'],\n",
    "                      pd.Series(0, index=np.arange(\n",
    "                          df_visits['vis_date_a'].sum() -\n",
    "                          len(orders_by_users_a['orders'])), name='orders')], axis=0)\n",
    "\n",
    "sample_b = pd.concat([orders_by_users_b['orders'],\n",
    "                      pd.Series(0, index=np.arange(\n",
    "                          df_visits['vis_date_b'].sum() -\n",
    "                          len(orders_by_users_b['orders'])), name='orders')], axis=0)\n"
   ]
  },
  {
   "cell_type": "markdown",
   "metadata": {},
   "source": [
    "Расчет статистической значимости различий в среднем количестве заказов на посетителя"
   ]
  },
  {
   "cell_type": "code",
   "execution_count": 51,
   "metadata": {},
   "outputs": [
    {
     "name": "stdout",
     "output_type": "stream",
     "text": [
      "P-value: 0.011\n",
      "Отвергаем нулевую гипотезу: между группами есть разница\n",
      "Относительный прирост среднего количестве заказов В к А по'cырым' данным: 15.98%\n"
     ]
    }
   ],
   "source": [
    "alpha = 0.05\n",
    "p_value = st.mannwhitneyu(sample_a,sample_b)[1]\n",
    "print(\"P-value: {0:.3f}\".format(p_value))\n",
    "\n",
    "if p_value < alpha:\n",
    "    print(\"Отвергаем нулевую гипотезу: между группами есть разница\")\n",
    "else:\n",
    "    print(\"Не получилось отвергнуть нулевую гипотезу, нет оснований считать группы разными\")\n",
    "    \n",
    "print(\"Относительный прирост среднего количестве заказов В к А по'cырым' данным: {0:.2%}\".format(sample_b.mean() / sample_a.mean()-1))"
   ]
  },
  {
   "cell_type": "markdown",
   "metadata": {},
   "source": [
    "**ВЫВОД**\n",
    "\n",
    "- В результате проверки гипотез по  критерию Манна-Уитни получено P-value 0.011 < 0.05 , потому **H0** отвергаем.\n",
    "\n",
    "- Анализ \"сырых данных\" показывает, что в среднем количестве заказов на посетителя между группами есть статистически значимые различия\n",
    "\n",
    "- Относительный прирост среднего количестве заказов группы `В` к группе `А`: 15.98%"
   ]
  },
  {
   "cell_type": "markdown",
   "metadata": {},
   "source": [
    "### Расчет статистической значимости различий в среднем чеке заказа между группами по «сырым» данным"
   ]
  },
  {
   "cell_type": "markdown",
   "metadata": {},
   "source": [
    "**Сформулируем гипотезы:**\n",
    "\n",
    "**H0** - статистически значимых различий в среднем чеке между группами нет\n",
    "\n",
    "**H1** - статистически значимые различия в среднем в среднем чеке между группами есть\n",
    "\n",
    "\n",
    "Критический уровень значимости - 0.05\n",
    "\n",
    "Метод проверки гипотез - критерий Манна-Уитни\n"
   ]
  },
  {
   "cell_type": "code",
   "execution_count": 52,
   "metadata": {},
   "outputs": [
    {
     "name": "stdout",
     "output_type": "stream",
     "text": [
      "P-value: 0.829\n",
      "Не получилось отвергнуть нулевую гипотезу, нет оснований считать группы разными\n",
      "Относительное различие в среднем чеке между группами по «сырым» данным: 28.66%\n"
     ]
    }
   ],
   "source": [
    "alpha = 0.05\n",
    "# рассчет статистической значимости различия среднего чека по результатам теста Манна-Уитни\n",
    "p_value = st.mannwhitneyu(orders[orders['group']=='A']['revenue'],orders[orders['group']=='B']['revenue'])[1]\n",
    "\n",
    "print(\"P-value: {0:.3f}\".format(p_value))\n",
    "\n",
    "if p_value < alpha:\n",
    "    print(\"Отвергаем нулевую гипотезу: между группами есть разница\")\n",
    "else:\n",
    "    print(\"Не получилось отвергнуть нулевую гипотезу, нет оснований считать группы разными\")\n",
    "    \n",
    "# рассчет относительного различия в среднем чеке между группами\n",
    "print('Относительное различие в среднем чеке между группами по «сырым» данным:',\n",
    "      '{0:.2%}'.format(\n",
    "          orders[orders['group']=='B']['revenue'].mean()/\n",
    "          orders[orders['group']=='A']['revenue'].mean()-1)) "
   ]
  },
  {
   "cell_type": "markdown",
   "metadata": {},
   "source": [
    "**ВЫВОД**\n",
    "\n",
    "- В результате проверки гипотез по  критерию Манна-Уитни получено P-value 0.829 > 0.05 , потому **H0** не получилось отвергнуть \n",
    "\n",
    "- Анализ \"сырых данных\" показывает, что нет причин отвергать нулевую гипотезу и статистически значимых различий в среднем чеке между группами нет\n",
    "\n",
    "- Относительное различие в среднем чеке между группами по «сырым» данным: 28.66% в пользу группы `B`\n"
   ]
  },
  {
   "cell_type": "markdown",
   "metadata": {},
   "source": [
    "### Расчет статиской  значимости различий в среднем количестве заказов на посетителя между группами по «очищенным» данным."
   ]
  },
  {
   "cell_type": "markdown",
   "metadata": {},
   "source": [
    "**Как и предполагалось ранее примем за аномальных пользователей тех, кто совершил более  2 заказов(99 перцентиль)стоимостью\n",
    "заказа не более  26785 (95 перцентиль).Определим этих пользователей**"
   ]
  },
  {
   "cell_type": "markdown",
   "metadata": {},
   "source": [
    "**Сформулируем гипотезы зля очищенных данных:**\n",
    "\n",
    "**H0** - статистически значимых различий в среднем количестве заказов на посетителя  нет\n",
    "\n",
    "**H1** - статистически значимые различия в среднем количестве заказов на посетителя есть\n",
    "\n",
    "Критический уровень значимости - 0.05\n",
    "\n",
    "Метод проверки гипотез - критерий Манна-Уитни\n",
    "Проверять будем на данных, где не учитываются аномальные пользователи \n",
    "\n",
    "Подготовим данные"
   ]
  },
  {
   "cell_type": "code",
   "execution_count": 54,
   "metadata": {},
   "outputs": [
    {
     "name": "stdout",
     "output_type": "stream",
     "text": [
      "568     113298937\n",
      "1099    148427295\n",
      "928     204675465\n",
      "33      249864742\n",
      "684     358944393\n",
      "Name: visitor_id, dtype: int64\n",
      "Количество аномальных пользователей: 58\n"
     ]
    }
   ],
   "source": [
    "users_many = pd.concat([orders_by_users_a[orders_by_users_a['orders'] > np.percentile(orders_by_users_a['orders'], 99)]['visitor_id'],\n",
    "        orders_by_users_b[orders_by_users_b['orders'] > np.percentile(orders_by_users_b['orders'],99)]['visitor_id'],],axis=0,)\n",
    "\n",
    "users_exp = orders[orders['revenue'] >  np.percentile(orders['revenue'], 95)]['visitor_id']\n",
    "\n",
    "abnormal_users = (pd.concat([users_many,users_exp], axis=0).drop_duplicates().sort_values())\n",
    "print(abnormal_users.head())\n",
    "print('Количество аномальных пользователей:', abnormal_users.shape[0])"
   ]
  },
  {
   "cell_type": "code",
   "execution_count": 55,
   "metadata": {},
   "outputs": [
    {
     "name": "stdout",
     "output_type": "stream",
     "text": [
      "Относительные потери пользователей при фильтрации: 5.96%\n"
     ]
    }
   ],
   "source": [
    "print('Относительные потери пользователей при фильтрации:','{0:.2%}'.\n",
    "      format(len(abnormal_users)/len(orders['visitor_id'].unique())))"
   ]
  },
  {
   "cell_type": "markdown",
   "metadata": {},
   "source": [
    "Аномальных пользователей обнаружилось **58**, что составляет **5.96%** от общего числа пользователей"
   ]
  },
  {
   "cell_type": "code",
   "execution_count": 56,
   "metadata": {},
   "outputs": [],
   "source": [
    "# формирование переменных в которых пользователям с заказами будет соответствовать число заказов пользователя,\n",
    "# а пользователям без заказов — нули.Без учета аномальных пользователей  \n",
    "\n",
    "sample_a_filt = pd.concat([orders_by_users_a[np.logical_not(orders_by_users_a['visitor_id'].isin(abnormal_users))]['orders'], \n",
    "                          pd.Series(0, index=np.arange(df_visits['vis_date_a'].sum() - len(orders_by_users_a['orders'])), \n",
    "                                    name='orders')], axis=0)\n",
    "sample_b_filt = pd.concat([orders_by_users_b[np.logical_not(orders_by_users_b['visitor_id'].isin(abnormal_users))]['orders'], \n",
    "                          pd.Series(0, index=np.arange(df_visits['vis_date_b'].sum() - len(orders_by_users_b['orders'])), \n",
    "                                    name='orders')], axis=0)"
   ]
  },
  {
   "cell_type": "code",
   "execution_count": 57,
   "metadata": {},
   "outputs": [
    {
     "name": "stdout",
     "output_type": "stream",
     "text": [
      "P-value: 0.012\n",
      "Отвергаем нулевую гипотезу: между группами есть разница\n",
      "Относительный прирост среднего количестве заказов В к А по'очищенным' данным: 18.19%\n"
     ]
    }
   ],
   "source": [
    "alpha = 0.05\n",
    "p_value = st.mannwhitneyu(sample_a_filt,sample_b_filt)[1]\n",
    "print(\"P-value: {0:.3f}\".format(p_value))\n",
    "\n",
    "if p_value < alpha:\n",
    "    print(\"Отвергаем нулевую гипотезу: между группами есть разница\")\n",
    "else:\n",
    "    print(\"Не получилось отвергнуть нулевую гипотезу, нет оснований считать группы разными\")\n",
    "    \n",
    "print(\"Относительный прирост среднего количестве заказов В к А по'очищенным' данным: {0:.2%}\".format(sample_b_filt.mean() / sample_a_filt.mean()-1))"
   ]
  },
  {
   "cell_type": "markdown",
   "metadata": {},
   "source": [
    "**ВЫВОД**\n",
    "\n",
    "- В результате проверки гипотез на 'очищенных' данных по  критерию Манна-Уитни получено P-value 0.012 < 0.05 , потому **H0** отвергаем.\n",
    "\n",
    "- Анализ \"очищенных\" данных также  показывает, что в среднем количестве заказов на посетителя между группами есть статистически значимые различия\n",
    "\n",
    "- Относительный прирост среднего количестве заказов группы `В` к группе `А` увеличился и составил: 18.19%"
   ]
  },
  {
   "cell_type": "markdown",
   "metadata": {},
   "source": [
    "### Расчет статистической значимости различий в среднем чеке заказа между группами по «очищенным» данным."
   ]
  },
  {
   "cell_type": "markdown",
   "metadata": {},
   "source": [
    "**Сформулируем гипотезы для очищенных данных:**\n",
    "\n",
    "**H0** - статистически значимых различий в среднем чеке между группами нет\n",
    "\n",
    "**H1** - статистически значимые различия в среднем в среднем чеке между группами есть\n",
    "\n",
    "Критический уровень значимости - 0.05\n",
    "\n",
    "Метод проверки гипотез - критерий Манна-Уитни\n",
    "\n",
    "Аномальных пользователей также исключим из рассмотрения"
   ]
  },
  {
   "cell_type": "code",
   "execution_count": 58,
   "metadata": {},
   "outputs": [
    {
     "name": "stdout",
     "output_type": "stream",
     "text": [
      "P-value: 0.646\n",
      "Не получилось отвергнуть нулевую гипотезу, нет оснований считать группы разными\n",
      "Относительное различие в среднем чеке между группами по «очищенным» данным:  -4.85%\n"
     ]
    }
   ],
   "source": [
    "alpha = 0.05\n",
    "p_value = st.mannwhitneyu(orders[np.logical_and(orders['group'] == 'A',np.logical_not(orders['visitor_id']\n",
    "                       .isin(abnormal_users)))]['revenue'], \n",
    "    orders[np.logical_and(\n",
    "        orders['group'] == 'B',\n",
    "        np.logical_not(orders['visitor_id']\n",
    "                       .isin(abnormal_users)))]['revenue'])[1]\n",
    "print(\"P-value: {0:.3f}\".format(p_value))\n",
    "\n",
    "if p_value < alpha:\n",
    "    print(\"Отвергаем нулевую гипотезу: между группами есть разница\")\n",
    "else:\n",
    "    print(\"Не получилось отвергнуть нулевую гипотезу, нет оснований считать группы разными\")\n",
    "    \n",
    "print('Относительное различие в среднем чеке между группами по «очищенным» данным:',\n",
    "      ' {0:.2%}'.format(\n",
    "    orders[np.logical_and(\n",
    "        orders['group'] == 'B',\n",
    "        np.logical_not(orders['visitor_id']\n",
    "                       .isin(abnormal_users)))]['revenue'].mean() /\n",
    "    orders[np.logical_and(\n",
    "        orders['group'] == 'A',\n",
    "        np.logical_not(orders['visitor_id']\n",
    "                       .isin(abnormal_users)))]['revenue'].mean() - 1))"
   ]
  },
  {
   "cell_type": "markdown",
   "metadata": {},
   "source": [
    "**ВЫВОД**\n",
    "\n",
    "\n",
    "- В результате проверки гипотез на 'очищенных'данных по  критерию Манна-Уитни получено P-value 0.646 > 0.05 , потому **H0** не получилось отвергнуть \n",
    "\n",
    "- Анализ 'очищенных' данных показывает, что нет причин отвергать нулевую гипотезу и статистически значимых различий в среднем чеке между группами нет\n",
    "\n",
    "- Однако относительное различие в среднем чеке между группами по «очищенным» данным: 4.85% в пользу группы `А`.То есть на сумму среднего чека явно раньше влияли слишком дорогие заказы в группе `B`.\n",
    "    \n"
   ]
  },
  {
   "cell_type": "markdown",
   "metadata": {},
   "source": [
    "### Принятие  решения по результатам теста и объясните его. Варианты решений:\n",
    "    1. Остановить тест, зафиксировать победу одной из групп.\n",
    "    2. Остановить тест, зафиксировать отсутствие различий между группами.\n",
    "    3. Продолжить тест."
   ]
  },
  {
   "cell_type": "markdown",
   "metadata": {},
   "source": [
    "**В результате анализа результатов A/B-теста можно с делать такие краткие выводы:**\n",
    "\n",
    "- Куммулятивнвя выручка руппы `В` к концу мечяца выше, чем у группы `А`\n",
    "\n",
    "- К концу месяца наблюдается стабтлизация среднего чека по группам.У группы `В` он выше,хотя и есть небольшая тенденция к понижению.(9000 и 7000 соответственно)\n",
    "\n",
    "- Кумулятивная выручка группы `В`  выше, чем у группы `А`, но она нестабильна.У группы явно имеются аномальные заказы.\n",
    "    \n",
    "- Кумулятивное среднее количество заказов на посетителя у груаппы В выше;В итоге конверсия установились примерно для группы `B` на уровне 0,03, а для группы `A` чуть ниже- 0.02 \n",
    "\n",
    "- Изменение кумулятивного среднего количества заказов на посетителя группы `B` к группе `A` подожительно к концк месяца и не  падает ниже  10 %\n",
    "\n",
    "- Стоит отметить,что схожие тендеции для группы `В`  наблюдаются на всех  куммулятивных графиках.\n",
    "\n",
    "- Анализ и по \"сырым\" и по \"очищенным\" данным показывает, что в среднем количестве заказов на посетителя между группами есть статистически значимые различия\n",
    "\n",
    "- Относительный прирост среднего количестве заказов группы `В` к группе `А`  по 'очищенным' данным увеличился и составил: 18.19%\n",
    "    \n",
    "- Также  анализ среднего чека и по \"сырым\" и по \"очищенным\" выявил,что  статистически значимых различий в среднем чеке между группами нет.Хотя стоит отметить, что относительное различие в среднем чеке между группами по «очищенным» данным: 4.85% в пользу группы `А`.То есть на сумму среднего чека явно раньше влияли слишком дорогие заказы в группе `B`.Но относительное различие в среднем чеке между группами по «сырым» данным: 28.66% в пользу группы B.\n",
    "\n",
    "- Стоит отметить,что обнаружены пользователи, которые попали и в группу А и в группу B;\n",
    "  а также пользователи, которые совершили очень дорогие покупки, которые сильно сдвинули значения среднего чека.\n",
    "  \n",
    "**В ИТОГЕ: Примем решение остановить тест и зафиксировать победу группы `В`**\n"
   ]
  },
  {
   "cell_type": "markdown",
   "metadata": {},
   "source": [
    "## Итоговый вывод"
   ]
  },
  {
   "cell_type": "markdown",
   "metadata": {},
   "source": [
    "**1.Знакомство и предобработки данных:**\n",
    "\n",
    "- Выгружены данные и предоставленных трех файлов.Они представляют собой  данные для приоритизации гипотез и результаты проведения А/В теста за период с `01.08.2019 по 31.08.2019.\n",
    "\n",
    "- в данном случае в А/В тесте две группы- тест парный.Временные рамки теста- календарный месяц`\n",
    "\n",
    "- Пропусков и явных дубликатов в данных не обнаружено.\n",
    "\n",
    "- Приведены к нижнему регистру названия столбцов в таблице  **hypothesis** и  переименованы столбцы `transactionId` и `visitorId` в таблице **orders** в соответствии с общепринятыми нормаим.\n",
    "\n",
    "- Изменен  тип данных в столбцах `date`в таблицах **orders** и **visitors**\n",
    "\n",
    "- Выявлены неявные дубликаты: Обнаружены 58 пользователей относящихся одновременно к группам `A`\n",
    "  и `B`.Во избежание ошибок в анализе они удалены\n",
    "  \n",
    "**2.Часть 1. Приоритизация гипотез**\n",
    "\n",
    "- Изучен файл с 9 гипотезами по увеличению выручки интернет-магазина с указанными параметрами Reach, Impact, Confidence, Effort.\n",
    "\n",
    "- При применении фреймворка `ICE` определены топ-5 гипотез:\n",
    "\n",
    "     -  'Запустить акцию, дающую скидку на товар в день рождения'\n",
    "    \n",
    "     - 'Добавить два новых канала привлечения трафика, что позволит привлекать на 30% больше    пользователей'   \n",
    "     - 'Добавить форму подписки на все основные страницы, чтобы собрать базу клиентов для email-рассылок\n",
    "    \n",
    "     - 'Показать на главной странице баннеры с актуальными акциями и распродажами, чтобы увеличить конверсию'\n",
    "    \n",
    "     - 'Добавить блоки рекомендаций товаров на сайт интернет магазина, чтобы повысить конверсию и средний чек заказа'\n",
    "     \n",
    "- При применении фреймворка `RICE` определены топ-5 гипотез:\n",
    "\n",
    "     - 'Добавить форму подписки на все основные страницы, чтобы собрать базу клиентов для email-рассылок'\n",
    "     \n",
    "     - 'Добавить блоки рекомендаций товаров на сайт интернет магазина, чтобы повысить конверсию и средний чек заказа'\n",
    "     \n",
    "     - 'Добавить два новых канала увеличения трафика, что позволит привлекать на 30% больше пользователей'\n",
    "     \n",
    "     - 'Показать на главной странице баннеры с актуальными акциями и распродажами, чтобы увеличить конверсию'\n",
    "     \n",
    "     - 'Запустить акцию, дающую скидку на товар в день рождения'\n",
    "     \n",
    "- Определено, что  при применении `RICE` вместо `ICE` на изменение приоритизации существенное влияние оказывает параметр **Reach(Охват)**.Когда мы добавили этот параметр в расчеты,то мы изменили приоритеты: теперь значимость гипотезы зависит не только от  уверенности в гипотезе,влияния на пользователей,затрат ресурсов на проверку гипотезы , а еще и  от количества пользователей, которых затронет изменение.\n",
    "\n",
    "**3.Часть 2. Анализ A/B-теста**\n",
    "\n",
    "**1)Построены**\n",
    "   - график кумулятивной выручки по группам. Сделайте выводы и предположения.\n",
    "   - график кумулятивного среднего чека по группам.\n",
    "   - график относительного изменения кумулятивного среднего чека группы `B` к группе `A`. \n",
    "   - график кумулятивного среднего количества заказов на посетителя по группам. \n",
    "   - график относительного изменения кумулятивного среднего количества заказов на посетителя группы B к группе A.\n",
    "  **На основании анализа графиков были сделаны выводы:**\n",
    "- Куммулятивнвя выручка руппы `В` к концу мечяца выше, чем у группы `А`\n",
    "\n",
    "- К концу месяца наблюдается стабтлизация среднего чека по группам.У группы `В` он выше,хотя и есть небольшая тенденция к понижению.(**9000 и 7000 соответственно**)\n",
    "\n",
    "- Кумулятивная выручка группы `В`  выше, чем у группы `А`, но она нестабильна.У группы явно имеются аномальные заказы.\n",
    "    \n",
    "- Кумулятивное среднее количество заказов на посетителя у груаппы В выше;В итоге конверсия установились примерно для группы `B` на уровне **0,03**, а для группы `A` чуть ниже- **0.02** \n",
    "\n",
    "- Изменение кумулятивного среднего количества заказов на посетителя группы `B` к группе `A` подожительно к концк месяца и не  падает ниже  10 %\n",
    "- Стоит отметить,что схожие тендеции для группы `В`  наблюдаются на всех  куммулятивных графиках   \n",
    "\n",
    "**2)Построены:**\n",
    "   - точечный график количества заказов по пользователям\n",
    "   - точечный график стоимостей заказов. Сделайте выводы и предположения.\n",
    "   - Посчитаны  95-й и 99-й перцентили количества заказов на пользователя\n",
    "   - Посчитаны 95-й и 99-й перцентили стоимости заказов \n",
    "  **В результате на основании графиков и расчетов** \n",
    "   - выявлены  заказ с огромной суммой - **1 294500** и второй- **202740**\n",
    "   - **Определены границы аномальных пользователей: те, кто совершил более  2 заказов(99 перцентиль)стоимостью\n",
    "     заказа не более  26785 (95 перцентиль)**\n",
    "\n",
    "**3)Для расчета статистической значимости различий в среднем количестве заказов на посетителя между группами по «сырым» и  «очищенным» данным, а также статистической значимоси различий в среднем чеке заказа между группами по «сырым» и «очищенным» данным:**\n",
    "   - Для каждого случая выдвинуты **H0(нулевые) и H1(альтернативные) гипотезы**\n",
    "   - Установлен критический уровень значимости - 0.05\n",
    "   - Выбран метод проверки гипотез - критерий Манна-Уитни\n",
    "   - Подготовлены данные\n",
    "   - Определены аномальные пользователи - их **58**,что составляет **5.96%** от общего числа пользователей\n",
    "   - расчитано P-value и относительное различие по рассматриваемым показателям в %\n",
    "   \n",
    "**В результате расчетов сделаны выводы**\n",
    "   \n",
    "  - Анализ и по \"сырым\" и по \"очищенным\" данным показывает, что в среднем количестве заказов на посетителя между группами есть статистически значимые различия\n",
    "\n",
    "- Относительный прирост среднего количестве заказов группы `В` к группе `А`  по 'очищенным' данным увеличился и составил: 18.19%\n",
    "    \n",
    "- Также  анализ среднего чека и по \"сырым\" и по \"очищенным\" выявил,что  статистически значимых различий в среднем чеке между группами нет.Хотя стоит отметить, что относительное различие в среднем чеке между группами по «очищенным» данным: 4.85% в пользу группы `А`.То есть на сумму среднего чека явно раньше влияли слишком дорогие заказы в группе `B`.Но относительное различие в среднем чеке между группами по «сырым» данным: 28.66% в пользу группы `B`.\n",
    "\n",
    "- Стоит отметить,что обнаружены пользователи, которые попали и в группу `А` и в группу `B`;\n",
    "  а также пользователи, которые совершили очень дорогие покупки, которые сильно сдвинули значения среднего чека.\n",
    "  \n",
    "**В ИТОГЕ: Принято решение остановить тест и зафиксировать победу группы `В`**\n",
    "\n",
    "\n",
    "  \n",
    "\n"
   ]
  }
 ],
 "metadata": {
  "ExecuteTimeLog": [
   {
    "duration": 1439,
    "start_time": "2023-03-14T13:34:06.372Z"
   },
   {
    "duration": 4,
    "start_time": "2023-03-14T13:36:20.569Z"
   },
   {
    "duration": 258,
    "start_time": "2023-03-14T13:50:28.955Z"
   },
   {
    "duration": 77,
    "start_time": "2023-03-14T14:13:00.554Z"
   },
   {
    "duration": 4,
    "start_time": "2023-03-14T14:13:53.057Z"
   },
   {
    "duration": 3,
    "start_time": "2023-03-14T14:16:57.769Z"
   },
   {
    "duration": 3,
    "start_time": "2023-03-14T14:16:57.780Z"
   },
   {
    "duration": 84,
    "start_time": "2023-03-14T14:16:57.784Z"
   },
   {
    "duration": 1424,
    "start_time": "2023-03-15T12:20:59.237Z"
   },
   {
    "duration": 4,
    "start_time": "2023-03-15T12:21:00.663Z"
   },
   {
    "duration": 229,
    "start_time": "2023-03-15T12:21:00.668Z"
   },
   {
    "duration": 14,
    "start_time": "2023-03-15T12:22:31.971Z"
   },
   {
    "duration": 12,
    "start_time": "2023-03-15T12:22:35.127Z"
   },
   {
    "duration": 9,
    "start_time": "2023-03-15T12:23:29.082Z"
   },
   {
    "duration": 11,
    "start_time": "2023-03-15T12:23:40.915Z"
   },
   {
    "duration": 8,
    "start_time": "2023-03-15T12:24:38.636Z"
   },
   {
    "duration": 14,
    "start_time": "2023-03-15T12:24:52.648Z"
   },
   {
    "duration": 4,
    "start_time": "2023-03-15T14:07:45.892Z"
   },
   {
    "duration": 18,
    "start_time": "2023-03-15T14:07:45.898Z"
   },
   {
    "duration": 75,
    "start_time": "2023-03-15T14:07:45.918Z"
   },
   {
    "duration": 9,
    "start_time": "2023-03-15T14:07:45.995Z"
   },
   {
    "duration": 27,
    "start_time": "2023-03-15T14:07:46.007Z"
   },
   {
    "duration": 20,
    "start_time": "2023-03-15T14:07:46.036Z"
   },
   {
    "duration": 32,
    "start_time": "2023-03-15T14:07:46.058Z"
   },
   {
    "duration": 21,
    "start_time": "2023-03-15T14:07:46.092Z"
   },
   {
    "duration": 19,
    "start_time": "2023-03-15T14:07:46.116Z"
   },
   {
    "duration": 18,
    "start_time": "2023-03-15T14:07:46.137Z"
   },
   {
    "duration": 17,
    "start_time": "2023-03-15T14:07:46.156Z"
   },
   {
    "duration": 12,
    "start_time": "2023-03-15T14:07:46.175Z"
   },
   {
    "duration": 24,
    "start_time": "2023-03-15T14:07:46.190Z"
   },
   {
    "duration": 9,
    "start_time": "2023-03-15T14:07:46.218Z"
   },
   {
    "duration": 16,
    "start_time": "2023-03-15T14:07:46.229Z"
   },
   {
    "duration": 1323,
    "start_time": "2023-03-15T18:19:31.690Z"
   },
   {
    "duration": 3,
    "start_time": "2023-03-15T18:19:33.015Z"
   },
   {
    "duration": 260,
    "start_time": "2023-03-15T18:19:33.020Z"
   },
   {
    "duration": 12,
    "start_time": "2023-03-15T18:19:33.283Z"
   },
   {
    "duration": 19,
    "start_time": "2023-03-15T18:19:33.296Z"
   },
   {
    "duration": 8,
    "start_time": "2023-03-15T18:19:33.317Z"
   },
   {
    "duration": 13,
    "start_time": "2023-03-15T18:19:33.327Z"
   },
   {
    "duration": 27,
    "start_time": "2023-03-15T18:19:33.343Z"
   },
   {
    "duration": 11,
    "start_time": "2023-03-15T18:19:33.372Z"
   },
   {
    "duration": 8,
    "start_time": "2023-03-15T18:19:33.385Z"
   },
   {
    "duration": 8,
    "start_time": "2023-03-15T18:19:33.395Z"
   },
   {
    "duration": 6,
    "start_time": "2023-03-15T18:19:33.405Z"
   },
   {
    "duration": 9,
    "start_time": "2023-03-15T18:19:33.413Z"
   },
   {
    "duration": 21,
    "start_time": "2023-03-15T18:19:33.424Z"
   },
   {
    "duration": 10,
    "start_time": "2023-03-15T18:19:33.448Z"
   },
   {
    "duration": 11,
    "start_time": "2023-03-15T18:19:33.460Z"
   },
   {
    "duration": 18,
    "start_time": "2023-03-15T18:19:33.473Z"
   },
   {
    "duration": 17,
    "start_time": "2023-03-15T18:19:33.492Z"
   },
   {
    "duration": 37,
    "start_time": "2023-03-15T18:19:33.511Z"
   },
   {
    "duration": 1454,
    "start_time": "2023-03-16T11:47:51.487Z"
   },
   {
    "duration": 4,
    "start_time": "2023-03-16T11:47:52.943Z"
   },
   {
    "duration": 237,
    "start_time": "2023-03-16T11:47:52.949Z"
   },
   {
    "duration": 12,
    "start_time": "2023-03-16T11:47:53.188Z"
   },
   {
    "duration": 18,
    "start_time": "2023-03-16T11:47:53.203Z"
   },
   {
    "duration": 14,
    "start_time": "2023-03-16T11:47:53.223Z"
   },
   {
    "duration": 19,
    "start_time": "2023-03-16T11:47:53.239Z"
   },
   {
    "duration": 19,
    "start_time": "2023-03-16T11:47:53.260Z"
   },
   {
    "duration": 14,
    "start_time": "2023-03-16T11:47:53.281Z"
   },
   {
    "duration": 7,
    "start_time": "2023-03-16T11:47:53.297Z"
   },
   {
    "duration": 8,
    "start_time": "2023-03-16T11:47:53.306Z"
   },
   {
    "duration": 16,
    "start_time": "2023-03-16T11:47:53.315Z"
   },
   {
    "duration": 41,
    "start_time": "2023-03-16T11:47:53.333Z"
   },
   {
    "duration": 7,
    "start_time": "2023-03-16T11:47:53.377Z"
   },
   {
    "duration": 12,
    "start_time": "2023-03-16T11:47:53.386Z"
   },
   {
    "duration": 14,
    "start_time": "2023-03-16T11:47:53.400Z"
   },
   {
    "duration": 7,
    "start_time": "2023-03-16T11:47:53.416Z"
   },
   {
    "duration": 10,
    "start_time": "2023-03-16T11:47:53.425Z"
   },
   {
    "duration": 37,
    "start_time": "2023-03-16T11:47:53.437Z"
   },
   {
    "duration": 23,
    "start_time": "2023-03-16T11:47:53.476Z"
   },
   {
    "duration": 6,
    "start_time": "2023-03-16T11:47:53.501Z"
   },
   {
    "duration": 9,
    "start_time": "2023-03-16T11:47:53.509Z"
   },
   {
    "duration": 16,
    "start_time": "2023-03-16T11:47:53.520Z"
   },
   {
    "duration": 45,
    "start_time": "2023-03-16T11:47:53.538Z"
   },
   {
    "duration": 17,
    "start_time": "2023-03-16T11:47:53.584Z"
   },
   {
    "duration": 3,
    "start_time": "2023-03-16T11:49:27.916Z"
   },
   {
    "duration": 11,
    "start_time": "2023-03-16T11:49:27.922Z"
   },
   {
    "duration": 84,
    "start_time": "2023-03-16T11:49:27.935Z"
   },
   {
    "duration": 9,
    "start_time": "2023-03-16T11:49:28.021Z"
   },
   {
    "duration": 18,
    "start_time": "2023-03-16T11:49:28.031Z"
   },
   {
    "duration": 12,
    "start_time": "2023-03-16T11:49:28.051Z"
   },
   {
    "duration": 15,
    "start_time": "2023-03-16T11:49:28.065Z"
   },
   {
    "duration": 26,
    "start_time": "2023-03-16T11:49:28.083Z"
   },
   {
    "duration": 13,
    "start_time": "2023-03-16T11:49:28.111Z"
   },
   {
    "duration": 7,
    "start_time": "2023-03-16T11:49:28.125Z"
   },
   {
    "duration": 8,
    "start_time": "2023-03-16T11:49:28.133Z"
   },
   {
    "duration": 13,
    "start_time": "2023-03-16T11:49:28.143Z"
   },
   {
    "duration": 23,
    "start_time": "2023-03-16T11:49:28.158Z"
   },
   {
    "duration": 7,
    "start_time": "2023-03-16T11:49:28.182Z"
   },
   {
    "duration": 6,
    "start_time": "2023-03-16T11:49:28.191Z"
   },
   {
    "duration": 8,
    "start_time": "2023-03-16T11:49:28.199Z"
   },
   {
    "duration": 7,
    "start_time": "2023-03-16T11:49:28.208Z"
   },
   {
    "duration": 9,
    "start_time": "2023-03-16T11:49:28.217Z"
   },
   {
    "duration": 48,
    "start_time": "2023-03-16T11:49:28.228Z"
   },
   {
    "duration": 16,
    "start_time": "2023-03-16T11:49:28.278Z"
   },
   {
    "duration": 9,
    "start_time": "2023-03-16T11:49:28.296Z"
   },
   {
    "duration": 9,
    "start_time": "2023-03-16T11:49:28.306Z"
   },
   {
    "duration": 16,
    "start_time": "2023-03-16T11:49:28.317Z"
   },
   {
    "duration": 44,
    "start_time": "2023-03-16T11:49:28.335Z"
   },
   {
    "duration": 16,
    "start_time": "2023-03-16T11:49:28.381Z"
   },
   {
    "duration": 8,
    "start_time": "2023-03-16T11:49:28.400Z"
   },
   {
    "duration": 208,
    "start_time": "2023-03-16T11:49:28.409Z"
   },
   {
    "duration": 132,
    "start_time": "2023-03-16T11:49:28.619Z"
   },
   {
    "duration": 28,
    "start_time": "2023-03-16T11:49:28.753Z"
   },
   {
    "duration": 3,
    "start_time": "2023-03-16T14:15:23.502Z"
   },
   {
    "duration": 13,
    "start_time": "2023-03-16T14:15:23.507Z"
   },
   {
    "duration": 79,
    "start_time": "2023-03-16T14:15:23.522Z"
   },
   {
    "duration": 8,
    "start_time": "2023-03-16T14:15:23.603Z"
   },
   {
    "duration": 14,
    "start_time": "2023-03-16T14:15:23.613Z"
   },
   {
    "duration": 14,
    "start_time": "2023-03-16T14:15:23.628Z"
   },
   {
    "duration": 27,
    "start_time": "2023-03-16T14:15:23.643Z"
   },
   {
    "duration": 10,
    "start_time": "2023-03-16T14:15:23.672Z"
   },
   {
    "duration": 19,
    "start_time": "2023-03-16T14:15:23.684Z"
   },
   {
    "duration": 7,
    "start_time": "2023-03-16T14:15:23.704Z"
   },
   {
    "duration": 16,
    "start_time": "2023-03-16T14:15:23.713Z"
   },
   {
    "duration": 11,
    "start_time": "2023-03-16T14:15:23.731Z"
   },
   {
    "duration": 12,
    "start_time": "2023-03-16T14:15:23.744Z"
   },
   {
    "duration": 20,
    "start_time": "2023-03-16T14:15:23.757Z"
   },
   {
    "duration": 6,
    "start_time": "2023-03-16T14:15:23.778Z"
   },
   {
    "duration": 8,
    "start_time": "2023-03-16T14:15:23.786Z"
   },
   {
    "duration": 13,
    "start_time": "2023-03-16T14:15:23.795Z"
   },
   {
    "duration": 8,
    "start_time": "2023-03-16T14:15:23.810Z"
   },
   {
    "duration": 8,
    "start_time": "2023-03-16T14:15:23.819Z"
   },
   {
    "duration": 20,
    "start_time": "2023-03-16T14:15:23.828Z"
   },
   {
    "duration": 30,
    "start_time": "2023-03-16T14:15:23.850Z"
   },
   {
    "duration": 16,
    "start_time": "2023-03-16T14:15:23.881Z"
   },
   {
    "duration": 16,
    "start_time": "2023-03-16T14:15:23.898Z"
   },
   {
    "duration": 18,
    "start_time": "2023-03-16T14:15:23.917Z"
   },
   {
    "duration": 18,
    "start_time": "2023-03-16T14:15:23.936Z"
   },
   {
    "duration": 6,
    "start_time": "2023-03-16T14:15:23.972Z"
   },
   {
    "duration": 182,
    "start_time": "2023-03-16T14:15:23.980Z"
   },
   {
    "duration": 160,
    "start_time": "2023-03-16T14:15:24.164Z"
   },
   {
    "duration": 13,
    "start_time": "2023-03-16T14:15:24.326Z"
   },
   {
    "duration": 12,
    "start_time": "2023-03-16T14:15:24.341Z"
   },
   {
    "duration": 386,
    "start_time": "2023-03-16T14:15:24.355Z"
   },
   {
    "duration": 291,
    "start_time": "2023-03-16T14:15:24.742Z"
   },
   {
    "duration": 454,
    "start_time": "2023-03-16T14:15:25.035Z"
   },
   {
    "duration": 49,
    "start_time": "2023-03-17T12:20:10.793Z"
   },
   {
    "duration": 1325,
    "start_time": "2023-03-17T12:20:18.998Z"
   },
   {
    "duration": 3,
    "start_time": "2023-03-17T12:20:20.325Z"
   },
   {
    "duration": 239,
    "start_time": "2023-03-17T12:20:20.330Z"
   },
   {
    "duration": 11,
    "start_time": "2023-03-17T12:20:20.571Z"
   },
   {
    "duration": 17,
    "start_time": "2023-03-17T12:20:20.584Z"
   },
   {
    "duration": 23,
    "start_time": "2023-03-17T12:20:20.602Z"
   },
   {
    "duration": 13,
    "start_time": "2023-03-17T12:20:20.627Z"
   },
   {
    "duration": 22,
    "start_time": "2023-03-17T12:20:20.641Z"
   },
   {
    "duration": 12,
    "start_time": "2023-03-17T12:20:20.664Z"
   },
   {
    "duration": 22,
    "start_time": "2023-03-17T12:20:20.678Z"
   },
   {
    "duration": 23,
    "start_time": "2023-03-17T12:20:20.702Z"
   },
   {
    "duration": 19,
    "start_time": "2023-03-17T12:20:20.727Z"
   },
   {
    "duration": 10,
    "start_time": "2023-03-17T12:20:20.748Z"
   },
   {
    "duration": 6,
    "start_time": "2023-03-17T12:20:20.759Z"
   },
   {
    "duration": 6,
    "start_time": "2023-03-17T12:20:20.766Z"
   },
   {
    "duration": 23,
    "start_time": "2023-03-17T12:20:20.774Z"
   },
   {
    "duration": 4,
    "start_time": "2023-03-17T12:20:20.799Z"
   },
   {
    "duration": 11,
    "start_time": "2023-03-17T12:20:20.805Z"
   },
   {
    "duration": 10,
    "start_time": "2023-03-17T12:20:20.817Z"
   },
   {
    "duration": 17,
    "start_time": "2023-03-17T12:20:20.829Z"
   },
   {
    "duration": 11,
    "start_time": "2023-03-17T12:20:20.848Z"
   },
   {
    "duration": 38,
    "start_time": "2023-03-17T12:20:20.860Z"
   },
   {
    "duration": 21,
    "start_time": "2023-03-17T12:20:20.901Z"
   },
   {
    "duration": 20,
    "start_time": "2023-03-17T12:20:20.923Z"
   },
   {
    "duration": 37,
    "start_time": "2023-03-17T12:20:20.945Z"
   },
   {
    "duration": 35,
    "start_time": "2023-03-17T12:20:20.984Z"
   },
   {
    "duration": 165,
    "start_time": "2023-03-17T12:20:21.020Z"
   },
   {
    "duration": 130,
    "start_time": "2023-03-17T12:20:21.188Z"
   },
   {
    "duration": 14,
    "start_time": "2023-03-17T12:20:21.320Z"
   },
   {
    "duration": 23,
    "start_time": "2023-03-17T12:20:21.336Z"
   },
   {
    "duration": 348,
    "start_time": "2023-03-17T12:20:21.361Z"
   },
   {
    "duration": 243,
    "start_time": "2023-03-17T12:20:21.710Z"
   },
   {
    "duration": 413,
    "start_time": "2023-03-17T12:20:21.954Z"
   },
   {
    "duration": 246,
    "start_time": "2023-03-17T12:20:22.368Z"
   },
   {
    "duration": 374,
    "start_time": "2023-03-17T13:39:03.005Z"
   },
   {
    "duration": 4,
    "start_time": "2023-03-17T17:27:34.907Z"
   },
   {
    "duration": 13,
    "start_time": "2023-03-17T17:27:34.914Z"
   },
   {
    "duration": 85,
    "start_time": "2023-03-17T17:27:34.929Z"
   },
   {
    "duration": 13,
    "start_time": "2023-03-17T17:27:35.017Z"
   },
   {
    "duration": 17,
    "start_time": "2023-03-17T17:27:35.033Z"
   },
   {
    "duration": 21,
    "start_time": "2023-03-17T17:27:35.051Z"
   },
   {
    "duration": 14,
    "start_time": "2023-03-17T17:27:35.074Z"
   },
   {
    "duration": 27,
    "start_time": "2023-03-17T17:27:35.095Z"
   },
   {
    "duration": 19,
    "start_time": "2023-03-17T17:27:35.124Z"
   },
   {
    "duration": 15,
    "start_time": "2023-03-17T17:27:35.144Z"
   },
   {
    "duration": 18,
    "start_time": "2023-03-17T17:27:35.163Z"
   },
   {
    "duration": 35,
    "start_time": "2023-03-17T17:27:35.184Z"
   },
   {
    "duration": 29,
    "start_time": "2023-03-17T17:27:35.221Z"
   },
   {
    "duration": 11,
    "start_time": "2023-03-17T17:27:35.252Z"
   },
   {
    "duration": 32,
    "start_time": "2023-03-17T17:27:35.266Z"
   },
   {
    "duration": 35,
    "start_time": "2023-03-17T17:27:35.302Z"
   },
   {
    "duration": 8,
    "start_time": "2023-03-17T17:27:35.339Z"
   },
   {
    "duration": 11,
    "start_time": "2023-03-17T17:27:35.349Z"
   },
   {
    "duration": 15,
    "start_time": "2023-03-17T17:27:35.361Z"
   },
   {
    "duration": 16,
    "start_time": "2023-03-17T17:27:35.378Z"
   },
   {
    "duration": 22,
    "start_time": "2023-03-17T17:27:35.399Z"
   },
   {
    "duration": 15,
    "start_time": "2023-03-17T17:27:35.423Z"
   },
   {
    "duration": 20,
    "start_time": "2023-03-17T17:27:35.439Z"
   },
   {
    "duration": 19,
    "start_time": "2023-03-17T17:27:35.460Z"
   },
   {
    "duration": 30,
    "start_time": "2023-03-17T17:27:35.481Z"
   },
   {
    "duration": 13,
    "start_time": "2023-03-17T17:27:35.513Z"
   },
   {
    "duration": 173,
    "start_time": "2023-03-17T17:27:35.528Z"
   },
   {
    "duration": 130,
    "start_time": "2023-03-17T17:27:35.706Z"
   },
   {
    "duration": 13,
    "start_time": "2023-03-17T17:27:35.839Z"
   },
   {
    "duration": 30,
    "start_time": "2023-03-17T17:27:35.854Z"
   },
   {
    "duration": 287,
    "start_time": "2023-03-17T17:27:35.886Z"
   },
   {
    "duration": 341,
    "start_time": "2023-03-17T17:27:36.175Z"
   },
   {
    "duration": 343,
    "start_time": "2023-03-17T17:27:36.518Z"
   },
   {
    "duration": 302,
    "start_time": "2023-03-17T17:27:36.863Z"
   },
   {
    "duration": 402,
    "start_time": "2023-03-17T17:27:37.167Z"
   },
   {
    "duration": 159,
    "start_time": "2023-03-17T17:27:37.571Z"
   },
   {
    "duration": 8,
    "start_time": "2023-03-17T17:27:37.731Z"
   },
   {
    "duration": 164,
    "start_time": "2023-03-17T17:27:37.741Z"
   },
   {
    "duration": 189,
    "start_time": "2023-03-17T17:27:37.911Z"
   },
   {
    "duration": 9,
    "start_time": "2023-03-17T17:27:38.104Z"
   },
   {
    "duration": 10,
    "start_time": "2023-03-17T17:27:38.115Z"
   },
   {
    "duration": 25,
    "start_time": "2023-03-17T17:27:38.127Z"
   },
   {
    "duration": 173,
    "start_time": "2023-03-17T17:27:38.154Z"
   },
   {
    "duration": 5,
    "start_time": "2023-03-17T17:27:38.329Z"
   },
   {
    "duration": 190,
    "start_time": "2023-03-17T17:27:38.336Z"
   },
   {
    "duration": 5,
    "start_time": "2023-03-17T17:27:38.529Z"
   },
   {
    "duration": 127,
    "start_time": "2023-03-17T17:33:23.439Z"
   },
   {
    "duration": 43,
    "start_time": "2023-03-17T17:34:25.348Z"
   },
   {
    "duration": 8,
    "start_time": "2023-03-17T17:34:53.241Z"
   },
   {
    "duration": 220,
    "start_time": "2023-03-17T17:35:05.647Z"
   },
   {
    "duration": 142,
    "start_time": "2023-03-17T17:35:25.438Z"
   },
   {
    "duration": 174,
    "start_time": "2023-03-17T17:35:57.129Z"
   },
   {
    "duration": 6,
    "start_time": "2023-03-17T17:37:34.052Z"
   },
   {
    "duration": 9,
    "start_time": "2023-03-17T17:38:43.285Z"
   },
   {
    "duration": 188,
    "start_time": "2023-03-17T17:38:56.104Z"
   },
   {
    "duration": 4,
    "start_time": "2023-03-17T17:40:06.249Z"
   },
   {
    "duration": 70,
    "start_time": "2023-03-17T17:40:06.256Z"
   },
   {
    "duration": 80,
    "start_time": "2023-03-17T17:40:06.328Z"
   },
   {
    "duration": 8,
    "start_time": "2023-03-17T17:40:06.411Z"
   },
   {
    "duration": 20,
    "start_time": "2023-03-17T17:40:06.421Z"
   },
   {
    "duration": 31,
    "start_time": "2023-03-17T17:40:06.444Z"
   },
   {
    "duration": 29,
    "start_time": "2023-03-17T17:40:06.478Z"
   },
   {
    "duration": 13,
    "start_time": "2023-03-17T17:40:06.510Z"
   },
   {
    "duration": 13,
    "start_time": "2023-03-17T17:40:06.526Z"
   },
   {
    "duration": 8,
    "start_time": "2023-03-17T17:40:06.541Z"
   },
   {
    "duration": 13,
    "start_time": "2023-03-17T17:40:06.551Z"
   },
   {
    "duration": 29,
    "start_time": "2023-03-17T17:40:06.566Z"
   },
   {
    "duration": 120,
    "start_time": "2023-03-17T17:40:06.598Z"
   },
   {
    "duration": 8,
    "start_time": "2023-03-17T17:40:06.721Z"
   },
   {
    "duration": 8,
    "start_time": "2023-03-17T17:40:06.731Z"
   },
   {
    "duration": 20,
    "start_time": "2023-03-17T17:40:06.741Z"
   },
   {
    "duration": 8,
    "start_time": "2023-03-17T17:40:06.762Z"
   },
   {
    "duration": 25,
    "start_time": "2023-03-17T17:40:06.772Z"
   },
   {
    "duration": 30,
    "start_time": "2023-03-17T17:40:06.799Z"
   },
   {
    "duration": 13,
    "start_time": "2023-03-17T17:40:06.831Z"
   },
   {
    "duration": 9,
    "start_time": "2023-03-17T17:40:06.846Z"
   },
   {
    "duration": 18,
    "start_time": "2023-03-17T17:40:06.856Z"
   },
   {
    "duration": 31,
    "start_time": "2023-03-17T17:40:06.876Z"
   },
   {
    "duration": 25,
    "start_time": "2023-03-17T17:40:06.911Z"
   },
   {
    "duration": 24,
    "start_time": "2023-03-17T17:40:06.937Z"
   },
   {
    "duration": 21,
    "start_time": "2023-03-17T17:40:06.964Z"
   },
   {
    "duration": 249,
    "start_time": "2023-03-17T17:40:06.988Z"
   },
   {
    "duration": 126,
    "start_time": "2023-03-17T17:40:07.238Z"
   },
   {
    "duration": 14,
    "start_time": "2023-03-17T17:40:07.366Z"
   },
   {
    "duration": 26,
    "start_time": "2023-03-17T17:40:07.381Z"
   },
   {
    "duration": 253,
    "start_time": "2023-03-17T17:40:07.409Z"
   },
   {
    "duration": 293,
    "start_time": "2023-03-17T17:40:07.664Z"
   },
   {
    "duration": 470,
    "start_time": "2023-03-17T17:40:07.959Z"
   },
   {
    "duration": 247,
    "start_time": "2023-03-17T17:40:08.431Z"
   },
   {
    "duration": 379,
    "start_time": "2023-03-17T17:40:08.680Z"
   },
   {
    "duration": 145,
    "start_time": "2023-03-17T17:40:09.061Z"
   },
   {
    "duration": 8,
    "start_time": "2023-03-17T17:40:09.209Z"
   },
   {
    "duration": 176,
    "start_time": "2023-03-17T17:40:09.218Z"
   },
   {
    "duration": 187,
    "start_time": "2023-03-17T17:40:09.396Z"
   },
   {
    "duration": 10,
    "start_time": "2023-03-17T17:40:09.585Z"
   },
   {
    "duration": 12,
    "start_time": "2023-03-17T17:40:09.597Z"
   },
   {
    "duration": 177,
    "start_time": "2023-03-17T17:40:09.611Z"
   },
   {
    "duration": 5,
    "start_time": "2023-03-17T17:40:09.795Z"
   },
   {
    "duration": 177,
    "start_time": "2023-03-17T17:40:09.802Z"
   },
   {
    "duration": 4,
    "start_time": "2023-03-17T17:41:12.582Z"
   },
   {
    "duration": 9,
    "start_time": "2023-03-17T17:41:12.588Z"
   },
   {
    "duration": 83,
    "start_time": "2023-03-17T17:41:12.600Z"
   },
   {
    "duration": 12,
    "start_time": "2023-03-17T17:41:12.687Z"
   },
   {
    "duration": 26,
    "start_time": "2023-03-17T17:41:12.701Z"
   },
   {
    "duration": 16,
    "start_time": "2023-03-17T17:41:12.729Z"
   },
   {
    "duration": 13,
    "start_time": "2023-03-17T17:41:12.747Z"
   },
   {
    "duration": 11,
    "start_time": "2023-03-17T17:41:12.762Z"
   },
   {
    "duration": 25,
    "start_time": "2023-03-17T17:41:12.776Z"
   },
   {
    "duration": 12,
    "start_time": "2023-03-17T17:41:12.802Z"
   },
   {
    "duration": 11,
    "start_time": "2023-03-17T17:41:12.816Z"
   },
   {
    "duration": 11,
    "start_time": "2023-03-17T17:41:12.829Z"
   },
   {
    "duration": 14,
    "start_time": "2023-03-17T17:41:12.842Z"
   },
   {
    "duration": 11,
    "start_time": "2023-03-17T17:41:12.858Z"
   },
   {
    "duration": 13,
    "start_time": "2023-03-17T17:41:12.870Z"
   },
   {
    "duration": 6,
    "start_time": "2023-03-17T17:41:12.895Z"
   },
   {
    "duration": 7,
    "start_time": "2023-03-17T17:41:12.903Z"
   },
   {
    "duration": 21,
    "start_time": "2023-03-17T17:41:12.912Z"
   },
   {
    "duration": 31,
    "start_time": "2023-03-17T17:41:12.934Z"
   },
   {
    "duration": 12,
    "start_time": "2023-03-17T17:41:12.967Z"
   },
   {
    "duration": 7,
    "start_time": "2023-03-17T17:41:12.981Z"
   },
   {
    "duration": 8,
    "start_time": "2023-03-17T17:41:12.995Z"
   },
   {
    "duration": 16,
    "start_time": "2023-03-17T17:41:13.004Z"
   },
   {
    "duration": 15,
    "start_time": "2023-03-17T17:41:13.023Z"
   },
   {
    "duration": 17,
    "start_time": "2023-03-17T17:41:13.040Z"
   },
   {
    "duration": 19,
    "start_time": "2023-03-17T17:41:13.059Z"
   },
   {
    "duration": 176,
    "start_time": "2023-03-17T17:41:13.080Z"
   },
   {
    "duration": 139,
    "start_time": "2023-03-17T17:41:13.258Z"
   },
   {
    "duration": 14,
    "start_time": "2023-03-17T17:41:13.399Z"
   },
   {
    "duration": 31,
    "start_time": "2023-03-17T17:41:13.415Z"
   },
   {
    "duration": 258,
    "start_time": "2023-03-17T17:41:13.448Z"
   },
   {
    "duration": 408,
    "start_time": "2023-03-17T17:41:13.709Z"
   },
   {
    "duration": 449,
    "start_time": "2023-03-17T17:41:14.119Z"
   },
   {
    "duration": 288,
    "start_time": "2023-03-17T17:41:14.570Z"
   },
   {
    "duration": 472,
    "start_time": "2023-03-17T17:41:14.861Z"
   },
   {
    "duration": 247,
    "start_time": "2023-03-17T17:41:15.336Z"
   },
   {
    "duration": 18,
    "start_time": "2023-03-17T17:41:15.585Z"
   },
   {
    "duration": 165,
    "start_time": "2023-03-17T17:41:15.606Z"
   },
   {
    "duration": 191,
    "start_time": "2023-03-17T17:41:15.773Z"
   },
   {
    "duration": 5,
    "start_time": "2023-03-17T17:41:15.966Z"
   },
   {
    "duration": 24,
    "start_time": "2023-03-17T17:41:15.973Z"
   },
   {
    "duration": 199,
    "start_time": "2023-03-17T17:41:15.999Z"
   },
   {
    "duration": 7,
    "start_time": "2023-03-17T17:41:16.200Z"
   },
   {
    "duration": 233,
    "start_time": "2023-03-17T17:41:16.209Z"
   },
   {
    "duration": 6,
    "start_time": "2023-03-17T17:41:16.444Z"
   },
   {
    "duration": 82,
    "start_time": "2023-03-18T17:38:39.185Z"
   },
   {
    "duration": 2043,
    "start_time": "2023-03-18T17:38:43.129Z"
   },
   {
    "duration": 5,
    "start_time": "2023-03-18T17:38:45.178Z"
   },
   {
    "duration": 439,
    "start_time": "2023-03-18T17:38:45.188Z"
   },
   {
    "duration": 24,
    "start_time": "2023-03-18T17:38:45.630Z"
   },
   {
    "duration": 48,
    "start_time": "2023-03-18T17:38:45.669Z"
   },
   {
    "duration": 11,
    "start_time": "2023-03-18T17:38:45.725Z"
   },
   {
    "duration": 54,
    "start_time": "2023-03-18T17:38:45.739Z"
   },
   {
    "duration": 23,
    "start_time": "2023-03-18T17:38:45.799Z"
   },
   {
    "duration": 11,
    "start_time": "2023-03-18T17:38:45.827Z"
   },
   {
    "duration": 30,
    "start_time": "2023-03-18T17:38:45.841Z"
   },
   {
    "duration": 10,
    "start_time": "2023-03-18T17:38:45.873Z"
   },
   {
    "duration": 22,
    "start_time": "2023-03-18T17:38:45.885Z"
   },
   {
    "duration": 10,
    "start_time": "2023-03-18T17:38:45.909Z"
   },
   {
    "duration": 8,
    "start_time": "2023-03-18T17:38:45.921Z"
   },
   {
    "duration": 6,
    "start_time": "2023-03-18T17:38:45.930Z"
   },
   {
    "duration": 45,
    "start_time": "2023-03-18T17:38:45.937Z"
   },
   {
    "duration": 13,
    "start_time": "2023-03-18T17:38:45.984Z"
   },
   {
    "duration": 22,
    "start_time": "2023-03-18T17:38:45.999Z"
   },
   {
    "duration": 9,
    "start_time": "2023-03-18T17:38:46.023Z"
   },
   {
    "duration": 31,
    "start_time": "2023-03-18T17:38:46.034Z"
   },
   {
    "duration": 11,
    "start_time": "2023-03-18T17:38:46.067Z"
   },
   {
    "duration": 26,
    "start_time": "2023-03-18T17:38:46.081Z"
   },
   {
    "duration": 26,
    "start_time": "2023-03-18T17:38:46.113Z"
   },
   {
    "duration": 20,
    "start_time": "2023-03-18T17:38:46.141Z"
   },
   {
    "duration": 28,
    "start_time": "2023-03-18T17:38:46.165Z"
   },
   {
    "duration": 16,
    "start_time": "2023-03-18T17:38:46.195Z"
   },
   {
    "duration": 322,
    "start_time": "2023-03-18T17:38:46.214Z"
   },
   {
    "duration": 181,
    "start_time": "2023-03-18T17:38:46.550Z"
   },
   {
    "duration": 42,
    "start_time": "2023-03-18T17:38:46.750Z"
   },
   {
    "duration": 12,
    "start_time": "2023-03-18T17:38:46.801Z"
   },
   {
    "duration": 522,
    "start_time": "2023-03-18T17:38:46.814Z"
   },
   {
    "duration": 344,
    "start_time": "2023-03-18T17:38:47.341Z"
   },
   {
    "duration": 591,
    "start_time": "2023-03-18T17:38:47.690Z"
   },
   {
    "duration": 354,
    "start_time": "2023-03-18T17:38:48.294Z"
   },
   {
    "duration": 471,
    "start_time": "2023-03-18T17:38:48.654Z"
   },
   {
    "duration": 230,
    "start_time": "2023-03-18T17:38:49.130Z"
   },
   {
    "duration": 20,
    "start_time": "2023-03-18T17:38:49.365Z"
   },
   {
    "duration": 215,
    "start_time": "2023-03-18T17:38:49.394Z"
   },
   {
    "duration": 251,
    "start_time": "2023-03-18T17:38:49.614Z"
   },
   {
    "duration": 17,
    "start_time": "2023-03-18T17:38:49.876Z"
   },
   {
    "duration": 17,
    "start_time": "2023-03-18T17:38:49.909Z"
   },
   {
    "duration": 355,
    "start_time": "2023-03-18T17:38:49.928Z"
   },
   {
    "duration": 13,
    "start_time": "2023-03-18T17:38:50.289Z"
   },
   {
    "duration": 240,
    "start_time": "2023-03-18T17:38:50.306Z"
   },
   {
    "duration": 12,
    "start_time": "2023-03-18T17:38:50.549Z"
   },
   {
    "duration": 29,
    "start_time": "2023-03-18T17:38:50.563Z"
   },
   {
    "duration": 241,
    "start_time": "2023-03-18T17:38:50.595Z"
   },
   {
    "duration": 14,
    "start_time": "2023-03-18T17:38:50.846Z"
   },
   {
    "duration": 49,
    "start_time": "2023-03-18T17:39:35.584Z"
   },
   {
    "duration": 184,
    "start_time": "2023-03-18T17:40:07.815Z"
   },
   {
    "duration": 25,
    "start_time": "2023-03-18T17:42:28.286Z"
   },
   {
    "duration": 11,
    "start_time": "2023-03-18T21:13:37.831Z"
   },
   {
    "duration": 8,
    "start_time": "2023-03-18T21:15:07.490Z"
   },
   {
    "duration": 41,
    "start_time": "2023-03-18T21:15:29.970Z"
   },
   {
    "duration": 63,
    "start_time": "2023-03-18T21:17:26.573Z"
   },
   {
    "duration": 30,
    "start_time": "2023-03-18T21:18:16.071Z"
   },
   {
    "duration": 5,
    "start_time": "2023-03-19T00:38:09.009Z"
   },
   {
    "duration": 6,
    "start_time": "2023-03-19T00:38:09.016Z"
   },
   {
    "duration": 391,
    "start_time": "2023-03-19T00:38:09.023Z"
   },
   {
    "duration": 8,
    "start_time": "2023-03-19T00:38:09.416Z"
   },
   {
    "duration": 10,
    "start_time": "2023-03-19T00:38:09.427Z"
   },
   {
    "duration": 22,
    "start_time": "2023-03-19T00:38:09.439Z"
   },
   {
    "duration": 24,
    "start_time": "2023-03-19T00:38:09.462Z"
   },
   {
    "duration": 11,
    "start_time": "2023-03-19T00:38:09.487Z"
   },
   {
    "duration": 14,
    "start_time": "2023-03-19T00:38:09.500Z"
   },
   {
    "duration": 6,
    "start_time": "2023-03-19T00:38:09.516Z"
   },
   {
    "duration": 8,
    "start_time": "2023-03-19T00:38:09.524Z"
   },
   {
    "duration": 7,
    "start_time": "2023-03-19T00:38:09.535Z"
   },
   {
    "duration": 14,
    "start_time": "2023-03-19T00:38:09.543Z"
   },
   {
    "duration": 10,
    "start_time": "2023-03-19T00:38:09.560Z"
   },
   {
    "duration": 6,
    "start_time": "2023-03-19T00:38:09.571Z"
   },
   {
    "duration": 7,
    "start_time": "2023-03-19T00:38:09.578Z"
   },
   {
    "duration": 6,
    "start_time": "2023-03-19T00:38:09.587Z"
   },
   {
    "duration": 15,
    "start_time": "2023-03-19T00:38:09.595Z"
   },
   {
    "duration": 58,
    "start_time": "2023-03-19T00:38:09.611Z"
   },
   {
    "duration": 18,
    "start_time": "2023-03-19T00:38:09.671Z"
   },
   {
    "duration": 11,
    "start_time": "2023-03-19T00:38:09.690Z"
   },
   {
    "duration": 10,
    "start_time": "2023-03-19T00:38:09.702Z"
   },
   {
    "duration": 14,
    "start_time": "2023-03-19T00:38:09.715Z"
   },
   {
    "duration": 38,
    "start_time": "2023-03-19T00:38:09.731Z"
   },
   {
    "duration": 26,
    "start_time": "2023-03-19T00:38:09.771Z"
   },
   {
    "duration": 10,
    "start_time": "2023-03-19T00:38:09.799Z"
   },
   {
    "duration": 211,
    "start_time": "2023-03-19T00:38:09.811Z"
   },
   {
    "duration": 169,
    "start_time": "2023-03-19T00:38:10.023Z"
   },
   {
    "duration": 18,
    "start_time": "2023-03-19T00:38:10.193Z"
   },
   {
    "duration": 7,
    "start_time": "2023-03-19T00:38:10.213Z"
   },
   {
    "duration": 316,
    "start_time": "2023-03-19T00:38:10.221Z"
   },
   {
    "duration": 354,
    "start_time": "2023-03-19T00:38:10.539Z"
   },
   {
    "duration": 431,
    "start_time": "2023-03-19T00:38:10.902Z"
   },
   {
    "duration": 327,
    "start_time": "2023-03-19T00:38:11.334Z"
   },
   {
    "duration": 428,
    "start_time": "2023-03-19T00:38:11.665Z"
   },
   {
    "duration": 179,
    "start_time": "2023-03-19T00:38:12.102Z"
   },
   {
    "duration": 12,
    "start_time": "2023-03-19T00:38:12.290Z"
   },
   {
    "duration": 188,
    "start_time": "2023-03-19T00:38:12.304Z"
   },
   {
    "duration": 218,
    "start_time": "2023-03-19T00:38:12.496Z"
   },
   {
    "duration": 7,
    "start_time": "2023-03-19T00:38:12.716Z"
   },
   {
    "duration": 36,
    "start_time": "2023-03-19T00:38:12.729Z"
   },
   {
    "duration": 250,
    "start_time": "2023-03-19T00:38:12.767Z"
   },
   {
    "duration": 6,
    "start_time": "2023-03-19T00:38:13.020Z"
   },
   {
    "duration": 273,
    "start_time": "2023-03-19T00:38:13.029Z"
   },
   {
    "duration": 6,
    "start_time": "2023-03-19T00:38:13.310Z"
   },
   {
    "duration": 19,
    "start_time": "2023-03-19T00:38:13.318Z"
   },
   {
    "duration": 176,
    "start_time": "2023-03-19T00:38:13.338Z"
   },
   {
    "duration": 7,
    "start_time": "2023-03-19T00:38:13.516Z"
   },
   {
    "duration": 44,
    "start_time": "2023-03-19T00:38:13.525Z"
   },
   {
    "duration": 28,
    "start_time": "2023-03-19T00:38:13.578Z"
   },
   {
    "duration": 12,
    "start_time": "2023-03-19T00:38:13.607Z"
   },
   {
    "duration": 9,
    "start_time": "2023-03-19T00:38:13.621Z"
   },
   {
    "duration": 75,
    "start_time": "2023-03-19T00:38:13.632Z"
   },
   {
    "duration": 188,
    "start_time": "2023-03-19T00:38:13.709Z"
   },
   {
    "duration": 1332,
    "start_time": "2023-03-19T00:38:37.589Z"
   },
   {
    "duration": 3,
    "start_time": "2023-03-19T00:38:38.923Z"
   },
   {
    "duration": 156,
    "start_time": "2023-03-19T00:38:38.927Z"
   },
   {
    "duration": 14,
    "start_time": "2023-03-19T00:38:39.088Z"
   },
   {
    "duration": 13,
    "start_time": "2023-03-19T00:38:39.104Z"
   },
   {
    "duration": 10,
    "start_time": "2023-03-19T00:38:39.119Z"
   },
   {
    "duration": 22,
    "start_time": "2023-03-19T00:38:39.131Z"
   },
   {
    "duration": 29,
    "start_time": "2023-03-19T00:38:39.154Z"
   },
   {
    "duration": 17,
    "start_time": "2023-03-19T00:38:39.185Z"
   },
   {
    "duration": 5,
    "start_time": "2023-03-19T00:38:39.203Z"
   },
   {
    "duration": 5,
    "start_time": "2023-03-19T00:38:39.211Z"
   },
   {
    "duration": 8,
    "start_time": "2023-03-19T00:38:39.218Z"
   },
   {
    "duration": 11,
    "start_time": "2023-03-19T00:38:39.227Z"
   },
   {
    "duration": 13,
    "start_time": "2023-03-19T00:38:39.247Z"
   },
   {
    "duration": 23,
    "start_time": "2023-03-19T00:38:39.262Z"
   },
   {
    "duration": 6,
    "start_time": "2023-03-19T00:38:39.286Z"
   },
   {
    "duration": 4,
    "start_time": "2023-03-19T00:38:39.293Z"
   },
   {
    "duration": 11,
    "start_time": "2023-03-19T00:38:39.298Z"
   },
   {
    "duration": 10,
    "start_time": "2023-03-19T00:38:39.310Z"
   },
   {
    "duration": 43,
    "start_time": "2023-03-19T00:38:39.322Z"
   },
   {
    "duration": 7,
    "start_time": "2023-03-19T00:38:39.366Z"
   },
   {
    "duration": 13,
    "start_time": "2023-03-19T00:38:39.374Z"
   },
   {
    "duration": 14,
    "start_time": "2023-03-19T00:38:39.388Z"
   },
   {
    "duration": 13,
    "start_time": "2023-03-19T00:38:39.403Z"
   },
   {
    "duration": 23,
    "start_time": "2023-03-19T00:38:39.417Z"
   },
   {
    "duration": 6,
    "start_time": "2023-03-19T00:38:39.441Z"
   },
   {
    "duration": 187,
    "start_time": "2023-03-19T00:38:39.448Z"
   },
   {
    "duration": 128,
    "start_time": "2023-03-19T00:38:39.637Z"
   },
   {
    "duration": 27,
    "start_time": "2023-03-19T00:38:39.766Z"
   },
   {
    "duration": 7,
    "start_time": "2023-03-19T00:38:39.796Z"
   },
   {
    "duration": 507,
    "start_time": "2023-03-19T00:38:39.804Z"
   },
   {
    "duration": 296,
    "start_time": "2023-03-19T00:38:40.313Z"
   },
   {
    "duration": 409,
    "start_time": "2023-03-19T00:38:40.611Z"
   },
   {
    "duration": 329,
    "start_time": "2023-03-19T00:38:41.022Z"
   },
   {
    "duration": 382,
    "start_time": "2023-03-19T00:38:41.355Z"
   },
   {
    "duration": 146,
    "start_time": "2023-03-19T00:38:41.739Z"
   },
   {
    "duration": 10,
    "start_time": "2023-03-19T00:38:41.887Z"
   },
   {
    "duration": 212,
    "start_time": "2023-03-19T00:38:41.900Z"
   },
   {
    "duration": 209,
    "start_time": "2023-03-19T00:38:42.114Z"
   },
   {
    "duration": 5,
    "start_time": "2023-03-19T00:38:42.325Z"
   },
   {
    "duration": 20,
    "start_time": "2023-03-19T00:38:42.353Z"
   },
   {
    "duration": 299,
    "start_time": "2023-03-19T00:38:42.375Z"
   },
   {
    "duration": 17,
    "start_time": "2023-03-19T00:38:42.676Z"
   },
   {
    "duration": 187,
    "start_time": "2023-03-19T00:38:42.695Z"
   },
   {
    "duration": 13,
    "start_time": "2023-03-19T00:38:42.898Z"
   },
   {
    "duration": 14,
    "start_time": "2023-03-19T00:38:42.913Z"
   },
   {
    "duration": 158,
    "start_time": "2023-03-19T00:38:42.929Z"
   },
   {
    "duration": 11,
    "start_time": "2023-03-19T00:38:43.093Z"
   },
   {
    "duration": 22,
    "start_time": "2023-03-19T00:38:43.107Z"
   },
   {
    "duration": 27,
    "start_time": "2023-03-19T00:38:43.130Z"
   },
   {
    "duration": 31,
    "start_time": "2023-03-19T00:38:43.158Z"
   },
   {
    "duration": 12,
    "start_time": "2023-03-19T00:38:43.194Z"
   },
   {
    "duration": 23,
    "start_time": "2023-03-19T00:38:43.208Z"
   },
   {
    "duration": 25,
    "start_time": "2023-03-19T00:38:43.233Z"
   },
   {
    "duration": 1358,
    "start_time": "2023-03-19T11:08:44.450Z"
   },
   {
    "duration": 3,
    "start_time": "2023-03-19T11:08:45.811Z"
   },
   {
    "duration": 222,
    "start_time": "2023-03-19T11:08:45.816Z"
   },
   {
    "duration": 15,
    "start_time": "2023-03-19T11:08:46.040Z"
   },
   {
    "duration": 16,
    "start_time": "2023-03-19T11:08:46.057Z"
   },
   {
    "duration": 11,
    "start_time": "2023-03-19T11:08:46.075Z"
   },
   {
    "duration": 12,
    "start_time": "2023-03-19T11:08:46.088Z"
   },
   {
    "duration": 10,
    "start_time": "2023-03-19T11:08:46.101Z"
   },
   {
    "duration": 12,
    "start_time": "2023-03-19T11:08:46.113Z"
   },
   {
    "duration": 40,
    "start_time": "2023-03-19T11:08:46.127Z"
   },
   {
    "duration": 6,
    "start_time": "2023-03-19T11:08:46.169Z"
   },
   {
    "duration": 7,
    "start_time": "2023-03-19T11:08:46.176Z"
   },
   {
    "duration": 10,
    "start_time": "2023-03-19T11:08:46.185Z"
   },
   {
    "duration": 6,
    "start_time": "2023-03-19T11:08:46.197Z"
   },
   {
    "duration": 10,
    "start_time": "2023-03-19T11:08:46.205Z"
   },
   {
    "duration": 14,
    "start_time": "2023-03-19T11:08:46.217Z"
   },
   {
    "duration": 7,
    "start_time": "2023-03-19T11:08:46.262Z"
   },
   {
    "duration": 7,
    "start_time": "2023-03-19T11:08:46.271Z"
   },
   {
    "duration": 5,
    "start_time": "2023-03-19T11:08:46.279Z"
   },
   {
    "duration": 9,
    "start_time": "2023-03-19T11:08:46.286Z"
   },
   {
    "duration": 7,
    "start_time": "2023-03-19T11:08:46.297Z"
   },
   {
    "duration": 9,
    "start_time": "2023-03-19T11:08:46.306Z"
   },
   {
    "duration": 51,
    "start_time": "2023-03-19T11:08:46.317Z"
   },
   {
    "duration": 9,
    "start_time": "2023-03-19T11:08:46.369Z"
   },
   {
    "duration": 14,
    "start_time": "2023-03-19T11:08:46.380Z"
   },
   {
    "duration": 22,
    "start_time": "2023-03-19T11:08:46.396Z"
   },
   {
    "duration": 13,
    "start_time": "2023-03-19T11:08:46.420Z"
   },
   {
    "duration": 7,
    "start_time": "2023-03-19T11:08:46.460Z"
   },
   {
    "duration": 203,
    "start_time": "2023-03-19T11:08:46.469Z"
   },
   {
    "duration": 143,
    "start_time": "2023-03-19T11:08:46.674Z"
   },
   {
    "duration": 14,
    "start_time": "2023-03-19T11:08:46.819Z"
   },
   {
    "duration": 7,
    "start_time": "2023-03-19T11:08:46.835Z"
   },
   {
    "duration": 356,
    "start_time": "2023-03-19T11:08:46.843Z"
   },
   {
    "duration": 263,
    "start_time": "2023-03-19T11:08:47.201Z"
   },
   {
    "duration": 391,
    "start_time": "2023-03-19T11:08:47.466Z"
   },
   {
    "duration": 263,
    "start_time": "2023-03-19T11:08:47.858Z"
   },
   {
    "duration": 404,
    "start_time": "2023-03-19T11:08:48.123Z"
   },
   {
    "duration": 159,
    "start_time": "2023-03-19T11:08:48.529Z"
   },
   {
    "duration": 9,
    "start_time": "2023-03-19T11:08:48.690Z"
   },
   {
    "duration": 176,
    "start_time": "2023-03-19T11:08:48.701Z"
   },
   {
    "duration": 206,
    "start_time": "2023-03-19T11:08:48.879Z"
   },
   {
    "duration": 6,
    "start_time": "2023-03-19T11:08:49.087Z"
   },
   {
    "duration": 23,
    "start_time": "2023-03-19T11:08:49.095Z"
   },
   {
    "duration": 262,
    "start_time": "2023-03-19T11:08:49.120Z"
   },
   {
    "duration": 5,
    "start_time": "2023-03-19T11:08:49.384Z"
   },
   {
    "duration": 187,
    "start_time": "2023-03-19T11:08:49.391Z"
   },
   {
    "duration": 5,
    "start_time": "2023-03-19T11:08:49.580Z"
   },
   {
    "duration": 18,
    "start_time": "2023-03-19T11:08:49.587Z"
   },
   {
    "duration": 183,
    "start_time": "2023-03-19T11:08:49.606Z"
   },
   {
    "duration": 7,
    "start_time": "2023-03-19T11:08:49.791Z"
   },
   {
    "duration": 29,
    "start_time": "2023-03-19T11:08:49.800Z"
   },
   {
    "duration": 13,
    "start_time": "2023-03-19T11:08:49.831Z"
   },
   {
    "duration": 11,
    "start_time": "2023-03-19T11:08:49.863Z"
   },
   {
    "duration": 8,
    "start_time": "2023-03-19T11:08:49.876Z"
   },
   {
    "duration": 51,
    "start_time": "2023-03-19T11:08:49.886Z"
   },
   {
    "duration": 15,
    "start_time": "2023-03-19T11:08:49.938Z"
   },
   {
    "duration": 10,
    "start_time": "2023-03-19T11:56:11.204Z"
   },
   {
    "duration": 2,
    "start_time": "2023-03-19T11:56:55.006Z"
   },
   {
    "duration": 43,
    "start_time": "2023-03-19T11:59:52.630Z"
   },
   {
    "duration": 4,
    "start_time": "2023-03-19T12:27:20.178Z"
   },
   {
    "duration": 5,
    "start_time": "2023-03-19T12:27:49.996Z"
   },
   {
    "duration": 12,
    "start_time": "2023-03-19T12:43:41.760Z"
   },
   {
    "duration": 4,
    "start_time": "2023-03-19T12:43:41.775Z"
   },
   {
    "duration": 73,
    "start_time": "2023-03-19T12:43:41.781Z"
   },
   {
    "duration": 9,
    "start_time": "2023-03-19T12:43:41.856Z"
   },
   {
    "duration": 12,
    "start_time": "2023-03-19T12:43:41.871Z"
   },
   {
    "duration": 18,
    "start_time": "2023-03-19T12:43:41.885Z"
   },
   {
    "duration": 13,
    "start_time": "2023-03-19T12:43:41.905Z"
   },
   {
    "duration": 12,
    "start_time": "2023-03-19T12:43:41.919Z"
   },
   {
    "duration": 40,
    "start_time": "2023-03-19T12:43:41.932Z"
   },
   {
    "duration": 7,
    "start_time": "2023-03-19T12:43:41.975Z"
   },
   {
    "duration": 11,
    "start_time": "2023-03-19T12:43:41.983Z"
   },
   {
    "duration": 7,
    "start_time": "2023-03-19T12:43:41.997Z"
   },
   {
    "duration": 10,
    "start_time": "2023-03-19T12:43:42.006Z"
   },
   {
    "duration": 2,
    "start_time": "2023-03-19T12:43:42.018Z"
   },
   {
    "duration": 4,
    "start_time": "2023-03-19T12:43:42.021Z"
   },
   {
    "duration": 14,
    "start_time": "2023-03-19T12:43:42.070Z"
   },
   {
    "duration": 7,
    "start_time": "2023-03-19T12:43:42.087Z"
   },
   {
    "duration": 7,
    "start_time": "2023-03-19T12:43:42.095Z"
   },
   {
    "duration": 4,
    "start_time": "2023-03-19T12:43:42.104Z"
   },
   {
    "duration": 7,
    "start_time": "2023-03-19T12:43:42.110Z"
   },
   {
    "duration": 43,
    "start_time": "2023-03-19T12:43:42.119Z"
   },
   {
    "duration": 15,
    "start_time": "2023-03-19T12:43:42.163Z"
   },
   {
    "duration": 5,
    "start_time": "2023-03-19T12:43:42.181Z"
   },
   {
    "duration": 7,
    "start_time": "2023-03-19T12:43:42.188Z"
   },
   {
    "duration": 15,
    "start_time": "2023-03-19T12:43:42.197Z"
   },
   {
    "duration": 14,
    "start_time": "2023-03-19T12:43:42.213Z"
   },
   {
    "duration": 47,
    "start_time": "2023-03-19T12:43:42.229Z"
   },
   {
    "duration": 7,
    "start_time": "2023-03-19T12:43:42.277Z"
   },
   {
    "duration": 189,
    "start_time": "2023-03-19T12:43:42.285Z"
   },
   {
    "duration": 134,
    "start_time": "2023-03-19T12:43:42.480Z"
   },
   {
    "duration": 14,
    "start_time": "2023-03-19T12:43:42.616Z"
   },
   {
    "duration": 13,
    "start_time": "2023-03-19T12:43:42.632Z"
   },
   {
    "duration": 272,
    "start_time": "2023-03-19T12:43:42.647Z"
   },
   {
    "duration": 269,
    "start_time": "2023-03-19T12:43:42.922Z"
   },
   {
    "duration": 343,
    "start_time": "2023-03-19T12:43:43.192Z"
   },
   {
    "duration": 259,
    "start_time": "2023-03-19T12:43:43.537Z"
   },
   {
    "duration": 386,
    "start_time": "2023-03-19T12:43:43.797Z"
   },
   {
    "duration": 155,
    "start_time": "2023-03-19T12:43:44.185Z"
   },
   {
    "duration": 7,
    "start_time": "2023-03-19T12:43:44.342Z"
   },
   {
    "duration": 158,
    "start_time": "2023-03-19T12:43:44.351Z"
   },
   {
    "duration": 199,
    "start_time": "2023-03-19T12:43:44.511Z"
   },
   {
    "duration": 6,
    "start_time": "2023-03-19T12:43:44.711Z"
   },
   {
    "duration": 11,
    "start_time": "2023-03-19T12:43:44.718Z"
   },
   {
    "duration": 196,
    "start_time": "2023-03-19T12:43:44.731Z"
   },
   {
    "duration": 5,
    "start_time": "2023-03-19T12:43:44.929Z"
   },
   {
    "duration": 181,
    "start_time": "2023-03-19T12:43:44.936Z"
   },
   {
    "duration": 5,
    "start_time": "2023-03-19T12:43:45.119Z"
   },
   {
    "duration": 15,
    "start_time": "2023-03-19T12:43:45.126Z"
   },
   {
    "duration": 170,
    "start_time": "2023-03-19T12:43:45.143Z"
   },
   {
    "duration": 9,
    "start_time": "2023-03-19T12:43:45.314Z"
   },
   {
    "duration": 40,
    "start_time": "2023-03-19T12:43:45.325Z"
   },
   {
    "duration": 16,
    "start_time": "2023-03-19T12:43:45.371Z"
   },
   {
    "duration": 2,
    "start_time": "2023-03-19T12:43:45.389Z"
   },
   {
    "duration": 15,
    "start_time": "2023-03-19T12:43:45.393Z"
   },
   {
    "duration": 8,
    "start_time": "2023-03-19T12:43:45.410Z"
   },
   {
    "duration": 13,
    "start_time": "2023-03-19T12:43:45.420Z"
   },
   {
    "duration": 45,
    "start_time": "2023-03-19T12:43:45.435Z"
   },
   {
    "duration": 114,
    "start_time": "2023-03-19T12:43:45.481Z"
   },
   {
    "duration": 1284,
    "start_time": "2023-03-19T13:03:49.022Z"
   },
   {
    "duration": 4,
    "start_time": "2023-03-19T13:03:50.309Z"
   },
   {
    "duration": 86,
    "start_time": "2023-03-19T13:03:50.315Z"
   },
   {
    "duration": 13,
    "start_time": "2023-03-19T13:03:50.404Z"
   },
   {
    "duration": 23,
    "start_time": "2023-03-19T13:03:50.419Z"
   },
   {
    "duration": 11,
    "start_time": "2023-03-19T13:03:50.444Z"
   },
   {
    "duration": 18,
    "start_time": "2023-03-19T13:03:50.457Z"
   },
   {
    "duration": 11,
    "start_time": "2023-03-19T13:03:50.477Z"
   },
   {
    "duration": 12,
    "start_time": "2023-03-19T13:03:50.490Z"
   },
   {
    "duration": 6,
    "start_time": "2023-03-19T13:03:50.505Z"
   },
   {
    "duration": 7,
    "start_time": "2023-03-19T13:03:50.512Z"
   },
   {
    "duration": 9,
    "start_time": "2023-03-19T13:03:50.520Z"
   },
   {
    "duration": 44,
    "start_time": "2023-03-19T13:03:50.530Z"
   },
   {
    "duration": 3,
    "start_time": "2023-03-19T13:03:50.576Z"
   },
   {
    "duration": 5,
    "start_time": "2023-03-19T13:03:50.581Z"
   },
   {
    "duration": 17,
    "start_time": "2023-03-19T13:03:50.588Z"
   },
   {
    "duration": 9,
    "start_time": "2023-03-19T13:03:50.606Z"
   },
   {
    "duration": 13,
    "start_time": "2023-03-19T13:03:50.617Z"
   },
   {
    "duration": 8,
    "start_time": "2023-03-19T13:03:50.632Z"
   },
   {
    "duration": 23,
    "start_time": "2023-03-19T13:03:50.641Z"
   },
   {
    "duration": 10,
    "start_time": "2023-03-19T13:03:50.671Z"
   },
   {
    "duration": 9,
    "start_time": "2023-03-19T13:03:50.683Z"
   },
   {
    "duration": 6,
    "start_time": "2023-03-19T13:03:50.694Z"
   },
   {
    "duration": 10,
    "start_time": "2023-03-19T13:03:50.702Z"
   },
   {
    "duration": 16,
    "start_time": "2023-03-19T13:03:50.714Z"
   },
   {
    "duration": 260,
    "start_time": "2023-03-19T13:03:50.732Z"
   },
   {
    "duration": 18,
    "start_time": "2023-03-19T13:03:50.994Z"
   },
   {
    "duration": 11,
    "start_time": "2023-03-19T13:03:51.016Z"
   },
   {
    "duration": 219,
    "start_time": "2023-03-19T13:03:51.029Z"
   },
   {
    "duration": 144,
    "start_time": "2023-03-19T13:03:51.250Z"
   },
   {
    "duration": 18,
    "start_time": "2023-03-19T13:03:51.395Z"
   },
   {
    "duration": 10,
    "start_time": "2023-03-19T13:03:51.415Z"
   },
   {
    "duration": 344,
    "start_time": "2023-03-19T13:03:51.426Z"
   },
   {
    "duration": 258,
    "start_time": "2023-03-19T13:03:51.776Z"
   },
   {
    "duration": 369,
    "start_time": "2023-03-19T13:03:52.036Z"
   },
   {
    "duration": 259,
    "start_time": "2023-03-19T13:03:52.407Z"
   },
   {
    "duration": 347,
    "start_time": "2023-03-19T13:03:52.671Z"
   },
   {
    "duration": 162,
    "start_time": "2023-03-19T13:03:53.020Z"
   },
   {
    "duration": 9,
    "start_time": "2023-03-19T13:03:53.184Z"
   },
   {
    "duration": 166,
    "start_time": "2023-03-19T13:03:53.195Z"
   },
   {
    "duration": 190,
    "start_time": "2023-03-19T13:03:53.369Z"
   },
   {
    "duration": 8,
    "start_time": "2023-03-19T13:03:53.561Z"
   },
   {
    "duration": 14,
    "start_time": "2023-03-19T13:03:53.572Z"
   },
   {
    "duration": 256,
    "start_time": "2023-03-19T13:03:53.588Z"
   },
   {
    "duration": 6,
    "start_time": "2023-03-19T13:03:53.846Z"
   },
   {
    "duration": 205,
    "start_time": "2023-03-19T13:03:53.862Z"
   },
   {
    "duration": 15,
    "start_time": "2023-03-19T13:03:54.069Z"
   },
   {
    "duration": 19,
    "start_time": "2023-03-19T13:03:54.087Z"
   },
   {
    "duration": 179,
    "start_time": "2023-03-19T13:03:54.108Z"
   },
   {
    "duration": 9,
    "start_time": "2023-03-19T13:03:54.289Z"
   },
   {
    "duration": 30,
    "start_time": "2023-03-19T13:03:54.300Z"
   },
   {
    "duration": 31,
    "start_time": "2023-03-19T13:03:54.331Z"
   },
   {
    "duration": 2,
    "start_time": "2023-03-19T13:03:54.368Z"
   },
   {
    "duration": 14,
    "start_time": "2023-03-19T13:03:54.372Z"
   },
   {
    "duration": 4,
    "start_time": "2023-03-19T13:03:54.387Z"
   },
   {
    "duration": 7,
    "start_time": "2023-03-19T13:03:54.393Z"
   },
   {
    "duration": 22,
    "start_time": "2023-03-19T13:03:54.402Z"
   },
   {
    "duration": 43,
    "start_time": "2023-03-19T13:03:54.425Z"
   }
  ],
  "kernelspec": {
   "display_name": "Python 3",
   "language": "python",
   "name": "python3"
  },
  "language_info": {
   "codemirror_mode": {
    "name": "ipython",
    "version": 3
   },
   "file_extension": ".py",
   "mimetype": "text/x-python",
   "name": "python",
   "nbconvert_exporter": "python",
   "pygments_lexer": "ipython3",
   "version": "3.8.8"
  },
  "toc": {
   "base_numbering": 1,
   "nav_menu": {},
   "number_sections": true,
   "sideBar": true,
   "skip_h1_title": true,
   "title_cell": "Table of Contents",
   "title_sidebar": "Contents",
   "toc_cell": false,
   "toc_position": {},
   "toc_section_display": true,
   "toc_window_display": false
  }
 },
 "nbformat": 4,
 "nbformat_minor": 2
}
