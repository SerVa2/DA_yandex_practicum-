{
 "cells": [
  {
   "cell_type": "markdown",
   "metadata": {},
   "source": [
    "# Сборный проект №2 Анализ поведения пользователей в мобильном приложении"
   ]
  },
  {
   "cell_type": "markdown",
   "metadata": {},
   "source": [
    "# Описание проекта\n",
    "\n",
    "Вы работаете в стартапе, который продаёт продукты питания. Нужно разобраться, как ведут себя пользователи вашего мобильного приложения. \n",
    "Изучите воронку продаж. Узнайте, как пользователи доходят до покупки. Сколько пользователей доходит до покупки, а сколько — «застревает» на предыдущих шагах? На каких именно?\n",
    "После этого исследуйте результаты A/A/B-эксперимента. Дизайнеры захотели поменять шрифты во всём приложении, а менеджеры испугались, что пользователям будет непривычно. Договорились принять решение по результатам A/A/B-теста. Пользователей разбили на 3 группы: 2 контрольные со старыми шрифтами и одну экспериментальную — с новыми. Выясните, какой шрифт лучше.\n",
    "Создание двух групп A вместо одной имеет определённые преимущества. Если две контрольные группы окажутся равны, вы можете быть уверены в точности проведенного тестирования. Если же между значениями A и A будут существенные различия, это поможет обнаружить факторы, которые привели к искажению результатов. Сравнение контрольных групп также помогает понять, сколько времени и данных потребуется для дальнейших тестов.\n",
    "В случае общей аналитики и A/A/B-эксперимента работайте с одними и теми же данными. В реальных проектах всегда идут эксперименты. Аналитики исследуют качество работы приложения по общим данным, не учитывая принадлежность пользователей к экспериментам."
   ]
  },
  {
   "cell_type": "markdown",
   "metadata": {},
   "source": [
    "# Описание данных\n",
    "\n",
    "Каждая запись в логе — это действие пользователя, или событие.\n",
    "\n",
    "`EventName` — название события;\n",
    "\n",
    "`DeviceIDHash` — уникальный идентификатор пользователя;\n",
    "\n",
    "`EventTimestamp` — время события\n",
    "\n",
    "`ExpId` — номер эксперимента: 246 и 247 — контрольные группы, а 248 — экспериментальная."
   ]
  },
  {
   "cell_type": "markdown",
   "metadata": {},
   "source": [
    "# Инструкция по выполнению проекта\n",
    "\n",
    "**Шаг 1.** Откройте файл с данными и изучите общую информацию\n",
    "\n",
    "Путь к файлу: `/datasets/logs_exp.csv. Скачать датасет`\n",
    "\n",
    "**Шаг 2. Подготовьте данные**\n",
    "\n",
    "- Замените названия столбцов на удобные для вас;\n",
    "\n",
    "- Проверьте пропуски и типы данных. Откорректируйте, если нужно;\n",
    "\n",
    "- Добавьте столбец даты и времени, а также отдельный столбец дат;\n",
    "\n",
    "**Шаг 3. Изучите и проверьте данные**\n",
    "\n",
    "- Сколько всего событий в логе?\n",
    "\n",
    "- Сколько всего пользователей в логе?\n",
    "\n",
    "- Сколько в среднем событий приходится на пользователя?\n",
    "\n",
    "- Данными за какой период вы располагаете? Найдите максимальную и минимальную дату. Постройте гистограмму по дате и времени. Можно ли быть уверенным, что у вас одинаково полные данные за весь период? Технически в логи новых дней по некоторым пользователям могут «доезжать» события из прошлого — это может «перекашивать данные». Определите, с какого момента данные полные и отбросьте более старые\n",
    "Данными за какой период времени вы располагаете на самом деле?\n",
    "\n",
    "- Много ли событий и пользователей вы потеряли, отбросив старые данные?\n",
    " \n",
    "- Проверьте, что у вас есть пользователи из всех трёх экспериментальных групп.\n",
    "\n",
    "**Шаг 4. Изучите воронку событий**\n",
    "\n",
    "- Посмотрите, какие события есть в логах, как часто они встречаются. Отсортируйте события по частоте.\n",
    "\n",
    "- Посчитайте, сколько пользователей совершали каждое из этих событий. Отсортируйте события по числу пользователей. Посчитайте долю пользователей, которые хоть раз совершали событие.\n",
    "\n",
    "- Предположите, в каком порядке происходят события. Все ли они выстраиваются в последовательную цепочку? Их не нужно учитывать при расчёте воронки.\n",
    "\n",
    "- По воронке событий посчитайте, какая доля пользователей проходит на следующий шаг воронки (от числа пользователей на предыдущем). То есть для последовательности событий A → B → C посчитайте отношение числа пользователей с событием B к количеству пользователей с событием A, а также отношение числа пользователей с событием C к количеству пользователей с событием B.\n",
    "\n",
    "- На каком шаге теряете больше всего пользователей?\n",
    "\n",
    "- Какая доля пользователей доходит от первого события до оплаты?\n",
    "\n",
    "**Шаг 5. Изучите результаты эксперимента**\n",
    "\n",
    "- Сколько пользователей в каждой экспериментальной группе?\n",
    "\n",
    "- Есть 2 контрольные группы для А/А-эксперимента, чтобы проверить корректность всех механизмов и расчётов. Проверьте, находят ли статистические критерии разницу между выборками 246 и 247.\n",
    "\n",
    "- Выберите самое популярное событие. Посчитайте число пользователей, совершивших это событие в каждой из контрольных групп. Посчитайте долю пользователей, совершивших это событие. Проверьте, будет ли отличие между группами статистически достоверным. Проделайте то же самое для всех других событий (удобно обернуть проверку в отдельную функцию). Можно ли сказать, что разбиение на группы работает корректно?\n",
    "\n",
    "- Аналогично поступите с группой с изменённым шрифтом. Сравните результаты с каждой из контрольных групп в отдельности по каждому событию. Сравните результаты с объединённой контрольной группой. Какие выводы из эксперимента можно сделать?\n",
    "\n",
    "- Какой уровень значимости вы выбрали при проверке статистических гипотез выше? Посчитайте, сколько проверок статистических гипотез вы сделали. При уровне значимости 0.1 каждый десятый раз можно получать ложный результат. Какой уровень значимости стоит применить? Если вы хотите изменить его, проделайте предыдущие пункты и проверьте свои выводы."
   ]
  },
  {
   "cell_type": "markdown",
   "metadata": {},
   "source": [
    "## Шаг 1. Открытие файла с данными и изучение общей информации"
   ]
  },
  {
   "cell_type": "code",
   "execution_count": 1,
   "metadata": {},
   "outputs": [
    {
     "data": {
      "text/html": [
       "        <script type=\"text/javascript\">\n",
       "        window.PlotlyConfig = {MathJaxConfig: 'local'};\n",
       "        if (window.MathJax && window.MathJax.Hub && window.MathJax.Hub.Config) {window.MathJax.Hub.Config({SVG: {font: \"STIX-Web\"}});}\n",
       "        if (typeof require !== 'undefined') {\n",
       "        require.undef(\"plotly\");\n",
       "        requirejs.config({\n",
       "            paths: {\n",
       "                'plotly': ['https://cdn.plot.ly/plotly-2.12.1.min']\n",
       "            }\n",
       "        });\n",
       "        require(['plotly'], function(Plotly) {\n",
       "            window._Plotly = Plotly;\n",
       "        });\n",
       "        }\n",
       "        </script>\n",
       "        "
      ]
     },
     "metadata": {},
     "output_type": "display_data"
    }
   ],
   "source": [
    "#Импорт библиотек\n",
    "import pandas as pd\n",
    "import numpy as np\n",
    "import matplotlib\n",
    "import matplotlib.pyplot as plt\n",
    "import seaborn as sns\n",
    "from scipy import stats as st\n",
    "\n",
    "import plotly.graph_objects as go\n",
    "from plotly import graph_objects as go\n",
    "\n",
    "from plotly.offline import init_notebook_mode, iplot\n",
    "init_notebook_mode(connected=True) \n",
    "\n",
    "# отключение уведомлений об ошибке \n",
    "import warnings\n",
    "warnings.filterwarnings('ignore')\n"
   ]
  },
  {
   "cell_type": "code",
   "execution_count": 2,
   "metadata": {},
   "outputs": [],
   "source": [
    "#загрузка данных\n",
    "try:\n",
    "    df = df = pd.read_csv('logs_exp.csv', delimiter='\\t')\n",
    "except:\n",
    "    df= df = pd.read_csv('/datasets/logs_exp.csv', delimiter='\\t')"
   ]
  },
  {
   "cell_type": "code",
   "execution_count": 3,
   "metadata": {},
   "outputs": [
    {
     "data": {
      "text/html": [
       "<div>\n",
       "<style scoped>\n",
       "    .dataframe tbody tr th:only-of-type {\n",
       "        vertical-align: middle;\n",
       "    }\n",
       "\n",
       "    .dataframe tbody tr th {\n",
       "        vertical-align: top;\n",
       "    }\n",
       "\n",
       "    .dataframe thead th {\n",
       "        text-align: right;\n",
       "    }\n",
       "</style>\n",
       "<table border=\"1\" class=\"dataframe\">\n",
       "  <thead>\n",
       "    <tr style=\"text-align: right;\">\n",
       "      <th></th>\n",
       "      <th>EventName</th>\n",
       "      <th>DeviceIDHash</th>\n",
       "      <th>EventTimestamp</th>\n",
       "      <th>ExpId</th>\n",
       "    </tr>\n",
       "  </thead>\n",
       "  <tbody>\n",
       "    <tr>\n",
       "      <th>0</th>\n",
       "      <td>MainScreenAppear</td>\n",
       "      <td>4575588528974610257</td>\n",
       "      <td>1564029816</td>\n",
       "      <td>246</td>\n",
       "    </tr>\n",
       "    <tr>\n",
       "      <th>1</th>\n",
       "      <td>MainScreenAppear</td>\n",
       "      <td>7416695313311560658</td>\n",
       "      <td>1564053102</td>\n",
       "      <td>246</td>\n",
       "    </tr>\n",
       "    <tr>\n",
       "      <th>2</th>\n",
       "      <td>PaymentScreenSuccessful</td>\n",
       "      <td>3518123091307005509</td>\n",
       "      <td>1564054127</td>\n",
       "      <td>248</td>\n",
       "    </tr>\n",
       "    <tr>\n",
       "      <th>3</th>\n",
       "      <td>CartScreenAppear</td>\n",
       "      <td>3518123091307005509</td>\n",
       "      <td>1564054127</td>\n",
       "      <td>248</td>\n",
       "    </tr>\n",
       "    <tr>\n",
       "      <th>4</th>\n",
       "      <td>PaymentScreenSuccessful</td>\n",
       "      <td>6217807653094995999</td>\n",
       "      <td>1564055322</td>\n",
       "      <td>248</td>\n",
       "    </tr>\n",
       "  </tbody>\n",
       "</table>\n",
       "</div>"
      ],
      "text/plain": [
       "                 EventName         DeviceIDHash  EventTimestamp  ExpId\n",
       "0         MainScreenAppear  4575588528974610257      1564029816    246\n",
       "1         MainScreenAppear  7416695313311560658      1564053102    246\n",
       "2  PaymentScreenSuccessful  3518123091307005509      1564054127    248\n",
       "3         CartScreenAppear  3518123091307005509      1564054127    248\n",
       "4  PaymentScreenSuccessful  6217807653094995999      1564055322    248"
      ]
     },
     "execution_count": 3,
     "metadata": {},
     "output_type": "execute_result"
    }
   ],
   "source": [
    "df.head()"
   ]
  },
  {
   "cell_type": "code",
   "execution_count": 4,
   "metadata": {},
   "outputs": [
    {
     "name": "stdout",
     "output_type": "stream",
     "text": [
      "<class 'pandas.core.frame.DataFrame'>\n",
      "RangeIndex: 244126 entries, 0 to 244125\n",
      "Data columns (total 4 columns):\n",
      " #   Column          Non-Null Count   Dtype \n",
      "---  ------          --------------   ----- \n",
      " 0   EventName       244126 non-null  object\n",
      " 1   DeviceIDHash    244126 non-null  int64 \n",
      " 2   EventTimestamp  244126 non-null  int64 \n",
      " 3   ExpId           244126 non-null  int64 \n",
      "dtypes: int64(3), object(1)\n",
      "memory usage: 7.5+ MB\n"
     ]
    }
   ],
   "source": [
    "df.info()"
   ]
  },
  {
   "cell_type": "code",
   "execution_count": 5,
   "metadata": {},
   "outputs": [
    {
     "data": {
      "text/plain": [
       "EventName         0\n",
       "DeviceIDHash      0\n",
       "EventTimestamp    0\n",
       "ExpId             0\n",
       "dtype: int64"
      ]
     },
     "execution_count": 5,
     "metadata": {},
     "output_type": "execute_result"
    }
   ],
   "source": [
    "df.isna().sum()"
   ]
  },
  {
   "cell_type": "markdown",
   "metadata": {},
   "source": [
    "Посмотрим,есть ли явные дубликаты"
   ]
  },
  {
   "cell_type": "code",
   "execution_count": 6,
   "metadata": {},
   "outputs": [
    {
     "data": {
      "text/plain": [
       "413"
      ]
     },
     "execution_count": 6,
     "metadata": {},
     "output_type": "execute_result"
    }
   ],
   "source": [
    "df.duplicated().sum()"
   ]
  },
  {
   "cell_type": "markdown",
   "metadata": {},
   "source": [
    "**ВЫВОД по Шагу1**\n",
    "\n",
    "- Нам предоставлены данные записей в логах мобильного приложения по продаже продуктов питания.\n",
    "- Каждая запись в логе — это действие пользователя, или событие.Датасет имеет **244126** таких записей в **4** колонках: название события, уникальный идентификатор пользователя,время события и номер группы пльзователя,куда он попал в результе A/A/B теста.\n",
    "- Пропусков не обнаружено.Но есть 413 дудликатов.Нх стоит удалить.\n",
    "- В колоне с временем события представлено типом `int64` и выраженно в секундах.Его стоит привести к формату `datetime`\n",
    "- Названия столбцов стоит привести к общепринятому и боллее понятеому виду."
   ]
  },
  {
   "cell_type": "markdown",
   "metadata": {},
   "source": [
    "## Шаг 2. Подготовка данных"
   ]
  },
  {
   "cell_type": "markdown",
   "metadata": {},
   "source": [
    "### Замена  названий столбцов\n",
    "\n"
   ]
  },
  {
   "cell_type": "code",
   "execution_count": 7,
   "metadata": {},
   "outputs": [],
   "source": [
    "# Переименуем столбцы\n",
    "df.rename(columns = {'EventName':'event', 'DeviceIDHash':'user_id', 'EventTimestamp':'event_time', \n",
    "                     'ExpId':'group'}, inplace = True)"
   ]
  },
  {
   "cell_type": "code",
   "execution_count": 8,
   "metadata": {
    "scrolled": true
   },
   "outputs": [
    {
     "data": {
      "text/html": [
       "<div>\n",
       "<style scoped>\n",
       "    .dataframe tbody tr th:only-of-type {\n",
       "        vertical-align: middle;\n",
       "    }\n",
       "\n",
       "    .dataframe tbody tr th {\n",
       "        vertical-align: top;\n",
       "    }\n",
       "\n",
       "    .dataframe thead th {\n",
       "        text-align: right;\n",
       "    }\n",
       "</style>\n",
       "<table border=\"1\" class=\"dataframe\">\n",
       "  <thead>\n",
       "    <tr style=\"text-align: right;\">\n",
       "      <th></th>\n",
       "      <th>event</th>\n",
       "      <th>user_id</th>\n",
       "      <th>event_time</th>\n",
       "      <th>group</th>\n",
       "    </tr>\n",
       "  </thead>\n",
       "  <tbody>\n",
       "    <tr>\n",
       "      <th>0</th>\n",
       "      <td>MainScreenAppear</td>\n",
       "      <td>4575588528974610257</td>\n",
       "      <td>1564029816</td>\n",
       "      <td>246</td>\n",
       "    </tr>\n",
       "    <tr>\n",
       "      <th>1</th>\n",
       "      <td>MainScreenAppear</td>\n",
       "      <td>7416695313311560658</td>\n",
       "      <td>1564053102</td>\n",
       "      <td>246</td>\n",
       "    </tr>\n",
       "    <tr>\n",
       "      <th>2</th>\n",
       "      <td>PaymentScreenSuccessful</td>\n",
       "      <td>3518123091307005509</td>\n",
       "      <td>1564054127</td>\n",
       "      <td>248</td>\n",
       "    </tr>\n",
       "    <tr>\n",
       "      <th>3</th>\n",
       "      <td>CartScreenAppear</td>\n",
       "      <td>3518123091307005509</td>\n",
       "      <td>1564054127</td>\n",
       "      <td>248</td>\n",
       "    </tr>\n",
       "    <tr>\n",
       "      <th>4</th>\n",
       "      <td>PaymentScreenSuccessful</td>\n",
       "      <td>6217807653094995999</td>\n",
       "      <td>1564055322</td>\n",
       "      <td>248</td>\n",
       "    </tr>\n",
       "  </tbody>\n",
       "</table>\n",
       "</div>"
      ],
      "text/plain": [
       "                     event              user_id  event_time  group\n",
       "0         MainScreenAppear  4575588528974610257  1564029816    246\n",
       "1         MainScreenAppear  7416695313311560658  1564053102    246\n",
       "2  PaymentScreenSuccessful  3518123091307005509  1564054127    248\n",
       "3         CartScreenAppear  3518123091307005509  1564054127    248\n",
       "4  PaymentScreenSuccessful  6217807653094995999  1564055322    248"
      ]
     },
     "execution_count": 8,
     "metadata": {},
     "output_type": "execute_result"
    }
   ],
   "source": [
    "df.head()"
   ]
  },
  {
   "cell_type": "markdown",
   "metadata": {},
   "source": [
    "### Изменение типов данных и удаление дубликатов"
   ]
  },
  {
   "cell_type": "code",
   "execution_count": 9,
   "metadata": {},
   "outputs": [],
   "source": [
    "#приведем тип данных в столбце с временем к нужному типу\n",
    "df['event_time'] = pd.to_datetime(df['event_time'], unit='s')"
   ]
  },
  {
   "cell_type": "code",
   "execution_count": 10,
   "metadata": {},
   "outputs": [],
   "source": [
    "# удалим дудликаты\n",
    "df = df.drop_duplicates().reset_index(drop=True)"
   ]
  },
  {
   "cell_type": "markdown",
   "metadata": {},
   "source": [
    "### Добавление  столбца даты и времени, а также отдельного столбца дат"
   ]
  },
  {
   "cell_type": "markdown",
   "metadata": {},
   "source": [
    "К формату даты и времени у нас уже приведен существующий столбец .А для даты создать отдельный столбец"
   ]
  },
  {
   "cell_type": "code",
   "execution_count": 11,
   "metadata": {},
   "outputs": [],
   "source": [
    "df['date'] = df['event_time'].dt.date"
   ]
  },
  {
   "cell_type": "markdown",
   "metadata": {},
   "source": [
    "Посмотрим,как теперь выглядит датасет"
   ]
  },
  {
   "cell_type": "code",
   "execution_count": 12,
   "metadata": {},
   "outputs": [
    {
     "data": {
      "text/html": [
       "<div>\n",
       "<style scoped>\n",
       "    .dataframe tbody tr th:only-of-type {\n",
       "        vertical-align: middle;\n",
       "    }\n",
       "\n",
       "    .dataframe tbody tr th {\n",
       "        vertical-align: top;\n",
       "    }\n",
       "\n",
       "    .dataframe thead th {\n",
       "        text-align: right;\n",
       "    }\n",
       "</style>\n",
       "<table border=\"1\" class=\"dataframe\">\n",
       "  <thead>\n",
       "    <tr style=\"text-align: right;\">\n",
       "      <th></th>\n",
       "      <th>event</th>\n",
       "      <th>user_id</th>\n",
       "      <th>event_time</th>\n",
       "      <th>group</th>\n",
       "      <th>date</th>\n",
       "    </tr>\n",
       "  </thead>\n",
       "  <tbody>\n",
       "    <tr>\n",
       "      <th>0</th>\n",
       "      <td>MainScreenAppear</td>\n",
       "      <td>4575588528974610257</td>\n",
       "      <td>2019-07-25 04:43:36</td>\n",
       "      <td>246</td>\n",
       "      <td>2019-07-25</td>\n",
       "    </tr>\n",
       "    <tr>\n",
       "      <th>1</th>\n",
       "      <td>MainScreenAppear</td>\n",
       "      <td>7416695313311560658</td>\n",
       "      <td>2019-07-25 11:11:42</td>\n",
       "      <td>246</td>\n",
       "      <td>2019-07-25</td>\n",
       "    </tr>\n",
       "    <tr>\n",
       "      <th>2</th>\n",
       "      <td>PaymentScreenSuccessful</td>\n",
       "      <td>3518123091307005509</td>\n",
       "      <td>2019-07-25 11:28:47</td>\n",
       "      <td>248</td>\n",
       "      <td>2019-07-25</td>\n",
       "    </tr>\n",
       "    <tr>\n",
       "      <th>3</th>\n",
       "      <td>CartScreenAppear</td>\n",
       "      <td>3518123091307005509</td>\n",
       "      <td>2019-07-25 11:28:47</td>\n",
       "      <td>248</td>\n",
       "      <td>2019-07-25</td>\n",
       "    </tr>\n",
       "    <tr>\n",
       "      <th>4</th>\n",
       "      <td>PaymentScreenSuccessful</td>\n",
       "      <td>6217807653094995999</td>\n",
       "      <td>2019-07-25 11:48:42</td>\n",
       "      <td>248</td>\n",
       "      <td>2019-07-25</td>\n",
       "    </tr>\n",
       "  </tbody>\n",
       "</table>\n",
       "</div>"
      ],
      "text/plain": [
       "                     event              user_id          event_time  group  \\\n",
       "0         MainScreenAppear  4575588528974610257 2019-07-25 04:43:36    246   \n",
       "1         MainScreenAppear  7416695313311560658 2019-07-25 11:11:42    246   \n",
       "2  PaymentScreenSuccessful  3518123091307005509 2019-07-25 11:28:47    248   \n",
       "3         CartScreenAppear  3518123091307005509 2019-07-25 11:28:47    248   \n",
       "4  PaymentScreenSuccessful  6217807653094995999 2019-07-25 11:48:42    248   \n",
       "\n",
       "         date  \n",
       "0  2019-07-25  \n",
       "1  2019-07-25  \n",
       "2  2019-07-25  \n",
       "3  2019-07-25  \n",
       "4  2019-07-25  "
      ]
     },
     "execution_count": 12,
     "metadata": {},
     "output_type": "execute_result"
    }
   ],
   "source": [
    "df.head()"
   ]
  },
  {
   "cell_type": "code",
   "execution_count": 13,
   "metadata": {},
   "outputs": [
    {
     "name": "stdout",
     "output_type": "stream",
     "text": [
      "<class 'pandas.core.frame.DataFrame'>\n",
      "RangeIndex: 243713 entries, 0 to 243712\n",
      "Data columns (total 5 columns):\n",
      " #   Column      Non-Null Count   Dtype         \n",
      "---  ------      --------------   -----         \n",
      " 0   event       243713 non-null  object        \n",
      " 1   user_id     243713 non-null  int64         \n",
      " 2   event_time  243713 non-null  datetime64[ns]\n",
      " 3   group       243713 non-null  int64         \n",
      " 4   date        243713 non-null  object        \n",
      "dtypes: datetime64[ns](1), int64(2), object(2)\n",
      "memory usage: 9.3+ MB\n"
     ]
    }
   ],
   "source": [
    "df.info()"
   ]
  },
  {
   "cell_type": "markdown",
   "metadata": {},
   "source": [
    "**ВЫВОД Шаг2**\n",
    "\n",
    "На этом этапе\n",
    "- Заменены названия столбцов на более удобные и соответствующие общепринятым нормам\n",
    "- Заменен тип данных в столбце с датой на `datetime`в формате дата и время\n",
    "- Удалены явные дубликаты.\n",
    "- Добавлен  отдельный столбец дат"
   ]
  },
  {
   "cell_type": "markdown",
   "metadata": {},
   "source": [
    "## Шаг 3. Изучение  и проверка данных"
   ]
  },
  {
   "cell_type": "markdown",
   "metadata": {},
   "source": [
    "### Сколько всего событий в логе?"
   ]
  },
  {
   "cell_type": "code",
   "execution_count": 14,
   "metadata": {},
   "outputs": [
    {
     "data": {
      "text/plain": [
       "243713"
      ]
     },
     "execution_count": 14,
     "metadata": {},
     "output_type": "execute_result"
    }
   ],
   "source": [
    "len(df['event']) #Всего событий в логе"
   ]
  },
  {
   "cell_type": "code",
   "execution_count": 15,
   "metadata": {},
   "outputs": [
    {
     "data": {
      "text/plain": [
       "5"
      ]
     },
     "execution_count": 15,
     "metadata": {},
     "output_type": "execute_result"
    }
   ],
   "source": [
    "len(df['event'].unique()) # Число уникалных событий "
   ]
  },
  {
   "cell_type": "code",
   "execution_count": 16,
   "metadata": {},
   "outputs": [
    {
     "data": {
      "text/plain": [
       "MainScreenAppear           119101\n",
       "OffersScreenAppear          46808\n",
       "CartScreenAppear            42668\n",
       "PaymentScreenSuccessful     34118\n",
       "Tutorial                     1018\n",
       "Name: event, dtype: int64"
      ]
     },
     "execution_count": 16,
     "metadata": {},
     "output_type": "execute_result"
    }
   ],
   "source": [
    "df['event'].value_counts()"
   ]
  },
  {
   "cell_type": "markdown",
   "metadata": {},
   "source": [
    "`MainScreenAppear` - просмотр главной страницы\n",
    "\n",
    "`OffersScreenAppear` -  просмотр страницы  товара\n",
    "\n",
    "`CartScreenAppear` - просмотр корзинаы\n",
    "\n",
    "`PaymentScreenSuccessful`- переход на страницу успешной оплаты\n",
    "\n",
    "`Tutorial`- просмотр руководства пользователя\n"
   ]
  },
  {
   "cell_type": "markdown",
   "metadata": {},
   "source": [
    "Всего событий в логе - 243713.Уникальных событий  5,и их названия тоже  уникальны "
   ]
  },
  {
   "cell_type": "markdown",
   "metadata": {},
   "source": [
    "### Сколько всего пользователей в логе?"
   ]
  },
  {
   "cell_type": "code",
   "execution_count": 17,
   "metadata": {},
   "outputs": [
    {
     "data": {
      "text/plain": [
       "7551"
      ]
     },
     "execution_count": 17,
     "metadata": {},
     "output_type": "execute_result"
    }
   ],
   "source": [
    "len(df['user_id'].unique())"
   ]
  },
  {
   "cell_type": "markdown",
   "metadata": {},
   "source": [
    "Всего в логе 7551 пользователь"
   ]
  },
  {
   "cell_type": "markdown",
   "metadata": {},
   "source": [
    "### Сколько в среднем событий приходится на пользователя?"
   ]
  },
  {
   "cell_type": "code",
   "execution_count": 18,
   "metadata": {
    "scrolled": true
   },
   "outputs": [
    {
     "data": {
      "text/plain": [
       "32"
      ]
     },
     "execution_count": 18,
     "metadata": {},
     "output_type": "execute_result"
    }
   ],
   "source": [
    "round(df.shape[0] / df['user_id'].nunique())"
   ]
  },
  {
   "cell_type": "markdown",
   "metadata": {},
   "source": [
    "В среднем на одного пользователя приходится 32 события"
   ]
  },
  {
   "cell_type": "code",
   "execution_count": 19,
   "metadata": {},
   "outputs": [
    {
     "data": {
      "image/png": "[encoded data removed]",
      "text/plain": [
       "<Figure size 1080x504 with 1 Axes>"
      ]
     },
     "metadata": {
      "needs_background": "light"
     },
     "output_type": "display_data"
    }
   ],
   "source": [
    "plt.figure(figsize=(15, 7))\n",
    "sns.histplot(data=df.groupby('user_id')[['event']].count(), x='event', kde=True,color = 'red')\n",
    "plt.title('Распределение событий по пользователям')\n",
    "plt.xlabel('Количество событий')\n",
    "plt.ylabel('Количество пользователей')\n",
    "plt.xlim(0,200)\n",
    "plt.show()"
   ]
  },
  {
   "cell_type": "code",
   "execution_count": 20,
   "metadata": {},
   "outputs": [
    {
     "data": {
      "text/html": [
       "<div>\n",
       "<style scoped>\n",
       "    .dataframe tbody tr th:only-of-type {\n",
       "        vertical-align: middle;\n",
       "    }\n",
       "\n",
       "    .dataframe tbody tr th {\n",
       "        vertical-align: top;\n",
       "    }\n",
       "\n",
       "    .dataframe thead th {\n",
       "        text-align: right;\n",
       "    }\n",
       "</style>\n",
       "<table border=\"1\" class=\"dataframe\">\n",
       "  <thead>\n",
       "    <tr style=\"text-align: right;\">\n",
       "      <th></th>\n",
       "      <th>event</th>\n",
       "    </tr>\n",
       "  </thead>\n",
       "  <tbody>\n",
       "    <tr>\n",
       "      <th>count</th>\n",
       "      <td>7551.000000</td>\n",
       "    </tr>\n",
       "    <tr>\n",
       "      <th>mean</th>\n",
       "      <td>32.275593</td>\n",
       "    </tr>\n",
       "    <tr>\n",
       "      <th>std</th>\n",
       "      <td>65.154219</td>\n",
       "    </tr>\n",
       "    <tr>\n",
       "      <th>min</th>\n",
       "      <td>1.000000</td>\n",
       "    </tr>\n",
       "    <tr>\n",
       "      <th>25%</th>\n",
       "      <td>9.000000</td>\n",
       "    </tr>\n",
       "    <tr>\n",
       "      <th>50%</th>\n",
       "      <td>20.000000</td>\n",
       "    </tr>\n",
       "    <tr>\n",
       "      <th>75%</th>\n",
       "      <td>37.000000</td>\n",
       "    </tr>\n",
       "    <tr>\n",
       "      <th>max</th>\n",
       "      <td>2307.000000</td>\n",
       "    </tr>\n",
       "  </tbody>\n",
       "</table>\n",
       "</div>"
      ],
      "text/plain": [
       "             event\n",
       "count  7551.000000\n",
       "mean     32.275593\n",
       "std      65.154219\n",
       "min       1.000000\n",
       "25%       9.000000\n",
       "50%      20.000000\n",
       "75%      37.000000\n",
       "max    2307.000000"
      ]
     },
     "execution_count": 20,
     "metadata": {},
     "output_type": "execute_result"
    }
   ],
   "source": [
    "df.groupby('user_id')[['event']].count().describe()"
   ]
  },
  {
   "cell_type": "markdown",
   "metadata": {},
   "source": [
    "### Данными за какой период вы располагаете? Найдите максимальную и минимальную дату. Постройте гистограмму по дате и времени. Можно ли быть уверенным, что у вас одинаково полные данные за весь период?Данными за какой период времени вы располагаете на самом деле?"
   ]
  },
  {
   "cell_type": "code",
   "execution_count": 21,
   "metadata": {},
   "outputs": [
    {
     "name": "stdout",
     "output_type": "stream",
     "text": [
      "Данные за период: 2019-07-25 04:43:36 - 2019-08-07 21:15:17\n"
     ]
    }
   ],
   "source": [
    "# максимальная и минимальная дата\n",
    "print('Данные за период:',df['event_time'].min(),'-',df['event_time'].max())"
   ]
  },
  {
   "cell_type": "markdown",
   "metadata": {},
   "source": [
    "Максимальная и минимальная дата"
   ]
  },
  {
   "cell_type": "code",
   "execution_count": 22,
   "metadata": {},
   "outputs": [
    {
     "name": "stdout",
     "output_type": "stream",
     "text": [
      "Минимальная дата: 2019-07-25 04:43:36\n",
      "Максимальная дата: 2019-08-07 21:15:17\n"
     ]
    }
   ],
   "source": [
    "min_date = df['event_time'].min()\n",
    "max_date = df['event_time'].max()\n",
    "print('Минимальная дата:',min_date)\n",
    "print('Максимальная дата:',max_date)"
   ]
  },
  {
   "cell_type": "markdown",
   "metadata": {},
   "source": [
    "Посмотрим на период,за который предоставлены данные"
   ]
  },
  {
   "cell_type": "code",
   "execution_count": 23,
   "metadata": {},
   "outputs": [
    {
     "name": "stdout",
     "output_type": "stream",
     "text": [
      "Данные предтавлены за период от 2019-07-25 04:43:36 до 2019-08-07 21:15:17, разница в 13 days 16:31:41.\n"
     ]
    }
   ],
   "source": [
    "diff = max_date - min_date\n",
    "\n",
    "print('Данные предтавлены за период от %s до %s, разница в %s.' % (min_date,max_date,diff))"
   ]
  },
  {
   "cell_type": "markdown",
   "metadata": {},
   "source": [
    "Видно, что у нас имеются данные почти за 2 недели."
   ]
  },
  {
   "cell_type": "markdown",
   "metadata": {},
   "source": [
    "Посмотрим, как распределились события по дате и времени и построим гистограмму "
   ]
  },
  {
   "cell_type": "code",
   "execution_count": 24,
   "metadata": {},
   "outputs": [
    {
     "data": {
      "text/html": [
       "<div>\n",
       "<style scoped>\n",
       "    .dataframe tbody tr th:only-of-type {\n",
       "        vertical-align: middle;\n",
       "    }\n",
       "\n",
       "    .dataframe tbody tr th {\n",
       "        vertical-align: top;\n",
       "    }\n",
       "\n",
       "    .dataframe thead th {\n",
       "        text-align: right;\n",
       "    }\n",
       "</style>\n",
       "<table border=\"1\" class=\"dataframe\">\n",
       "  <thead>\n",
       "    <tr style=\"text-align: right;\">\n",
       "      <th></th>\n",
       "      <th>event</th>\n",
       "    </tr>\n",
       "  </thead>\n",
       "  <tbody>\n",
       "    <tr>\n",
       "      <th>0</th>\n",
       "      <td>9</td>\n",
       "    </tr>\n",
       "    <tr>\n",
       "      <th>1</th>\n",
       "      <td>31</td>\n",
       "    </tr>\n",
       "    <tr>\n",
       "      <th>2</th>\n",
       "      <td>55</td>\n",
       "    </tr>\n",
       "    <tr>\n",
       "      <th>3</th>\n",
       "      <td>105</td>\n",
       "    </tr>\n",
       "    <tr>\n",
       "      <th>4</th>\n",
       "      <td>184</td>\n",
       "    </tr>\n",
       "    <tr>\n",
       "      <th>5</th>\n",
       "      <td>412</td>\n",
       "    </tr>\n",
       "    <tr>\n",
       "      <th>6</th>\n",
       "      <td>2030</td>\n",
       "    </tr>\n",
       "    <tr>\n",
       "      <th>7</th>\n",
       "      <td>36141</td>\n",
       "    </tr>\n",
       "    <tr>\n",
       "      <th>8</th>\n",
       "      <td>35554</td>\n",
       "    </tr>\n",
       "    <tr>\n",
       "      <th>9</th>\n",
       "      <td>33282</td>\n",
       "    </tr>\n",
       "    <tr>\n",
       "      <th>10</th>\n",
       "      <td>32968</td>\n",
       "    </tr>\n",
       "    <tr>\n",
       "      <th>11</th>\n",
       "      <td>36058</td>\n",
       "    </tr>\n",
       "    <tr>\n",
       "      <th>12</th>\n",
       "      <td>35788</td>\n",
       "    </tr>\n",
       "    <tr>\n",
       "      <th>13</th>\n",
       "      <td>31096</td>\n",
       "    </tr>\n",
       "  </tbody>\n",
       "</table>\n",
       "</div>"
      ],
      "text/plain": [
       "    event\n",
       "0       9\n",
       "1      31\n",
       "2      55\n",
       "3     105\n",
       "4     184\n",
       "5     412\n",
       "6    2030\n",
       "7   36141\n",
       "8   35554\n",
       "9   33282\n",
       "10  32968\n",
       "11  36058\n",
       "12  35788\n",
       "13  31096"
      ]
     },
     "execution_count": 24,
     "metadata": {},
     "output_type": "execute_result"
    }
   ],
   "source": [
    "df1 = df.pivot_table(index='date', values='event', aggfunc='count').reset_index(drop=True) # Создаем таблицу с группировкой данных по года\n",
    "df1"
   ]
  },
  {
   "cell_type": "code",
   "execution_count": 25,
   "metadata": {},
   "outputs": [
    {
     "data": {
      "image/png": "[encoded data removed]",
      "text/plain": [
       "<Figure size 864x432 with 1 Axes>"
      ]
     },
     "metadata": {
      "needs_background": "light"
     },
     "output_type": "display_data"
    }
   ],
   "source": [
    "plt.figure(figsize=[12,6])\n",
    "ax=sns.barplot(data=df1, x=df1.index, y=\"event\")\n",
    "ax.axes.set_title('Гистограмма по дате и времени',fontsize=20)\n",
    "ax.set_xlabel('Дата',fontsize=15)\n",
    "ax.set_ylabel('Частота событий',fontsize=15)\n",
    "ax.tick_params(labelsize=10,rotation = 90)\n",
    "ax.yaxis.grid(True)"
   ]
  },
  {
   "cell_type": "code",
   "execution_count": 26,
   "metadata": {},
   "outputs": [
    {
     "data": {
      "image/png": "[encoded data removed]",
      "text/plain": [
       "<Figure size 1008x360 with 1 Axes>"
      ]
     },
     "metadata": {
      "needs_background": "light"
     },
     "output_type": "display_data"
    }
   ],
   "source": [
    "# код ревьюера\n",
    "df['event_time'].hist(bins=14*24, figsize=(14, 5));"
   ]
  },
  {
   "cell_type": "code",
   "execution_count": 27,
   "metadata": {},
   "outputs": [
    {
     "data": {
      "image/png": "[encoded data removed]",
      "text/plain": [
       "<Figure size 1800x576 with 1 Axes>"
      ]
     },
     "metadata": {
      "needs_background": "light"
     },
     "output_type": "display_data"
    }
   ],
   "source": [
    "df['event_time'].hist(bins=14*24,figsize=(25,8))\n",
    "plt.title('Гистограмма по дате и времени',fontsize=25)\n",
    "plt.ylabel(\"Частота\",fontsize=15)\n",
    "plt.xlabel(\"Дата\",fontsize=15)\n",
    "plt.xticks(rotation=45,fontsize=15)\n",
    "plt.show()"
   ]
  },
  {
   "cell_type": "markdown",
   "metadata": {},
   "source": [
    "Видно, что резкий скачок числа событий произошел в дату 01.08.2019.И в дальнейшем наступил некая стабилизация.Можно также посмотреть как распределились события по времени по каждому событию.Это хорошо видно на линейчатом графике."
   ]
  },
  {
   "cell_type": "code",
   "execution_count": 28,
   "metadata": {},
   "outputs": [
    {
     "data": {
      "image/png": "[encoded data removed]",
      "text/plain": [
       "<Figure size 1296x576 with 1 Axes>"
      ]
     },
     "metadata": {
      "needs_background": "light"
     },
     "output_type": "display_data"
    }
   ],
   "source": [
    "df.pivot_table(\n",
    "    index='date',  \n",
    "    columns='event',  \n",
    "    values='user_id', \n",
    "    aggfunc='count',  \n",
    ").plot(figsize=(18,8), grid=True)\n",
    "\n",
    "plt.title('График распределения событий по времени',fontsize=20)\n",
    "plt.xlabel('Дата',fontsize=15)\n",
    "plt.ylabel('Количество событий',fontsize=15)\n",
    "plt.show()"
   ]
  },
  {
   "cell_type": "markdown",
   "metadata": {},
   "source": [
    "Видим аналогичную картину.Эксперимент проходил 2 недели, однако выяснилось, что до данные становятся полными после 01.08.2019.Данные до этой даты стоит считать устаревшими и удалить."
   ]
  },
  {
   "cell_type": "code",
   "execution_count": 29,
   "metadata": {
    "scrolled": false
   },
   "outputs": [
    {
     "name": "stdout",
     "output_type": "stream",
     "text": [
      "<class 'pandas.core.frame.DataFrame'>\n",
      "Int64Index: 240887 entries, 2826 to 243712\n",
      "Data columns (total 5 columns):\n",
      " #   Column      Non-Null Count   Dtype         \n",
      "---  ------      --------------   -----         \n",
      " 0   event       240887 non-null  object        \n",
      " 1   user_id     240887 non-null  int64         \n",
      " 2   event_time  240887 non-null  datetime64[ns]\n",
      " 3   group       240887 non-null  int64         \n",
      " 4   date        240887 non-null  object        \n",
      "dtypes: datetime64[ns](1), int64(2), object(2)\n",
      "memory usage: 11.0+ MB\n"
     ]
    }
   ],
   "source": [
    "\n",
    "df_cl = df.query('date >= datetime(2019, 8, 1).date()')\n",
    "\n",
    "df_cl.info()"
   ]
  },
  {
   "cell_type": "markdown",
   "metadata": {},
   "source": [
    "Посмотрим, за какой период теперь мы располагаем данными"
   ]
  },
  {
   "cell_type": "code",
   "execution_count": 30,
   "metadata": {},
   "outputs": [
    {
     "name": "stdout",
     "output_type": "stream",
     "text": [
      "Минимальная дата: 2019-08-01 00:07:28\n",
      "Максимальная дата: 2019-08-07 21:15:17\n",
      "Данные предтавлены за период от 2019-08-01 00:07:28 до 2019-08-07 21:15:17, разница в 6 days 21:07:49.\n"
     ]
    }
   ],
   "source": [
    "min_date = df_cl['event_time'].min()\n",
    "max_date = df_cl['event_time'].max()\n",
    "print('Минимальная дата:',min_date)\n",
    "print('Максимальная дата:',max_date)\n",
    "diff = max_date - min_date\n",
    "\n",
    "print('Данные предтавлены за период от %s до %s, разница в %s.' % (min_date,max_date,diff))"
   ]
  },
  {
   "cell_type": "markdown",
   "metadata": {},
   "source": [
    "Терерь у нас данные за неделю."
   ]
  },
  {
   "cell_type": "markdown",
   "metadata": {},
   "source": [
    "### Много ли событий и пользователей вы потеряли, отбросив старые данные?"
   ]
  },
  {
   "cell_type": "markdown",
   "metadata": {},
   "source": [
    "Посмотрим на относительные потери событий и пользователей при удалении старых данных."
   ]
  },
  {
   "cell_type": "code",
   "execution_count": 31,
   "metadata": {},
   "outputs": [
    {
     "name": "stdout",
     "output_type": "stream",
     "text": [
      "Относительные потери пользователей при фильтрации: 0.23%\n"
     ]
    }
   ],
   "source": [
    "print('Относительные потери пользователей при фильтрации:','{0:.2%}'.format((len(df['user_id'].unique())-len(df_cl['user_id'].unique()))/\n",
    "                                                                            (len(df['user_id'].unique()))))"
   ]
  },
  {
   "cell_type": "code",
   "execution_count": 32,
   "metadata": {},
   "outputs": [
    {
     "name": "stdout",
     "output_type": "stream",
     "text": [
      "Относительные потери событий при фильтрации: 1.16%\n"
     ]
    }
   ],
   "source": [
    "print('Относительные потери событий при фильтрации:','{0:.2%}'.format((len(df['event'])-len(df_cl['event']))/\n",
    "                                                                      (len(df['event']))))"
   ]
  },
  {
   "cell_type": "code",
   "execution_count": 33,
   "metadata": {
    "scrolled": true
   },
   "outputs": [
    {
     "name": "stdout",
     "output_type": "stream",
     "text": [
      "Абсолютные  потери пользователей при фильтрации: 17\n"
     ]
    }
   ],
   "source": [
    "print('Абсолютные  потери пользователей при фильтрации:',len(df['user_id'].unique())-len(df_cl['user_id'].unique()))"
   ]
  },
  {
   "cell_type": "code",
   "execution_count": 34,
   "metadata": {},
   "outputs": [
    {
     "name": "stdout",
     "output_type": "stream",
     "text": [
      "Абсолютные потери событий при фильтрации: 2826\n"
     ]
    }
   ],
   "source": [
    "print('Абсолютные потери событий при фильтрации:',len(df['event'])-len(df_cl['event']))"
   ]
  },
  {
   "cell_type": "markdown",
   "metadata": {},
   "source": [
    "\n",
    "### Проверьте, что у вас есть пользователи из всех трёх экспериментальных груп"
   ]
  },
  {
   "cell_type": "markdown",
   "metadata": {},
   "source": [
    "Проверим,нет ли таких пользоавтелей, которые попали более чем в  одну группу"
   ]
  },
  {
   "cell_type": "code",
   "execution_count": 35,
   "metadata": {},
   "outputs": [
    {
     "data": {
      "text/plain": [
       "0"
      ]
     },
     "execution_count": 35,
     "metadata": {},
     "output_type": "execute_result"
    }
   ],
   "source": [
    "len(df_cl.groupby('user_id')['group'].nunique().reset_index().query('group > 1'))"
   ]
  },
  {
   "cell_type": "code",
   "execution_count": 36,
   "metadata": {},
   "outputs": [
    {
     "data": {
      "text/html": [
       "<div>\n",
       "<style scoped>\n",
       "    .dataframe tbody tr th:only-of-type {\n",
       "        vertical-align: middle;\n",
       "    }\n",
       "\n",
       "    .dataframe tbody tr th {\n",
       "        vertical-align: top;\n",
       "    }\n",
       "\n",
       "    .dataframe thead th {\n",
       "        text-align: right;\n",
       "    }\n",
       "</style>\n",
       "<table border=\"1\" class=\"dataframe\">\n",
       "  <thead>\n",
       "    <tr style=\"text-align: right;\">\n",
       "      <th></th>\n",
       "      <th>group</th>\n",
       "      <th>user_id</th>\n",
       "    </tr>\n",
       "  </thead>\n",
       "  <tbody>\n",
       "    <tr>\n",
       "      <th>0</th>\n",
       "      <td>246</td>\n",
       "      <td>2484</td>\n",
       "    </tr>\n",
       "    <tr>\n",
       "      <th>1</th>\n",
       "      <td>247</td>\n",
       "      <td>2513</td>\n",
       "    </tr>\n",
       "    <tr>\n",
       "      <th>2</th>\n",
       "      <td>248</td>\n",
       "      <td>2537</td>\n",
       "    </tr>\n",
       "  </tbody>\n",
       "</table>\n",
       "</div>"
      ],
      "text/plain": [
       "   group  user_id\n",
       "0    246     2484\n",
       "1    247     2513\n",
       "2    248     2537"
      ]
     },
     "execution_count": 36,
     "metadata": {},
     "output_type": "execute_result"
    }
   ],
   "source": [
    "df_cl.groupby('group')['user_id'].nunique().reset_index()"
   ]
  },
  {
   "cell_type": "markdown",
   "metadata": {},
   "source": [
    "Таким образом видно,что пользователи есть во всех трех группах, и распределены они достаточно равномерно.Пользователей,которые бы попали больше,чем в одну группу не обнаружено. "
   ]
  },
  {
   "cell_type": "markdown",
   "metadata": {},
   "source": [
    "**ВЫВОД по Шагу 3**\n",
    "\n",
    "На этапе изучение и проверки данных выявлено следующее:\n",
    "\n",
    "- Всего событий в логе - 243713.Уникальных событий 5,и их названия тоже уникальны.Всего в логе 7551 уникальный пользователь.\n",
    "\n",
    "- Среднее чисо событий на одного пользователя -32.Однако построив график распределения событий по числу пользователей  мы выяснили,что выборук  лучше характеризует  медианное значение событий на одного пользователя - 20! \n",
    "\n",
    "- Данные педставленны за период: **с 2019-07-25 04:43:36 по 2019-08-07 21:15:17** .То есть практически за  2 недели( 14 дней)\n",
    "\n",
    "- С целью посмотреть,как распределились события по дате и времени и построена гистограмма и График распределения событий по времени.Выяснено, что до данные становятся полными после 01.08.2019.Данные до этой даты стоит считать устаревшими и принято решение их удалить.\n",
    "\n",
    "- Отфильтрованный период -**от 2019-08-01 00:07:28 до 2019-08-07 21:15:17**.То есть приблизительно за 1 неделю(или 7 дней)\n",
    "\n",
    "-- Относительные потери пользователей при фильтрации составили  0.23%(17)А Относительные потери числа событий - соответственно 1.16%(2826).\n",
    "\n",
    "- Пользователи  распределены достаточно равномерно по трем группам: в группе `246`- 2484 пользователя и `247` — 2513(это контрольные группы), а в`248`— 2537 пользователей(Это экспериментальная группа).Пользователей,которые бы попали больше,чем в одну группу не обнаружено."
   ]
  },
  {
   "cell_type": "markdown",
   "metadata": {},
   "source": [
    "## Шаг 4. Изучение воронки событий"
   ]
  },
  {
   "cell_type": "markdown",
   "metadata": {},
   "source": [
    "### Какие события есть в логах, как часто они встречаются. Сортировка событий по частоте.\n",
    "\n"
   ]
  },
  {
   "cell_type": "code",
   "execution_count": 37,
   "metadata": {},
   "outputs": [
    {
     "data": {
      "text/plain": [
       "array(['Tutorial', 'MainScreenAppear', 'OffersScreenAppear',\n",
       "       'CartScreenAppear', 'PaymentScreenSuccessful'], dtype=object)"
      ]
     },
     "execution_count": 37,
     "metadata": {},
     "output_type": "execute_result"
    }
   ],
   "source": [
    "df_cl['event'].unique()"
   ]
  },
  {
   "cell_type": "markdown",
   "metadata": {},
   "source": [
    "`MainScreenAppear` - просмотр главной страницы\n",
    "\n",
    "`OffersScreenAppear` -  просмотр страницы  товара\n",
    "\n",
    "`CartScreenAppear` - просмотр корзинаы\n",
    "\n",
    "`PaymentScreenSuccessful`- переход на страницу успешной оплаты\n",
    "\n",
    "`Tutorial`- просмотр руководства пользователя\n"
   ]
  },
  {
   "cell_type": "code",
   "execution_count": 38,
   "metadata": {},
   "outputs": [
    {
     "data": {
      "text/html": [
       "<div>\n",
       "<style scoped>\n",
       "    .dataframe tbody tr th:only-of-type {\n",
       "        vertical-align: middle;\n",
       "    }\n",
       "\n",
       "    .dataframe tbody tr th {\n",
       "        vertical-align: top;\n",
       "    }\n",
       "\n",
       "    .dataframe thead th {\n",
       "        text-align: right;\n",
       "    }\n",
       "</style>\n",
       "<table border=\"1\" class=\"dataframe\">\n",
       "  <thead>\n",
       "    <tr style=\"text-align: right;\">\n",
       "      <th></th>\n",
       "      <th>user_id</th>\n",
       "    </tr>\n",
       "    <tr>\n",
       "      <th>event</th>\n",
       "      <th></th>\n",
       "    </tr>\n",
       "  </thead>\n",
       "  <tbody>\n",
       "    <tr>\n",
       "      <th>MainScreenAppear</th>\n",
       "      <td>117328</td>\n",
       "    </tr>\n",
       "    <tr>\n",
       "      <th>OffersScreenAppear</th>\n",
       "      <td>46333</td>\n",
       "    </tr>\n",
       "    <tr>\n",
       "      <th>CartScreenAppear</th>\n",
       "      <td>42303</td>\n",
       "    </tr>\n",
       "    <tr>\n",
       "      <th>PaymentScreenSuccessful</th>\n",
       "      <td>33918</td>\n",
       "    </tr>\n",
       "    <tr>\n",
       "      <th>Tutorial</th>\n",
       "      <td>1005</td>\n",
       "    </tr>\n",
       "  </tbody>\n",
       "</table>\n",
       "</div>"
      ],
      "text/plain": [
       "                         user_id\n",
       "event                           \n",
       "MainScreenAppear          117328\n",
       "OffersScreenAppear         46333\n",
       "CartScreenAppear           42303\n",
       "PaymentScreenSuccessful    33918\n",
       "Tutorial                    1005"
      ]
     },
     "execution_count": 38,
     "metadata": {},
     "output_type": "execute_result"
    }
   ],
   "source": [
    "df2 = df_cl.pivot_table(index='event', values='user_id', aggfunc='count').sort_values(by='user_id',ascending = False)\n",
    "df2"
   ]
  },
  {
   "cell_type": "code",
   "execution_count": 39,
   "metadata": {},
   "outputs": [
    {
     "data": {
      "text/plain": [
       "<matplotlib.legend.Legend at 0x20ccd573700>"
      ]
     },
     "execution_count": 39,
     "metadata": {},
     "output_type": "execute_result"
    },
    {
     "data": {
      "image/png": "[encoded data removed]",
      "text/plain": [
       "<Figure size 576x576 with 1 Axes>"
      ]
     },
     "metadata": {},
     "output_type": "display_data"
    }
   ],
   "source": [
    "df2.plot(kind='pie',figsize=(8,8), y= 'user_id',autopct='%1.1f%%',fontsize = 12)\n",
    "\n",
    "plt.title(\"Распределение событий по логам\",fontsize= 20)\n",
    "plt.legend(bbox_to_anchor=(1, 1), loc='upper left')"
   ]
  },
  {
   "cell_type": "markdown",
   "metadata": {},
   "source": [
    "**Вывод** \n",
    "\n",
    "Итак мы видим  5 событий:  просмотр главной страницы(встречается в 48.7%),просмотр страницы товара(19.2%),просмотр корзины(17.6%),переход на страницу успешной оплаты(14.1%) и просмотр руководства пользователя(всего 0.4%).Первые 4 собыьия логично вытекают одно из другого. А последнее событие- просмотр  инструкций,этап не обязательный.Туда пользователь обращается редко, по мере необходимости.Видимо в данном приложении все и так достаточно понятно!"
   ]
  },
  {
   "cell_type": "markdown",
   "metadata": {},
   "source": [
    "### Расчет числа пользователей совершающих каждое из этих событий.Сортировка событий по числу пользователей.Расчет доли пользователей, которые хоть раз совершали событие."
   ]
  },
  {
   "cell_type": "code",
   "execution_count": 40,
   "metadata": {},
   "outputs": [
    {
     "data": {
      "text/html": [
       "<div>\n",
       "<style scoped>\n",
       "    .dataframe tbody tr th:only-of-type {\n",
       "        vertical-align: middle;\n",
       "    }\n",
       "\n",
       "    .dataframe tbody tr th {\n",
       "        vertical-align: top;\n",
       "    }\n",
       "\n",
       "    .dataframe thead th {\n",
       "        text-align: right;\n",
       "    }\n",
       "</style>\n",
       "<table border=\"1\" class=\"dataframe\">\n",
       "  <thead>\n",
       "    <tr style=\"text-align: right;\">\n",
       "      <th></th>\n",
       "      <th>event</th>\n",
       "      <th>users</th>\n",
       "      <th>%users</th>\n",
       "    </tr>\n",
       "  </thead>\n",
       "  <tbody>\n",
       "    <tr>\n",
       "      <th>0</th>\n",
       "      <td>MainScreenAppear</td>\n",
       "      <td>7419</td>\n",
       "      <td>98.47</td>\n",
       "    </tr>\n",
       "    <tr>\n",
       "      <th>1</th>\n",
       "      <td>OffersScreenAppear</td>\n",
       "      <td>4593</td>\n",
       "      <td>60.96</td>\n",
       "    </tr>\n",
       "    <tr>\n",
       "      <th>2</th>\n",
       "      <td>CartScreenAppear</td>\n",
       "      <td>3734</td>\n",
       "      <td>49.56</td>\n",
       "    </tr>\n",
       "    <tr>\n",
       "      <th>3</th>\n",
       "      <td>PaymentScreenSuccessful</td>\n",
       "      <td>3539</td>\n",
       "      <td>46.97</td>\n",
       "    </tr>\n",
       "    <tr>\n",
       "      <th>4</th>\n",
       "      <td>Tutorial</td>\n",
       "      <td>840</td>\n",
       "      <td>11.15</td>\n",
       "    </tr>\n",
       "  </tbody>\n",
       "</table>\n",
       "</div>"
      ],
      "text/plain": [
       "                     event  users  %users\n",
       "0         MainScreenAppear   7419   98.47\n",
       "1       OffersScreenAppear   4593   60.96\n",
       "2         CartScreenAppear   3734   49.56\n",
       "3  PaymentScreenSuccessful   3539   46.97\n",
       "4                 Tutorial    840   11.15"
      ]
     },
     "execution_count": 40,
     "metadata": {},
     "output_type": "execute_result"
    }
   ],
   "source": [
    "df3 = (df_cl.groupby('event').agg({'user_id': 'nunique'}).\n",
    "          rename(columns={'user_id' : 'users'}).\n",
    "          sort_values(by='users', ascending=False)).reset_index()\n",
    "df3['%users'] = (df3['users'] / df_cl['user_id'].nunique() * 100).round(2)\n",
    "df3"
   ]
  },
  {
   "cell_type": "code",
   "execution_count": 41,
   "metadata": {},
   "outputs": [
    {
     "data": {
      "image/png": "[encoded data removed]",
      "text/plain": [
       "<Figure size 1440x360 with 1 Axes>"
      ]
     },
     "metadata": {
      "needs_background": "light"
     },
     "output_type": "display_data"
    }
   ],
   "source": [
    "plt.figure (figsize=(20,5))\n",
    "\n",
    "ax = sns.barplot(x='event',y='%users',data=df3,\n",
    "                 palette='pastel')\n",
    "\n",
    "ax.axes.set_title('Доля пользователей по событиям',fontsize=20)\n",
    "ax.set_xlabel('Событие',fontsize=15)\n",
    "ax.set_ylabel('Доля %',fontsize=15)\n",
    "ax.tick_params(labelsize=15)\n",
    "ax.yaxis.grid(True);"
   ]
  },
  {
   "cell_type": "markdown",
   "metadata": {},
   "source": [
    "**Вывод** \n",
    "\n",
    "- 98.47 % всех пользователей просматривают главную страницу приложения(видно,что какя-то часть все- таки минует этот этап)\n",
    "\n",
    "- 60.96 % всех пользователей просматривают  страницу товара\n",
    "\n",
    "- 49.56 % попадают на страницу корзины \n",
    "\n",
    "- 46.97% перешли  на страницу успешной оплаты\n",
    "\n",
    "- 11.15% просмотривали  руководство пользователя"
   ]
  },
  {
   "cell_type": "markdown",
   "metadata": {},
   "source": [
    "### Предположения о том, в каком порядке происходят события.\n",
    "Все ли они выстраиваются в последовательную цепочку? Их не нужно учитывать при расчёте воронки.\n",
    "\n",
    "\n"
   ]
  },
  {
   "cell_type": "markdown",
   "metadata": {},
   "source": [
    "Итак отметим :\n",
    "    - В последовательнужю  цепочку выстраиваются следующие 4 события:\n",
    "       **Посещение главной страницы приложения  → → →просмотр страницы товара  → → → попадание в корзину  → → → оплата товара**\n",
    "     Пятое  событие - просмотр руководства пользователя в  эту цепочку не входит и в рачет пользовательской воронки это собыьие учитывать не нужно!      "
   ]
  },
  {
   "cell_type": "markdown",
   "metadata": {},
   "source": [
    "исключим  из воронки событие Tutorial"
   ]
  },
  {
   "cell_type": "code",
   "execution_count": 42,
   "metadata": {},
   "outputs": [
    {
     "data": {
      "text/html": [
       "<div>\n",
       "<style scoped>\n",
       "    .dataframe tbody tr th:only-of-type {\n",
       "        vertical-align: middle;\n",
       "    }\n",
       "\n",
       "    .dataframe tbody tr th {\n",
       "        vertical-align: top;\n",
       "    }\n",
       "\n",
       "    .dataframe thead th {\n",
       "        text-align: right;\n",
       "    }\n",
       "</style>\n",
       "<table border=\"1\" class=\"dataframe\">\n",
       "  <thead>\n",
       "    <tr style=\"text-align: right;\">\n",
       "      <th></th>\n",
       "      <th>event</th>\n",
       "      <th>users</th>\n",
       "      <th>%users</th>\n",
       "    </tr>\n",
       "  </thead>\n",
       "  <tbody>\n",
       "    <tr>\n",
       "      <th>0</th>\n",
       "      <td>MainScreenAppear</td>\n",
       "      <td>7419</td>\n",
       "      <td>98.47</td>\n",
       "    </tr>\n",
       "    <tr>\n",
       "      <th>1</th>\n",
       "      <td>OffersScreenAppear</td>\n",
       "      <td>4593</td>\n",
       "      <td>60.96</td>\n",
       "    </tr>\n",
       "    <tr>\n",
       "      <th>2</th>\n",
       "      <td>CartScreenAppear</td>\n",
       "      <td>3734</td>\n",
       "      <td>49.56</td>\n",
       "    </tr>\n",
       "    <tr>\n",
       "      <th>3</th>\n",
       "      <td>PaymentScreenSuccessful</td>\n",
       "      <td>3539</td>\n",
       "      <td>46.97</td>\n",
       "    </tr>\n",
       "  </tbody>\n",
       "</table>\n",
       "</div>"
      ],
      "text/plain": [
       "                     event  users  %users\n",
       "0         MainScreenAppear   7419   98.47\n",
       "1       OffersScreenAppear   4593   60.96\n",
       "2         CartScreenAppear   3734   49.56\n",
       "3  PaymentScreenSuccessful   3539   46.97"
      ]
     },
     "execution_count": 42,
     "metadata": {},
     "output_type": "execute_result"
    }
   ],
   "source": [
    "\n",
    "df3 = df3.query('event!=\"Tutorial\"').sort_values(by='users', ascending=False)\n",
    "df3"
   ]
  },
  {
   "cell_type": "markdown",
   "metadata": {},
   "source": [
    "\n",
    "### Расчет по воронке событий , какая доля пользователей проходит на следующий шаг воронки (от числа пользователей на предыдущем).  \n",
    " Для последовательности событий A → B → C считаем отношение числа пользователей с событием B к количеству пользователей с  событием A, а также отношение числа пользователей с событием C к количеству пользователей с событием B.\n"
   ]
  },
  {
   "cell_type": "markdown",
   "metadata": {},
   "source": [
    "Построим воронку событий с использованием библиотеки `Plotly`.Она позволяет наглядно представить нужные данные."
   ]
  },
  {
   "cell_type": "code",
   "execution_count": 43,
   "metadata": {},
   "outputs": [
    {
     "data": {
      "application/vnd.plotly.v1+json": {
       "config": {
        "plotlyServerURL": "https://plot.ly"
       },
       "data": [
        {
         "marker": {
          "color": "lightcoral"
         },
         "textinfo": "value+percent initial+percent previous",
         "type": "funnel",
         "x": [
          7419,
          4593,
          3734,
          3539
         ],
         "y": [
          "просматривают главную страницу",
          "просмотр страницы товара",
          "попадание в корзину",
          "оплата товара"
         ]
        }
       ],
       "layout": {
        "template": {
         "data": {
          "bar": [
           {
            "error_x": {
             "color": "#2a3f5f"
            },
            "error_y": {
             "color": "#2a3f5f"
            },
            "marker": {
             "line": {
              "color": "#E5ECF6",
              "width": 0.5
             },
             "pattern": {
              "fillmode": "overlay",
              "size": 10,
              "solidity": 0.2
             }
            },
            "type": "bar"
           }
          ],
          "barpolar": [
           {
            "marker": {
             "line": {
              "color": "#E5ECF6",
              "width": 0.5
             },
             "pattern": {
              "fillmode": "overlay",
              "size": 10,
              "solidity": 0.2
             }
            },
            "type": "barpolar"
           }
          ],
          "carpet": [
           {
            "aaxis": {
             "endlinecolor": "#2a3f5f",
             "gridcolor": "white",
             "linecolor": "white",
             "minorgridcolor": "white",
             "startlinecolor": "#2a3f5f"
            },
            "baxis": {
             "endlinecolor": "#2a3f5f",
             "gridcolor": "white",
             "linecolor": "white",
             "minorgridcolor": "white",
             "startlinecolor": "#2a3f5f"
            },
            "type": "carpet"
           }
          ],
          "choropleth": [
           {
            "colorbar": {
             "outlinewidth": 0,
             "ticks": ""
            },
            "type": "choropleth"
           }
          ],
          "contour": [
           {
            "colorbar": {
             "outlinewidth": 0,
             "ticks": ""
            },
            "colorscale": [
             [
              0,
              "#0d0887"
             ],
             [
              0.1111111111111111,
              "#46039f"
             ],
             [
              0.2222222222222222,
              "#7201a8"
             ],
             [
              0.3333333333333333,
              "#9c179e"
             ],
             [
              0.4444444444444444,
              "#bd3786"
             ],
             [
              0.5555555555555556,
              "#d8576b"
             ],
             [
              0.6666666666666666,
              "#ed7953"
             ],
             [
              0.7777777777777778,
              "#fb9f3a"
             ],
             [
              0.8888888888888888,
              "#fdca26"
             ],
             [
              1,
              "#f0f921"
             ]
            ],
            "type": "contour"
           }
          ],
          "contourcarpet": [
           {
            "colorbar": {
             "outlinewidth": 0,
             "ticks": ""
            },
            "type": "contourcarpet"
           }
          ],
          "heatmap": [
           {
            "colorbar": {
             "outlinewidth": 0,
             "ticks": ""
            },
            "colorscale": [
             [
              0,
              "#0d0887"
             ],
             [
              0.1111111111111111,
              "#46039f"
             ],
             [
              0.2222222222222222,
              "#7201a8"
             ],
             [
              0.3333333333333333,
              "#9c179e"
             ],
             [
              0.4444444444444444,
              "#bd3786"
             ],
             [
              0.5555555555555556,
              "#d8576b"
             ],
             [
              0.6666666666666666,
              "#ed7953"
             ],
             [
              0.7777777777777778,
              "#fb9f3a"
             ],
             [
              0.8888888888888888,
              "#fdca26"
             ],
             [
              1,
              "#f0f921"
             ]
            ],
            "type": "heatmap"
           }
          ],
          "heatmapgl": [
           {
            "colorbar": {
             "outlinewidth": 0,
             "ticks": ""
            },
            "colorscale": [
             [
              0,
              "#0d0887"
             ],
             [
              0.1111111111111111,
              "#46039f"
             ],
             [
              0.2222222222222222,
              "#7201a8"
             ],
             [
              0.3333333333333333,
              "#9c179e"
             ],
             [
              0.4444444444444444,
              "#bd3786"
             ],
             [
              0.5555555555555556,
              "#d8576b"
             ],
             [
              0.6666666666666666,
              "#ed7953"
             ],
             [
              0.7777777777777778,
              "#fb9f3a"
             ],
             [
              0.8888888888888888,
              "#fdca26"
             ],
             [
              1,
              "#f0f921"
             ]
            ],
            "type": "heatmapgl"
           }
          ],
          "histogram": [
           {
            "marker": {
             "pattern": {
              "fillmode": "overlay",
              "size": 10,
              "solidity": 0.2
             }
            },
            "type": "histogram"
           }
          ],
          "histogram2d": [
           {
            "colorbar": {
             "outlinewidth": 0,
             "ticks": ""
            },
            "colorscale": [
             [
              0,
              "#0d0887"
             ],
             [
              0.1111111111111111,
              "#46039f"
             ],
             [
              0.2222222222222222,
              "#7201a8"
             ],
             [
              0.3333333333333333,
              "#9c179e"
             ],
             [
              0.4444444444444444,
              "#bd3786"
             ],
             [
              0.5555555555555556,
              "#d8576b"
             ],
             [
              0.6666666666666666,
              "#ed7953"
             ],
             [
              0.7777777777777778,
              "#fb9f3a"
             ],
             [
              0.8888888888888888,
              "#fdca26"
             ],
             [
              1,
              "#f0f921"
             ]
            ],
            "type": "histogram2d"
           }
          ],
          "histogram2dcontour": [
           {
            "colorbar": {
             "outlinewidth": 0,
             "ticks": ""
            },
            "colorscale": [
             [
              0,
              "#0d0887"
             ],
             [
              0.1111111111111111,
              "#46039f"
             ],
             [
              0.2222222222222222,
              "#7201a8"
             ],
             [
              0.3333333333333333,
              "#9c179e"
             ],
             [
              0.4444444444444444,
              "#bd3786"
             ],
             [
              0.5555555555555556,
              "#d8576b"
             ],
             [
              0.6666666666666666,
              "#ed7953"
             ],
             [
              0.7777777777777778,
              "#fb9f3a"
             ],
             [
              0.8888888888888888,
              "#fdca26"
             ],
             [
              1,
              "#f0f921"
             ]
            ],
            "type": "histogram2dcontour"
           }
          ],
          "mesh3d": [
           {
            "colorbar": {
             "outlinewidth": 0,
             "ticks": ""
            },
            "type": "mesh3d"
           }
          ],
          "parcoords": [
           {
            "line": {
             "colorbar": {
              "outlinewidth": 0,
              "ticks": ""
             }
            },
            "type": "parcoords"
           }
          ],
          "pie": [
           {
            "automargin": true,
            "type": "pie"
           }
          ],
          "scatter": [
           {
            "fillpattern": {
             "fillmode": "overlay",
             "size": 10,
             "solidity": 0.2
            },
            "type": "scatter"
           }
          ],
          "scatter3d": [
           {
            "line": {
             "colorbar": {
              "outlinewidth": 0,
              "ticks": ""
             }
            },
            "marker": {
             "colorbar": {
              "outlinewidth": 0,
              "ticks": ""
             }
            },
            "type": "scatter3d"
           }
          ],
          "scattercarpet": [
           {
            "marker": {
             "colorbar": {
              "outlinewidth": 0,
              "ticks": ""
             }
            },
            "type": "scattercarpet"
           }
          ],
          "scattergeo": [
           {
            "marker": {
             "colorbar": {
              "outlinewidth": 0,
              "ticks": ""
             }
            },
            "type": "scattergeo"
           }
          ],
          "scattergl": [
           {
            "marker": {
             "colorbar": {
              "outlinewidth": 0,
              "ticks": ""
             }
            },
            "type": "scattergl"
           }
          ],
          "scattermapbox": [
           {
            "marker": {
             "colorbar": {
              "outlinewidth": 0,
              "ticks": ""
             }
            },
            "type": "scattermapbox"
           }
          ],
          "scatterpolar": [
           {
            "marker": {
             "colorbar": {
              "outlinewidth": 0,
              "ticks": ""
             }
            },
            "type": "scatterpolar"
           }
          ],
          "scatterpolargl": [
           {
            "marker": {
             "colorbar": {
              "outlinewidth": 0,
              "ticks": ""
             }
            },
            "type": "scatterpolargl"
           }
          ],
          "scatterternary": [
           {
            "marker": {
             "colorbar": {
              "outlinewidth": 0,
              "ticks": ""
             }
            },
            "type": "scatterternary"
           }
          ],
          "surface": [
           {
            "colorbar": {
             "outlinewidth": 0,
             "ticks": ""
            },
            "colorscale": [
             [
              0,
              "#0d0887"
             ],
             [
              0.1111111111111111,
              "#46039f"
             ],
             [
              0.2222222222222222,
              "#7201a8"
             ],
             [
              0.3333333333333333,
              "#9c179e"
             ],
             [
              0.4444444444444444,
              "#bd3786"
             ],
             [
              0.5555555555555556,
              "#d8576b"
             ],
             [
              0.6666666666666666,
              "#ed7953"
             ],
             [
              0.7777777777777778,
              "#fb9f3a"
             ],
             [
              0.8888888888888888,
              "#fdca26"
             ],
             [
              1,
              "#f0f921"
             ]
            ],
            "type": "surface"
           }
          ],
          "table": [
           {
            "cells": {
             "fill": {
              "color": "#EBF0F8"
             },
             "line": {
              "color": "white"
             }
            },
            "header": {
             "fill": {
              "color": "#C8D4E3"
             },
             "line": {
              "color": "white"
             }
            },
            "type": "table"
           }
          ]
         },
         "layout": {
          "annotationdefaults": {
           "arrowcolor": "#2a3f5f",
           "arrowhead": 0,
           "arrowwidth": 1
          },
          "autotypenumbers": "strict",
          "coloraxis": {
           "colorbar": {
            "outlinewidth": 0,
            "ticks": ""
           }
          },
          "colorscale": {
           "diverging": [
            [
             0,
             "#8e0152"
            ],
            [
             0.1,
             "#c51b7d"
            ],
            [
             0.2,
             "#de77ae"
            ],
            [
             0.3,
             "#f1b6da"
            ],
            [
             0.4,
             "#fde0ef"
            ],
            [
             0.5,
             "#f7f7f7"
            ],
            [
             0.6,
             "#e6f5d0"
            ],
            [
             0.7,
             "#b8e186"
            ],
            [
             0.8,
             "#7fbc41"
            ],
            [
             0.9,
             "#4d9221"
            ],
            [
             1,
             "#276419"
            ]
           ],
           "sequential": [
            [
             0,
             "#0d0887"
            ],
            [
             0.1111111111111111,
             "#46039f"
            ],
            [
             0.2222222222222222,
             "#7201a8"
            ],
            [
             0.3333333333333333,
             "#9c179e"
            ],
            [
             0.4444444444444444,
             "#bd3786"
            ],
            [
             0.5555555555555556,
             "#d8576b"
            ],
            [
             0.6666666666666666,
             "#ed7953"
            ],
            [
             0.7777777777777778,
             "#fb9f3a"
            ],
            [
             0.8888888888888888,
             "#fdca26"
            ],
            [
             1,
             "#f0f921"
            ]
           ],
           "sequentialminus": [
            [
             0,
             "#0d0887"
            ],
            [
             0.1111111111111111,
             "#46039f"
            ],
            [
             0.2222222222222222,
             "#7201a8"
            ],
            [
             0.3333333333333333,
             "#9c179e"
            ],
            [
             0.4444444444444444,
             "#bd3786"
            ],
            [
             0.5555555555555556,
             "#d8576b"
            ],
            [
             0.6666666666666666,
             "#ed7953"
            ],
            [
             0.7777777777777778,
             "#fb9f3a"
            ],
            [
             0.8888888888888888,
             "#fdca26"
            ],
            [
             1,
             "#f0f921"
            ]
           ]
          },
          "colorway": [
           "#636efa",
           "#EF553B",
           "#00cc96",
           "#ab63fa",
           "#FFA15A",
           "#19d3f3",
           "#FF6692",
           "#B6E880",
           "#FF97FF",
           "#FECB52"
          ],
          "font": {
           "color": "#2a3f5f"
          },
          "geo": {
           "bgcolor": "white",
           "lakecolor": "white",
           "landcolor": "#E5ECF6",
           "showlakes": true,
           "showland": true,
           "subunitcolor": "white"
          },
          "hoverlabel": {
           "align": "left"
          },
          "hovermode": "closest",
          "mapbox": {
           "style": "light"
          },
          "paper_bgcolor": "white",
          "plot_bgcolor": "#E5ECF6",
          "polar": {
           "angularaxis": {
            "gridcolor": "white",
            "linecolor": "white",
            "ticks": ""
           },
           "bgcolor": "#E5ECF6",
           "radialaxis": {
            "gridcolor": "white",
            "linecolor": "white",
            "ticks": ""
           }
          },
          "scene": {
           "xaxis": {
            "backgroundcolor": "#E5ECF6",
            "gridcolor": "white",
            "gridwidth": 2,
            "linecolor": "white",
            "showbackground": true,
            "ticks": "",
            "zerolinecolor": "white"
           },
           "yaxis": {
            "backgroundcolor": "#E5ECF6",
            "gridcolor": "white",
            "gridwidth": 2,
            "linecolor": "white",
            "showbackground": true,
            "ticks": "",
            "zerolinecolor": "white"
           },
           "zaxis": {
            "backgroundcolor": "#E5ECF6",
            "gridcolor": "white",
            "gridwidth": 2,
            "linecolor": "white",
            "showbackground": true,
            "ticks": "",
            "zerolinecolor": "white"
           }
          },
          "shapedefaults": {
           "line": {
            "color": "#2a3f5f"
           }
          },
          "ternary": {
           "aaxis": {
            "gridcolor": "white",
            "linecolor": "white",
            "ticks": ""
           },
           "baxis": {
            "gridcolor": "white",
            "linecolor": "white",
            "ticks": ""
           },
           "bgcolor": "#E5ECF6",
           "caxis": {
            "gridcolor": "white",
            "linecolor": "white",
            "ticks": ""
           }
          },
          "title": {
           "x": 0.05
          },
          "xaxis": {
           "automargin": true,
           "gridcolor": "white",
           "linecolor": "white",
           "ticks": "",
           "title": {
            "standoff": 15
           },
           "zerolinecolor": "white",
           "zerolinewidth": 2
          },
          "yaxis": {
           "automargin": true,
           "gridcolor": "white",
           "linecolor": "white",
           "ticks": "",
           "title": {
            "standoff": 15
           },
           "zerolinecolor": "white",
           "zerolinewidth": 2
          }
         }
        },
        "title": {
         "text": "Воронка событий "
        }
       }
      },
      "text/html": [
       "<div>                            <div id=\"2423dd4d-021b-4665-9726-7fc5ad2df5d9\" class=\"plotly-graph-div\" style=\"height:525px; width:100%;\"></div>            <script type=\"text/javascript\">                require([\"plotly\"], function(Plotly) {                    window.PLOTLYENV=window.PLOTLYENV || {};                                    if (document.getElementById(\"2423dd4d-021b-4665-9726-7fc5ad2df5d9\")) {                    Plotly.newPlot(                        \"2423dd4d-021b-4665-9726-7fc5ad2df5d9\",                        [{\"marker\":{\"color\":\"lightcoral\"},\"textinfo\":\"value+percent initial+percent previous\",\"x\":[7419,4593,3734,3539],\"y\":[\"\\u043f\\u0440\\u043e\\u0441\\u043c\\u0430\\u0442\\u0440\\u0438\\u0432\\u0430\\u044e\\u0442 \\u0433\\u043b\\u0430\\u0432\\u043d\\u0443\\u044e \\u0441\\u0442\\u0440\\u0430\\u043d\\u0438\\u0446\\u0443\",\"\\u043f\\u0440\\u043e\\u0441\\u043c\\u043e\\u0442\\u0440 \\u0441\\u0442\\u0440\\u0430\\u043d\\u0438\\u0446\\u044b \\u0442\\u043e\\u0432\\u0430\\u0440\\u0430\",\"\\u043f\\u043e\\u043f\\u0430\\u0434\\u0430\\u043d\\u0438\\u0435 \\u0432 \\u043a\\u043e\\u0440\\u0437\\u0438\\u043d\\u0443\",\"\\u043e\\u043f\\u043b\\u0430\\u0442\\u0430 \\u0442\\u043e\\u0432\\u0430\\u0440\\u0430\"],\"type\":\"funnel\"}],                        {\"template\":{\"data\":{\"histogram2dcontour\":[{\"type\":\"histogram2dcontour\",\"colorbar\":{\"outlinewidth\":0,\"ticks\":\"\"},\"colorscale\":[[0.0,\"#0d0887\"],[0.1111111111111111,\"#46039f\"],[0.2222222222222222,\"#7201a8\"],[0.3333333333333333,\"#9c179e\"],[0.4444444444444444,\"#bd3786\"],[0.5555555555555556,\"#d8576b\"],[0.6666666666666666,\"#ed7953\"],[0.7777777777777778,\"#fb9f3a\"],[0.8888888888888888,\"#fdca26\"],[1.0,\"#f0f921\"]]}],\"choropleth\":[{\"type\":\"choropleth\",\"colorbar\":{\"outlinewidth\":0,\"ticks\":\"\"}}],\"histogram2d\":[{\"type\":\"histogram2d\",\"colorbar\":{\"outlinewidth\":0,\"ticks\":\"\"},\"colorscale\":[[0.0,\"#0d0887\"],[0.1111111111111111,\"#46039f\"],[0.2222222222222222,\"#7201a8\"],[0.3333333333333333,\"#9c179e\"],[0.4444444444444444,\"#bd3786\"],[0.5555555555555556,\"#d8576b\"],[0.6666666666666666,\"#ed7953\"],[0.7777777777777778,\"#fb9f3a\"],[0.8888888888888888,\"#fdca26\"],[1.0,\"#f0f921\"]]}],\"heatmap\":[{\"type\":\"heatmap\",\"colorbar\":{\"outlinewidth\":0,\"ticks\":\"\"},\"colorscale\":[[0.0,\"#0d0887\"],[0.1111111111111111,\"#46039f\"],[0.2222222222222222,\"#7201a8\"],[0.3333333333333333,\"#9c179e\"],[0.4444444444444444,\"#bd3786\"],[0.5555555555555556,\"#d8576b\"],[0.6666666666666666,\"#ed7953\"],[0.7777777777777778,\"#fb9f3a\"],[0.8888888888888888,\"#fdca26\"],[1.0,\"#f0f921\"]]}],\"heatmapgl\":[{\"type\":\"heatmapgl\",\"colorbar\":{\"outlinewidth\":0,\"ticks\":\"\"},\"colorscale\":[[0.0,\"#0d0887\"],[0.1111111111111111,\"#46039f\"],[0.2222222222222222,\"#7201a8\"],[0.3333333333333333,\"#9c179e\"],[0.4444444444444444,\"#bd3786\"],[0.5555555555555556,\"#d8576b\"],[0.6666666666666666,\"#ed7953\"],[0.7777777777777778,\"#fb9f3a\"],[0.8888888888888888,\"#fdca26\"],[1.0,\"#f0f921\"]]}],\"contourcarpet\":[{\"type\":\"contourcarpet\",\"colorbar\":{\"outlinewidth\":0,\"ticks\":\"\"}}],\"contour\":[{\"type\":\"contour\",\"colorbar\":{\"outlinewidth\":0,\"ticks\":\"\"},\"colorscale\":[[0.0,\"#0d0887\"],[0.1111111111111111,\"#46039f\"],[0.2222222222222222,\"#7201a8\"],[0.3333333333333333,\"#9c179e\"],[0.4444444444444444,\"#bd3786\"],[0.5555555555555556,\"#d8576b\"],[0.6666666666666666,\"#ed7953\"],[0.7777777777777778,\"#fb9f3a\"],[0.8888888888888888,\"#fdca26\"],[1.0,\"#f0f921\"]]}],\"surface\":[{\"type\":\"surface\",\"colorbar\":{\"outlinewidth\":0,\"ticks\":\"\"},\"colorscale\":[[0.0,\"#0d0887\"],[0.1111111111111111,\"#46039f\"],[0.2222222222222222,\"#7201a8\"],[0.3333333333333333,\"#9c179e\"],[0.4444444444444444,\"#bd3786\"],[0.5555555555555556,\"#d8576b\"],[0.6666666666666666,\"#ed7953\"],[0.7777777777777778,\"#fb9f3a\"],[0.8888888888888888,\"#fdca26\"],[1.0,\"#f0f921\"]]}],\"mesh3d\":[{\"type\":\"mesh3d\",\"colorbar\":{\"outlinewidth\":0,\"ticks\":\"\"}}],\"scatter\":[{\"fillpattern\":{\"fillmode\":\"overlay\",\"size\":10,\"solidity\":0.2},\"type\":\"scatter\"}],\"parcoords\":[{\"type\":\"parcoords\",\"line\":{\"colorbar\":{\"outlinewidth\":0,\"ticks\":\"\"}}}],\"scatterpolargl\":[{\"type\":\"scatterpolargl\",\"marker\":{\"colorbar\":{\"outlinewidth\":0,\"ticks\":\"\"}}}],\"bar\":[{\"error_x\":{\"color\":\"#2a3f5f\"},\"error_y\":{\"color\":\"#2a3f5f\"},\"marker\":{\"line\":{\"color\":\"#E5ECF6\",\"width\":0.5},\"pattern\":{\"fillmode\":\"overlay\",\"size\":10,\"solidity\":0.2}},\"type\":\"bar\"}],\"scattergeo\":[{\"type\":\"scattergeo\",\"marker\":{\"colorbar\":{\"outlinewidth\":0,\"ticks\":\"\"}}}],\"scatterpolar\":[{\"type\":\"scatterpolar\",\"marker\":{\"colorbar\":{\"outlinewidth\":0,\"ticks\":\"\"}}}],\"histogram\":[{\"marker\":{\"pattern\":{\"fillmode\":\"overlay\",\"size\":10,\"solidity\":0.2}},\"type\":\"histogram\"}],\"scattergl\":[{\"type\":\"scattergl\",\"marker\":{\"colorbar\":{\"outlinewidth\":0,\"ticks\":\"\"}}}],\"scatter3d\":[{\"type\":\"scatter3d\",\"line\":{\"colorbar\":{\"outlinewidth\":0,\"ticks\":\"\"}},\"marker\":{\"colorbar\":{\"outlinewidth\":0,\"ticks\":\"\"}}}],\"scattermapbox\":[{\"type\":\"scattermapbox\",\"marker\":{\"colorbar\":{\"outlinewidth\":0,\"ticks\":\"\"}}}],\"scatterternary\":[{\"type\":\"scatterternary\",\"marker\":{\"colorbar\":{\"outlinewidth\":0,\"ticks\":\"\"}}}],\"scattercarpet\":[{\"type\":\"scattercarpet\",\"marker\":{\"colorbar\":{\"outlinewidth\":0,\"ticks\":\"\"}}}],\"carpet\":[{\"aaxis\":{\"endlinecolor\":\"#2a3f5f\",\"gridcolor\":\"white\",\"linecolor\":\"white\",\"minorgridcolor\":\"white\",\"startlinecolor\":\"#2a3f5f\"},\"baxis\":{\"endlinecolor\":\"#2a3f5f\",\"gridcolor\":\"white\",\"linecolor\":\"white\",\"minorgridcolor\":\"white\",\"startlinecolor\":\"#2a3f5f\"},\"type\":\"carpet\"}],\"table\":[{\"cells\":{\"fill\":{\"color\":\"#EBF0F8\"},\"line\":{\"color\":\"white\"}},\"header\":{\"fill\":{\"color\":\"#C8D4E3\"},\"line\":{\"color\":\"white\"}},\"type\":\"table\"}],\"barpolar\":[{\"marker\":{\"line\":{\"color\":\"#E5ECF6\",\"width\":0.5},\"pattern\":{\"fillmode\":\"overlay\",\"size\":10,\"solidity\":0.2}},\"type\":\"barpolar\"}],\"pie\":[{\"automargin\":true,\"type\":\"pie\"}]},\"layout\":{\"autotypenumbers\":\"strict\",\"colorway\":[\"#636efa\",\"#EF553B\",\"#00cc96\",\"#ab63fa\",\"#FFA15A\",\"#19d3f3\",\"#FF6692\",\"#B6E880\",\"#FF97FF\",\"#FECB52\"],\"font\":{\"color\":\"#2a3f5f\"},\"hovermode\":\"closest\",\"hoverlabel\":{\"align\":\"left\"},\"paper_bgcolor\":\"white\",\"plot_bgcolor\":\"#E5ECF6\",\"polar\":{\"bgcolor\":\"#E5ECF6\",\"angularaxis\":{\"gridcolor\":\"white\",\"linecolor\":\"white\",\"ticks\":\"\"},\"radialaxis\":{\"gridcolor\":\"white\",\"linecolor\":\"white\",\"ticks\":\"\"}},\"ternary\":{\"bgcolor\":\"#E5ECF6\",\"aaxis\":{\"gridcolor\":\"white\",\"linecolor\":\"white\",\"ticks\":\"\"},\"baxis\":{\"gridcolor\":\"white\",\"linecolor\":\"white\",\"ticks\":\"\"},\"caxis\":{\"gridcolor\":\"white\",\"linecolor\":\"white\",\"ticks\":\"\"}},\"coloraxis\":{\"colorbar\":{\"outlinewidth\":0,\"ticks\":\"\"}},\"colorscale\":{\"sequential\":[[0.0,\"#0d0887\"],[0.1111111111111111,\"#46039f\"],[0.2222222222222222,\"#7201a8\"],[0.3333333333333333,\"#9c179e\"],[0.4444444444444444,\"#bd3786\"],[0.5555555555555556,\"#d8576b\"],[0.6666666666666666,\"#ed7953\"],[0.7777777777777778,\"#fb9f3a\"],[0.8888888888888888,\"#fdca26\"],[1.0,\"#f0f921\"]],\"sequentialminus\":[[0.0,\"#0d0887\"],[0.1111111111111111,\"#46039f\"],[0.2222222222222222,\"#7201a8\"],[0.3333333333333333,\"#9c179e\"],[0.4444444444444444,\"#bd3786\"],[0.5555555555555556,\"#d8576b\"],[0.6666666666666666,\"#ed7953\"],[0.7777777777777778,\"#fb9f3a\"],[0.8888888888888888,\"#fdca26\"],[1.0,\"#f0f921\"]],\"diverging\":[[0,\"#8e0152\"],[0.1,\"#c51b7d\"],[0.2,\"#de77ae\"],[0.3,\"#f1b6da\"],[0.4,\"#fde0ef\"],[0.5,\"#f7f7f7\"],[0.6,\"#e6f5d0\"],[0.7,\"#b8e186\"],[0.8,\"#7fbc41\"],[0.9,\"#4d9221\"],[1,\"#276419\"]]},\"xaxis\":{\"gridcolor\":\"white\",\"linecolor\":\"white\",\"ticks\":\"\",\"title\":{\"standoff\":15},\"zerolinecolor\":\"white\",\"automargin\":true,\"zerolinewidth\":2},\"yaxis\":{\"gridcolor\":\"white\",\"linecolor\":\"white\",\"ticks\":\"\",\"title\":{\"standoff\":15},\"zerolinecolor\":\"white\",\"automargin\":true,\"zerolinewidth\":2},\"scene\":{\"xaxis\":{\"backgroundcolor\":\"#E5ECF6\",\"gridcolor\":\"white\",\"linecolor\":\"white\",\"showbackground\":true,\"ticks\":\"\",\"zerolinecolor\":\"white\",\"gridwidth\":2},\"yaxis\":{\"backgroundcolor\":\"#E5ECF6\",\"gridcolor\":\"white\",\"linecolor\":\"white\",\"showbackground\":true,\"ticks\":\"\",\"zerolinecolor\":\"white\",\"gridwidth\":2},\"zaxis\":{\"backgroundcolor\":\"#E5ECF6\",\"gridcolor\":\"white\",\"linecolor\":\"white\",\"showbackground\":true,\"ticks\":\"\",\"zerolinecolor\":\"white\",\"gridwidth\":2}},\"shapedefaults\":{\"line\":{\"color\":\"#2a3f5f\"}},\"annotationdefaults\":{\"arrowcolor\":\"#2a3f5f\",\"arrowhead\":0,\"arrowwidth\":1},\"geo\":{\"bgcolor\":\"white\",\"landcolor\":\"#E5ECF6\",\"subunitcolor\":\"white\",\"showland\":true,\"showlakes\":true,\"lakecolor\":\"white\"},\"title\":{\"x\":0.05},\"mapbox\":{\"style\":\"light\"}}},\"title\":{\"text\":\"\\u0412\\u043e\\u0440\\u043e\\u043d\\u043a\\u0430 \\u0441\\u043e\\u0431\\u044b\\u0442\\u0438\\u0439 \"}},                        {\"responsive\": true}                    ).then(function(){\n",
       "                            \n",
       "var gd = document.getElementById('2423dd4d-021b-4665-9726-7fc5ad2df5d9');\n",
       "var x = new MutationObserver(function (mutations, observer) {{\n",
       "        var display = window.getComputedStyle(gd).display;\n",
       "        if (!display || display === 'none') {{\n",
       "            console.log([gd, 'removed!']);\n",
       "            Plotly.purge(gd);\n",
       "            observer.disconnect();\n",
       "        }}\n",
       "}});\n",
       "\n",
       "// Listen for the removal of the full notebook cells\n",
       "var notebookContainer = gd.closest('#notebook-container');\n",
       "if (notebookContainer) {{\n",
       "    x.observe(notebookContainer, {childList: true});\n",
       "}}\n",
       "\n",
       "// Listen for the clearing of the current output cell\n",
       "var outputEl = gd.closest('.output');\n",
       "if (outputEl) {{\n",
       "    x.observe(outputEl, {childList: true});\n",
       "}}\n",
       "\n",
       "                        })                };                });            </script>        </div>"
      ]
     },
     "metadata": {},
     "output_type": "display_data"
    }
   ],
   "source": [
    "fig = go.Figure()\n",
    "\n",
    "fig = go.Figure(go.Funnel(x = df3['users'],\n",
    "       y = ['просматривают главную страницу','просмотр страницы товара','попадание в корзину','оплата товара'],\n",
    "                          textinfo = \"value+percent initial+percent previous\",marker = {\"color\":'lightcoral'}))\n",
    "\n",
    "fig.update_layout(title=\"Воронка событий \")  \n",
    "fig.show();"
   ]
  },
  {
   "cell_type": "code",
   "execution_count": 44,
   "metadata": {},
   "outputs": [
    {
     "data": {
      "text/html": [
       "<div>\n",
       "<style scoped>\n",
       "    .dataframe tbody tr th:only-of-type {\n",
       "        vertical-align: middle;\n",
       "    }\n",
       "\n",
       "    .dataframe tbody tr th {\n",
       "        vertical-align: top;\n",
       "    }\n",
       "\n",
       "    .dataframe thead th {\n",
       "        text-align: right;\n",
       "    }\n",
       "</style>\n",
       "<table border=\"1\" class=\"dataframe\">\n",
       "  <thead>\n",
       "    <tr style=\"text-align: right;\">\n",
       "      <th></th>\n",
       "      <th>event</th>\n",
       "      <th>users</th>\n",
       "      <th>%users</th>\n",
       "      <th>%prev</th>\n",
       "    </tr>\n",
       "  </thead>\n",
       "  <tbody>\n",
       "    <tr>\n",
       "      <th>0</th>\n",
       "      <td>MainScreenAppear</td>\n",
       "      <td>7419</td>\n",
       "      <td>98.47</td>\n",
       "      <td>NaN</td>\n",
       "    </tr>\n",
       "    <tr>\n",
       "      <th>1</th>\n",
       "      <td>OffersScreenAppear</td>\n",
       "      <td>4593</td>\n",
       "      <td>60.96</td>\n",
       "      <td>61.9</td>\n",
       "    </tr>\n",
       "    <tr>\n",
       "      <th>2</th>\n",
       "      <td>CartScreenAppear</td>\n",
       "      <td>3734</td>\n",
       "      <td>49.56</td>\n",
       "      <td>81.3</td>\n",
       "    </tr>\n",
       "    <tr>\n",
       "      <th>3</th>\n",
       "      <td>PaymentScreenSuccessful</td>\n",
       "      <td>3539</td>\n",
       "      <td>46.97</td>\n",
       "      <td>94.8</td>\n",
       "    </tr>\n",
       "  </tbody>\n",
       "</table>\n",
       "</div>"
      ],
      "text/plain": [
       "                     event  users  %users  %prev\n",
       "0         MainScreenAppear   7419   98.47    NaN\n",
       "1       OffersScreenAppear   4593   60.96   61.9\n",
       "2         CartScreenAppear   3734   49.56   81.3\n",
       "3  PaymentScreenSuccessful   3539   46.97   94.8"
      ]
     },
     "execution_count": 44,
     "metadata": {},
     "output_type": "execute_result"
    }
   ],
   "source": [
    "df3['%prev'] = df3['users']/df3['users'].shift(1)\n",
    "df3['%prev'] = (df3['%prev'] * 100).round(1)\n",
    "df3"
   ]
  },
  {
   "cell_type": "markdown",
   "metadata": {},
   "source": [
    "**ВЫВОД**\n",
    "При анализе построенной воронки видно:\n",
    "\n",
    "1 этап (главная страница) это  100% пользователей\n",
    "\n",
    "2 этап(страница тоаара)- туда попадает  61.9% от предыдщего шага(потери 38.1%)\n",
    "\n",
    "3 этап(корзина)- туда попадает 81.3% от предыдущего шага(потери 18.7%)\n",
    "\n",
    "4 этап(страница оплаты)- туда попадает 94.8% от предыдущего шага(потери 5.2%)\n",
    "\n"
   ]
  },
  {
   "cell_type": "markdown",
   "metadata": {},
   "source": [
    "### На каком шаге теряется больше всего пользователей?"
   ]
  },
  {
   "cell_type": "markdown",
   "metadata": {},
   "source": [
    "- Больше всего пользователей теряется на главной странице(`MainScreenAppear`)- это 38.1%.\n",
    "  \n",
    " Это с одной стороны много а с другой- нормально.Пользователь заходит в приложение и знакомится с продуктом.Если у его возникает интерес,то идет дальше.Может быть для тех,кто не пошел дальше главная страница оказалась непривлекательной или кнопка перехода на следующий этап мало заметна или неудобна.Нынешний пользователь  избалован и ему не нравитсяв чем-то долго разбираться.С целью увеличения конверсии на этом шаге можно предложить обратить внимание на дизайн и функциональность главной страницы.\n",
    " \n",
    "  \n",
    "- Далее мы наблюдаем  повышение процента перехода пользователей из одно шага в другой.И потери припереходе к корзине составляют 18.7%, а к переходу на экран оплаты - 5.2%. Видно, что дальше пользователь чувствует себя увереннее. \n",
    "Однако стоит заметить,что не все , кто попал на страницу оплаты завершают этот этап.Может покупатель в последний момент передумал или у него возникли какие-то технические трудности при оплате или есть неудобства при заполнении платежных данных?На это тоже стоит обратить внимание.\n",
    "\n",
    "\n"
   ]
  },
  {
   "cell_type": "markdown",
   "metadata": {},
   "source": [
    "### Какая доля пользователей доходит от первого события до оплаты?"
   ]
  },
  {
   "cell_type": "markdown",
   "metadata": {},
   "source": [
    "Добавим для наглядности столбец,где отражается процент перехода с первого этапа на каждый из следующих"
   ]
  },
  {
   "cell_type": "code",
   "execution_count": 45,
   "metadata": {},
   "outputs": [
    {
     "data": {
      "text/html": [
       "<div>\n",
       "<style scoped>\n",
       "    .dataframe tbody tr th:only-of-type {\n",
       "        vertical-align: middle;\n",
       "    }\n",
       "\n",
       "    .dataframe tbody tr th {\n",
       "        vertical-align: top;\n",
       "    }\n",
       "\n",
       "    .dataframe thead th {\n",
       "        text-align: right;\n",
       "    }\n",
       "</style>\n",
       "<table border=\"1\" class=\"dataframe\">\n",
       "  <thead>\n",
       "    <tr style=\"text-align: right;\">\n",
       "      <th></th>\n",
       "      <th>event</th>\n",
       "      <th>users</th>\n",
       "      <th>%users</th>\n",
       "      <th>%prev</th>\n",
       "      <th>%conv</th>\n",
       "    </tr>\n",
       "  </thead>\n",
       "  <tbody>\n",
       "    <tr>\n",
       "      <th>0</th>\n",
       "      <td>MainScreenAppear</td>\n",
       "      <td>7419</td>\n",
       "      <td>98.47</td>\n",
       "      <td>NaN</td>\n",
       "      <td>100.0</td>\n",
       "    </tr>\n",
       "    <tr>\n",
       "      <th>1</th>\n",
       "      <td>OffersScreenAppear</td>\n",
       "      <td>4593</td>\n",
       "      <td>60.96</td>\n",
       "      <td>61.9</td>\n",
       "      <td>61.9</td>\n",
       "    </tr>\n",
       "    <tr>\n",
       "      <th>2</th>\n",
       "      <td>CartScreenAppear</td>\n",
       "      <td>3734</td>\n",
       "      <td>49.56</td>\n",
       "      <td>81.3</td>\n",
       "      <td>50.3</td>\n",
       "    </tr>\n",
       "    <tr>\n",
       "      <th>3</th>\n",
       "      <td>PaymentScreenSuccessful</td>\n",
       "      <td>3539</td>\n",
       "      <td>46.97</td>\n",
       "      <td>94.8</td>\n",
       "      <td>47.7</td>\n",
       "    </tr>\n",
       "  </tbody>\n",
       "</table>\n",
       "</div>"
      ],
      "text/plain": [
       "                     event  users  %users  %prev  %conv\n",
       "0         MainScreenAppear   7419   98.47    NaN  100.0\n",
       "1       OffersScreenAppear   4593   60.96   61.9   61.9\n",
       "2         CartScreenAppear   3734   49.56   81.3   50.3\n",
       "3  PaymentScreenSuccessful   3539   46.97   94.8   47.7"
      ]
     },
     "execution_count": 45,
     "metadata": {},
     "output_type": "execute_result"
    }
   ],
   "source": [
    "df3['%conv'] = df3['users']/df3.loc[0,'users']\n",
    "df3['%conv'] = (df3['%conv'] * 100).round(1)\n",
    "df3"
   ]
  },
  {
   "cell_type": "markdown",
   "metadata": {},
   "source": [
    "Видно, что 47,7% пользователей доходит до страницы успешной оплаты (`PaymentScreenSuccessful`) относительно первого события-просмотра главной страницы(`MainScreenAppear`). Очень хороший результат - почти половина пользователей!"
   ]
  },
  {
   "cell_type": "markdown",
   "metadata": {},
   "source": [
    "**ВЫВОД по Шагу 4**\n",
    "\n",
    "На этапе изучения воронки событий выявлено следующее:\n",
    "\n",
    "\n",
    "- Выявлено  5 событий: `MainScreenAppear`- просмотр главной страницы(встречается в 48.7%),`OffersScreenAppear` - просмотр страницы товара(19.2%),`CartScreenAppear`- просмотр корзины(17.6%)- `PaymentScreenSuccessful`- переход на страницу успешной оплаты(14.1%) и `Tutorial`- просмотр руководства пользователя(всего 0.4%).\n",
    "\n",
    "- Из всего числа уникальных пользователей:\n",
    "\n",
    "  - 98.47 % всех пользователей просматривают главную страницу приложения(видно,что какя-то часть все- таки минует этот этап)\n",
    "\n",
    "  - 60.96 % всех пользователей просматривают  страницу товара\n",
    "\n",
    "  - 49.56 % попадают на страницу корзины \n",
    "\n",
    "  - 46.97% перешли  на страницу успешной оплаты\n",
    "\n",
    "  - 11.15% просмотривали  руководство пользователя\n",
    "\n",
    "\n",
    "-  ОтмеченоБ,что в последовательнужю  цепочку выстраиваются следующие 4 события:\n",
    "     \n",
    " **Посещение главной страницы приложения  → → →просмотр страницы товара  → → → попадание в корзину  → → → оплата товара**\n",
    "Пятое  событие - просмотр руководства пользователя в  эту цепочку не входит и в рачет пользовательской воронки это собыьие      учитывать не нужно! \n",
    "\n",
    "- Построен график воронки событий с использованием библиотеки `Plotly`,что наглядно позволило увидеть, что:\n",
    "\n",
    "1 этап (главная страница) это  100% пользователей\n",
    "\n",
    "2 этап(страница тоаара)- туда попадает  61.9% от предыдщего шага(потери 38.1%)\n",
    "\n",
    "3 этап(корзина)- туда попадает 81.3% от предыдущего шага(потери 18.7%)\n",
    "\n",
    "4 этап(страница оплаты)- туда попадает 94.8% от предыдущего шага(потери 5.2%)\n",
    "\n",
    "- Касательно потерь пользователей от этапа к этпу замечено:\n",
    "\n",
    "   - Больше всего пользователей теряется на главной странице(`MainScreenAppear`)- это 38.1%.Это с одной стороны много а сдругой-      нормально.Пользователь заходит в приложение и знакомится с продуктом.Если унего возникает интерес,то идет дальше.Может быть      для тех,кто не пошел дальше главная страница оказалась непривлекательной или кнопка перехода на следующий этап мало заметна      или неудобна.Нынешний пользователь  избалован и ему не нравитсяв чем-то долго разбираться.С целью увеличения конверсии на        этом шаге можно предложить обратить внимание на дизайн и функциональность главной страницы. \n",
    "   - Далее мы наблюдаем  повышение процента перехода пользователей из одно шага в другой.И потери припереходе к   корзинсоставляют 18.7%, а к переходу на экран оплаты - 5.2%. Видно, что дальше пользователь чувствует себя увереннее. Однако стоит заметить,что не все , кто попал на страницу оплаты завершают этот этап.Может покупатель в последний момент передумал или у него возникли какие-то технические трудности при оплате или есть неудобства при заполнении платежных данных?На это тоже стоит    обратить внимание.\n",
    "   \n",
    "- Видно, что 47,7% пользователей доходит до страницы успешной оплаты (`PaymentScreenSuccessful`) относительно первого события-просмотра главной страницы(`MainScreenAppear`). Очень хороший результат - почти половина пользователей!"
   ]
  },
  {
   "cell_type": "markdown",
   "metadata": {},
   "source": [
    "## Шаг 5. Изучене результатов эксперимента\n"
   ]
  },
  {
   "cell_type": "markdown",
   "metadata": {},
   "source": [
    "Для анализа берем данные за актуальный период,собранные в `df_cl`"
   ]
  },
  {
   "cell_type": "code",
   "execution_count": 46,
   "metadata": {},
   "outputs": [
    {
     "data": {
      "text/html": [
       "<div>\n",
       "<style scoped>\n",
       "    .dataframe tbody tr th:only-of-type {\n",
       "        vertical-align: middle;\n",
       "    }\n",
       "\n",
       "    .dataframe tbody tr th {\n",
       "        vertical-align: top;\n",
       "    }\n",
       "\n",
       "    .dataframe thead th {\n",
       "        text-align: right;\n",
       "    }\n",
       "</style>\n",
       "<table border=\"1\" class=\"dataframe\">\n",
       "  <thead>\n",
       "    <tr style=\"text-align: right;\">\n",
       "      <th></th>\n",
       "      <th>event</th>\n",
       "      <th>user_id</th>\n",
       "      <th>event_time</th>\n",
       "      <th>group</th>\n",
       "      <th>date</th>\n",
       "    </tr>\n",
       "  </thead>\n",
       "  <tbody>\n",
       "    <tr>\n",
       "      <th>2826</th>\n",
       "      <td>Tutorial</td>\n",
       "      <td>3737462046622621720</td>\n",
       "      <td>2019-08-01 00:07:28</td>\n",
       "      <td>246</td>\n",
       "      <td>2019-08-01</td>\n",
       "    </tr>\n",
       "    <tr>\n",
       "      <th>2827</th>\n",
       "      <td>MainScreenAppear</td>\n",
       "      <td>3737462046622621720</td>\n",
       "      <td>2019-08-01 00:08:00</td>\n",
       "      <td>246</td>\n",
       "      <td>2019-08-01</td>\n",
       "    </tr>\n",
       "    <tr>\n",
       "      <th>2828</th>\n",
       "      <td>MainScreenAppear</td>\n",
       "      <td>3737462046622621720</td>\n",
       "      <td>2019-08-01 00:08:55</td>\n",
       "      <td>246</td>\n",
       "      <td>2019-08-01</td>\n",
       "    </tr>\n",
       "    <tr>\n",
       "      <th>2829</th>\n",
       "      <td>OffersScreenAppear</td>\n",
       "      <td>3737462046622621720</td>\n",
       "      <td>2019-08-01 00:08:58</td>\n",
       "      <td>246</td>\n",
       "      <td>2019-08-01</td>\n",
       "    </tr>\n",
       "    <tr>\n",
       "      <th>2830</th>\n",
       "      <td>MainScreenAppear</td>\n",
       "      <td>1433840883824088890</td>\n",
       "      <td>2019-08-01 00:08:59</td>\n",
       "      <td>247</td>\n",
       "      <td>2019-08-01</td>\n",
       "    </tr>\n",
       "  </tbody>\n",
       "</table>\n",
       "</div>"
      ],
      "text/plain": [
       "                   event              user_id          event_time  group  \\\n",
       "2826            Tutorial  3737462046622621720 2019-08-01 00:07:28    246   \n",
       "2827    MainScreenAppear  3737462046622621720 2019-08-01 00:08:00    246   \n",
       "2828    MainScreenAppear  3737462046622621720 2019-08-01 00:08:55    246   \n",
       "2829  OffersScreenAppear  3737462046622621720 2019-08-01 00:08:58    246   \n",
       "2830    MainScreenAppear  1433840883824088890 2019-08-01 00:08:59    247   \n",
       "\n",
       "            date  \n",
       "2826  2019-08-01  \n",
       "2827  2019-08-01  \n",
       "2828  2019-08-01  \n",
       "2829  2019-08-01  \n",
       "2830  2019-08-01  "
      ]
     },
     "execution_count": 46,
     "metadata": {},
     "output_type": "execute_result"
    }
   ],
   "source": [
    "df_cl.head()"
   ]
  },
  {
   "cell_type": "markdown",
   "metadata": {},
   "source": [
    "### Сколько пользователей в каждой экспериментальной группе?"
   ]
  },
  {
   "cell_type": "code",
   "execution_count": 47,
   "metadata": {},
   "outputs": [
    {
     "data": {
      "text/html": [
       "<div>\n",
       "<style scoped>\n",
       "    .dataframe tbody tr th:only-of-type {\n",
       "        vertical-align: middle;\n",
       "    }\n",
       "\n",
       "    .dataframe tbody tr th {\n",
       "        vertical-align: top;\n",
       "    }\n",
       "\n",
       "    .dataframe thead th {\n",
       "        text-align: right;\n",
       "    }\n",
       "</style>\n",
       "<table border=\"1\" class=\"dataframe\">\n",
       "  <thead>\n",
       "    <tr style=\"text-align: right;\">\n",
       "      <th></th>\n",
       "      <th>group</th>\n",
       "      <th>user_id</th>\n",
       "    </tr>\n",
       "  </thead>\n",
       "  <tbody>\n",
       "    <tr>\n",
       "      <th>0</th>\n",
       "      <td>246</td>\n",
       "      <td>2484</td>\n",
       "    </tr>\n",
       "    <tr>\n",
       "      <th>1</th>\n",
       "      <td>247</td>\n",
       "      <td>2513</td>\n",
       "    </tr>\n",
       "    <tr>\n",
       "      <th>2</th>\n",
       "      <td>248</td>\n",
       "      <td>2537</td>\n",
       "    </tr>\n",
       "  </tbody>\n",
       "</table>\n",
       "</div>"
      ],
      "text/plain": [
       "   group  user_id\n",
       "0    246     2484\n",
       "1    247     2513\n",
       "2    248     2537"
      ]
     },
     "execution_count": 47,
     "metadata": {},
     "output_type": "execute_result"
    }
   ],
   "source": [
    "df4= df_cl.groupby('group')['user_id'].nunique().reset_index()\n",
    "df4"
   ]
  },
  {
   "cell_type": "markdown",
   "metadata": {},
   "source": [
    "Пользователи распределены достаточно равномерно по трем группам: в группе `246`- 2484 пользователя и `247` — 2513(это контрольные группы), а в `248`— 2537 пользователей(Это экспериментальная группа)"
   ]
  },
  {
   "cell_type": "markdown",
   "metadata": {},
   "source": [
    "### Есть 2 контрольные группы для А/А-эксперимента, чтобы проверить корректность всех механизмов и расчётов. Проверьте, находят ли статистические критерии разницу между выборками 246 и 247.\n"
   ]
  },
  {
   "cell_type": "markdown",
   "metadata": {},
   "source": [
    "**Критерии успешного A/A-теста:** \n",
    "- Количество пользователей в различных группах различается не более, чем на 1%;\n",
    "- Для всех групп фиксируют и отправляют в системы аналитики данные об одном и том же;\n",
    "- Различие ключевых метрик по группам не превышает 1% и не имеет статистической значимости;\n",
    "- Попавший в одну из групп посетитель остаётся в этой группе до конца теста. Если пользователь видит разные версии исследуемой страницы в ходе одного исследования, неизвестно, какая именно повлияла на его решения. Значит, и результаты такого теста нельзя интерпретировать однозначно."
   ]
  },
  {
   "cell_type": "markdown",
   "metadata": {},
   "source": [
    "Посмотрим разницу в количестве пользователей по группам(в %) между контрольными группами, а заодно сравним с колличеством в экспериментальной."
   ]
  },
  {
   "cell_type": "code",
   "execution_count": 48,
   "metadata": {},
   "outputs": [
    {
     "name": "stdout",
     "output_type": "stream",
     "text": [
      "Разница между группой 246 и 247 составляет 1.15%\n",
      "Разница между группой 247 и 248 составляет 0.95%\n",
      "Разница между группой 248 и 246 составляет -2.13%\n"
     ]
    }
   ],
   "source": [
    "#разница в количестве пользователей\n",
    "for i in range(0, 3):\n",
    "    group_list = [246, 247, 248, 246]\n",
    "    print(f'Разница между группой {group_list[i]} и {group_list[i+1]} составляет {1 - df_cl.query(\"group == @group_list[@i]\")[\"user_id\"].nunique() / df_cl.query(\"group == @group_list[@i+1]\")[\"user_id\"].nunique():.2%}')"
   ]
  },
  {
   "cell_type": "markdown",
   "metadata": {},
   "source": [
    "Рвзница между контрольными группами `246` и  `247` составила 1.15%  .Это чуть больше 1%, что нечущественно."
   ]
  },
  {
   "cell_type": "markdown",
   "metadata": {},
   "source": [
    "Для иллюстрации распределения пользователей по шагам для разных групп построим Воронку событий в разрезе групп"
   ]
  },
  {
   "cell_type": "code",
   "execution_count": 49,
   "metadata": {},
   "outputs": [
    {
     "data": {
      "application/vnd.plotly.v1+json": {
       "config": {
        "plotlyServerURL": "https://plot.ly"
       },
       "data": [
        {
         "marker": {
          "color": "blue"
         },
         "name": "246",
         "textinfo": "value+percent previous",
         "type": "funnel",
         "x": [
          2450,
          1542,
          1266,
          1200
         ],
         "y": [
          "просматривают главную страницу",
          "просмотр страницы товара",
          "попадание в корзину",
          "оплата товара"
         ]
        },
        {
         "marker": {
          "color": "fuchsia"
         },
         "name": "247",
         "textinfo": "value+percent previous",
         "type": "funnel",
         "x": [
          2476,
          1520,
          1238,
          1158
         ],
         "y": [
          "просматривают главную страницу",
          "просмотр страницы товара",
          "попадание в корзину",
          "оплата товара"
         ]
        },
        {
         "marker": {
          "color": "green"
         },
         "name": "248",
         "textinfo": "value+percent previous",
         "type": "funnel",
         "x": [
          2493,
          1531,
          1230,
          1181
         ],
         "y": [
          "просматривают главную страницу",
          "просмотр страницы товара",
          "попадание в корзину",
          "оплата товара"
         ]
        }
       ],
       "layout": {
        "template": {
         "data": {
          "bar": [
           {
            "error_x": {
             "color": "#2a3f5f"
            },
            "error_y": {
             "color": "#2a3f5f"
            },
            "marker": {
             "line": {
              "color": "#E5ECF6",
              "width": 0.5
             },
             "pattern": {
              "fillmode": "overlay",
              "size": 10,
              "solidity": 0.2
             }
            },
            "type": "bar"
           }
          ],
          "barpolar": [
           {
            "marker": {
             "line": {
              "color": "#E5ECF6",
              "width": 0.5
             },
             "pattern": {
              "fillmode": "overlay",
              "size": 10,
              "solidity": 0.2
             }
            },
            "type": "barpolar"
           }
          ],
          "carpet": [
           {
            "aaxis": {
             "endlinecolor": "#2a3f5f",
             "gridcolor": "white",
             "linecolor": "white",
             "minorgridcolor": "white",
             "startlinecolor": "#2a3f5f"
            },
            "baxis": {
             "endlinecolor": "#2a3f5f",
             "gridcolor": "white",
             "linecolor": "white",
             "minorgridcolor": "white",
             "startlinecolor": "#2a3f5f"
            },
            "type": "carpet"
           }
          ],
          "choropleth": [
           {
            "colorbar": {
             "outlinewidth": 0,
             "ticks": ""
            },
            "type": "choropleth"
           }
          ],
          "contour": [
           {
            "colorbar": {
             "outlinewidth": 0,
             "ticks": ""
            },
            "colorscale": [
             [
              0,
              "#0d0887"
             ],
             [
              0.1111111111111111,
              "#46039f"
             ],
             [
              0.2222222222222222,
              "#7201a8"
             ],
             [
              0.3333333333333333,
              "#9c179e"
             ],
             [
              0.4444444444444444,
              "#bd3786"
             ],
             [
              0.5555555555555556,
              "#d8576b"
             ],
             [
              0.6666666666666666,
              "#ed7953"
             ],
             [
              0.7777777777777778,
              "#fb9f3a"
             ],
             [
              0.8888888888888888,
              "#fdca26"
             ],
             [
              1,
              "#f0f921"
             ]
            ],
            "type": "contour"
           }
          ],
          "contourcarpet": [
           {
            "colorbar": {
             "outlinewidth": 0,
             "ticks": ""
            },
            "type": "contourcarpet"
           }
          ],
          "heatmap": [
           {
            "colorbar": {
             "outlinewidth": 0,
             "ticks": ""
            },
            "colorscale": [
             [
              0,
              "#0d0887"
             ],
             [
              0.1111111111111111,
              "#46039f"
             ],
             [
              0.2222222222222222,
              "#7201a8"
             ],
             [
              0.3333333333333333,
              "#9c179e"
             ],
             [
              0.4444444444444444,
              "#bd3786"
             ],
             [
              0.5555555555555556,
              "#d8576b"
             ],
             [
              0.6666666666666666,
              "#ed7953"
             ],
             [
              0.7777777777777778,
              "#fb9f3a"
             ],
             [
              0.8888888888888888,
              "#fdca26"
             ],
             [
              1,
              "#f0f921"
             ]
            ],
            "type": "heatmap"
           }
          ],
          "heatmapgl": [
           {
            "colorbar": {
             "outlinewidth": 0,
             "ticks": ""
            },
            "colorscale": [
             [
              0,
              "#0d0887"
             ],
             [
              0.1111111111111111,
              "#46039f"
             ],
             [
              0.2222222222222222,
              "#7201a8"
             ],
             [
              0.3333333333333333,
              "#9c179e"
             ],
             [
              0.4444444444444444,
              "#bd3786"
             ],
             [
              0.5555555555555556,
              "#d8576b"
             ],
             [
              0.6666666666666666,
              "#ed7953"
             ],
             [
              0.7777777777777778,
              "#fb9f3a"
             ],
             [
              0.8888888888888888,
              "#fdca26"
             ],
             [
              1,
              "#f0f921"
             ]
            ],
            "type": "heatmapgl"
           }
          ],
          "histogram": [
           {
            "marker": {
             "pattern": {
              "fillmode": "overlay",
              "size": 10,
              "solidity": 0.2
             }
            },
            "type": "histogram"
           }
          ],
          "histogram2d": [
           {
            "colorbar": {
             "outlinewidth": 0,
             "ticks": ""
            },
            "colorscale": [
             [
              0,
              "#0d0887"
             ],
             [
              0.1111111111111111,
              "#46039f"
             ],
             [
              0.2222222222222222,
              "#7201a8"
             ],
             [
              0.3333333333333333,
              "#9c179e"
             ],
             [
              0.4444444444444444,
              "#bd3786"
             ],
             [
              0.5555555555555556,
              "#d8576b"
             ],
             [
              0.6666666666666666,
              "#ed7953"
             ],
             [
              0.7777777777777778,
              "#fb9f3a"
             ],
             [
              0.8888888888888888,
              "#fdca26"
             ],
             [
              1,
              "#f0f921"
             ]
            ],
            "type": "histogram2d"
           }
          ],
          "histogram2dcontour": [
           {
            "colorbar": {
             "outlinewidth": 0,
             "ticks": ""
            },
            "colorscale": [
             [
              0,
              "#0d0887"
             ],
             [
              0.1111111111111111,
              "#46039f"
             ],
             [
              0.2222222222222222,
              "#7201a8"
             ],
             [
              0.3333333333333333,
              "#9c179e"
             ],
             [
              0.4444444444444444,
              "#bd3786"
             ],
             [
              0.5555555555555556,
              "#d8576b"
             ],
             [
              0.6666666666666666,
              "#ed7953"
             ],
             [
              0.7777777777777778,
              "#fb9f3a"
             ],
             [
              0.8888888888888888,
              "#fdca26"
             ],
             [
              1,
              "#f0f921"
             ]
            ],
            "type": "histogram2dcontour"
           }
          ],
          "mesh3d": [
           {
            "colorbar": {
             "outlinewidth": 0,
             "ticks": ""
            },
            "type": "mesh3d"
           }
          ],
          "parcoords": [
           {
            "line": {
             "colorbar": {
              "outlinewidth": 0,
              "ticks": ""
             }
            },
            "type": "parcoords"
           }
          ],
          "pie": [
           {
            "automargin": true,
            "type": "pie"
           }
          ],
          "scatter": [
           {
            "fillpattern": {
             "fillmode": "overlay",
             "size": 10,
             "solidity": 0.2
            },
            "type": "scatter"
           }
          ],
          "scatter3d": [
           {
            "line": {
             "colorbar": {
              "outlinewidth": 0,
              "ticks": ""
             }
            },
            "marker": {
             "colorbar": {
              "outlinewidth": 0,
              "ticks": ""
             }
            },
            "type": "scatter3d"
           }
          ],
          "scattercarpet": [
           {
            "marker": {
             "colorbar": {
              "outlinewidth": 0,
              "ticks": ""
             }
            },
            "type": "scattercarpet"
           }
          ],
          "scattergeo": [
           {
            "marker": {
             "colorbar": {
              "outlinewidth": 0,
              "ticks": ""
             }
            },
            "type": "scattergeo"
           }
          ],
          "scattergl": [
           {
            "marker": {
             "colorbar": {
              "outlinewidth": 0,
              "ticks": ""
             }
            },
            "type": "scattergl"
           }
          ],
          "scattermapbox": [
           {
            "marker": {
             "colorbar": {
              "outlinewidth": 0,
              "ticks": ""
             }
            },
            "type": "scattermapbox"
           }
          ],
          "scatterpolar": [
           {
            "marker": {
             "colorbar": {
              "outlinewidth": 0,
              "ticks": ""
             }
            },
            "type": "scatterpolar"
           }
          ],
          "scatterpolargl": [
           {
            "marker": {
             "colorbar": {
              "outlinewidth": 0,
              "ticks": ""
             }
            },
            "type": "scatterpolargl"
           }
          ],
          "scatterternary": [
           {
            "marker": {
             "colorbar": {
              "outlinewidth": 0,
              "ticks": ""
             }
            },
            "type": "scatterternary"
           }
          ],
          "surface": [
           {
            "colorbar": {
             "outlinewidth": 0,
             "ticks": ""
            },
            "colorscale": [
             [
              0,
              "#0d0887"
             ],
             [
              0.1111111111111111,
              "#46039f"
             ],
             [
              0.2222222222222222,
              "#7201a8"
             ],
             [
              0.3333333333333333,
              "#9c179e"
             ],
             [
              0.4444444444444444,
              "#bd3786"
             ],
             [
              0.5555555555555556,
              "#d8576b"
             ],
             [
              0.6666666666666666,
              "#ed7953"
             ],
             [
              0.7777777777777778,
              "#fb9f3a"
             ],
             [
              0.8888888888888888,
              "#fdca26"
             ],
             [
              1,
              "#f0f921"
             ]
            ],
            "type": "surface"
           }
          ],
          "table": [
           {
            "cells": {
             "fill": {
              "color": "#EBF0F8"
             },
             "line": {
              "color": "white"
             }
            },
            "header": {
             "fill": {
              "color": "#C8D4E3"
             },
             "line": {
              "color": "white"
             }
            },
            "type": "table"
           }
          ]
         },
         "layout": {
          "annotationdefaults": {
           "arrowcolor": "#2a3f5f",
           "arrowhead": 0,
           "arrowwidth": 1
          },
          "autotypenumbers": "strict",
          "coloraxis": {
           "colorbar": {
            "outlinewidth": 0,
            "ticks": ""
           }
          },
          "colorscale": {
           "diverging": [
            [
             0,
             "#8e0152"
            ],
            [
             0.1,
             "#c51b7d"
            ],
            [
             0.2,
             "#de77ae"
            ],
            [
             0.3,
             "#f1b6da"
            ],
            [
             0.4,
             "#fde0ef"
            ],
            [
             0.5,
             "#f7f7f7"
            ],
            [
             0.6,
             "#e6f5d0"
            ],
            [
             0.7,
             "#b8e186"
            ],
            [
             0.8,
             "#7fbc41"
            ],
            [
             0.9,
             "#4d9221"
            ],
            [
             1,
             "#276419"
            ]
           ],
           "sequential": [
            [
             0,
             "#0d0887"
            ],
            [
             0.1111111111111111,
             "#46039f"
            ],
            [
             0.2222222222222222,
             "#7201a8"
            ],
            [
             0.3333333333333333,
             "#9c179e"
            ],
            [
             0.4444444444444444,
             "#bd3786"
            ],
            [
             0.5555555555555556,
             "#d8576b"
            ],
            [
             0.6666666666666666,
             "#ed7953"
            ],
            [
             0.7777777777777778,
             "#fb9f3a"
            ],
            [
             0.8888888888888888,
             "#fdca26"
            ],
            [
             1,
             "#f0f921"
            ]
           ],
           "sequentialminus": [
            [
             0,
             "#0d0887"
            ],
            [
             0.1111111111111111,
             "#46039f"
            ],
            [
             0.2222222222222222,
             "#7201a8"
            ],
            [
             0.3333333333333333,
             "#9c179e"
            ],
            [
             0.4444444444444444,
             "#bd3786"
            ],
            [
             0.5555555555555556,
             "#d8576b"
            ],
            [
             0.6666666666666666,
             "#ed7953"
            ],
            [
             0.7777777777777778,
             "#fb9f3a"
            ],
            [
             0.8888888888888888,
             "#fdca26"
            ],
            [
             1,
             "#f0f921"
            ]
           ]
          },
          "colorway": [
           "#636efa",
           "#EF553B",
           "#00cc96",
           "#ab63fa",
           "#FFA15A",
           "#19d3f3",
           "#FF6692",
           "#B6E880",
           "#FF97FF",
           "#FECB52"
          ],
          "font": {
           "color": "#2a3f5f"
          },
          "geo": {
           "bgcolor": "white",
           "lakecolor": "white",
           "landcolor": "#E5ECF6",
           "showlakes": true,
           "showland": true,
           "subunitcolor": "white"
          },
          "hoverlabel": {
           "align": "left"
          },
          "hovermode": "closest",
          "mapbox": {
           "style": "light"
          },
          "paper_bgcolor": "white",
          "plot_bgcolor": "#E5ECF6",
          "polar": {
           "angularaxis": {
            "gridcolor": "white",
            "linecolor": "white",
            "ticks": ""
           },
           "bgcolor": "#E5ECF6",
           "radialaxis": {
            "gridcolor": "white",
            "linecolor": "white",
            "ticks": ""
           }
          },
          "scene": {
           "xaxis": {
            "backgroundcolor": "#E5ECF6",
            "gridcolor": "white",
            "gridwidth": 2,
            "linecolor": "white",
            "showbackground": true,
            "ticks": "",
            "zerolinecolor": "white"
           },
           "yaxis": {
            "backgroundcolor": "#E5ECF6",
            "gridcolor": "white",
            "gridwidth": 2,
            "linecolor": "white",
            "showbackground": true,
            "ticks": "",
            "zerolinecolor": "white"
           },
           "zaxis": {
            "backgroundcolor": "#E5ECF6",
            "gridcolor": "white",
            "gridwidth": 2,
            "linecolor": "white",
            "showbackground": true,
            "ticks": "",
            "zerolinecolor": "white"
           }
          },
          "shapedefaults": {
           "line": {
            "color": "#2a3f5f"
           }
          },
          "ternary": {
           "aaxis": {
            "gridcolor": "white",
            "linecolor": "white",
            "ticks": ""
           },
           "baxis": {
            "gridcolor": "white",
            "linecolor": "white",
            "ticks": ""
           },
           "bgcolor": "#E5ECF6",
           "caxis": {
            "gridcolor": "white",
            "linecolor": "white",
            "ticks": ""
           }
          },
          "title": {
           "x": 0.05
          },
          "xaxis": {
           "automargin": true,
           "gridcolor": "white",
           "linecolor": "white",
           "ticks": "",
           "title": {
            "standoff": 15
           },
           "zerolinecolor": "white",
           "zerolinewidth": 2
          },
          "yaxis": {
           "automargin": true,
           "gridcolor": "white",
           "linecolor": "white",
           "ticks": "",
           "title": {
            "standoff": 15
           },
           "zerolinecolor": "white",
           "zerolinewidth": 2
          }
         }
        },
        "title": {
         "text": "Воронка из шага в шаг в разрезе групп",
         "x": 0.5
        }
       }
      },
      "text/html": [
       "<div>                            <div id=\"69bf8308-baf3-458e-9208-2cedff6471dc\" class=\"plotly-graph-div\" style=\"height:525px; width:100%;\"></div>            <script type=\"text/javascript\">                require([\"plotly\"], function(Plotly) {                    window.PLOTLYENV=window.PLOTLYENV || {};                                    if (document.getElementById(\"69bf8308-baf3-458e-9208-2cedff6471dc\")) {                    Plotly.newPlot(                        \"69bf8308-baf3-458e-9208-2cedff6471dc\",                        [{\"marker\":{\"color\":\"blue\"},\"name\":\"246\",\"textinfo\":\"value+percent previous\",\"x\":[2450,1542,1266,1200],\"y\":[\"\\u043f\\u0440\\u043e\\u0441\\u043c\\u0430\\u0442\\u0440\\u0438\\u0432\\u0430\\u044e\\u0442 \\u0433\\u043b\\u0430\\u0432\\u043d\\u0443\\u044e \\u0441\\u0442\\u0440\\u0430\\u043d\\u0438\\u0446\\u0443\",\"\\u043f\\u0440\\u043e\\u0441\\u043c\\u043e\\u0442\\u0440 \\u0441\\u0442\\u0440\\u0430\\u043d\\u0438\\u0446\\u044b \\u0442\\u043e\\u0432\\u0430\\u0440\\u0430\",\"\\u043f\\u043e\\u043f\\u0430\\u0434\\u0430\\u043d\\u0438\\u0435 \\u0432 \\u043a\\u043e\\u0440\\u0437\\u0438\\u043d\\u0443\",\"\\u043e\\u043f\\u043b\\u0430\\u0442\\u0430 \\u0442\\u043e\\u0432\\u0430\\u0440\\u0430\"],\"type\":\"funnel\"},{\"marker\":{\"color\":\"fuchsia\"},\"name\":\"247\",\"textinfo\":\"value+percent previous\",\"x\":[2476,1520,1238,1158],\"y\":[\"\\u043f\\u0440\\u043e\\u0441\\u043c\\u0430\\u0442\\u0440\\u0438\\u0432\\u0430\\u044e\\u0442 \\u0433\\u043b\\u0430\\u0432\\u043d\\u0443\\u044e \\u0441\\u0442\\u0440\\u0430\\u043d\\u0438\\u0446\\u0443\",\"\\u043f\\u0440\\u043e\\u0441\\u043c\\u043e\\u0442\\u0440 \\u0441\\u0442\\u0440\\u0430\\u043d\\u0438\\u0446\\u044b \\u0442\\u043e\\u0432\\u0430\\u0440\\u0430\",\"\\u043f\\u043e\\u043f\\u0430\\u0434\\u0430\\u043d\\u0438\\u0435 \\u0432 \\u043a\\u043e\\u0440\\u0437\\u0438\\u043d\\u0443\",\"\\u043e\\u043f\\u043b\\u0430\\u0442\\u0430 \\u0442\\u043e\\u0432\\u0430\\u0440\\u0430\"],\"type\":\"funnel\"},{\"marker\":{\"color\":\"green\"},\"name\":\"248\",\"textinfo\":\"value+percent previous\",\"x\":[2493,1531,1230,1181],\"y\":[\"\\u043f\\u0440\\u043e\\u0441\\u043c\\u0430\\u0442\\u0440\\u0438\\u0432\\u0430\\u044e\\u0442 \\u0433\\u043b\\u0430\\u0432\\u043d\\u0443\\u044e \\u0441\\u0442\\u0440\\u0430\\u043d\\u0438\\u0446\\u0443\",\"\\u043f\\u0440\\u043e\\u0441\\u043c\\u043e\\u0442\\u0440 \\u0441\\u0442\\u0440\\u0430\\u043d\\u0438\\u0446\\u044b \\u0442\\u043e\\u0432\\u0430\\u0440\\u0430\",\"\\u043f\\u043e\\u043f\\u0430\\u0434\\u0430\\u043d\\u0438\\u0435 \\u0432 \\u043a\\u043e\\u0440\\u0437\\u0438\\u043d\\u0443\",\"\\u043e\\u043f\\u043b\\u0430\\u0442\\u0430 \\u0442\\u043e\\u0432\\u0430\\u0440\\u0430\"],\"type\":\"funnel\"}],                        {\"template\":{\"data\":{\"histogram2dcontour\":[{\"type\":\"histogram2dcontour\",\"colorbar\":{\"outlinewidth\":0,\"ticks\":\"\"},\"colorscale\":[[0.0,\"#0d0887\"],[0.1111111111111111,\"#46039f\"],[0.2222222222222222,\"#7201a8\"],[0.3333333333333333,\"#9c179e\"],[0.4444444444444444,\"#bd3786\"],[0.5555555555555556,\"#d8576b\"],[0.6666666666666666,\"#ed7953\"],[0.7777777777777778,\"#fb9f3a\"],[0.8888888888888888,\"#fdca26\"],[1.0,\"#f0f921\"]]}],\"choropleth\":[{\"type\":\"choropleth\",\"colorbar\":{\"outlinewidth\":0,\"ticks\":\"\"}}],\"histogram2d\":[{\"type\":\"histogram2d\",\"colorbar\":{\"outlinewidth\":0,\"ticks\":\"\"},\"colorscale\":[[0.0,\"#0d0887\"],[0.1111111111111111,\"#46039f\"],[0.2222222222222222,\"#7201a8\"],[0.3333333333333333,\"#9c179e\"],[0.4444444444444444,\"#bd3786\"],[0.5555555555555556,\"#d8576b\"],[0.6666666666666666,\"#ed7953\"],[0.7777777777777778,\"#fb9f3a\"],[0.8888888888888888,\"#fdca26\"],[1.0,\"#f0f921\"]]}],\"heatmap\":[{\"type\":\"heatmap\",\"colorbar\":{\"outlinewidth\":0,\"ticks\":\"\"},\"colorscale\":[[0.0,\"#0d0887\"],[0.1111111111111111,\"#46039f\"],[0.2222222222222222,\"#7201a8\"],[0.3333333333333333,\"#9c179e\"],[0.4444444444444444,\"#bd3786\"],[0.5555555555555556,\"#d8576b\"],[0.6666666666666666,\"#ed7953\"],[0.7777777777777778,\"#fb9f3a\"],[0.8888888888888888,\"#fdca26\"],[1.0,\"#f0f921\"]]}],\"heatmapgl\":[{\"type\":\"heatmapgl\",\"colorbar\":{\"outlinewidth\":0,\"ticks\":\"\"},\"colorscale\":[[0.0,\"#0d0887\"],[0.1111111111111111,\"#46039f\"],[0.2222222222222222,\"#7201a8\"],[0.3333333333333333,\"#9c179e\"],[0.4444444444444444,\"#bd3786\"],[0.5555555555555556,\"#d8576b\"],[0.6666666666666666,\"#ed7953\"],[0.7777777777777778,\"#fb9f3a\"],[0.8888888888888888,\"#fdca26\"],[1.0,\"#f0f921\"]]}],\"contourcarpet\":[{\"type\":\"contourcarpet\",\"colorbar\":{\"outlinewidth\":0,\"ticks\":\"\"}}],\"contour\":[{\"type\":\"contour\",\"colorbar\":{\"outlinewidth\":0,\"ticks\":\"\"},\"colorscale\":[[0.0,\"#0d0887\"],[0.1111111111111111,\"#46039f\"],[0.2222222222222222,\"#7201a8\"],[0.3333333333333333,\"#9c179e\"],[0.4444444444444444,\"#bd3786\"],[0.5555555555555556,\"#d8576b\"],[0.6666666666666666,\"#ed7953\"],[0.7777777777777778,\"#fb9f3a\"],[0.8888888888888888,\"#fdca26\"],[1.0,\"#f0f921\"]]}],\"surface\":[{\"type\":\"surface\",\"colorbar\":{\"outlinewidth\":0,\"ticks\":\"\"},\"colorscale\":[[0.0,\"#0d0887\"],[0.1111111111111111,\"#46039f\"],[0.2222222222222222,\"#7201a8\"],[0.3333333333333333,\"#9c179e\"],[0.4444444444444444,\"#bd3786\"],[0.5555555555555556,\"#d8576b\"],[0.6666666666666666,\"#ed7953\"],[0.7777777777777778,\"#fb9f3a\"],[0.8888888888888888,\"#fdca26\"],[1.0,\"#f0f921\"]]}],\"mesh3d\":[{\"type\":\"mesh3d\",\"colorbar\":{\"outlinewidth\":0,\"ticks\":\"\"}}],\"scatter\":[{\"fillpattern\":{\"fillmode\":\"overlay\",\"size\":10,\"solidity\":0.2},\"type\":\"scatter\"}],\"parcoords\":[{\"type\":\"parcoords\",\"line\":{\"colorbar\":{\"outlinewidth\":0,\"ticks\":\"\"}}}],\"scatterpolargl\":[{\"type\":\"scatterpolargl\",\"marker\":{\"colorbar\":{\"outlinewidth\":0,\"ticks\":\"\"}}}],\"bar\":[{\"error_x\":{\"color\":\"#2a3f5f\"},\"error_y\":{\"color\":\"#2a3f5f\"},\"marker\":{\"line\":{\"color\":\"#E5ECF6\",\"width\":0.5},\"pattern\":{\"fillmode\":\"overlay\",\"size\":10,\"solidity\":0.2}},\"type\":\"bar\"}],\"scattergeo\":[{\"type\":\"scattergeo\",\"marker\":{\"colorbar\":{\"outlinewidth\":0,\"ticks\":\"\"}}}],\"scatterpolar\":[{\"type\":\"scatterpolar\",\"marker\":{\"colorbar\":{\"outlinewidth\":0,\"ticks\":\"\"}}}],\"histogram\":[{\"marker\":{\"pattern\":{\"fillmode\":\"overlay\",\"size\":10,\"solidity\":0.2}},\"type\":\"histogram\"}],\"scattergl\":[{\"type\":\"scattergl\",\"marker\":{\"colorbar\":{\"outlinewidth\":0,\"ticks\":\"\"}}}],\"scatter3d\":[{\"type\":\"scatter3d\",\"line\":{\"colorbar\":{\"outlinewidth\":0,\"ticks\":\"\"}},\"marker\":{\"colorbar\":{\"outlinewidth\":0,\"ticks\":\"\"}}}],\"scattermapbox\":[{\"type\":\"scattermapbox\",\"marker\":{\"colorbar\":{\"outlinewidth\":0,\"ticks\":\"\"}}}],\"scatterternary\":[{\"type\":\"scatterternary\",\"marker\":{\"colorbar\":{\"outlinewidth\":0,\"ticks\":\"\"}}}],\"scattercarpet\":[{\"type\":\"scattercarpet\",\"marker\":{\"colorbar\":{\"outlinewidth\":0,\"ticks\":\"\"}}}],\"carpet\":[{\"aaxis\":{\"endlinecolor\":\"#2a3f5f\",\"gridcolor\":\"white\",\"linecolor\":\"white\",\"minorgridcolor\":\"white\",\"startlinecolor\":\"#2a3f5f\"},\"baxis\":{\"endlinecolor\":\"#2a3f5f\",\"gridcolor\":\"white\",\"linecolor\":\"white\",\"minorgridcolor\":\"white\",\"startlinecolor\":\"#2a3f5f\"},\"type\":\"carpet\"}],\"table\":[{\"cells\":{\"fill\":{\"color\":\"#EBF0F8\"},\"line\":{\"color\":\"white\"}},\"header\":{\"fill\":{\"color\":\"#C8D4E3\"},\"line\":{\"color\":\"white\"}},\"type\":\"table\"}],\"barpolar\":[{\"marker\":{\"line\":{\"color\":\"#E5ECF6\",\"width\":0.5},\"pattern\":{\"fillmode\":\"overlay\",\"size\":10,\"solidity\":0.2}},\"type\":\"barpolar\"}],\"pie\":[{\"automargin\":true,\"type\":\"pie\"}]},\"layout\":{\"autotypenumbers\":\"strict\",\"colorway\":[\"#636efa\",\"#EF553B\",\"#00cc96\",\"#ab63fa\",\"#FFA15A\",\"#19d3f3\",\"#FF6692\",\"#B6E880\",\"#FF97FF\",\"#FECB52\"],\"font\":{\"color\":\"#2a3f5f\"},\"hovermode\":\"closest\",\"hoverlabel\":{\"align\":\"left\"},\"paper_bgcolor\":\"white\",\"plot_bgcolor\":\"#E5ECF6\",\"polar\":{\"bgcolor\":\"#E5ECF6\",\"angularaxis\":{\"gridcolor\":\"white\",\"linecolor\":\"white\",\"ticks\":\"\"},\"radialaxis\":{\"gridcolor\":\"white\",\"linecolor\":\"white\",\"ticks\":\"\"}},\"ternary\":{\"bgcolor\":\"#E5ECF6\",\"aaxis\":{\"gridcolor\":\"white\",\"linecolor\":\"white\",\"ticks\":\"\"},\"baxis\":{\"gridcolor\":\"white\",\"linecolor\":\"white\",\"ticks\":\"\"},\"caxis\":{\"gridcolor\":\"white\",\"linecolor\":\"white\",\"ticks\":\"\"}},\"coloraxis\":{\"colorbar\":{\"outlinewidth\":0,\"ticks\":\"\"}},\"colorscale\":{\"sequential\":[[0.0,\"#0d0887\"],[0.1111111111111111,\"#46039f\"],[0.2222222222222222,\"#7201a8\"],[0.3333333333333333,\"#9c179e\"],[0.4444444444444444,\"#bd3786\"],[0.5555555555555556,\"#d8576b\"],[0.6666666666666666,\"#ed7953\"],[0.7777777777777778,\"#fb9f3a\"],[0.8888888888888888,\"#fdca26\"],[1.0,\"#f0f921\"]],\"sequentialminus\":[[0.0,\"#0d0887\"],[0.1111111111111111,\"#46039f\"],[0.2222222222222222,\"#7201a8\"],[0.3333333333333333,\"#9c179e\"],[0.4444444444444444,\"#bd3786\"],[0.5555555555555556,\"#d8576b\"],[0.6666666666666666,\"#ed7953\"],[0.7777777777777778,\"#fb9f3a\"],[0.8888888888888888,\"#fdca26\"],[1.0,\"#f0f921\"]],\"diverging\":[[0,\"#8e0152\"],[0.1,\"#c51b7d\"],[0.2,\"#de77ae\"],[0.3,\"#f1b6da\"],[0.4,\"#fde0ef\"],[0.5,\"#f7f7f7\"],[0.6,\"#e6f5d0\"],[0.7,\"#b8e186\"],[0.8,\"#7fbc41\"],[0.9,\"#4d9221\"],[1,\"#276419\"]]},\"xaxis\":{\"gridcolor\":\"white\",\"linecolor\":\"white\",\"ticks\":\"\",\"title\":{\"standoff\":15},\"zerolinecolor\":\"white\",\"automargin\":true,\"zerolinewidth\":2},\"yaxis\":{\"gridcolor\":\"white\",\"linecolor\":\"white\",\"ticks\":\"\",\"title\":{\"standoff\":15},\"zerolinecolor\":\"white\",\"automargin\":true,\"zerolinewidth\":2},\"scene\":{\"xaxis\":{\"backgroundcolor\":\"#E5ECF6\",\"gridcolor\":\"white\",\"linecolor\":\"white\",\"showbackground\":true,\"ticks\":\"\",\"zerolinecolor\":\"white\",\"gridwidth\":2},\"yaxis\":{\"backgroundcolor\":\"#E5ECF6\",\"gridcolor\":\"white\",\"linecolor\":\"white\",\"showbackground\":true,\"ticks\":\"\",\"zerolinecolor\":\"white\",\"gridwidth\":2},\"zaxis\":{\"backgroundcolor\":\"#E5ECF6\",\"gridcolor\":\"white\",\"linecolor\":\"white\",\"showbackground\":true,\"ticks\":\"\",\"zerolinecolor\":\"white\",\"gridwidth\":2}},\"shapedefaults\":{\"line\":{\"color\":\"#2a3f5f\"}},\"annotationdefaults\":{\"arrowcolor\":\"#2a3f5f\",\"arrowhead\":0,\"arrowwidth\":1},\"geo\":{\"bgcolor\":\"white\",\"landcolor\":\"#E5ECF6\",\"subunitcolor\":\"white\",\"showland\":true,\"showlakes\":true,\"lakecolor\":\"white\"},\"title\":{\"x\":0.05},\"mapbox\":{\"style\":\"light\"}}},\"title\":{\"x\":0.5,\"text\":\"\\u0412\\u043e\\u0440\\u043e\\u043d\\u043a\\u0430 \\u0438\\u0437 \\u0448\\u0430\\u0433\\u0430 \\u0432 \\u0448\\u0430\\u0433 \\u0432 \\u0440\\u0430\\u0437\\u0440\\u0435\\u0437\\u0435 \\u0433\\u0440\\u0443\\u043f\\u043f\"}},                        {\"responsive\": true}                    ).then(function(){\n",
       "                            \n",
       "var gd = document.getElementById('69bf8308-baf3-458e-9208-2cedff6471dc');\n",
       "var x = new MutationObserver(function (mutations, observer) {{\n",
       "        var display = window.getComputedStyle(gd).display;\n",
       "        if (!display || display === 'none') {{\n",
       "            console.log([gd, 'removed!']);\n",
       "            Plotly.purge(gd);\n",
       "            observer.disconnect();\n",
       "        }}\n",
       "}});\n",
       "\n",
       "// Listen for the removal of the full notebook cells\n",
       "var notebookContainer = gd.closest('#notebook-container');\n",
       "if (notebookContainer) {{\n",
       "    x.observe(notebookContainer, {childList: true});\n",
       "}}\n",
       "\n",
       "// Listen for the clearing of the current output cell\n",
       "var outputEl = gd.closest('.output');\n",
       "if (outputEl) {{\n",
       "    x.observe(outputEl, {childList: true});\n",
       "}}\n",
       "\n",
       "                        })                };                });            </script>        </div>"
      ]
     },
     "metadata": {},
     "output_type": "display_data"
    }
   ],
   "source": [
    "#построим воронку\n",
    "\n",
    "list_n = ['просматривают главную страницу','просмотр страницы товара','попадание в корзину','оплата товара']\n",
    "steps = ['MainScreenAppear', 'OffersScreenAppear', 'CartScreenAppear', \n",
    "       'PaymentScreenSuccessful']\n",
    "\n",
    "df_funnel = df_cl.groupby(['group', 'event'], as_index=False).agg({'user_id': 'nunique'}).query('event != \"Tutorial\"')\n",
    "\n",
    "color = ['lightblue','fuchsia','lightcoral']\n",
    "fig = go.Figure()\n",
    "\n",
    "fig.add_trace(go.Funnel(name = '246',\n",
    "\n",
    "    y = list_n,\n",
    "    x = df_funnel.query('group == 246').set_index('event').loc[steps]['user_id'],\n",
    "    textinfo = \"value+percent previous\", marker = {\"color\":'blue'}))\n",
    "\n",
    "fig.add_trace(go.Funnel(name = '247',\n",
    "\n",
    "    y = list_n,\n",
    "    x = df_funnel.query('group == 247').set_index('event').loc[steps]['user_id'],\n",
    "    textinfo = \"value+percent previous\", marker = {\"color\":'fuchsia'}))\n",
    "\n",
    "fig.add_trace(go.Funnel(name = '248',\n",
    "\n",
    "    y = list_n,\n",
    "    x = df_funnel.query('group == 248').set_index('event').loc[steps]['user_id'],\n",
    "    textinfo = \"value+percent previous\",marker = {\"color\":'green'}))\n",
    "\n",
    "\n",
    "fig.update_layout(title={'x': 0.5, 'text': 'Воронка из шага в шаг в разрезе групп'})\n",
    "fig.show()"
   ]
  },
  {
   "cell_type": "code",
   "execution_count": null,
   "metadata": {},
   "outputs": [],
   "source": []
  },
  {
   "cell_type": "code",
   "execution_count": 50,
   "metadata": {},
   "outputs": [
    {
     "data": {
      "text/html": [
       "<div>\n",
       "<style scoped>\n",
       "    .dataframe tbody tr th:only-of-type {\n",
       "        vertical-align: middle;\n",
       "    }\n",
       "\n",
       "    .dataframe tbody tr th {\n",
       "        vertical-align: top;\n",
       "    }\n",
       "\n",
       "    .dataframe thead th {\n",
       "        text-align: right;\n",
       "    }\n",
       "</style>\n",
       "<table border=\"1\" class=\"dataframe\">\n",
       "  <thead>\n",
       "    <tr style=\"text-align: right;\">\n",
       "      <th>group</th>\n",
       "      <th>event</th>\n",
       "      <th>246</th>\n",
       "      <th>247</th>\n",
       "      <th>248</th>\n",
       "    </tr>\n",
       "  </thead>\n",
       "  <tbody>\n",
       "    <tr>\n",
       "      <th>0</th>\n",
       "      <td>MainScreenAppear</td>\n",
       "      <td>2450</td>\n",
       "      <td>2476</td>\n",
       "      <td>2493</td>\n",
       "    </tr>\n",
       "    <tr>\n",
       "      <th>1</th>\n",
       "      <td>OffersScreenAppear</td>\n",
       "      <td>1542</td>\n",
       "      <td>1520</td>\n",
       "      <td>1531</td>\n",
       "    </tr>\n",
       "    <tr>\n",
       "      <th>2</th>\n",
       "      <td>CartScreenAppear</td>\n",
       "      <td>1266</td>\n",
       "      <td>1238</td>\n",
       "      <td>1230</td>\n",
       "    </tr>\n",
       "    <tr>\n",
       "      <th>3</th>\n",
       "      <td>PaymentScreenSuccessful</td>\n",
       "      <td>1200</td>\n",
       "      <td>1158</td>\n",
       "      <td>1181</td>\n",
       "    </tr>\n",
       "  </tbody>\n",
       "</table>\n",
       "</div>"
      ],
      "text/plain": [
       "group                    event   246   247   248\n",
       "0             MainScreenAppear  2450  2476  2493\n",
       "1           OffersScreenAppear  1542  1520  1531\n",
       "2             CartScreenAppear  1266  1238  1230\n",
       "3      PaymentScreenSuccessful  1200  1158  1181"
      ]
     },
     "execution_count": 50,
     "metadata": {},
     "output_type": "execute_result"
    }
   ],
   "source": [
    "test = (df_cl[df_cl['event']!='Tutorial'].pivot_table(\n",
    "    index='event', \n",
    "    columns='group', \n",
    "    values='user_id',\n",
    "    aggfunc='nunique')\n",
    "                    .sort_values(246, ascending=False).reset_index())\n",
    "test"
   ]
  },
  {
   "cell_type": "markdown",
   "metadata": {},
   "source": [
    "Таким образом контрольные группы не имеют значительных различий  по числу пользователей,ранее  мы проводили проверку на предмет пользователей , попавших в несколько групп  и таковых не обнаружили.Проверить, как зафиксированы и отправлены логи, мы не можем - положимся на источник наших данных.О различии ключевых метрик по группам будем судить по результату последующих проверок."
   ]
  },
  {
   "cell_type": "markdown",
   "metadata": {},
   "source": [
    "### Выберите самое популярное событие. Посчитайте число пользователей, совершивших это событие в каждой из контрольных групп.(A/A тест) Посчитайте долю пользователей, совершивших это событие. Проверьте, будет ли отличие между группами статистически достоверным. Проделайте то же самое для всех других событий (удобно обернуть проверку в отдельную функцию). Можно ли сказать, что разбиение на группы работает корректно?\n",
    "\n",
    "\n"
   ]
  },
  {
   "cell_type": "markdown",
   "metadata": {},
   "source": [
    "Самым популяноым событием стоит признать `MainScreenAppear`-просмотр главной страницы"
   ]
  },
  {
   "cell_type": "markdown",
   "metadata": {},
   "source": [
    "**Сформулируем гипотезу:**\n",
    "\n",
    "**H0** - статистически значимых различий в поведении пользователей,совершивших событие для сравниваемых групп нет\n",
    "\n",
    "**H1** - статистически значимые различия в  поведении пользователей,совершивших событие для сравниваемых групп есть\n",
    "\n",
    "Выберем критический уровень значимости - 0.05.В нашем случае этого будет достаточно.\n",
    "\n",
    "\n",
    "Для проверки гипотез воспользуемся Z-критерием и применим метод Бонферрони (поправка Бонферрони), так как проводим множественное сравнение. В  случае A/A  теста будет 4 сравнения.А в случае A/A/B теста будет 4х3 = 12 .Итого коэффициент будет n = 16;\n",
    "\n",
    "\n",
    "\n",
    "Подготовим данные"
   ]
  },
  {
   "cell_type": "code",
   "execution_count": 51,
   "metadata": {},
   "outputs": [
    {
     "data": {
      "text/html": [
       "<div>\n",
       "<style scoped>\n",
       "    .dataframe tbody tr th:only-of-type {\n",
       "        vertical-align: middle;\n",
       "    }\n",
       "\n",
       "    .dataframe tbody tr th {\n",
       "        vertical-align: top;\n",
       "    }\n",
       "\n",
       "    .dataframe thead th {\n",
       "        text-align: right;\n",
       "    }\n",
       "</style>\n",
       "<table border=\"1\" class=\"dataframe\">\n",
       "  <thead>\n",
       "    <tr style=\"text-align: right;\">\n",
       "      <th>group</th>\n",
       "      <th>event</th>\n",
       "      <th>246</th>\n",
       "      <th>247</th>\n",
       "      <th>248</th>\n",
       "      <th>247+246</th>\n",
       "    </tr>\n",
       "  </thead>\n",
       "  <tbody>\n",
       "    <tr>\n",
       "      <th>0</th>\n",
       "      <td>MainScreenAppear</td>\n",
       "      <td>2450</td>\n",
       "      <td>2476</td>\n",
       "      <td>2493</td>\n",
       "      <td>4926</td>\n",
       "    </tr>\n",
       "    <tr>\n",
       "      <th>1</th>\n",
       "      <td>OffersScreenAppear</td>\n",
       "      <td>1542</td>\n",
       "      <td>1520</td>\n",
       "      <td>1531</td>\n",
       "      <td>3062</td>\n",
       "    </tr>\n",
       "    <tr>\n",
       "      <th>2</th>\n",
       "      <td>CartScreenAppear</td>\n",
       "      <td>1266</td>\n",
       "      <td>1238</td>\n",
       "      <td>1230</td>\n",
       "      <td>2504</td>\n",
       "    </tr>\n",
       "    <tr>\n",
       "      <th>3</th>\n",
       "      <td>PaymentScreenSuccessful</td>\n",
       "      <td>1200</td>\n",
       "      <td>1158</td>\n",
       "      <td>1181</td>\n",
       "      <td>2358</td>\n",
       "    </tr>\n",
       "  </tbody>\n",
       "</table>\n",
       "</div>"
      ],
      "text/plain": [
       "group                    event   246   247   248  247+246\n",
       "0             MainScreenAppear  2450  2476  2493     4926\n",
       "1           OffersScreenAppear  1542  1520  1531     3062\n",
       "2             CartScreenAppear  1266  1238  1230     2504\n",
       "3      PaymentScreenSuccessful  1200  1158  1181     2358"
      ]
     },
     "execution_count": 51,
     "metadata": {},
     "output_type": "execute_result"
    }
   ],
   "source": [
    "test = df_cl[df_cl['event']!='Tutorial'].pivot_table(index='event', columns='group', values='user_id', aggfunc='nunique').reset_index().sort_values(246, ascending=False).reset_index(drop=True)\n",
    "test['247+246'] = test[246] + test[247]\n",
    "test"
   ]
  },
  {
   "cell_type": "markdown",
   "metadata": {},
   "source": [
    "Создадим функцию для проверки различий в поведении пользователей. "
   ]
  },
  {
   "cell_type": "code",
   "execution_count": 52,
   "metadata": {},
   "outputs": [],
   "source": [
    "def func_test(data1,data2, event_name, alpha, n):\n",
    "     # уровень статистической значимости c поправкой Бонферрони    \n",
    "    bonferroni_alpha = alpha / n\n",
    "   \n",
    "    # число пользователей \n",
    "    user_num = np.array([data1['user_id'].nunique(),data2['user_id'].nunique()])\n",
    "    \n",
    "    # число пользователей, совершивших переданное функции событие\n",
    "    success = np.array([data1[data1['event'] == event_name]['user_id'].nunique(),data2[data2['event'] == event_name]['user_id'].nunique()])\n",
    "    \n",
    "    # пропорции совершения события в группах\n",
    "    p1 = success[0]/user_num[0] \n",
    "    p2 = success[1]/user_num[1]\n",
    "    \n",
    "    # пропорция совершения события в комбинированном датасете:\n",
    "    p_combined = (success[0] + success[1]) / (user_num[0] + user_num[1])\n",
    "    \n",
    "    # разница пропорций в датасетах\n",
    "    difference = p1 - p2 \n",
    "    \n",
    "    # считаем статистику в ст.отклонениях стандартного нормального распределения\n",
    "    z_value = difference /  np.sqrt(p_combined * (1 - p_combined) * (1/user_num[0] + 1/user_num[1]))\n",
    "    \n",
    "    # задаем стандартное нормальное распределение (среднее 0, ст.отклонение 1)\n",
    "    distr = st.norm(0, 1)  \n",
    "    # так как тест двусторонний (либо раличий нет, либо различия есть), то удваиваем результат\n",
    "    p_value = (1 - distr.cdf(abs(z_value))) * 2 \n",
    "    \n",
    "    # уровень статистической значимости c поправкой Бонферрони    \n",
    "    bonferroni_alpha = alpha / n\n",
    "    \n",
    "    print('Событие :', event_name)\n",
    "    \n",
    "    print('p-value: ', '{0:.3f}'.format(p_value))\n",
    "    \n",
    "    if p_value < bonferroni_alpha:\n",
    "        \n",
    "        print('Отвергаем нулевую гипотезу: между поведением  пользователей в группах есть значимая разница')\n",
    "    else:\n",
    "        print('Не получилось отвергнуть нулевую гипотезу, нет оснований считать поведением  пользоаптелей  разными ')"
   ]
  },
  {
   "cell_type": "markdown",
   "metadata": {},
   "source": [
    "Посмотрим,как поправка Бонферрони повлияла на уровень alpha"
   ]
  },
  {
   "cell_type": "code",
   "execution_count": 53,
   "metadata": {},
   "outputs": [
    {
     "name": "stdout",
     "output_type": "stream",
     "text": [
      "0.003125\n"
     ]
    }
   ],
   "source": [
    "alpha = 0.05\n",
    "n=16\n",
    "bonferroni_alpha = alpha / n\n",
    "print(bonferroni_alpha)"
   ]
  },
  {
   "cell_type": "code",
   "execution_count": 54,
   "metadata": {},
   "outputs": [
    {
     "name": "stdout",
     "output_type": "stream",
     "text": [
      "Событие : MainScreenAppear\n",
      "p-value:  0.757\n",
      "Не получилось отвергнуть нулевую гипотезу, нет оснований считать поведением  пользоаптелей  разными \n",
      "\n",
      "Событие : OffersScreenAppear\n",
      "p-value:  0.248\n",
      "Не получилось отвергнуть нулевую гипотезу, нет оснований считать поведением  пользоаптелей  разными \n",
      "\n",
      "Событие : CartScreenAppear\n",
      "p-value:  0.229\n",
      "Не получилось отвергнуть нулевую гипотезу, нет оснований считать поведением  пользоаптелей  разными \n",
      "\n",
      "Событие : PaymentScreenSuccessful\n",
      "p-value:  0.115\n",
      "Не получилось отвергнуть нулевую гипотезу, нет оснований считать поведением  пользоаптелей  разными \n",
      "\n"
     ]
    }
   ],
   "source": [
    "for event in test['event']:\n",
    "    func_test(df_cl[df_cl['group']==246],df_cl[df_cl['group']==247], event, 0.05,16)\n",
    "    print()"
   ]
  },
  {
   "cell_type": "markdown",
   "metadata": {},
   "source": [
    "**ВЫВОД**\n",
    "По результатам A/A (группы `246`и`247`)тестирования для всех событий не удалось отвергнуть **H0**.Значения `p-value`(0.115-0.757) значительно превышают уровень значимости с учетом прправки.:Значит статистически значимых различий в долях пользователей,совершивших событие для сравниваемых групп нет. И разбиение в контрольных группах можно считать корректным."
   ]
  },
  {
   "cell_type": "markdown",
   "metadata": {},
   "source": [
    "### Аналогично поступите с группой с изменённым шрифтом. Сравните результаты с каждой из контрольных групп в отдельности по каждому событию. Сравните результаты с объединённой контрольной группой. Какие выводы из эксперимента можно сделать?\n"
   ]
  },
  {
   "cell_type": "markdown",
   "metadata": {},
   "source": [
    "Теперь мы будем сравнивать экспериментальную группу `B`(`248`) c двумя контрольными группами A/A(`246` и `247`).\n",
    "\n",
    "**Сформулируем гипотезу:**\n",
    "\n",
    "**H0** - Замена шрифта в приложении  не влияет на поведение пользователей\n",
    "\n",
    "**H1** - Замена шрифта в приложении  влияет на поведение пользователей\n",
    "\n",
    "Выберем критический уровень значимости - 0.05.В нашем случае этого будет достаточно.\n",
    "\n",
    "\n",
    "Для проверки гипотез воспользуемся Z-критерием и применим метод Бонферрони (поправка Бонферрони), так как проводим множественное сравнение. В этом случае также n=16.\n",
    "\n"
   ]
  },
  {
   "cell_type": "markdown",
   "metadata": {},
   "source": [
    "**Сравнение групп `246` и `248`**"
   ]
  },
  {
   "cell_type": "code",
   "execution_count": 55,
   "metadata": {},
   "outputs": [
    {
     "name": "stdout",
     "output_type": "stream",
     "text": [
      "Событие : MainScreenAppear\n",
      "p-value:  0.295\n",
      "Не получилось отвергнуть нулевую гипотезу, нет оснований считать поведением  пользоаптелей  разными \n",
      "\n",
      "Событие : OffersScreenAppear\n",
      "p-value:  0.208\n",
      "Не получилось отвергнуть нулевую гипотезу, нет оснований считать поведением  пользоаптелей  разными \n",
      "\n",
      "Событие : CartScreenAppear\n",
      "p-value:  0.078\n",
      "Не получилось отвергнуть нулевую гипотезу, нет оснований считать поведением  пользоаптелей  разными \n",
      "\n",
      "Событие : PaymentScreenSuccessful\n",
      "p-value:  0.212\n",
      "Не получилось отвергнуть нулевую гипотезу, нет оснований считать поведением  пользоаптелей  разными \n",
      "\n"
     ]
    }
   ],
   "source": [
    "for event in test['event']:\n",
    "    func_test(df_cl[df_cl['group']==246],df_cl[df_cl['group']==248], event, 0.05,16)\n",
    "    print()"
   ]
  },
  {
   "cell_type": "markdown",
   "metadata": {},
   "source": [
    "**Сравнение групп `247` и `248`**"
   ]
  },
  {
   "cell_type": "code",
   "execution_count": 56,
   "metadata": {},
   "outputs": [
    {
     "name": "stdout",
     "output_type": "stream",
     "text": [
      "Событие : MainScreenAppear\n",
      "p-value:  0.459\n",
      "Не получилось отвергнуть нулевую гипотезу, нет оснований считать поведением  пользоаптелей  разными \n",
      "\n",
      "Событие : OffersScreenAppear\n",
      "p-value:  0.920\n",
      "Не получилось отвергнуть нулевую гипотезу, нет оснований считать поведением  пользоаптелей  разными \n",
      "\n",
      "Событие : CartScreenAppear\n",
      "p-value:  0.579\n",
      "Не получилось отвергнуть нулевую гипотезу, нет оснований считать поведением  пользоаптелей  разными \n",
      "\n",
      "Событие : PaymentScreenSuccessful\n",
      "p-value:  0.737\n",
      "Не получилось отвергнуть нулевую гипотезу, нет оснований считать поведением  пользоаптелей  разными \n",
      "\n"
     ]
    }
   ],
   "source": [
    "for event in test['event']:\n",
    "    func_test(df_cl[df_cl['group'] ==247],df_cl[df_cl['group']==248], event, 0.05,16)\n",
    "    print()"
   ]
  },
  {
   "cell_type": "markdown",
   "metadata": {},
   "source": [
    "**Сравнение объединенной группы `246+247` и `248`**"
   ]
  },
  {
   "cell_type": "code",
   "execution_count": 57,
   "metadata": {},
   "outputs": [
    {
     "name": "stdout",
     "output_type": "stream",
     "text": [
      "Событие : MainScreenAppear\n",
      "p-value:  0.294\n",
      "Не получилось отвергнуть нулевую гипотезу, нет оснований считать поведением  пользоаптелей  разными \n",
      "\n",
      "Событие : OffersScreenAppear\n",
      "p-value:  0.434\n",
      "Не получилось отвергнуть нулевую гипотезу, нет оснований считать поведением  пользоаптелей  разными \n",
      "\n",
      "Событие : CartScreenAppear\n",
      "p-value:  0.182\n",
      "Не получилось отвергнуть нулевую гипотезу, нет оснований считать поведением  пользоаптелей  разными \n",
      "\n",
      "Событие : PaymentScreenSuccessful\n",
      "p-value:  0.600\n",
      "Не получилось отвергнуть нулевую гипотезу, нет оснований считать поведением  пользоаптелей  разными \n",
      "\n"
     ]
    }
   ],
   "source": [
    "for event in test['event']:\n",
    "    func_test(df_cl[df_cl['group']!=248],df_cl[df_cl['group']==248], event, 0.05,16)\n",
    "    print()"
   ]
  },
  {
   "cell_type": "markdown",
   "metadata": {},
   "source": [
    "**ВЫВОД** \n",
    "По результатам A/A/B тестирования (сравнивались контрольные группы `246`и`247` и экспериментальная -`248` )для всех событий не удалось отвергнуть `H0`.Значит статистически значимых различий в долях пользователей,совершивших событие для сравниваемых групп нет. И значит изменение шрифта в приложении не оказало статистически значимого влияния на поведение пользователей.При сравнении экспериментальной группы с объединенной контрольной группой можно сделать таие же выводы.\n"
   ]
  },
  {
   "cell_type": "markdown",
   "metadata": {},
   "source": [
    "### Какой уровень значимости вы выбрали при проверке статистических гипотез выше? Посчитайте, сколько проверок статистических гипотез вы сделали. При уровне значимости 0.1 каждый десятый раз можно получать ложный результат. Какой уровень значимости стоит применить? Если вы хотите изменить его, проделайте предыдущие пункты и проверьте свои выводы."
   ]
  },
  {
   "cell_type": "markdown",
   "metadata": {},
   "source": [
    "При проверке статистических гипотез выбран уровень значимости `alpha = 0.05`. Для проверки гипотез использовался Z-критерий и применили метод Бонферрони (поправка Бонферрони), так как проводилось множественное сравнение.И приняли n = 16,в итоге  `bonferroni_alpha =0.003125`.Было сделано 16 проверок гипотез.\n",
    "В  результате проверок полученное значение`p-value` для всех видов проверок превысило это значение.Стоит заметить,что даже при уровне альфа 0.05 все р-значения были бы значительно выше уровня значимости и ложнопрложительных результатов быть не может.Поэтому,можно было и обойтись без использования поправки.\n"
   ]
  },
  {
   "cell_type": "markdown",
   "metadata": {},
   "source": [
    "**ВЫВОД по Шагу 5**\n",
    "\n",
    " - Для  изучения результатов эксперимента были использоанны данные за актуальный период,собранные в `df_cl`.Выяснено,что пользователи распределены достаточно равномерно по трем группам: в группе `246`- 2484 пользователя и `247` — 2513(это контрольные группы), а в `248`— 2537 пользователей(Это экспериментальная группа)\n",
    " - Рвзница между контрольными группами 246 и 247 составила 1.15% .Это чуть больше 1%, что несущественно.\n",
    "Для иллюстрации распределения пользователей по шагам для разных событий в разрезе групп построен графмик воронки с  использованием библиотеки plotly.\n",
    "\n",
    "-  Самым популяноым событием стоит признать MainScreenAppear-просмотр главной страницы\n",
    "\n",
    "- **Для контрольных групп (A/A тест)** Сформулированы и проверены гипртезы:\n",
    "\n",
    "**H0** - статистически значимых различий в поведении пользователей,совершивших событие для сравниваемых групп нет\n",
    "\n",
    "**H1** - статистически значимые различия в  поведении пользователей,совершивших событие для сравниваемых групп есть\n",
    "\n",
    "Выберан критический уровень значимости - 0.05.В нашем случае этого будет достаточно.\n",
    "Для проверки гипотез воспользовались Z-критерием и примннили метод Бонферрони (поправка Бонферрони), так как проводим множественное сравнение. В случае A/A теста будет 4 сравнения.А в случае A/A/B теста будет 4х3 = 12 .Итого коэффициент n = 16;\n",
    "\n",
    "По результатам A/A (группы `246`и`247`)тестирования для всех событий не удалось отвергнуть **H0**.Значения `p-value`(0.115-0.757) значительно превышают уровень значимости с учетом прправки.:Значит статистически значимых различий в поведении пользователей,совершивших событие для сравниваемых групп нет. И разбиение в контрольных группах можно считать корректным.\n",
    "\n",
    "**Для сравнения экспериментальной группу `B`(`248`) c двумя контрольными группами A/A(`246` и `247`)**.\n",
    "сформулированны\n",
    "\n",
    "**H0** - Замена шрифта в приложении  не влияет на поведение пользователей\n",
    "\n",
    "**H1** - Замена шрифта в приложении  влияет на поведение пользователей\n",
    "Критерии для проверки выбраны аналогично.\n",
    "\n",
    "По результатам A/A/B тестирования (сравнивались контрольные группы `246`и`247` и экспериментальная -`248` )для всех событий не удалось отвергнуть **H0**.Значит статистически значимых различий в долях пользователей,совершивших событие для сравниваемых групп нет. И значит изменение шрифта в приложении не оказало статистически значимого влияния на поведение пользователей.При сравнении экспериментальной группы с объединенной контрольной группой можно сделать таие же выводы.\n",
    "\n"
   ]
  },
  {
   "cell_type": "markdown",
   "metadata": {},
   "source": [
    "## ОБЩИЙ ВЫВОД"
   ]
  },
  {
   "cell_type": "markdown",
   "metadata": {},
   "source": [
    "**Цель проекта**\n",
    "\n",
    "Определить,как ведут себя пользователи вашего мобильного приложения.Изучить воронку продаж и ухнать как  пользователи доходят до покупки. После этого исследовать результаты A/A/B-эксперимента.Пользователей разбили на 3 группы: 2 контрольные со старыми шрифтами и одну экспериментальную — с новыми.Нужно выяснить, какой шрифт лучше.\n",
    "\n",
    "**На этапе Знакомства и подготовки данных отмечено:**\n",
    "\n",
    "- Нам предоставлены данные записей в логах мобильного приложения по продаже продуктов питания.\n",
    "- Каждая запись в логе — это действие пользователя, или событие.Датасет имеет **244126** таких записей в **4** колонках: название события, уникальный идентификатор пользователя,время события и номер группы пльзователя,куда он попал в результе A/A/B теста.\n",
    "- Пропусков не обнаружено.Но есть 413 дудликатов.Удалены явные дубликаты.\n",
    "- В колонке с временем события представлено типом `int64` и выраженно в секундах.Заменен тип данных в столбце с датой на `datetime`в формате дата и время\n",
    "- Названия столбцов приведены к общепринятому и боллее удобному виду.\n",
    "- Добавлен  отдельный столбец дат\n",
    "\n",
    "\n",
    "\n",
    "**На этапе изучение и проверки данных выявлено следующее:**\n",
    "\n",
    "- Уникальных событий 5,и их названия тоже уникальны.Всего в логе 7551 уникальный пользователь.\n",
    "\n",
    "- Данные педставленны за период: **с 2019-07-25 04:43:36 по 2019-08-07 21:15:17** .То есть практически за  2 недели( 14 дней)\n",
    "\n",
    "- Среднее чисо событий на одного пользователя -32.Однако построив график распределения событий по числу пользователей  мы выяснили,что выборук  лучше характеризует  медианное значение событий на одного пользователя - 20! \n",
    "\n",
    "- С целью посмотреть,как распределились события по дате и времени и построена гистограмма и График распределения событий по времени.Выяснено, что до данные становятся полными после 01.08.2019.Данные до этой даты стоит считать устаревшими и принято решение их удалить.\n",
    "\n",
    "- Отфильтрованный период -**от 2019-08-01 00:07:28 до 2019-08-07 21:15:17**.То есть приблизительно за 1 неделю(или 7 дней)\n",
    "\n",
    "- Относительные потери пользователей при фильтрации составили  0.23%(17)А Относительные потери числа событий - соответственно 1.16%(2826).Это незначительные потери.\n",
    "\n",
    "\n",
    "\n",
    "\n",
    "**На этапе изучения воронки событий:**\n",
    "\n",
    "- Выявлено  5 событий: `MainScreenAppear`- просмотр главной страницы(встречается в 48.7%),`OffersScreenAppear` - просмотр страницы товара(19.2%),`CartScreenAppear`- просмотр корзины(17.6%)- `PaymentScreenSuccessful`- переход на страницу успешной оплаты(14.1%) и `Tutorial`- просмотр руководства пользователя(всего 0.4%).\n",
    "- Из всего числа уникальных пользователей:\n",
    "\n",
    "  - 98.47 % всех пользователей просматривают главную страницу приложения(видно,что какя-то часть все- таки минует этот этап)\n",
    "\n",
    "  - 60.96 % всех пользователей просматривают  страницу товара\n",
    "\n",
    "  - 49.56 % попадают на страницу корзины \n",
    "\n",
    "  - 46.97% перешли  на страницу успешной оплаты\n",
    "\n",
    "  - 11.15% просмотривали  руководство пользователя\n",
    "- ОтмеченоБ,что в последовательнужю  цепочку выстраиваются следующие 4 события:\n",
    "     \n",
    " **Посещение главной страницы приложения  → → →просмотр страницы товара  → → → попадание в корзину  → → → оплата товара**\n",
    "Пятое  событие - просмотр руководства пользователя в  эту цепочку не входит и в рачет пользовательской воронки это собыьие      учитывать не нужно! \n",
    "\n",
    "- Построен график воронки событий с использованием библиотеки `Plotly`,что наглядно позволило увидеть, что:\n",
    "\n",
    "1 этап (главная страница) это  100% пользователей\n",
    "\n",
    "2 этап(страница тоаара)- туда попадает  61.9% от предыдщего шага(потери 38.1%)\n",
    "\n",
    "3 этап(корзина)- туда попадает 81.3% от предыдущего шага(потери 18.7%)\n",
    "\n",
    "4 этап(страница оплаты)- туда попадает 94.8% от предыдущего шага(потери 5.2%)\n",
    "\n",
    "- **Касательно потерь пользователей можно сделать такие выводы:**\n",
    "\n",
    "     - Больше всего пользователей теряется на главной странице(`MainScreenAppear`)- это 38.1%.Это с одной стороны много а сдругой-   нормально.Пользователь заходит в приложение и знакомится с продуктом.Если унего возникает интерес,то идет дальше.Может быть для тех,кто не пошел дальше главная страница оказалась непривлекательной или кнопка перехода на следующий этап мало заметна или неудобна.Нынешний пользователь  избалован и ему не нравитсяв чем-то долго разбираться.С целью увеличения конверсии на этом шаге можно предложить обратить внимание на дизайн и функциональность главной страницы. \n",
    "     - Далее мы наблюдаем  повышение процента перехода пользователей из одно шага в другой.И потери припереходе к  корзине составляют 18.7%, а к переходу на экран оплаты - 5.2%. Видно, что дальше пользователь чувствует себя увереннее. Однако стоит заметить,что не все , кто попал на страницу оплаты завершают этот этап.Может покупатель в последний момент передумал или у него возникли какие-то технические трудности при оплате или есть неудобства при заполнении платежных данных?На это тоже стоит    обратить внимание.\n",
    "   \n",
    "- Видно, что 47,7% пользователей доходит до страницы успешной оплаты (`PaymentScreenSuccessful`) относительно первого события-просмотра главной страницы(`MainScreenAppear`). Очень хороший результат - почти половина пользователей!\n",
    "\n",
    "\n",
    "**Изучение результатов эксперимента**\n",
    "\n",
    " - Для  изучения результатов эксперимента были использоанны данные за актуальный период,собранные в `df_cl`.Выяснено,что пользователи распределены достаточно равномерно по трем группам: в группе `246`- 2484 пользователя и `247` — 2513(это контрольные группы), а в `248`— 2537 пользователей(Это экспериментальная группа)\n",
    " - Рвзница между контрольными группами 246 и 247 составила 1.15% .Это чуть больше 1%, что несущественно.\n",
    "Для иллюстрации распределения пользователей по шагам для разных событий в разрезе групп построен графмик воронки с  использованием библиотеки plotly.\n",
    "-  Самым популяноым событием стоит признать MainScreenAppear-просмотр главной страницы\n",
    "\n",
    "- **Для контрольных групп (A/A тест)** Сформулированы и проверены гипртезы:\n",
    "\n",
    "**H0** - статистически значимых различий в поведении пользователей,совершивших событие для сравниваемых групп нет\n",
    "\n",
    "**H1** - статистически значимые различия в  поведении пользователей,совершивших событие для сравниваемых групп есть\n",
    "\n",
    "Выберан критический уровень значимости - 0.05.В нашем случае этого будет достаточно.\n",
    "Для проверки гипотез воспользовались Z-критерием и примннили метод Бонферрони (поправка Бонферрони), так как проводим множественное сравнение. В случае A/A теста будет 4 сравнения.А в случае A/A/B теста будет 4х3 = 12 .Итого коэффициент n = 16;\n",
    "\n",
    "По результатам A/A (группы `246`и`247`)тестирования для всех событий не удалось отвергнуть **H0**.Значения `p-value`(0.115-0.757) значительно превышают уровень значимости с учетом прправки.Значит статистически значимых различий в поведении пользователей,совершивших событие для сравниваемых групп нет. **Разбиение в контрольных группах можно считать корректным.**\n",
    "\n",
    "**Для сравнения экспериментальной группу `B`(`248`) c двумя контрольными группами A/A(`246` и `247`)**.\n",
    "сформулированны\n",
    "\n",
    "**H0** - Замена шрифта в приложении  не влияет на поведение пользователей\n",
    "\n",
    "**H1** - Замена шрифта в приложении  влияет на поведение пользователей\n",
    "Критерии для проверки выбраны аналогично.\n",
    "\n",
    "По результатам A/A/B тестирования (сравнивались контрольные группы `246`и`247` и экспериментальная -`248` )для всех событий не удалось отвергнуть **H0**.Значит статистически значимых различий в долях пользователей,совершивших событие для сравниваемых групп нет. И значит изменение шрифта в приложении не оказало статистически значимого влияния на поведение пользователей.При сравнении экспериментальной группы с объединенной контрольной группой можно сделать таие же выводы.\n",
    "\n",
    "\n",
    "**Рекомендации**\n",
    "\n",
    "-  Как было отмечено,большинство пользователей теряется на главной странице(`MainScreenAppear`)- это 38.1%.Может быть для тех,кто не пошел дальше главная страница оказалась непривлекательной или кнопка перехода на следующий этап мало заметна или неудобна.Мможно предложить обратить внимание на дизайн и функциональность главной страницы. \n",
    "-  Стоит заметить,что не все , кто попал на страницу оплаты завершают этот этап.(тут теряется 5.2%)Может покупатель в последний момент передумал или у него возникли какие-то технические трудности при оплате или есть неудобства при заполнении платежных данных? На это тоже стоит обратить внимание и разобраться с проблемой.\n",
    "- Тестирование по шрифтам можно считать успешным - опасения менеджеров,что изменения могут быть негативно восприняты пользователями- не оправдались.Однако вссе же можно порекомендовать повторить тестирование по шрифтам(если позволяют финансы) и провести его в течение более длительношо периода, чтобы убедиться, что различий по конверсии в разных группах действительно нет и что текущий результат не случаен.\n",
    "  "
   ]
  },
  {
   "cell_type": "code",
   "execution_count": null,
   "metadata": {},
   "outputs": [],
   "source": []
  }
 ],
 "metadata": {
  "ExecuteTimeLog": [
   {
    "duration": 1482,
    "start_time": "2023-03-27T12:08:47.860Z"
   },
   {
    "duration": 1024,
    "start_time": "2023-03-27T12:09:10.552Z"
   },
   {
    "duration": 13,
    "start_time": "2023-03-27T12:09:32.285Z"
   },
   {
    "duration": 19,
    "start_time": "2023-03-27T13:59:31.787Z"
   },
   {
    "duration": 14,
    "start_time": "2023-03-27T13:59:37.848Z"
   },
   {
    "duration": 60,
    "start_time": "2023-03-27T13:59:58.956Z"
   },
   {
    "duration": 6,
    "start_time": "2023-03-27T15:28:57.873Z"
   },
   {
    "duration": 170,
    "start_time": "2023-03-27T15:28:57.881Z"
   },
   {
    "duration": 8,
    "start_time": "2023-03-27T15:28:58.052Z"
   },
   {
    "duration": 28,
    "start_time": "2023-03-27T15:28:58.061Z"
   },
   {
    "duration": 17,
    "start_time": "2023-03-27T15:28:58.091Z"
   },
   {
    "duration": 73,
    "start_time": "2023-03-27T15:28:58.110Z"
   },
   {
    "duration": 3,
    "start_time": "2023-03-27T15:28:58.185Z"
   },
   {
    "duration": 12,
    "start_time": "2023-03-27T15:28:58.190Z"
   },
   {
    "duration": 22,
    "start_time": "2023-03-27T15:28:58.204Z"
   },
   {
    "duration": 70,
    "start_time": "2023-03-27T15:28:58.228Z"
   },
   {
    "duration": 45,
    "start_time": "2023-03-27T15:28:58.299Z"
   },
   {
    "duration": 19,
    "start_time": "2023-03-27T15:28:58.346Z"
   },
   {
    "duration": 24,
    "start_time": "2023-03-27T15:28:58.367Z"
   },
   {
    "duration": 10,
    "start_time": "2023-03-27T15:28:58.393Z"
   },
   {
    "duration": 49,
    "start_time": "2023-03-27T15:28:58.405Z"
   },
   {
    "duration": 4,
    "start_time": "2023-03-27T18:10:44.460Z"
   },
   {
    "duration": 181,
    "start_time": "2023-03-27T18:10:44.466Z"
   },
   {
    "duration": 7,
    "start_time": "2023-03-27T18:10:44.649Z"
   },
   {
    "duration": 18,
    "start_time": "2023-03-27T18:10:44.658Z"
   },
   {
    "duration": 15,
    "start_time": "2023-03-27T18:10:44.677Z"
   },
   {
    "duration": 83,
    "start_time": "2023-03-27T18:10:44.693Z"
   },
   {
    "duration": 3,
    "start_time": "2023-03-27T18:10:44.778Z"
   },
   {
    "duration": 8,
    "start_time": "2023-03-27T18:10:44.782Z"
   },
   {
    "duration": 10,
    "start_time": "2023-03-27T18:10:44.792Z"
   },
   {
    "duration": 89,
    "start_time": "2023-03-27T18:10:44.803Z"
   },
   {
    "duration": 14,
    "start_time": "2023-03-27T18:10:44.894Z"
   },
   {
    "duration": 8,
    "start_time": "2023-03-27T18:10:44.909Z"
   },
   {
    "duration": 37,
    "start_time": "2023-03-27T18:10:44.919Z"
   },
   {
    "duration": 31,
    "start_time": "2023-03-27T18:10:44.958Z"
   },
   {
    "duration": 1573,
    "start_time": "2023-03-28T09:20:46.952Z"
   },
   {
    "duration": 787,
    "start_time": "2023-03-28T09:20:48.527Z"
   },
   {
    "duration": 12,
    "start_time": "2023-03-28T09:20:49.316Z"
   },
   {
    "duration": 56,
    "start_time": "2023-03-28T09:20:49.331Z"
   },
   {
    "duration": 25,
    "start_time": "2023-03-28T09:20:49.389Z"
   },
   {
    "duration": 112,
    "start_time": "2023-03-28T09:20:49.417Z"
   },
   {
    "duration": 4,
    "start_time": "2023-03-28T09:20:49.531Z"
   },
   {
    "duration": 41,
    "start_time": "2023-03-28T09:20:49.541Z"
   },
   {
    "duration": 52,
    "start_time": "2023-03-28T09:20:49.583Z"
   },
   {
    "duration": 162,
    "start_time": "2023-03-28T09:20:49.640Z"
   },
   {
    "duration": 25,
    "start_time": "2023-03-28T09:20:49.805Z"
   },
   {
    "duration": 32,
    "start_time": "2023-03-28T09:20:49.840Z"
   },
   {
    "duration": 44,
    "start_time": "2023-03-28T09:20:49.874Z"
   },
   {
    "duration": 14,
    "start_time": "2023-03-28T09:20:49.920Z"
   },
   {
    "duration": 55,
    "start_time": "2023-03-28T09:20:49.937Z"
   },
   {
    "duration": 26,
    "start_time": "2023-03-28T09:20:49.994Z"
   },
   {
    "duration": 29,
    "start_time": "2023-03-28T09:20:50.022Z"
   },
   {
    "duration": 121,
    "start_time": "2023-03-28T09:20:50.053Z"
   },
   {
    "duration": 6,
    "start_time": "2023-03-28T09:31:32.984Z"
   },
   {
    "duration": 213,
    "start_time": "2023-03-28T09:31:32.992Z"
   },
   {
    "duration": 7,
    "start_time": "2023-03-28T09:31:33.208Z"
   },
   {
    "duration": 33,
    "start_time": "2023-03-28T09:31:33.217Z"
   },
   {
    "duration": 16,
    "start_time": "2023-03-28T09:31:33.253Z"
   },
   {
    "duration": 83,
    "start_time": "2023-03-28T09:31:33.272Z"
   },
   {
    "duration": 4,
    "start_time": "2023-03-28T09:31:33.357Z"
   },
   {
    "duration": 19,
    "start_time": "2023-03-28T09:31:33.362Z"
   },
   {
    "duration": 9,
    "start_time": "2023-03-28T09:31:33.383Z"
   },
   {
    "duration": 85,
    "start_time": "2023-03-28T09:31:33.394Z"
   },
   {
    "duration": 15,
    "start_time": "2023-03-28T09:31:33.482Z"
   },
   {
    "duration": 9,
    "start_time": "2023-03-28T09:31:33.499Z"
   },
   {
    "duration": 40,
    "start_time": "2023-03-28T09:31:33.509Z"
   },
   {
    "duration": 4,
    "start_time": "2023-03-28T09:31:33.550Z"
   },
   {
    "duration": 21,
    "start_time": "2023-03-28T09:31:33.556Z"
   },
   {
    "duration": 25,
    "start_time": "2023-03-28T09:31:33.578Z"
   },
   {
    "duration": 7,
    "start_time": "2023-03-28T09:31:33.605Z"
   },
   {
    "duration": 8,
    "start_time": "2023-03-28T09:31:33.640Z"
   },
   {
    "duration": 13,
    "start_time": "2023-03-28T09:31:33.650Z"
   },
   {
    "duration": 22,
    "start_time": "2023-03-28T09:31:33.665Z"
   },
   {
    "duration": 4,
    "start_time": "2023-03-28T09:31:33.689Z"
   },
   {
    "duration": 42,
    "start_time": "2023-03-28T09:31:33.695Z"
   },
   {
    "duration": 290,
    "start_time": "2023-03-28T09:31:33.739Z"
   },
   {
    "duration": 356,
    "start_time": "2023-03-28T09:31:34.031Z"
   },
   {
    "duration": 35,
    "start_time": "2023-03-28T09:31:34.389Z"
   },
   {
    "duration": 20,
    "start_time": "2023-03-28T09:31:34.426Z"
   },
   {
    "duration": 12,
    "start_time": "2023-03-28T09:31:34.448Z"
   },
   {
    "duration": 4,
    "start_time": "2023-03-28T09:31:34.462Z"
   },
   {
    "duration": 37,
    "start_time": "2023-03-28T09:31:34.470Z"
   },
   {
    "duration": 5,
    "start_time": "2023-03-28T09:34:24.082Z"
   },
   {
    "duration": 210,
    "start_time": "2023-03-28T09:34:24.090Z"
   },
   {
    "duration": 8,
    "start_time": "2023-03-28T09:34:24.302Z"
   },
   {
    "duration": 43,
    "start_time": "2023-03-28T09:34:24.313Z"
   },
   {
    "duration": 21,
    "start_time": "2023-03-28T09:34:24.358Z"
   },
   {
    "duration": 72,
    "start_time": "2023-03-28T09:34:24.381Z"
   },
   {
    "duration": 3,
    "start_time": "2023-03-28T09:34:24.454Z"
   },
   {
    "duration": 9,
    "start_time": "2023-03-28T09:34:24.459Z"
   },
   {
    "duration": 14,
    "start_time": "2023-03-28T09:34:24.469Z"
   },
   {
    "duration": 94,
    "start_time": "2023-03-28T09:34:24.486Z"
   },
   {
    "duration": 75,
    "start_time": "2023-03-28T09:34:24.583Z"
   },
   {
    "duration": 11,
    "start_time": "2023-03-28T09:34:24.661Z"
   },
   {
    "duration": 33,
    "start_time": "2023-03-28T09:34:24.674Z"
   },
   {
    "duration": 4,
    "start_time": "2023-03-28T09:34:24.709Z"
   },
   {
    "duration": 41,
    "start_time": "2023-03-28T09:34:24.714Z"
   },
   {
    "duration": 24,
    "start_time": "2023-03-28T09:34:24.757Z"
   },
   {
    "duration": 25,
    "start_time": "2023-03-28T09:34:24.782Z"
   },
   {
    "duration": 8,
    "start_time": "2023-03-28T09:34:24.810Z"
   },
   {
    "duration": 12,
    "start_time": "2023-03-28T09:34:24.819Z"
   },
   {
    "duration": 22,
    "start_time": "2023-03-28T09:34:24.841Z"
   },
   {
    "duration": 9,
    "start_time": "2023-03-28T09:34:24.865Z"
   },
   {
    "duration": 60,
    "start_time": "2023-03-28T09:34:24.876Z"
   },
   {
    "duration": 253,
    "start_time": "2023-03-28T09:34:24.938Z"
   },
   {
    "duration": 481,
    "start_time": "2023-03-28T09:34:25.193Z"
   },
   {
    "duration": 50,
    "start_time": "2023-03-28T09:34:25.676Z"
   },
   {
    "duration": 16,
    "start_time": "2023-03-28T09:34:25.728Z"
   },
   {
    "duration": 9,
    "start_time": "2023-03-28T09:34:25.747Z"
   },
   {
    "duration": 4,
    "start_time": "2023-03-28T09:34:25.758Z"
   },
   {
    "duration": 41,
    "start_time": "2023-03-28T09:34:25.766Z"
   },
   {
    "duration": 331,
    "start_time": "2023-03-28T09:34:51.764Z"
   },
   {
    "duration": 358,
    "start_time": "2023-03-28T09:35:01.530Z"
   },
   {
    "duration": 5,
    "start_time": "2023-03-28T09:39:42.434Z"
   },
   {
    "duration": 213,
    "start_time": "2023-03-28T09:39:42.441Z"
   },
   {
    "duration": 8,
    "start_time": "2023-03-28T09:39:42.656Z"
   },
   {
    "duration": 27,
    "start_time": "2023-03-28T09:39:42.665Z"
   },
   {
    "duration": 16,
    "start_time": "2023-03-28T09:39:42.694Z"
   },
   {
    "duration": 81,
    "start_time": "2023-03-28T09:39:42.711Z"
   },
   {
    "duration": 3,
    "start_time": "2023-03-28T09:39:42.794Z"
   },
   {
    "duration": 14,
    "start_time": "2023-03-28T09:39:42.799Z"
   },
   {
    "duration": 10,
    "start_time": "2023-03-28T09:39:42.815Z"
   },
   {
    "duration": 80,
    "start_time": "2023-03-28T09:39:42.826Z"
   },
   {
    "duration": 82,
    "start_time": "2023-03-28T09:39:42.908Z"
   },
   {
    "duration": 13,
    "start_time": "2023-03-28T09:39:42.992Z"
   },
   {
    "duration": 44,
    "start_time": "2023-03-28T09:39:43.007Z"
   },
   {
    "duration": 5,
    "start_time": "2023-03-28T09:39:43.052Z"
   },
   {
    "duration": 22,
    "start_time": "2023-03-28T09:39:43.058Z"
   },
   {
    "duration": 24,
    "start_time": "2023-03-28T09:39:43.082Z"
   },
   {
    "duration": 9,
    "start_time": "2023-03-28T09:39:43.108Z"
   },
   {
    "duration": 10,
    "start_time": "2023-03-28T09:39:43.141Z"
   },
   {
    "duration": 6,
    "start_time": "2023-03-28T09:39:43.152Z"
   },
   {
    "duration": 6,
    "start_time": "2023-03-28T09:39:43.160Z"
   },
   {
    "duration": 4,
    "start_time": "2023-03-28T09:39:43.167Z"
   },
   {
    "duration": 87,
    "start_time": "2023-03-28T09:39:43.172Z"
   },
   {
    "duration": 259,
    "start_time": "2023-03-28T09:39:43.261Z"
   },
   {
    "duration": 371,
    "start_time": "2023-03-28T09:39:43.522Z"
   },
   {
    "duration": 72,
    "start_time": "2023-03-28T09:39:43.895Z"
   },
   {
    "duration": 8,
    "start_time": "2023-03-28T09:39:43.969Z"
   },
   {
    "duration": 19,
    "start_time": "2023-03-28T09:39:43.979Z"
   },
   {
    "duration": 4,
    "start_time": "2023-03-28T09:39:44.000Z"
   },
   {
    "duration": 62,
    "start_time": "2023-03-28T09:39:44.006Z"
   },
   {
    "duration": 36,
    "start_time": "2023-03-28T09:39:44.070Z"
   },
   {
    "duration": 49,
    "start_time": "2023-03-28T09:39:44.107Z"
   },
   {
    "duration": 379,
    "start_time": "2023-03-28T09:41:35.080Z"
   },
   {
    "duration": 448,
    "start_time": "2023-03-28T09:42:02.205Z"
   },
   {
    "duration": 1478,
    "start_time": "2023-03-29T13:51:02.248Z"
   },
   {
    "duration": 536,
    "start_time": "2023-03-29T13:51:03.729Z"
   },
   {
    "duration": 22,
    "start_time": "2023-03-29T13:51:04.267Z"
   },
   {
    "duration": 26,
    "start_time": "2023-03-29T13:51:04.291Z"
   },
   {
    "duration": 13,
    "start_time": "2023-03-29T13:51:04.319Z"
   },
   {
    "duration": 71,
    "start_time": "2023-03-29T13:51:04.334Z"
   },
   {
    "duration": 3,
    "start_time": "2023-03-29T13:51:04.407Z"
   },
   {
    "duration": 14,
    "start_time": "2023-03-29T13:51:04.412Z"
   },
   {
    "duration": 20,
    "start_time": "2023-03-29T13:51:04.428Z"
   },
   {
    "duration": 79,
    "start_time": "2023-03-29T13:51:04.451Z"
   },
   {
    "duration": 64,
    "start_time": "2023-03-29T13:51:04.532Z"
   },
   {
    "duration": 11,
    "start_time": "2023-03-29T13:51:04.598Z"
   },
   {
    "duration": 29,
    "start_time": "2023-03-29T13:51:04.610Z"
   },
   {
    "duration": 5,
    "start_time": "2023-03-29T13:51:04.641Z"
   },
   {
    "duration": 38,
    "start_time": "2023-03-29T13:51:04.647Z"
   },
   {
    "duration": 24,
    "start_time": "2023-03-29T13:51:04.687Z"
   },
   {
    "duration": 6,
    "start_time": "2023-03-29T13:51:04.713Z"
   },
   {
    "duration": 7,
    "start_time": "2023-03-29T13:51:04.721Z"
   },
   {
    "duration": 5,
    "start_time": "2023-03-29T13:51:04.729Z"
   },
   {
    "duration": 6,
    "start_time": "2023-03-29T13:51:04.735Z"
   },
   {
    "duration": 42,
    "start_time": "2023-03-29T13:51:04.742Z"
   },
   {
    "duration": 60,
    "start_time": "2023-03-29T13:51:04.786Z"
   },
   {
    "duration": 247,
    "start_time": "2023-03-29T13:51:04.848Z"
   },
   {
    "duration": 438,
    "start_time": "2023-03-29T13:51:05.097Z"
   },
   {
    "duration": 55,
    "start_time": "2023-03-29T13:51:05.536Z"
   },
   {
    "duration": 7,
    "start_time": "2023-03-29T13:51:05.594Z"
   },
   {
    "duration": 23,
    "start_time": "2023-03-29T13:51:05.602Z"
   },
   {
    "duration": 8,
    "start_time": "2023-03-29T13:51:05.629Z"
   },
   {
    "duration": 63,
    "start_time": "2023-03-29T13:51:05.638Z"
   },
   {
    "duration": 38,
    "start_time": "2023-03-29T13:51:05.703Z"
   },
   {
    "duration": 17,
    "start_time": "2023-03-29T13:51:05.743Z"
   },
   {
    "duration": 55,
    "start_time": "2023-03-29T13:51:05.773Z"
   },
   {
    "duration": 187,
    "start_time": "2023-03-29T13:51:05.830Z"
   },
   {
    "duration": 6,
    "start_time": "2023-03-29T13:54:44.381Z"
   },
   {
    "duration": 202,
    "start_time": "2023-03-29T13:54:44.388Z"
   },
   {
    "duration": 6,
    "start_time": "2023-03-29T13:54:44.592Z"
   },
   {
    "duration": 19,
    "start_time": "2023-03-29T13:54:44.600Z"
   },
   {
    "duration": 13,
    "start_time": "2023-03-29T13:54:44.620Z"
   },
   {
    "duration": 75,
    "start_time": "2023-03-29T13:54:44.635Z"
   },
   {
    "duration": 4,
    "start_time": "2023-03-29T13:54:44.711Z"
   },
   {
    "duration": 18,
    "start_time": "2023-03-29T13:54:44.716Z"
   },
   {
    "duration": 13,
    "start_time": "2023-03-29T13:54:44.735Z"
   },
   {
    "duration": 78,
    "start_time": "2023-03-29T13:54:44.750Z"
   },
   {
    "duration": 69,
    "start_time": "2023-03-29T13:54:44.830Z"
   },
   {
    "duration": 15,
    "start_time": "2023-03-29T13:54:44.901Z"
   },
   {
    "duration": 41,
    "start_time": "2023-03-29T13:54:44.917Z"
   },
   {
    "duration": 3,
    "start_time": "2023-03-29T13:54:44.960Z"
   },
   {
    "duration": 39,
    "start_time": "2023-03-29T13:54:44.965Z"
   },
   {
    "duration": 45,
    "start_time": "2023-03-29T13:54:45.006Z"
   },
   {
    "duration": 41,
    "start_time": "2023-03-29T13:54:45.052Z"
   },
   {
    "duration": 20,
    "start_time": "2023-03-29T13:54:45.095Z"
   },
   {
    "duration": 9,
    "start_time": "2023-03-29T13:54:45.117Z"
   },
   {
    "duration": 5,
    "start_time": "2023-03-29T13:54:45.128Z"
   },
   {
    "duration": 3,
    "start_time": "2023-03-29T13:54:45.135Z"
   },
   {
    "duration": 64,
    "start_time": "2023-03-29T13:54:45.140Z"
   },
   {
    "duration": 214,
    "start_time": "2023-03-29T13:54:45.206Z"
   },
   {
    "duration": 391,
    "start_time": "2023-03-29T13:54:45.421Z"
   },
   {
    "duration": 44,
    "start_time": "2023-03-29T13:54:45.813Z"
   },
   {
    "duration": 18,
    "start_time": "2023-03-29T13:54:45.859Z"
   },
   {
    "duration": 11,
    "start_time": "2023-03-29T13:54:45.878Z"
   },
   {
    "duration": 8,
    "start_time": "2023-03-29T13:54:45.893Z"
   },
   {
    "duration": 50,
    "start_time": "2023-03-29T13:54:45.903Z"
   },
   {
    "duration": 46,
    "start_time": "2023-03-29T13:54:45.955Z"
   },
   {
    "duration": 24,
    "start_time": "2023-03-29T13:54:46.003Z"
   },
   {
    "duration": 66,
    "start_time": "2023-03-29T13:54:46.029Z"
   },
   {
    "duration": 206,
    "start_time": "2023-03-29T13:54:46.097Z"
   },
   {
    "duration": 56,
    "start_time": "2023-03-29T13:54:46.305Z"
   },
   {
    "duration": 156,
    "start_time": "2023-03-29T13:54:46.372Z"
   },
   {
    "duration": 10,
    "start_time": "2023-03-29T13:54:46.529Z"
   },
   {
    "duration": 48,
    "start_time": "2023-03-29T13:54:46.541Z"
   },
   {
    "duration": 8,
    "start_time": "2023-03-29T13:54:46.591Z"
   },
   {
    "duration": 91,
    "start_time": "2023-03-29T13:54:46.601Z"
   },
   {
    "duration": 5,
    "start_time": "2023-03-29T13:55:47.610Z"
   },
   {
    "duration": 197,
    "start_time": "2023-03-29T13:55:47.616Z"
   },
   {
    "duration": 6,
    "start_time": "2023-03-29T13:55:47.816Z"
   },
   {
    "duration": 25,
    "start_time": "2023-03-29T13:55:47.824Z"
   },
   {
    "duration": 30,
    "start_time": "2023-03-29T13:55:47.851Z"
   },
   {
    "duration": 52,
    "start_time": "2023-03-29T13:55:47.885Z"
   },
   {
    "duration": 3,
    "start_time": "2023-03-29T13:55:47.939Z"
   },
   {
    "duration": 24,
    "start_time": "2023-03-29T13:55:47.944Z"
   },
   {
    "duration": 33,
    "start_time": "2023-03-29T13:55:47.970Z"
   },
   {
    "duration": 86,
    "start_time": "2023-03-29T13:55:48.004Z"
   },
   {
    "duration": 55,
    "start_time": "2023-03-29T13:55:48.092Z"
   },
   {
    "duration": 9,
    "start_time": "2023-03-29T13:55:48.148Z"
   },
   {
    "duration": 37,
    "start_time": "2023-03-29T13:55:48.159Z"
   },
   {
    "duration": 3,
    "start_time": "2023-03-29T13:55:48.198Z"
   },
   {
    "duration": 27,
    "start_time": "2023-03-29T13:55:48.202Z"
   },
   {
    "duration": 19,
    "start_time": "2023-03-29T13:55:48.231Z"
   },
   {
    "duration": 12,
    "start_time": "2023-03-29T13:55:48.252Z"
   },
   {
    "duration": 21,
    "start_time": "2023-03-29T13:55:48.266Z"
   },
   {
    "duration": 10,
    "start_time": "2023-03-29T13:55:48.288Z"
   },
   {
    "duration": 15,
    "start_time": "2023-03-29T13:55:48.300Z"
   },
   {
    "duration": 14,
    "start_time": "2023-03-29T13:55:48.317Z"
   },
   {
    "duration": 77,
    "start_time": "2023-03-29T13:55:48.332Z"
   },
   {
    "duration": 297,
    "start_time": "2023-03-29T13:55:48.411Z"
   },
   {
    "duration": 380,
    "start_time": "2023-03-29T13:55:48.710Z"
   },
   {
    "duration": 54,
    "start_time": "2023-03-29T13:55:49.092Z"
   },
   {
    "duration": 6,
    "start_time": "2023-03-29T13:55:49.147Z"
   },
   {
    "duration": 33,
    "start_time": "2023-03-29T13:55:49.154Z"
   },
   {
    "duration": 4,
    "start_time": "2023-03-29T13:55:49.189Z"
   },
   {
    "duration": 38,
    "start_time": "2023-03-29T13:55:49.195Z"
   },
   {
    "duration": 52,
    "start_time": "2023-03-29T13:55:49.235Z"
   },
   {
    "duration": 18,
    "start_time": "2023-03-29T13:55:49.289Z"
   },
   {
    "duration": 32,
    "start_time": "2023-03-29T13:55:49.309Z"
   },
   {
    "duration": 182,
    "start_time": "2023-03-29T13:55:49.343Z"
   },
   {
    "duration": 81,
    "start_time": "2023-03-29T13:55:49.527Z"
   },
   {
    "duration": 171,
    "start_time": "2023-03-29T13:55:49.609Z"
   },
   {
    "duration": 15,
    "start_time": "2023-03-29T13:55:49.782Z"
   },
   {
    "duration": 18,
    "start_time": "2023-03-29T13:55:49.798Z"
   },
   {
    "duration": 9,
    "start_time": "2023-03-29T13:55:49.817Z"
   },
   {
    "duration": 86,
    "start_time": "2023-03-29T13:55:49.828Z"
   },
   {
    "duration": 12,
    "start_time": "2023-03-29T13:55:49.915Z"
   },
   {
    "duration": 1495,
    "start_time": "2023-03-30T15:28:13.913Z"
   },
   {
    "duration": 723,
    "start_time": "2023-03-30T15:28:15.410Z"
   },
   {
    "duration": 11,
    "start_time": "2023-03-30T15:28:16.135Z"
   },
   {
    "duration": 34,
    "start_time": "2023-03-30T15:28:16.149Z"
   },
   {
    "duration": 25,
    "start_time": "2023-03-30T15:28:16.185Z"
   },
   {
    "duration": 97,
    "start_time": "2023-03-30T15:28:16.213Z"
   },
   {
    "duration": 5,
    "start_time": "2023-03-30T15:28:16.313Z"
   },
   {
    "duration": 19,
    "start_time": "2023-03-30T15:28:16.319Z"
   },
   {
    "duration": 11,
    "start_time": "2023-03-30T15:28:16.340Z"
   },
   {
    "duration": 84,
    "start_time": "2023-03-30T15:28:16.354Z"
   },
   {
    "duration": 85,
    "start_time": "2023-03-30T15:28:16.440Z"
   },
   {
    "duration": 16,
    "start_time": "2023-03-30T15:28:16.528Z"
   },
   {
    "duration": 40,
    "start_time": "2023-03-30T15:28:16.546Z"
   },
   {
    "duration": 4,
    "start_time": "2023-03-30T15:28:16.587Z"
   },
   {
    "duration": 46,
    "start_time": "2023-03-30T15:28:16.593Z"
   },
   {
    "duration": 43,
    "start_time": "2023-03-30T15:28:16.640Z"
   },
   {
    "duration": 13,
    "start_time": "2023-03-30T15:28:16.685Z"
   },
   {
    "duration": 11,
    "start_time": "2023-03-30T15:28:16.719Z"
   },
   {
    "duration": 18,
    "start_time": "2023-03-30T15:28:16.732Z"
   },
   {
    "duration": 9,
    "start_time": "2023-03-30T15:28:16.751Z"
   },
   {
    "duration": 4,
    "start_time": "2023-03-30T15:28:16.762Z"
   },
   {
    "duration": 98,
    "start_time": "2023-03-30T15:28:16.768Z"
   },
   {
    "duration": 308,
    "start_time": "2023-03-30T15:28:16.868Z"
   },
   {
    "duration": 497,
    "start_time": "2023-03-30T15:28:17.178Z"
   },
   {
    "duration": 49,
    "start_time": "2023-03-30T15:28:17.677Z"
   },
   {
    "duration": 55,
    "start_time": "2023-03-30T15:28:17.728Z"
   },
   {
    "duration": 56,
    "start_time": "2023-03-30T15:28:17.785Z"
   },
   {
    "duration": 4,
    "start_time": "2023-03-30T15:28:17.845Z"
   },
   {
    "duration": 45,
    "start_time": "2023-03-30T15:28:17.850Z"
   },
   {
    "duration": 31,
    "start_time": "2023-03-30T15:28:17.896Z"
   },
   {
    "duration": 17,
    "start_time": "2023-03-30T15:28:17.929Z"
   },
   {
    "duration": 48,
    "start_time": "2023-03-30T15:28:17.947Z"
   },
   {
    "duration": 218,
    "start_time": "2023-03-30T15:28:17.997Z"
   },
   {
    "duration": 74,
    "start_time": "2023-03-30T15:28:18.216Z"
   },
   {
    "duration": 194,
    "start_time": "2023-03-30T15:28:18.292Z"
   },
   {
    "duration": 12,
    "start_time": "2023-03-30T15:28:18.488Z"
   },
   {
    "duration": 47,
    "start_time": "2023-03-30T15:28:18.502Z"
   },
   {
    "duration": 9,
    "start_time": "2023-03-30T15:28:18.550Z"
   },
   {
    "duration": 114,
    "start_time": "2023-03-30T15:28:18.561Z"
   },
   {
    "duration": 13,
    "start_time": "2023-03-30T15:28:18.676Z"
   },
   {
    "duration": 6,
    "start_time": "2023-03-30T15:33:14.425Z"
   },
   {
    "duration": 232,
    "start_time": "2023-03-30T15:33:14.432Z"
   },
   {
    "duration": 8,
    "start_time": "2023-03-30T15:33:14.666Z"
   },
   {
    "duration": 26,
    "start_time": "2023-03-30T15:33:14.675Z"
   },
   {
    "duration": 27,
    "start_time": "2023-03-30T15:33:14.704Z"
   },
   {
    "duration": 64,
    "start_time": "2023-03-30T15:33:14.733Z"
   },
   {
    "duration": 4,
    "start_time": "2023-03-30T15:33:14.799Z"
   },
   {
    "duration": 12,
    "start_time": "2023-03-30T15:33:14.817Z"
   },
   {
    "duration": 21,
    "start_time": "2023-03-30T15:33:14.831Z"
   },
   {
    "duration": 75,
    "start_time": "2023-03-30T15:33:14.854Z"
   },
   {
    "duration": 88,
    "start_time": "2023-03-30T15:33:14.933Z"
   },
   {
    "duration": 21,
    "start_time": "2023-03-30T15:33:15.023Z"
   },
   {
    "duration": 50,
    "start_time": "2023-03-30T15:33:15.046Z"
   },
   {
    "duration": 4,
    "start_time": "2023-03-30T15:33:15.098Z"
   },
   {
    "duration": 26,
    "start_time": "2023-03-30T15:33:15.103Z"
   },
   {
    "duration": 28,
    "start_time": "2023-03-30T15:33:15.132Z"
   },
   {
    "duration": 13,
    "start_time": "2023-03-30T15:33:15.162Z"
   },
   {
    "duration": 24,
    "start_time": "2023-03-30T15:33:15.177Z"
   },
   {
    "duration": 19,
    "start_time": "2023-03-30T15:33:15.203Z"
   },
   {
    "duration": 12,
    "start_time": "2023-03-30T15:33:15.223Z"
   },
   {
    "duration": 7,
    "start_time": "2023-03-30T15:33:15.237Z"
   },
   {
    "duration": 61,
    "start_time": "2023-03-30T15:33:15.246Z"
   },
   {
    "duration": 330,
    "start_time": "2023-03-30T15:33:15.309Z"
   },
   {
    "duration": 367,
    "start_time": "2023-03-30T15:33:15.641Z"
   },
   {
    "duration": 59,
    "start_time": "2023-03-30T15:33:16.009Z"
   },
   {
    "duration": 6,
    "start_time": "2023-03-30T15:33:16.070Z"
   },
   {
    "duration": 15,
    "start_time": "2023-03-30T15:33:16.077Z"
   },
   {
    "duration": 4,
    "start_time": "2023-03-30T15:33:16.094Z"
   },
   {
    "duration": 46,
    "start_time": "2023-03-30T15:33:16.120Z"
   },
   {
    "duration": 56,
    "start_time": "2023-03-30T15:33:16.168Z"
   },
   {
    "duration": 27,
    "start_time": "2023-03-30T15:33:16.226Z"
   },
   {
    "duration": 82,
    "start_time": "2023-03-30T15:33:16.256Z"
   },
   {
    "duration": 224,
    "start_time": "2023-03-30T15:33:16.340Z"
   },
   {
    "duration": 83,
    "start_time": "2023-03-30T15:33:16.566Z"
   },
   {
    "duration": 181,
    "start_time": "2023-03-30T15:33:16.651Z"
   },
   {
    "duration": 10,
    "start_time": "2023-03-30T15:33:16.834Z"
   },
   {
    "duration": 21,
    "start_time": "2023-03-30T15:33:16.846Z"
   },
   {
    "duration": 12,
    "start_time": "2023-03-30T15:33:16.869Z"
   },
   {
    "duration": 25,
    "start_time": "2023-03-30T15:33:16.884Z"
   },
   {
    "duration": 24,
    "start_time": "2023-03-30T15:33:16.910Z"
   },
   {
    "duration": 52,
    "start_time": "2023-03-30T15:33:16.935Z"
   },
   {
    "duration": 237,
    "start_time": "2023-03-30T15:33:16.988Z"
   },
   {
    "duration": 100,
    "start_time": "2023-03-30T15:33:17.227Z"
   },
   {
    "duration": 1610,
    "start_time": "2023-03-30T18:19:07.755Z"
   },
   {
    "duration": 585,
    "start_time": "2023-03-30T18:19:09.368Z"
   },
   {
    "duration": 14,
    "start_time": "2023-03-30T18:19:09.955Z"
   },
   {
    "duration": 37,
    "start_time": "2023-03-30T18:19:09.971Z"
   },
   {
    "duration": 49,
    "start_time": "2023-03-30T18:19:10.010Z"
   },
   {
    "duration": 110,
    "start_time": "2023-03-30T18:19:10.061Z"
   },
   {
    "duration": 3,
    "start_time": "2023-03-30T18:19:10.172Z"
   },
   {
    "duration": 38,
    "start_time": "2023-03-30T18:19:10.177Z"
   },
   {
    "duration": 42,
    "start_time": "2023-03-30T18:19:10.216Z"
   },
   {
    "duration": 88,
    "start_time": "2023-03-30T18:19:10.260Z"
   },
   {
    "duration": 62,
    "start_time": "2023-03-30T18:19:10.350Z"
   },
   {
    "duration": 29,
    "start_time": "2023-03-30T18:19:10.414Z"
   },
   {
    "duration": 65,
    "start_time": "2023-03-30T18:19:10.445Z"
   },
   {
    "duration": 9,
    "start_time": "2023-03-30T18:19:10.512Z"
   },
   {
    "duration": 47,
    "start_time": "2023-03-30T18:19:10.522Z"
   },
   {
    "duration": 54,
    "start_time": "2023-03-30T18:19:10.571Z"
   },
   {
    "duration": 110,
    "start_time": "2023-03-30T18:19:10.626Z"
   },
   {
    "duration": 45,
    "start_time": "2023-03-30T18:19:10.738Z"
   },
   {
    "duration": 88,
    "start_time": "2023-03-30T18:19:10.785Z"
   },
   {
    "duration": 33,
    "start_time": "2023-03-30T18:19:10.875Z"
   },
   {
    "duration": 63,
    "start_time": "2023-03-30T18:19:10.910Z"
   },
   {
    "duration": 85,
    "start_time": "2023-03-30T18:19:10.975Z"
   },
   {
    "duration": 276,
    "start_time": "2023-03-30T18:19:11.062Z"
   },
   {
    "duration": 491,
    "start_time": "2023-03-30T18:19:11.341Z"
   },
   {
    "duration": 53,
    "start_time": "2023-03-30T18:19:11.834Z"
   },
   {
    "duration": 33,
    "start_time": "2023-03-30T18:19:11.889Z"
   },
   {
    "duration": 52,
    "start_time": "2023-03-30T18:19:11.924Z"
   },
   {
    "duration": 89,
    "start_time": "2023-03-30T18:19:11.980Z"
   },
   {
    "duration": 88,
    "start_time": "2023-03-30T18:19:12.071Z"
   },
   {
    "duration": 66,
    "start_time": "2023-03-30T18:19:12.161Z"
   },
   {
    "duration": 25,
    "start_time": "2023-03-30T18:19:12.229Z"
   },
   {
    "duration": 150,
    "start_time": "2023-03-30T18:19:12.256Z"
   },
   {
    "duration": 270,
    "start_time": "2023-03-30T18:19:12.408Z"
   },
   {
    "duration": 67,
    "start_time": "2023-03-30T18:19:12.680Z"
   },
   {
    "duration": 196,
    "start_time": "2023-03-30T18:19:12.749Z"
   },
   {
    "duration": 12,
    "start_time": "2023-03-30T18:19:12.947Z"
   },
   {
    "duration": 140,
    "start_time": "2023-03-30T18:19:12.960Z"
   },
   {
    "duration": 10,
    "start_time": "2023-03-30T18:19:13.102Z"
   },
   {
    "duration": 62,
    "start_time": "2023-03-30T18:19:13.114Z"
   },
   {
    "duration": 64,
    "start_time": "2023-03-30T18:19:13.178Z"
   },
   {
    "duration": 101,
    "start_time": "2023-03-30T18:19:13.244Z"
   },
   {
    "duration": 282,
    "start_time": "2023-03-30T18:19:13.347Z"
   },
   {
    "duration": 133,
    "start_time": "2023-03-30T18:19:13.632Z"
   },
   {
    "duration": 5,
    "start_time": "2023-03-30T21:07:02.397Z"
   },
   {
    "duration": 220,
    "start_time": "2023-03-30T21:07:02.404Z"
   },
   {
    "duration": 7,
    "start_time": "2023-03-30T21:07:02.626Z"
   },
   {
    "duration": 43,
    "start_time": "2023-03-30T21:07:02.635Z"
   },
   {
    "duration": 20,
    "start_time": "2023-03-30T21:07:02.680Z"
   },
   {
    "duration": 74,
    "start_time": "2023-03-30T21:07:02.702Z"
   },
   {
    "duration": 4,
    "start_time": "2023-03-30T21:07:02.778Z"
   },
   {
    "duration": 26,
    "start_time": "2023-03-30T21:07:02.784Z"
   },
   {
    "duration": 35,
    "start_time": "2023-03-30T21:07:02.813Z"
   },
   {
    "duration": 78,
    "start_time": "2023-03-30T21:07:02.850Z"
   },
   {
    "duration": 68,
    "start_time": "2023-03-30T21:07:02.930Z"
   },
   {
    "duration": 18,
    "start_time": "2023-03-30T21:07:03.000Z"
   },
   {
    "duration": 38,
    "start_time": "2023-03-30T21:07:03.020Z"
   },
   {
    "duration": 5,
    "start_time": "2023-03-30T21:07:03.059Z"
   },
   {
    "duration": 36,
    "start_time": "2023-03-30T21:07:03.065Z"
   },
   {
    "duration": 52,
    "start_time": "2023-03-30T21:07:03.103Z"
   },
   {
    "duration": 27,
    "start_time": "2023-03-30T21:07:03.156Z"
   },
   {
    "duration": 17,
    "start_time": "2023-03-30T21:07:03.185Z"
   },
   {
    "duration": 15,
    "start_time": "2023-03-30T21:07:03.204Z"
   },
   {
    "duration": 31,
    "start_time": "2023-03-30T21:07:03.221Z"
   },
   {
    "duration": 25,
    "start_time": "2023-03-30T21:07:03.254Z"
   },
   {
    "duration": 77,
    "start_time": "2023-03-30T21:07:03.281Z"
   },
   {
    "duration": 232,
    "start_time": "2023-03-30T21:07:03.360Z"
   },
   {
    "duration": 343,
    "start_time": "2023-03-30T21:07:03.596Z"
   },
   {
    "duration": 58,
    "start_time": "2023-03-30T21:07:03.940Z"
   },
   {
    "duration": 7,
    "start_time": "2023-03-30T21:07:03.999Z"
   },
   {
    "duration": 23,
    "start_time": "2023-03-30T21:07:04.007Z"
   },
   {
    "duration": 12,
    "start_time": "2023-03-30T21:07:04.032Z"
   },
   {
    "duration": 71,
    "start_time": "2023-03-30T21:07:04.046Z"
   },
   {
    "duration": 35,
    "start_time": "2023-03-30T21:07:04.119Z"
   },
   {
    "duration": 29,
    "start_time": "2023-03-30T21:07:04.156Z"
   },
   {
    "duration": 36,
    "start_time": "2023-03-30T21:07:04.187Z"
   },
   {
    "duration": 209,
    "start_time": "2023-03-30T21:07:04.225Z"
   },
   {
    "duration": 78,
    "start_time": "2023-03-30T21:07:04.436Z"
   },
   {
    "duration": 178,
    "start_time": "2023-03-30T21:07:04.516Z"
   },
   {
    "duration": 11,
    "start_time": "2023-03-30T21:07:04.695Z"
   },
   {
    "duration": 14,
    "start_time": "2023-03-30T21:07:04.708Z"
   },
   {
    "duration": 9,
    "start_time": "2023-03-30T21:07:04.724Z"
   },
   {
    "duration": 17,
    "start_time": "2023-03-30T21:07:04.735Z"
   },
   {
    "duration": 35,
    "start_time": "2023-03-30T21:07:04.753Z"
   },
   {
    "duration": 40,
    "start_time": "2023-03-30T21:07:04.790Z"
   },
   {
    "duration": 127,
    "start_time": "2023-03-30T21:07:04.832Z"
   },
   {
    "duration": 117,
    "start_time": "2023-03-30T21:07:04.961Z"
   },
   {
    "duration": 128,
    "start_time": "2023-03-30T21:07:05.083Z"
   },
   {
    "duration": 13,
    "start_time": "2023-03-30T21:07:05.214Z"
   },
   {
    "duration": 19,
    "start_time": "2023-03-30T21:11:23.412Z"
   },
   {
    "duration": 5,
    "start_time": "2023-03-30T21:13:01.676Z"
   },
   {
    "duration": 238,
    "start_time": "2023-03-30T21:13:01.683Z"
   },
   {
    "duration": 9,
    "start_time": "2023-03-30T21:13:01.923Z"
   },
   {
    "duration": 47,
    "start_time": "2023-03-30T21:13:01.934Z"
   },
   {
    "duration": 30,
    "start_time": "2023-03-30T21:13:01.983Z"
   },
   {
    "duration": 81,
    "start_time": "2023-03-30T21:13:02.014Z"
   },
   {
    "duration": 3,
    "start_time": "2023-03-30T21:13:02.097Z"
   },
   {
    "duration": 25,
    "start_time": "2023-03-30T21:13:02.102Z"
   },
   {
    "duration": 45,
    "start_time": "2023-03-30T21:13:02.129Z"
   },
   {
    "duration": 66,
    "start_time": "2023-03-30T21:13:02.176Z"
   },
   {
    "duration": 68,
    "start_time": "2023-03-30T21:13:02.245Z"
   },
   {
    "duration": 29,
    "start_time": "2023-03-30T21:13:02.315Z"
   },
   {
    "duration": 44,
    "start_time": "2023-03-30T21:13:02.346Z"
   },
   {
    "duration": 5,
    "start_time": "2023-03-30T21:13:02.392Z"
   },
   {
    "duration": 40,
    "start_time": "2023-03-30T21:13:02.399Z"
   },
   {
    "duration": 32,
    "start_time": "2023-03-30T21:13:02.441Z"
   },
   {
    "duration": 26,
    "start_time": "2023-03-30T21:13:02.474Z"
   },
   {
    "duration": 32,
    "start_time": "2023-03-30T21:13:02.501Z"
   },
   {
    "duration": 12,
    "start_time": "2023-03-30T21:13:02.534Z"
   },
   {
    "duration": 18,
    "start_time": "2023-03-30T21:13:02.547Z"
   },
   {
    "duration": 9,
    "start_time": "2023-03-30T21:13:02.567Z"
   },
   {
    "duration": 70,
    "start_time": "2023-03-30T21:13:02.578Z"
   },
   {
    "duration": 238,
    "start_time": "2023-03-30T21:13:02.650Z"
   },
   {
    "duration": 324,
    "start_time": "2023-03-30T21:13:02.890Z"
   },
   {
    "duration": 46,
    "start_time": "2023-03-30T21:13:03.216Z"
   },
   {
    "duration": 19,
    "start_time": "2023-03-30T21:13:03.264Z"
   },
   {
    "duration": 18,
    "start_time": "2023-03-30T21:13:03.285Z"
   },
   {
    "duration": 19,
    "start_time": "2023-03-30T21:13:03.305Z"
   },
   {
    "duration": 50,
    "start_time": "2023-03-30T21:13:03.328Z"
   },
   {
    "duration": 31,
    "start_time": "2023-03-30T21:13:03.380Z"
   },
   {
    "duration": 15,
    "start_time": "2023-03-30T21:13:03.413Z"
   },
   {
    "duration": 36,
    "start_time": "2023-03-30T21:13:03.430Z"
   },
   {
    "duration": 224,
    "start_time": "2023-03-30T21:13:03.468Z"
   },
   {
    "duration": 73,
    "start_time": "2023-03-30T21:13:03.694Z"
   },
   {
    "duration": 171,
    "start_time": "2023-03-30T21:13:03.768Z"
   },
   {
    "duration": 10,
    "start_time": "2023-03-30T21:13:03.940Z"
   },
   {
    "duration": 24,
    "start_time": "2023-03-30T21:13:03.952Z"
   },
   {
    "duration": 23,
    "start_time": "2023-03-30T21:13:03.977Z"
   },
   {
    "duration": 30,
    "start_time": "2023-03-30T21:13:04.001Z"
   },
   {
    "duration": 25,
    "start_time": "2023-03-30T21:13:04.032Z"
   },
   {
    "duration": 59,
    "start_time": "2023-03-30T21:13:04.059Z"
   },
   {
    "duration": 116,
    "start_time": "2023-03-30T21:13:04.120Z"
   },
   {
    "duration": 87,
    "start_time": "2023-03-30T21:13:04.237Z"
   },
   {
    "duration": 105,
    "start_time": "2023-03-30T21:13:04.326Z"
   },
   {
    "duration": 5,
    "start_time": "2023-03-30T21:13:04.433Z"
   },
   {
    "duration": 149,
    "start_time": "2023-03-30T21:13:04.440Z"
   },
   {
    "duration": 7,
    "start_time": "2023-03-30T21:13:04.591Z"
   },
   {
    "duration": 11,
    "start_time": "2023-03-30T21:13:04.599Z"
   },
   {
    "duration": 122,
    "start_time": "2023-03-30T21:13:04.612Z"
   },
   {
    "duration": 7,
    "start_time": "2023-03-30T21:24:32.429Z"
   },
   {
    "duration": 5,
    "start_time": "2023-03-30T21:27:07.900Z"
   },
   {
    "duration": 226,
    "start_time": "2023-03-30T21:27:07.907Z"
   },
   {
    "duration": 8,
    "start_time": "2023-03-30T21:27:08.134Z"
   },
   {
    "duration": 43,
    "start_time": "2023-03-30T21:27:08.144Z"
   },
   {
    "duration": 15,
    "start_time": "2023-03-30T21:27:08.188Z"
   },
   {
    "duration": 64,
    "start_time": "2023-03-30T21:27:08.205Z"
   },
   {
    "duration": 4,
    "start_time": "2023-03-30T21:27:08.282Z"
   },
   {
    "duration": 10,
    "start_time": "2023-03-30T21:27:08.288Z"
   },
   {
    "duration": 16,
    "start_time": "2023-03-30T21:27:08.300Z"
   },
   {
    "duration": 87,
    "start_time": "2023-03-30T21:27:08.317Z"
   },
   {
    "duration": 78,
    "start_time": "2023-03-30T21:27:08.406Z"
   },
   {
    "duration": 23,
    "start_time": "2023-03-30T21:27:08.486Z"
   },
   {
    "duration": 42,
    "start_time": "2023-03-30T21:27:08.511Z"
   },
   {
    "duration": 4,
    "start_time": "2023-03-30T21:27:08.555Z"
   },
   {
    "duration": 38,
    "start_time": "2023-03-30T21:27:08.560Z"
   },
   {
    "duration": 23,
    "start_time": "2023-03-30T21:27:08.600Z"
   },
   {
    "duration": 12,
    "start_time": "2023-03-30T21:27:08.624Z"
   },
   {
    "duration": 7,
    "start_time": "2023-03-30T21:27:08.638Z"
   },
   {
    "duration": 11,
    "start_time": "2023-03-30T21:27:08.647Z"
   },
   {
    "duration": 26,
    "start_time": "2023-03-30T21:27:08.659Z"
   },
   {
    "duration": 26,
    "start_time": "2023-03-30T21:27:08.687Z"
   },
   {
    "duration": 74,
    "start_time": "2023-03-30T21:27:08.715Z"
   },
   {
    "duration": 348,
    "start_time": "2023-03-30T21:27:08.791Z"
   },
   {
    "duration": 341,
    "start_time": "2023-03-30T21:27:09.142Z"
   },
   {
    "duration": 45,
    "start_time": "2023-03-30T21:27:09.485Z"
   },
   {
    "duration": 6,
    "start_time": "2023-03-30T21:27:09.532Z"
   },
   {
    "duration": 29,
    "start_time": "2023-03-30T21:27:09.540Z"
   },
   {
    "duration": 32,
    "start_time": "2023-03-30T21:27:09.571Z"
   },
   {
    "duration": 57,
    "start_time": "2023-03-30T21:27:09.604Z"
   },
   {
    "duration": 32,
    "start_time": "2023-03-30T21:27:09.662Z"
   },
   {
    "duration": 18,
    "start_time": "2023-03-30T21:27:09.695Z"
   },
   {
    "duration": 41,
    "start_time": "2023-03-30T21:27:09.714Z"
   },
   {
    "duration": 229,
    "start_time": "2023-03-30T21:27:09.757Z"
   },
   {
    "duration": 70,
    "start_time": "2023-03-30T21:27:09.988Z"
   },
   {
    "duration": 180,
    "start_time": "2023-03-30T21:27:10.059Z"
   },
   {
    "duration": 11,
    "start_time": "2023-03-30T21:27:10.241Z"
   },
   {
    "duration": 12,
    "start_time": "2023-03-30T21:27:10.254Z"
   },
   {
    "duration": 9,
    "start_time": "2023-03-30T21:27:10.283Z"
   },
   {
    "duration": 13,
    "start_time": "2023-03-30T21:27:10.294Z"
   },
   {
    "duration": 12,
    "start_time": "2023-03-30T21:27:10.309Z"
   },
   {
    "duration": 40,
    "start_time": "2023-03-30T21:27:10.323Z"
   },
   {
    "duration": 136,
    "start_time": "2023-03-30T21:27:10.365Z"
   },
   {
    "duration": 106,
    "start_time": "2023-03-30T21:27:10.503Z"
   },
   {
    "duration": 132,
    "start_time": "2023-03-30T21:27:10.611Z"
   },
   {
    "duration": 6,
    "start_time": "2023-03-30T21:27:10.745Z"
   },
   {
    "duration": 124,
    "start_time": "2023-03-30T21:27:10.753Z"
   },
   {
    "duration": 6,
    "start_time": "2023-03-30T21:27:10.883Z"
   },
   {
    "duration": 20,
    "start_time": "2023-03-30T21:27:10.892Z"
   },
   {
    "duration": 136,
    "start_time": "2023-03-30T21:27:10.914Z"
   },
   {
    "duration": 7,
    "start_time": "2023-03-30T21:27:11.052Z"
   },
   {
    "duration": 145,
    "start_time": "2023-03-30T21:27:11.062Z"
   },
   {
    "duration": 121,
    "start_time": "2023-03-30T21:27:11.209Z"
   },
   {
    "duration": 188,
    "start_time": "2023-03-30T21:27:11.332Z"
   },
   {
    "duration": 1237,
    "start_time": "2023-03-30T21:33:20.017Z"
   },
   {
    "duration": 200,
    "start_time": "2023-03-30T21:33:21.257Z"
   },
   {
    "duration": 11,
    "start_time": "2023-03-30T21:33:21.459Z"
   },
   {
    "duration": 26,
    "start_time": "2023-03-30T21:33:21.482Z"
   },
   {
    "duration": 15,
    "start_time": "2023-03-30T21:33:21.510Z"
   },
   {
    "duration": 78,
    "start_time": "2023-03-30T21:33:21.527Z"
   },
   {
    "duration": 4,
    "start_time": "2023-03-30T21:33:21.607Z"
   },
   {
    "duration": 21,
    "start_time": "2023-03-30T21:33:21.613Z"
   },
   {
    "duration": 24,
    "start_time": "2023-03-30T21:33:21.636Z"
   },
   {
    "duration": 93,
    "start_time": "2023-03-30T21:33:21.663Z"
   },
   {
    "duration": 71,
    "start_time": "2023-03-30T21:33:21.758Z"
   },
   {
    "duration": 10,
    "start_time": "2023-03-30T21:33:21.831Z"
   },
   {
    "duration": 54,
    "start_time": "2023-03-30T21:33:21.842Z"
   },
   {
    "duration": 3,
    "start_time": "2023-03-30T21:33:21.898Z"
   },
   {
    "duration": 30,
    "start_time": "2023-03-30T21:33:21.903Z"
   },
   {
    "duration": 28,
    "start_time": "2023-03-30T21:33:21.934Z"
   },
   {
    "duration": 24,
    "start_time": "2023-03-30T21:33:21.964Z"
   },
   {
    "duration": 25,
    "start_time": "2023-03-30T21:33:21.989Z"
   },
   {
    "duration": 21,
    "start_time": "2023-03-30T21:33:22.015Z"
   },
   {
    "duration": 27,
    "start_time": "2023-03-30T21:33:22.037Z"
   },
   {
    "duration": 16,
    "start_time": "2023-03-30T21:33:22.066Z"
   },
   {
    "duration": 81,
    "start_time": "2023-03-30T21:33:22.084Z"
   },
   {
    "duration": 242,
    "start_time": "2023-03-30T21:33:22.167Z"
   },
   {
    "duration": 441,
    "start_time": "2023-03-30T21:33:22.411Z"
   },
   {
    "duration": 52,
    "start_time": "2023-03-30T21:33:22.854Z"
   },
   {
    "duration": 6,
    "start_time": "2023-03-30T21:33:22.908Z"
   },
   {
    "duration": 33,
    "start_time": "2023-03-30T21:33:22.916Z"
   },
   {
    "duration": 17,
    "start_time": "2023-03-30T21:33:22.953Z"
   },
   {
    "duration": 74,
    "start_time": "2023-03-30T21:33:22.972Z"
   },
   {
    "duration": 32,
    "start_time": "2023-03-30T21:33:23.048Z"
   },
   {
    "duration": 18,
    "start_time": "2023-03-30T21:33:23.081Z"
   },
   {
    "duration": 61,
    "start_time": "2023-03-30T21:33:23.100Z"
   },
   {
    "duration": 198,
    "start_time": "2023-03-30T21:33:23.163Z"
   },
   {
    "duration": 75,
    "start_time": "2023-03-30T21:33:23.363Z"
   },
   {
    "duration": 187,
    "start_time": "2023-03-30T21:33:23.440Z"
   },
   {
    "duration": 11,
    "start_time": "2023-03-30T21:33:23.629Z"
   },
   {
    "duration": 49,
    "start_time": "2023-03-30T21:33:23.642Z"
   },
   {
    "duration": 10,
    "start_time": "2023-03-30T21:33:23.692Z"
   },
   {
    "duration": 40,
    "start_time": "2023-03-30T21:33:23.703Z"
   },
   {
    "duration": 34,
    "start_time": "2023-03-30T21:33:23.745Z"
   },
   {
    "duration": 61,
    "start_time": "2023-03-30T21:33:23.781Z"
   },
   {
    "duration": 222,
    "start_time": "2023-03-30T21:33:23.844Z"
   },
   {
    "duration": 79,
    "start_time": "2023-03-30T21:33:24.068Z"
   },
   {
    "duration": 107,
    "start_time": "2023-03-30T21:33:24.148Z"
   },
   {
    "duration": 102,
    "start_time": "2023-03-30T21:33:24.257Z"
   },
   {
    "duration": 0,
    "start_time": "2023-03-30T21:33:24.360Z"
   },
   {
    "duration": 0,
    "start_time": "2023-03-30T21:33:24.362Z"
   },
   {
    "duration": 0,
    "start_time": "2023-03-30T21:33:24.362Z"
   },
   {
    "duration": 0,
    "start_time": "2023-03-30T21:33:24.363Z"
   },
   {
    "duration": 0,
    "start_time": "2023-03-30T21:33:24.364Z"
   },
   {
    "duration": 0,
    "start_time": "2023-03-30T21:33:24.365Z"
   },
   {
    "duration": 0,
    "start_time": "2023-03-30T21:33:24.366Z"
   },
   {
    "duration": 0,
    "start_time": "2023-03-30T21:33:24.367Z"
   },
   {
    "duration": 17,
    "start_time": "2023-03-30T21:34:12.725Z"
   },
   {
    "duration": 5,
    "start_time": "2023-03-30T21:35:17.702Z"
   },
   {
    "duration": 5,
    "start_time": "2023-03-30T21:35:23.524Z"
   },
   {
    "duration": 312,
    "start_time": "2023-03-30T21:35:23.531Z"
   },
   {
    "duration": 8,
    "start_time": "2023-03-30T21:35:23.845Z"
   },
   {
    "duration": 45,
    "start_time": "2023-03-30T21:35:23.855Z"
   },
   {
    "duration": 42,
    "start_time": "2023-03-30T21:35:23.902Z"
   },
   {
    "duration": 76,
    "start_time": "2023-03-30T21:35:23.945Z"
   },
   {
    "duration": 4,
    "start_time": "2023-03-30T21:35:24.023Z"
   },
   {
    "duration": 36,
    "start_time": "2023-03-30T21:35:24.029Z"
   },
   {
    "duration": 39,
    "start_time": "2023-03-30T21:35:24.066Z"
   },
   {
    "duration": 86,
    "start_time": "2023-03-30T21:35:24.106Z"
   },
   {
    "duration": 65,
    "start_time": "2023-03-30T21:35:24.195Z"
   },
   {
    "duration": 35,
    "start_time": "2023-03-30T21:35:24.262Z"
   },
   {
    "duration": 47,
    "start_time": "2023-03-30T21:35:24.299Z"
   },
   {
    "duration": 13,
    "start_time": "2023-03-30T21:35:24.347Z"
   },
   {
    "duration": 46,
    "start_time": "2023-03-30T21:35:24.361Z"
   },
   {
    "duration": 59,
    "start_time": "2023-03-30T21:35:24.409Z"
   },
   {
    "duration": 32,
    "start_time": "2023-03-30T21:35:24.469Z"
   },
   {
    "duration": 21,
    "start_time": "2023-03-30T21:35:24.502Z"
   },
   {
    "duration": 22,
    "start_time": "2023-03-30T21:35:24.525Z"
   },
   {
    "duration": 28,
    "start_time": "2023-03-30T21:35:24.548Z"
   },
   {
    "duration": 20,
    "start_time": "2023-03-30T21:35:24.577Z"
   },
   {
    "duration": 71,
    "start_time": "2023-03-30T21:35:24.599Z"
   },
   {
    "duration": 270,
    "start_time": "2023-03-30T21:35:24.672Z"
   },
   {
    "duration": 312,
    "start_time": "2023-03-30T21:35:24.943Z"
   },
   {
    "duration": 56,
    "start_time": "2023-03-30T21:35:25.256Z"
   },
   {
    "duration": 6,
    "start_time": "2023-03-30T21:35:25.313Z"
   },
   {
    "duration": 17,
    "start_time": "2023-03-30T21:35:25.320Z"
   },
   {
    "duration": 9,
    "start_time": "2023-03-30T21:35:25.339Z"
   },
   {
    "duration": 53,
    "start_time": "2023-03-30T21:35:25.352Z"
   },
   {
    "duration": 31,
    "start_time": "2023-03-30T21:35:25.407Z"
   },
   {
    "duration": 16,
    "start_time": "2023-03-30T21:35:25.440Z"
   },
   {
    "duration": 56,
    "start_time": "2023-03-30T21:35:25.457Z"
   },
   {
    "duration": 181,
    "start_time": "2023-03-30T21:35:25.514Z"
   },
   {
    "duration": 63,
    "start_time": "2023-03-30T21:35:25.696Z"
   },
   {
    "duration": 162,
    "start_time": "2023-03-30T21:35:25.761Z"
   },
   {
    "duration": 10,
    "start_time": "2023-03-30T21:35:25.925Z"
   },
   {
    "duration": 22,
    "start_time": "2023-03-30T21:35:25.937Z"
   },
   {
    "duration": 9,
    "start_time": "2023-03-30T21:35:25.961Z"
   },
   {
    "duration": 11,
    "start_time": "2023-03-30T21:35:25.984Z"
   },
   {
    "duration": 10,
    "start_time": "2023-03-30T21:35:25.997Z"
   },
   {
    "duration": 36,
    "start_time": "2023-03-30T21:35:26.009Z"
   },
   {
    "duration": 148,
    "start_time": "2023-03-30T21:35:26.047Z"
   },
   {
    "duration": 75,
    "start_time": "2023-03-30T21:35:26.197Z"
   },
   {
    "duration": 110,
    "start_time": "2023-03-30T21:35:26.274Z"
   },
   {
    "duration": 4,
    "start_time": "2023-03-30T21:35:26.386Z"
   },
   {
    "duration": 109,
    "start_time": "2023-03-30T21:35:26.392Z"
   },
   {
    "duration": 6,
    "start_time": "2023-03-30T21:35:26.502Z"
   },
   {
    "duration": 25,
    "start_time": "2023-03-30T21:35:26.509Z"
   },
   {
    "duration": 117,
    "start_time": "2023-03-30T21:35:26.535Z"
   },
   {
    "duration": 6,
    "start_time": "2023-03-30T21:35:26.654Z"
   },
   {
    "duration": 129,
    "start_time": "2023-03-30T21:35:26.661Z"
   },
   {
    "duration": 131,
    "start_time": "2023-03-30T21:35:26.792Z"
   },
   {
    "duration": 180,
    "start_time": "2023-03-30T21:35:26.925Z"
   },
   {
    "duration": 1280,
    "start_time": "2023-03-30T21:36:07.606Z"
   },
   {
    "duration": 216,
    "start_time": "2023-03-30T21:36:08.888Z"
   },
   {
    "duration": 15,
    "start_time": "2023-03-30T21:36:09.106Z"
   },
   {
    "duration": 49,
    "start_time": "2023-03-30T21:36:09.123Z"
   },
   {
    "duration": 19,
    "start_time": "2023-03-30T21:36:09.174Z"
   },
   {
    "duration": 102,
    "start_time": "2023-03-30T21:36:09.195Z"
   },
   {
    "duration": 4,
    "start_time": "2023-03-30T21:36:09.298Z"
   },
   {
    "duration": 41,
    "start_time": "2023-03-30T21:36:09.303Z"
   },
   {
    "duration": 23,
    "start_time": "2023-03-30T21:36:09.346Z"
   },
   {
    "duration": 86,
    "start_time": "2023-03-30T21:36:09.372Z"
   },
   {
    "duration": 74,
    "start_time": "2023-03-30T21:36:09.460Z"
   },
   {
    "duration": 27,
    "start_time": "2023-03-30T21:36:09.536Z"
   },
   {
    "duration": 41,
    "start_time": "2023-03-30T21:36:09.565Z"
   },
   {
    "duration": 8,
    "start_time": "2023-03-30T21:36:09.608Z"
   },
   {
    "duration": 49,
    "start_time": "2023-03-30T21:36:09.617Z"
   },
   {
    "duration": 35,
    "start_time": "2023-03-30T21:36:09.667Z"
   },
   {
    "duration": 26,
    "start_time": "2023-03-30T21:36:09.704Z"
   },
   {
    "duration": 18,
    "start_time": "2023-03-30T21:36:09.731Z"
   },
   {
    "duration": 34,
    "start_time": "2023-03-30T21:36:09.750Z"
   },
   {
    "duration": 28,
    "start_time": "2023-03-30T21:36:09.786Z"
   },
   {
    "duration": 28,
    "start_time": "2023-03-30T21:36:09.816Z"
   },
   {
    "duration": 86,
    "start_time": "2023-03-30T21:36:09.847Z"
   },
   {
    "duration": 261,
    "start_time": "2023-03-30T21:36:09.934Z"
   },
   {
    "duration": 428,
    "start_time": "2023-03-30T21:36:10.196Z"
   },
   {
    "duration": 50,
    "start_time": "2023-03-30T21:36:10.626Z"
   },
   {
    "duration": 7,
    "start_time": "2023-03-30T21:36:10.678Z"
   },
   {
    "duration": 21,
    "start_time": "2023-03-30T21:36:10.686Z"
   },
   {
    "duration": 9,
    "start_time": "2023-03-30T21:36:10.712Z"
   },
   {
    "duration": 75,
    "start_time": "2023-03-30T21:36:10.723Z"
   },
   {
    "duration": 31,
    "start_time": "2023-03-30T21:36:10.800Z"
   },
   {
    "duration": 18,
    "start_time": "2023-03-30T21:36:10.833Z"
   },
   {
    "duration": 63,
    "start_time": "2023-03-30T21:36:10.853Z"
   },
   {
    "duration": 205,
    "start_time": "2023-03-30T21:36:10.917Z"
   },
   {
    "duration": 81,
    "start_time": "2023-03-30T21:36:11.124Z"
   },
   {
    "duration": 169,
    "start_time": "2023-03-30T21:36:11.207Z"
   },
   {
    "duration": 11,
    "start_time": "2023-03-30T21:36:11.378Z"
   },
   {
    "duration": 31,
    "start_time": "2023-03-30T21:36:11.390Z"
   },
   {
    "duration": 13,
    "start_time": "2023-03-30T21:36:11.423Z"
   },
   {
    "duration": 25,
    "start_time": "2023-03-30T21:36:11.438Z"
   },
   {
    "duration": 19,
    "start_time": "2023-03-30T21:36:11.465Z"
   },
   {
    "duration": 61,
    "start_time": "2023-03-30T21:36:11.486Z"
   },
   {
    "duration": 242,
    "start_time": "2023-03-30T21:36:11.548Z"
   },
   {
    "duration": 91,
    "start_time": "2023-03-30T21:36:11.792Z"
   },
   {
    "duration": 112,
    "start_time": "2023-03-30T21:36:11.885Z"
   },
   {
    "duration": 98,
    "start_time": "2023-03-30T21:36:11.998Z"
   },
   {
    "duration": 105,
    "start_time": "2023-03-30T21:36:12.098Z"
   },
   {
    "duration": 7,
    "start_time": "2023-03-30T21:36:12.205Z"
   },
   {
    "duration": 21,
    "start_time": "2023-03-30T21:36:12.214Z"
   },
   {
    "duration": 138,
    "start_time": "2023-03-30T21:36:12.238Z"
   },
   {
    "duration": 7,
    "start_time": "2023-03-30T21:36:12.382Z"
   },
   {
    "duration": 144,
    "start_time": "2023-03-30T21:36:12.391Z"
   },
   {
    "duration": 138,
    "start_time": "2023-03-30T21:36:12.537Z"
   },
   {
    "duration": 173,
    "start_time": "2023-03-30T21:36:12.683Z"
   },
   {
    "duration": 1184,
    "start_time": "2023-03-30T21:43:21.281Z"
   },
   {
    "duration": 201,
    "start_time": "2023-03-30T21:43:22.466Z"
   },
   {
    "duration": 9,
    "start_time": "2023-03-30T21:43:22.671Z"
   },
   {
    "duration": 54,
    "start_time": "2023-03-30T21:43:22.683Z"
   },
   {
    "duration": 14,
    "start_time": "2023-03-30T21:43:22.739Z"
   },
   {
    "duration": 80,
    "start_time": "2023-03-30T21:43:22.754Z"
   },
   {
    "duration": 3,
    "start_time": "2023-03-30T21:43:22.836Z"
   },
   {
    "duration": 19,
    "start_time": "2023-03-30T21:43:22.841Z"
   },
   {
    "duration": 38,
    "start_time": "2023-03-30T21:43:22.861Z"
   },
   {
    "duration": 78,
    "start_time": "2023-03-30T21:43:22.901Z"
   },
   {
    "duration": 68,
    "start_time": "2023-03-30T21:43:22.981Z"
   },
   {
    "duration": 38,
    "start_time": "2023-03-30T21:43:23.051Z"
   },
   {
    "duration": 53,
    "start_time": "2023-03-30T21:43:23.090Z"
   },
   {
    "duration": 4,
    "start_time": "2023-03-30T21:43:23.145Z"
   },
   {
    "duration": 37,
    "start_time": "2023-03-30T21:43:23.151Z"
   },
   {
    "duration": 38,
    "start_time": "2023-03-30T21:43:23.190Z"
   },
   {
    "duration": 29,
    "start_time": "2023-03-30T21:43:23.230Z"
   },
   {
    "duration": 36,
    "start_time": "2023-03-30T21:43:23.261Z"
   },
   {
    "duration": 20,
    "start_time": "2023-03-30T21:43:23.299Z"
   },
   {
    "duration": 31,
    "start_time": "2023-03-30T21:43:23.321Z"
   },
   {
    "duration": 24,
    "start_time": "2023-03-30T21:43:23.354Z"
   },
   {
    "duration": 77,
    "start_time": "2023-03-30T21:43:23.379Z"
   },
   {
    "duration": 256,
    "start_time": "2023-03-30T21:43:23.458Z"
   },
   {
    "duration": 443,
    "start_time": "2023-03-30T21:43:23.717Z"
   },
   {
    "duration": 47,
    "start_time": "2023-03-30T21:43:24.162Z"
   },
   {
    "duration": 6,
    "start_time": "2023-03-30T21:43:24.211Z"
   },
   {
    "duration": 21,
    "start_time": "2023-03-30T21:43:24.218Z"
   },
   {
    "duration": 27,
    "start_time": "2023-03-30T21:43:24.243Z"
   },
   {
    "duration": 46,
    "start_time": "2023-03-30T21:43:24.272Z"
   },
   {
    "duration": 31,
    "start_time": "2023-03-30T21:43:24.320Z"
   },
   {
    "duration": 41,
    "start_time": "2023-03-30T21:43:24.353Z"
   },
   {
    "duration": 33,
    "start_time": "2023-03-30T21:43:24.396Z"
   },
   {
    "duration": 199,
    "start_time": "2023-03-30T21:43:24.431Z"
   },
   {
    "duration": 72,
    "start_time": "2023-03-30T21:43:24.631Z"
   },
   {
    "duration": 191,
    "start_time": "2023-03-30T21:43:24.705Z"
   },
   {
    "duration": 15,
    "start_time": "2023-03-30T21:43:24.898Z"
   },
   {
    "duration": 37,
    "start_time": "2023-03-30T21:43:24.914Z"
   },
   {
    "duration": 12,
    "start_time": "2023-03-30T21:43:24.952Z"
   },
   {
    "duration": 27,
    "start_time": "2023-03-30T21:43:24.966Z"
   },
   {
    "duration": 49,
    "start_time": "2023-03-30T21:43:24.995Z"
   },
   {
    "duration": 215,
    "start_time": "2023-03-30T21:43:25.047Z"
   },
   {
    "duration": 83,
    "start_time": "2023-03-30T21:43:25.263Z"
   },
   {
    "duration": 103,
    "start_time": "2023-03-30T21:43:25.347Z"
   },
   {
    "duration": 95,
    "start_time": "2023-03-30T21:43:25.452Z"
   },
   {
    "duration": 97,
    "start_time": "2023-03-30T21:43:25.549Z"
   },
   {
    "duration": 5,
    "start_time": "2023-03-30T21:43:25.648Z"
   },
   {
    "duration": 34,
    "start_time": "2023-03-30T21:43:25.655Z"
   },
   {
    "duration": 126,
    "start_time": "2023-03-30T21:43:25.691Z"
   },
   {
    "duration": 6,
    "start_time": "2023-03-30T21:43:25.818Z"
   },
   {
    "duration": 146,
    "start_time": "2023-03-30T21:43:25.825Z"
   },
   {
    "duration": 130,
    "start_time": "2023-03-30T21:43:25.972Z"
   },
   {
    "duration": 161,
    "start_time": "2023-03-30T21:43:26.104Z"
   },
   {
    "duration": 1467,
    "start_time": "2023-03-30T22:48:08.275Z"
   },
   {
    "duration": 211,
    "start_time": "2023-03-30T22:48:09.744Z"
   },
   {
    "duration": 13,
    "start_time": "2023-03-30T22:48:09.957Z"
   },
   {
    "duration": 42,
    "start_time": "2023-03-30T22:48:09.972Z"
   },
   {
    "duration": 35,
    "start_time": "2023-03-30T22:48:10.017Z"
   },
   {
    "duration": 94,
    "start_time": "2023-03-30T22:48:10.054Z"
   },
   {
    "duration": 3,
    "start_time": "2023-03-30T22:48:10.150Z"
   },
   {
    "duration": 25,
    "start_time": "2023-03-30T22:48:10.155Z"
   },
   {
    "duration": 40,
    "start_time": "2023-03-30T22:48:10.182Z"
   },
   {
    "duration": 83,
    "start_time": "2023-03-30T22:48:10.224Z"
   },
   {
    "duration": 70,
    "start_time": "2023-03-30T22:48:10.308Z"
   },
   {
    "duration": 18,
    "start_time": "2023-03-30T22:48:10.380Z"
   },
   {
    "duration": 42,
    "start_time": "2023-03-30T22:48:10.400Z"
   },
   {
    "duration": 4,
    "start_time": "2023-03-30T22:48:10.445Z"
   },
   {
    "duration": 35,
    "start_time": "2023-03-30T22:48:10.451Z"
   },
   {
    "duration": 21,
    "start_time": "2023-03-30T22:48:10.488Z"
   },
   {
    "duration": 7,
    "start_time": "2023-03-30T22:48:10.511Z"
   },
   {
    "duration": 26,
    "start_time": "2023-03-30T22:48:10.520Z"
   },
   {
    "duration": 5,
    "start_time": "2023-03-30T22:48:10.548Z"
   },
   {
    "duration": 17,
    "start_time": "2023-03-30T22:48:10.555Z"
   },
   {
    "duration": 17,
    "start_time": "2023-03-30T22:48:10.574Z"
   },
   {
    "duration": 56,
    "start_time": "2023-03-30T22:48:10.593Z"
   },
   {
    "duration": 258,
    "start_time": "2023-03-30T22:48:10.652Z"
   },
   {
    "duration": 463,
    "start_time": "2023-03-30T22:48:10.912Z"
   },
   {
    "duration": 48,
    "start_time": "2023-03-30T22:48:11.377Z"
   },
   {
    "duration": 6,
    "start_time": "2023-03-30T22:48:11.442Z"
   },
   {
    "duration": 17,
    "start_time": "2023-03-30T22:48:11.450Z"
   },
   {
    "duration": 4,
    "start_time": "2023-03-30T22:48:11.469Z"
   },
   {
    "duration": 45,
    "start_time": "2023-03-30T22:48:11.475Z"
   },
   {
    "duration": 50,
    "start_time": "2023-03-30T22:48:11.521Z"
   },
   {
    "duration": 18,
    "start_time": "2023-03-30T22:48:11.572Z"
   },
   {
    "duration": 56,
    "start_time": "2023-03-30T22:48:11.592Z"
   },
   {
    "duration": 214,
    "start_time": "2023-03-30T22:48:11.650Z"
   },
   {
    "duration": 76,
    "start_time": "2023-03-30T22:48:11.866Z"
   },
   {
    "duration": 176,
    "start_time": "2023-03-30T22:48:11.944Z"
   },
   {
    "duration": 20,
    "start_time": "2023-03-30T22:48:12.123Z"
   },
   {
    "duration": 41,
    "start_time": "2023-03-30T22:48:12.145Z"
   },
   {
    "duration": 13,
    "start_time": "2023-03-30T22:48:12.189Z"
   },
   {
    "duration": 24,
    "start_time": "2023-03-30T22:48:12.204Z"
   },
   {
    "duration": 45,
    "start_time": "2023-03-30T22:48:12.240Z"
   },
   {
    "duration": 254,
    "start_time": "2023-03-30T22:48:12.289Z"
   },
   {
    "duration": 103,
    "start_time": "2023-03-30T22:48:12.545Z"
   },
   {
    "duration": 128,
    "start_time": "2023-03-30T22:48:12.650Z"
   },
   {
    "duration": 15,
    "start_time": "2023-03-30T22:48:12.781Z"
   },
   {
    "duration": 223,
    "start_time": "2023-03-30T22:48:12.798Z"
   },
   {
    "duration": 6,
    "start_time": "2023-03-30T22:48:13.023Z"
   },
   {
    "duration": 13,
    "start_time": "2023-03-30T22:48:13.031Z"
   },
   {
    "duration": 142,
    "start_time": "2023-03-30T22:48:13.046Z"
   },
   {
    "duration": 6,
    "start_time": "2023-03-30T22:48:13.190Z"
   },
   {
    "duration": 165,
    "start_time": "2023-03-30T22:48:13.198Z"
   },
   {
    "duration": 156,
    "start_time": "2023-03-30T22:48:13.365Z"
   },
   {
    "duration": 218,
    "start_time": "2023-03-30T22:48:13.524Z"
   },
   {
    "duration": 15,
    "start_time": "2023-03-30T22:58:44.548Z"
   },
   {
    "duration": 573,
    "start_time": "2023-03-30T22:58:52.768Z"
   },
   {
    "duration": 56,
    "start_time": "2023-03-31T07:17:53.962Z"
   },
   {
    "duration": 8,
    "start_time": "2023-03-31T07:18:00.266Z"
   },
   {
    "duration": 1512,
    "start_time": "2023-03-31T07:18:03.298Z"
   },
   {
    "duration": 1058,
    "start_time": "2023-03-31T07:18:04.812Z"
   },
   {
    "duration": 12,
    "start_time": "2023-03-31T07:18:05.872Z"
   },
   {
    "duration": 27,
    "start_time": "2023-03-31T07:18:05.886Z"
   },
   {
    "duration": 12,
    "start_time": "2023-03-31T07:18:05.915Z"
   },
   {
    "duration": 83,
    "start_time": "2023-03-31T07:18:05.929Z"
   },
   {
    "duration": 5,
    "start_time": "2023-03-31T07:18:06.013Z"
   },
   {
    "duration": 11,
    "start_time": "2023-03-31T07:18:06.019Z"
   },
   {
    "duration": 30,
    "start_time": "2023-03-31T07:18:06.032Z"
   },
   {
    "duration": 99,
    "start_time": "2023-03-31T07:18:06.066Z"
   },
   {
    "duration": 68,
    "start_time": "2023-03-31T07:18:06.166Z"
   },
   {
    "duration": 29,
    "start_time": "2023-03-31T07:18:06.235Z"
   },
   {
    "duration": 44,
    "start_time": "2023-03-31T07:18:06.266Z"
   },
   {
    "duration": 6,
    "start_time": "2023-03-31T07:18:06.312Z"
   },
   {
    "duration": 27,
    "start_time": "2023-03-31T07:18:06.320Z"
   },
   {
    "duration": 34,
    "start_time": "2023-03-31T07:18:06.348Z"
   },
   {
    "duration": 19,
    "start_time": "2023-03-31T07:18:06.383Z"
   },
   {
    "duration": 18,
    "start_time": "2023-03-31T07:18:06.404Z"
   },
   {
    "duration": 1333,
    "start_time": "2023-03-31T07:18:06.423Z"
   },
   {
    "duration": 36,
    "start_time": "2023-03-31T07:18:07.758Z"
   },
   {
    "duration": 6,
    "start_time": "2023-03-31T07:18:07.796Z"
   },
   {
    "duration": 6,
    "start_time": "2023-03-31T07:18:07.803Z"
   },
   {
    "duration": 4,
    "start_time": "2023-03-31T07:18:07.811Z"
   },
   {
    "duration": 94,
    "start_time": "2023-03-31T07:18:07.816Z"
   },
   {
    "duration": 287,
    "start_time": "2023-03-31T07:18:07.911Z"
   },
   {
    "duration": 625,
    "start_time": "2023-03-31T07:18:08.200Z"
   },
   {
    "duration": 429,
    "start_time": "2023-03-31T07:18:08.827Z"
   },
   {
    "duration": 53,
    "start_time": "2023-03-31T07:18:09.263Z"
   },
   {
    "duration": 7,
    "start_time": "2023-03-31T07:18:09.319Z"
   },
   {
    "duration": 10,
    "start_time": "2023-03-31T07:18:09.327Z"
   },
   {
    "duration": 27,
    "start_time": "2023-03-31T07:18:09.338Z"
   },
   {
    "duration": 39,
    "start_time": "2023-03-31T07:18:09.383Z"
   },
   {
    "duration": 37,
    "start_time": "2023-03-31T07:18:09.424Z"
   },
   {
    "duration": 28,
    "start_time": "2023-03-31T07:18:09.463Z"
   },
   {
    "duration": 33,
    "start_time": "2023-03-31T07:18:09.493Z"
   },
   {
    "duration": 232,
    "start_time": "2023-03-31T07:18:09.528Z"
   },
   {
    "duration": 79,
    "start_time": "2023-03-31T07:18:09.762Z"
   },
   {
    "duration": 311,
    "start_time": "2023-03-31T07:18:09.842Z"
   },
   {
    "duration": 18,
    "start_time": "2023-03-31T07:18:10.155Z"
   },
   {
    "duration": 33,
    "start_time": "2023-03-31T07:18:10.175Z"
   },
   {
    "duration": 15,
    "start_time": "2023-03-31T07:18:10.210Z"
   },
   {
    "duration": 25,
    "start_time": "2023-03-31T07:18:10.226Z"
   },
   {
    "duration": 52,
    "start_time": "2023-03-31T07:18:10.252Z"
   },
   {
    "duration": 202,
    "start_time": "2023-03-31T07:18:10.306Z"
   },
   {
    "duration": 99,
    "start_time": "2023-03-31T07:18:10.510Z"
   },
   {
    "duration": 140,
    "start_time": "2023-03-31T07:18:10.611Z"
   },
   {
    "duration": 16,
    "start_time": "2023-03-31T07:18:10.753Z"
   },
   {
    "duration": 131,
    "start_time": "2023-03-31T07:18:10.770Z"
   },
   {
    "duration": 6,
    "start_time": "2023-03-31T07:18:10.902Z"
   },
   {
    "duration": 18,
    "start_time": "2023-03-31T07:18:10.909Z"
   },
   {
    "duration": 146,
    "start_time": "2023-03-31T07:18:10.928Z"
   },
   {
    "duration": 8,
    "start_time": "2023-03-31T07:18:11.075Z"
   },
   {
    "duration": 162,
    "start_time": "2023-03-31T07:18:11.085Z"
   },
   {
    "duration": 151,
    "start_time": "2023-03-31T07:18:11.249Z"
   },
   {
    "duration": 188,
    "start_time": "2023-03-31T07:18:11.402Z"
   },
   {
    "duration": 1158,
    "start_time": "2023-03-31T07:27:02.076Z"
   },
   {
    "duration": 124,
    "start_time": "2023-03-31T07:58:05.545Z"
   },
   {
    "duration": 570,
    "start_time": "2023-03-31T07:58:11.098Z"
   },
   {
    "duration": 759,
    "start_time": "2023-03-31T07:58:45.934Z"
   },
   {
    "duration": 698,
    "start_time": "2023-03-31T07:59:41.993Z"
   },
   {
    "duration": 611,
    "start_time": "2023-03-31T07:59:55.788Z"
   },
   {
    "duration": 707,
    "start_time": "2023-03-31T08:00:18.874Z"
   },
   {
    "duration": 580,
    "start_time": "2023-03-31T08:00:34.331Z"
   },
   {
    "duration": 570,
    "start_time": "2023-03-31T08:00:55.556Z"
   },
   {
    "duration": 5,
    "start_time": "2023-03-31T08:03:16.811Z"
   },
   {
    "duration": 187,
    "start_time": "2023-03-31T08:03:16.818Z"
   },
   {
    "duration": 8,
    "start_time": "2023-03-31T08:03:17.006Z"
   },
   {
    "duration": 40,
    "start_time": "2023-03-31T08:03:17.015Z"
   },
   {
    "duration": 21,
    "start_time": "2023-03-31T08:03:17.057Z"
   },
   {
    "duration": 77,
    "start_time": "2023-03-31T08:03:17.082Z"
   },
   {
    "duration": 5,
    "start_time": "2023-03-31T08:03:17.161Z"
   },
   {
    "duration": 10,
    "start_time": "2023-03-31T08:03:17.168Z"
   },
   {
    "duration": 7,
    "start_time": "2023-03-31T08:03:17.182Z"
   },
   {
    "duration": 98,
    "start_time": "2023-03-31T08:03:17.192Z"
   },
   {
    "duration": 78,
    "start_time": "2023-03-31T08:03:17.292Z"
   },
   {
    "duration": 10,
    "start_time": "2023-03-31T08:03:17.372Z"
   },
   {
    "duration": 40,
    "start_time": "2023-03-31T08:03:17.384Z"
   },
   {
    "duration": 16,
    "start_time": "2023-03-31T08:03:17.426Z"
   },
   {
    "duration": 36,
    "start_time": "2023-03-31T08:03:17.444Z"
   },
   {
    "duration": 26,
    "start_time": "2023-03-31T08:03:17.482Z"
   },
   {
    "duration": 6,
    "start_time": "2023-03-31T08:03:17.510Z"
   },
   {
    "duration": 29,
    "start_time": "2023-03-31T08:03:17.518Z"
   },
   {
    "duration": 1223,
    "start_time": "2023-03-31T08:03:17.549Z"
   },
   {
    "duration": 25,
    "start_time": "2023-03-31T08:03:18.774Z"
   },
   {
    "duration": 5,
    "start_time": "2023-03-31T08:03:18.800Z"
   },
   {
    "duration": 5,
    "start_time": "2023-03-31T08:03:18.807Z"
   },
   {
    "duration": 29,
    "start_time": "2023-03-31T08:03:18.813Z"
   },
   {
    "duration": 53,
    "start_time": "2023-03-31T08:03:18.847Z"
   },
   {
    "duration": 273,
    "start_time": "2023-03-31T08:03:18.902Z"
   },
   {
    "duration": 611,
    "start_time": "2023-03-31T08:03:19.176Z"
   },
   {
    "duration": 581,
    "start_time": "2023-03-31T08:03:19.788Z"
   },
   {
    "duration": 339,
    "start_time": "2023-03-31T08:03:20.370Z"
   },
   {
    "duration": 65,
    "start_time": "2023-03-31T08:03:20.711Z"
   },
   {
    "duration": 6,
    "start_time": "2023-03-31T08:03:20.778Z"
   },
   {
    "duration": 10,
    "start_time": "2023-03-31T08:03:20.787Z"
   },
   {
    "duration": 4,
    "start_time": "2023-03-31T08:03:20.799Z"
   },
   {
    "duration": 83,
    "start_time": "2023-03-31T08:03:20.805Z"
   },
   {
    "duration": 34,
    "start_time": "2023-03-31T08:03:20.889Z"
   },
   {
    "duration": 34,
    "start_time": "2023-03-31T08:03:20.925Z"
   },
   {
    "duration": 42,
    "start_time": "2023-03-31T08:03:20.961Z"
   },
   {
    "duration": 215,
    "start_time": "2023-03-31T08:03:21.005Z"
   },
   {
    "duration": 78,
    "start_time": "2023-03-31T08:03:21.222Z"
   },
   {
    "duration": 182,
    "start_time": "2023-03-31T08:03:21.302Z"
   },
   {
    "duration": 11,
    "start_time": "2023-03-31T08:03:21.486Z"
   },
   {
    "duration": 121,
    "start_time": "2023-03-31T08:03:21.498Z"
   },
   {
    "duration": 23,
    "start_time": "2023-03-31T08:03:21.620Z"
   },
   {
    "duration": 14,
    "start_time": "2023-03-31T08:03:21.645Z"
   },
   {
    "duration": 34,
    "start_time": "2023-03-31T08:03:21.660Z"
   },
   {
    "duration": 136,
    "start_time": "2023-03-31T08:03:21.696Z"
   },
   {
    "duration": 102,
    "start_time": "2023-03-31T08:03:21.840Z"
   },
   {
    "duration": 138,
    "start_time": "2023-03-31T08:03:21.944Z"
   },
   {
    "duration": 5,
    "start_time": "2023-03-31T08:03:22.083Z"
   },
   {
    "duration": 121,
    "start_time": "2023-03-31T08:03:22.090Z"
   },
   {
    "duration": 6,
    "start_time": "2023-03-31T08:03:22.213Z"
   },
   {
    "duration": 33,
    "start_time": "2023-03-31T08:03:22.220Z"
   },
   {
    "duration": 120,
    "start_time": "2023-03-31T08:03:22.255Z"
   },
   {
    "duration": 10,
    "start_time": "2023-03-31T08:03:22.377Z"
   },
   {
    "duration": 143,
    "start_time": "2023-03-31T08:03:22.388Z"
   },
   {
    "duration": 130,
    "start_time": "2023-03-31T08:03:22.545Z"
   },
   {
    "duration": 186,
    "start_time": "2023-03-31T08:03:22.676Z"
   },
   {
    "duration": 5,
    "start_time": "2023-03-31T08:35:42.494Z"
   },
   {
    "duration": 185,
    "start_time": "2023-03-31T08:35:42.500Z"
   },
   {
    "duration": 7,
    "start_time": "2023-03-31T08:35:42.687Z"
   },
   {
    "duration": 56,
    "start_time": "2023-03-31T08:35:42.696Z"
   },
   {
    "duration": 24,
    "start_time": "2023-03-31T08:35:42.755Z"
   },
   {
    "duration": 80,
    "start_time": "2023-03-31T08:35:42.781Z"
   },
   {
    "duration": 3,
    "start_time": "2023-03-31T08:35:42.863Z"
   },
   {
    "duration": 11,
    "start_time": "2023-03-31T08:35:42.867Z"
   },
   {
    "duration": 12,
    "start_time": "2023-03-31T08:35:42.880Z"
   },
   {
    "duration": 74,
    "start_time": "2023-03-31T08:35:42.894Z"
   },
   {
    "duration": 56,
    "start_time": "2023-03-31T08:35:42.971Z"
   },
   {
    "duration": 18,
    "start_time": "2023-03-31T08:35:43.028Z"
   },
   {
    "duration": 30,
    "start_time": "2023-03-31T08:35:43.048Z"
   },
   {
    "duration": 4,
    "start_time": "2023-03-31T08:35:43.080Z"
   },
   {
    "duration": 20,
    "start_time": "2023-03-31T08:35:43.085Z"
   },
   {
    "duration": 44,
    "start_time": "2023-03-31T08:35:43.106Z"
   },
   {
    "duration": 7,
    "start_time": "2023-03-31T08:35:43.152Z"
   },
   {
    "duration": 7,
    "start_time": "2023-03-31T08:35:43.161Z"
   },
   {
    "duration": 1063,
    "start_time": "2023-03-31T08:35:43.170Z"
   },
   {
    "duration": 32,
    "start_time": "2023-03-31T08:35:44.235Z"
   },
   {
    "duration": 6,
    "start_time": "2023-03-31T08:35:44.269Z"
   },
   {
    "duration": 46,
    "start_time": "2023-03-31T08:35:44.277Z"
   },
   {
    "duration": 3,
    "start_time": "2023-03-31T08:35:44.325Z"
   },
   {
    "duration": 61,
    "start_time": "2023-03-31T08:35:44.330Z"
   },
   {
    "duration": 254,
    "start_time": "2023-03-31T08:35:44.393Z"
   },
   {
    "duration": 592,
    "start_time": "2023-03-31T08:35:44.648Z"
   },
   {
    "duration": 581,
    "start_time": "2023-03-31T08:35:45.242Z"
   },
   {
    "duration": 329,
    "start_time": "2023-03-31T08:35:45.824Z"
   },
   {
    "duration": 49,
    "start_time": "2023-03-31T08:35:46.158Z"
   },
   {
    "duration": 7,
    "start_time": "2023-03-31T08:35:46.209Z"
   },
   {
    "duration": 33,
    "start_time": "2023-03-31T08:35:46.218Z"
   },
   {
    "duration": 4,
    "start_time": "2023-03-31T08:35:46.253Z"
   },
   {
    "duration": 9,
    "start_time": "2023-03-31T08:35:46.259Z"
   },
   {
    "duration": 5,
    "start_time": "2023-03-31T08:35:46.270Z"
   },
   {
    "duration": 70,
    "start_time": "2023-03-31T08:35:46.277Z"
   },
   {
    "duration": 35,
    "start_time": "2023-03-31T08:35:46.348Z"
   },
   {
    "duration": 17,
    "start_time": "2023-03-31T08:35:46.384Z"
   },
   {
    "duration": 55,
    "start_time": "2023-03-31T08:35:46.403Z"
   },
   {
    "duration": 208,
    "start_time": "2023-03-31T08:35:46.459Z"
   },
   {
    "duration": 59,
    "start_time": "2023-03-31T08:35:46.668Z"
   },
   {
    "duration": 292,
    "start_time": "2023-03-31T08:35:46.728Z"
   },
   {
    "duration": 21,
    "start_time": "2023-03-31T08:35:47.022Z"
   },
   {
    "duration": 16,
    "start_time": "2023-03-31T08:35:47.045Z"
   },
   {
    "duration": 15,
    "start_time": "2023-03-31T08:35:47.063Z"
   },
   {
    "duration": 9,
    "start_time": "2023-03-31T08:35:47.080Z"
   },
   {
    "duration": 70,
    "start_time": "2023-03-31T08:35:47.091Z"
   },
   {
    "duration": 123,
    "start_time": "2023-03-31T08:35:47.163Z"
   },
   {
    "duration": 84,
    "start_time": "2023-03-31T08:35:47.288Z"
   },
   {
    "duration": 107,
    "start_time": "2023-03-31T08:35:47.373Z"
   },
   {
    "duration": 5,
    "start_time": "2023-03-31T08:35:47.481Z"
   },
   {
    "duration": 113,
    "start_time": "2023-03-31T08:35:47.488Z"
   },
   {
    "duration": 7,
    "start_time": "2023-03-31T08:35:47.602Z"
   },
   {
    "duration": 13,
    "start_time": "2023-03-31T08:35:47.610Z"
   },
   {
    "duration": 120,
    "start_time": "2023-03-31T08:35:47.624Z"
   },
   {
    "duration": 10,
    "start_time": "2023-03-31T08:35:47.746Z"
   },
   {
    "duration": 125,
    "start_time": "2023-03-31T08:35:47.757Z"
   },
   {
    "duration": 123,
    "start_time": "2023-03-31T08:35:47.883Z"
   },
   {
    "duration": 163,
    "start_time": "2023-03-31T08:35:48.008Z"
   },
   {
    "duration": 11,
    "start_time": "2023-03-31T08:44:01.699Z"
   },
   {
    "duration": 10,
    "start_time": "2023-03-31T08:44:30.370Z"
   },
   {
    "duration": 2,
    "start_time": "2023-03-31T08:46:27.487Z"
   },
   {
    "duration": 10,
    "start_time": "2023-03-31T08:46:30.096Z"
   },
   {
    "duration": 5,
    "start_time": "2023-03-31T08:49:42.671Z"
   },
   {
    "duration": 177,
    "start_time": "2023-03-31T08:49:42.679Z"
   },
   {
    "duration": 7,
    "start_time": "2023-03-31T08:49:42.858Z"
   },
   {
    "duration": 17,
    "start_time": "2023-03-31T08:49:42.867Z"
   },
   {
    "duration": 13,
    "start_time": "2023-03-31T08:49:42.885Z"
   },
   {
    "duration": 79,
    "start_time": "2023-03-31T08:49:42.900Z"
   },
   {
    "duration": 3,
    "start_time": "2023-03-31T08:49:42.981Z"
   },
   {
    "duration": 14,
    "start_time": "2023-03-31T08:49:42.986Z"
   },
   {
    "duration": 8,
    "start_time": "2023-03-31T08:49:43.002Z"
   },
   {
    "duration": 84,
    "start_time": "2023-03-31T08:49:43.011Z"
   },
   {
    "duration": 68,
    "start_time": "2023-03-31T08:49:43.097Z"
   },
   {
    "duration": 8,
    "start_time": "2023-03-31T08:49:43.167Z"
   },
   {
    "duration": 28,
    "start_time": "2023-03-31T08:49:43.177Z"
   },
   {
    "duration": 4,
    "start_time": "2023-03-31T08:49:43.206Z"
   },
   {
    "duration": 25,
    "start_time": "2023-03-31T08:49:43.239Z"
   },
   {
    "duration": 20,
    "start_time": "2023-03-31T08:49:43.265Z"
   },
   {
    "duration": 8,
    "start_time": "2023-03-31T08:49:43.286Z"
   },
   {
    "duration": 8,
    "start_time": "2023-03-31T08:49:43.295Z"
   },
   {
    "duration": 1057,
    "start_time": "2023-03-31T08:49:43.305Z"
   },
   {
    "duration": 24,
    "start_time": "2023-03-31T08:49:44.364Z"
   },
   {
    "duration": 4,
    "start_time": "2023-03-31T08:49:44.389Z"
   },
   {
    "duration": 5,
    "start_time": "2023-03-31T08:49:44.395Z"
   },
   {
    "duration": 4,
    "start_time": "2023-03-31T08:49:44.401Z"
   },
   {
    "duration": 80,
    "start_time": "2023-03-31T08:49:44.406Z"
   },
   {
    "duration": 353,
    "start_time": "2023-03-31T08:49:44.487Z"
   },
   {
    "duration": 540,
    "start_time": "2023-03-31T08:49:44.842Z"
   },
   {
    "duration": 589,
    "start_time": "2023-03-31T08:49:45.383Z"
   },
   {
    "duration": 444,
    "start_time": "2023-03-31T08:49:45.974Z"
   },
   {
    "duration": 58,
    "start_time": "2023-03-31T08:49:46.420Z"
   },
   {
    "duration": 6,
    "start_time": "2023-03-31T08:49:46.480Z"
   },
   {
    "duration": 9,
    "start_time": "2023-03-31T08:49:46.487Z"
   },
   {
    "duration": 3,
    "start_time": "2023-03-31T08:49:46.498Z"
   },
   {
    "duration": 8,
    "start_time": "2023-03-31T08:49:46.503Z"
   },
   {
    "duration": 4,
    "start_time": "2023-03-31T08:49:46.541Z"
   },
   {
    "duration": 43,
    "start_time": "2023-03-31T08:49:46.547Z"
   },
   {
    "duration": 53,
    "start_time": "2023-03-31T08:49:46.592Z"
   },
   {
    "duration": 22,
    "start_time": "2023-03-31T08:49:46.647Z"
   },
   {
    "duration": 32,
    "start_time": "2023-03-31T08:49:46.671Z"
   },
   {
    "duration": 216,
    "start_time": "2023-03-31T08:49:46.704Z"
   },
   {
    "duration": 78,
    "start_time": "2023-03-31T08:49:46.922Z"
   },
   {
    "duration": 200,
    "start_time": "2023-03-31T08:49:47.001Z"
   },
   {
    "duration": 10,
    "start_time": "2023-03-31T08:49:47.205Z"
   },
   {
    "duration": 27,
    "start_time": "2023-03-31T08:49:47.217Z"
   },
   {
    "duration": 14,
    "start_time": "2023-03-31T08:49:47.249Z"
   },
   {
    "duration": 23,
    "start_time": "2023-03-31T08:49:47.265Z"
   },
   {
    "duration": 19,
    "start_time": "2023-03-31T08:49:47.289Z"
   },
   {
    "duration": 10,
    "start_time": "2023-03-31T08:49:47.310Z"
   },
   {
    "duration": 41,
    "start_time": "2023-03-31T08:49:47.321Z"
   },
   {
    "duration": 118,
    "start_time": "2023-03-31T08:49:47.363Z"
   },
   {
    "duration": 82,
    "start_time": "2023-03-31T08:49:47.483Z"
   },
   {
    "duration": 107,
    "start_time": "2023-03-31T08:49:47.566Z"
   },
   {
    "duration": 5,
    "start_time": "2023-03-31T08:49:47.674Z"
   },
   {
    "duration": 110,
    "start_time": "2023-03-31T08:49:47.680Z"
   },
   {
    "duration": 5,
    "start_time": "2023-03-31T08:49:47.792Z"
   },
   {
    "duration": 6,
    "start_time": "2023-03-31T08:49:47.799Z"
   },
   {
    "duration": 126,
    "start_time": "2023-03-31T08:49:47.806Z"
   },
   {
    "duration": 8,
    "start_time": "2023-03-31T08:49:47.940Z"
   },
   {
    "duration": 128,
    "start_time": "2023-03-31T08:49:47.950Z"
   },
   {
    "duration": 118,
    "start_time": "2023-03-31T08:49:48.080Z"
   },
   {
    "duration": 165,
    "start_time": "2023-03-31T08:49:48.199Z"
   },
   {
    "duration": 6,
    "start_time": "2023-03-31T08:58:06.969Z"
   },
   {
    "duration": 7,
    "start_time": "2023-03-31T08:58:14.315Z"
   },
   {
    "duration": 173,
    "start_time": "2023-03-31T08:58:14.344Z"
   },
   {
    "duration": 23,
    "start_time": "2023-03-31T08:58:14.520Z"
   },
   {
    "duration": 20,
    "start_time": "2023-03-31T08:58:14.545Z"
   },
   {
    "duration": 23,
    "start_time": "2023-03-31T08:58:14.567Z"
   },
   {
    "duration": 92,
    "start_time": "2023-03-31T08:58:14.594Z"
   },
   {
    "duration": 4,
    "start_time": "2023-03-31T08:58:14.687Z"
   },
   {
    "duration": 12,
    "start_time": "2023-03-31T08:58:14.692Z"
   },
   {
    "duration": 35,
    "start_time": "2023-03-31T08:58:14.705Z"
   },
   {
    "duration": 96,
    "start_time": "2023-03-31T08:58:14.743Z"
   },
   {
    "duration": 55,
    "start_time": "2023-03-31T08:58:14.841Z"
   },
   {
    "duration": 10,
    "start_time": "2023-03-31T08:58:14.898Z"
   },
   {
    "duration": 45,
    "start_time": "2023-03-31T08:58:14.909Z"
   },
   {
    "duration": 4,
    "start_time": "2023-03-31T08:58:14.955Z"
   },
   {
    "duration": 37,
    "start_time": "2023-03-31T08:58:14.963Z"
   },
   {
    "duration": 42,
    "start_time": "2023-03-31T08:58:15.002Z"
   },
   {
    "duration": 12,
    "start_time": "2023-03-31T08:58:15.046Z"
   },
   {
    "duration": 15,
    "start_time": "2023-03-31T08:58:15.060Z"
   },
   {
    "duration": 1183,
    "start_time": "2023-03-31T08:58:15.077Z"
   },
   {
    "duration": 38,
    "start_time": "2023-03-31T08:58:16.262Z"
   },
   {
    "duration": 6,
    "start_time": "2023-03-31T08:58:16.302Z"
   },
   {
    "duration": 6,
    "start_time": "2023-03-31T08:58:16.310Z"
   },
   {
    "duration": 6,
    "start_time": "2023-03-31T08:58:16.342Z"
   },
   {
    "duration": 49,
    "start_time": "2023-03-31T08:58:16.350Z"
   },
   {
    "duration": 260,
    "start_time": "2023-03-31T08:58:16.401Z"
   },
   {
    "duration": 563,
    "start_time": "2023-03-31T08:58:16.663Z"
   },
   {
    "duration": 587,
    "start_time": "2023-03-31T08:58:17.227Z"
   },
   {
    "duration": 492,
    "start_time": "2023-03-31T08:58:17.815Z"
   },
   {
    "duration": 86,
    "start_time": "2023-03-31T08:58:18.309Z"
   },
   {
    "duration": 8,
    "start_time": "2023-03-31T08:58:18.397Z"
   },
   {
    "duration": 14,
    "start_time": "2023-03-31T08:58:18.408Z"
   },
   {
    "duration": 8,
    "start_time": "2023-03-31T08:58:18.440Z"
   },
   {
    "duration": 7,
    "start_time": "2023-03-31T08:58:18.450Z"
   },
   {
    "duration": 4,
    "start_time": "2023-03-31T08:58:18.458Z"
   },
   {
    "duration": 39,
    "start_time": "2023-03-31T08:58:18.464Z"
   },
   {
    "duration": 66,
    "start_time": "2023-03-31T08:58:18.505Z"
   },
   {
    "duration": 19,
    "start_time": "2023-03-31T08:58:18.572Z"
   },
   {
    "duration": 53,
    "start_time": "2023-03-31T08:58:18.593Z"
   },
   {
    "duration": 220,
    "start_time": "2023-03-31T08:58:18.648Z"
   },
   {
    "duration": 58,
    "start_time": "2023-03-31T08:58:18.870Z"
   },
   {
    "duration": 176,
    "start_time": "2023-03-31T08:58:18.930Z"
   },
   {
    "duration": 10,
    "start_time": "2023-03-31T08:58:19.110Z"
   },
   {
    "duration": 26,
    "start_time": "2023-03-31T08:58:19.121Z"
   },
   {
    "duration": 23,
    "start_time": "2023-03-31T08:58:19.149Z"
   },
   {
    "duration": 5,
    "start_time": "2023-03-31T08:58:19.174Z"
   },
   {
    "duration": 12,
    "start_time": "2023-03-31T08:58:19.181Z"
   },
   {
    "duration": 13,
    "start_time": "2023-03-31T08:58:19.195Z"
   },
   {
    "duration": 64,
    "start_time": "2023-03-31T08:58:19.210Z"
   },
   {
    "duration": 145,
    "start_time": "2023-03-31T08:58:19.275Z"
   },
   {
    "duration": 97,
    "start_time": "2023-03-31T08:58:19.422Z"
   },
   {
    "duration": 105,
    "start_time": "2023-03-31T08:58:19.521Z"
   },
   {
    "duration": 16,
    "start_time": "2023-03-31T08:58:19.628Z"
   },
   {
    "duration": 108,
    "start_time": "2023-03-31T08:58:19.647Z"
   },
   {
    "duration": 7,
    "start_time": "2023-03-31T08:58:19.757Z"
   },
   {
    "duration": 6,
    "start_time": "2023-03-31T08:58:19.766Z"
   },
   {
    "duration": 178,
    "start_time": "2023-03-31T08:58:19.774Z"
   },
   {
    "duration": 9,
    "start_time": "2023-03-31T08:58:19.954Z"
   },
   {
    "duration": 131,
    "start_time": "2023-03-31T08:58:19.965Z"
   },
   {
    "duration": 132,
    "start_time": "2023-03-31T08:58:20.097Z"
   },
   {
    "duration": 163,
    "start_time": "2023-03-31T08:58:20.240Z"
   },
   {
    "duration": 3,
    "start_time": "2023-03-31T08:59:57.934Z"
   },
   {
    "duration": 66,
    "start_time": "2023-03-31T09:01:47.198Z"
   },
   {
    "duration": 269,
    "start_time": "2023-03-31T09:11:13.741Z"
   },
   {
    "duration": 6,
    "start_time": "2023-03-31T09:12:15.660Z"
   },
   {
    "duration": 221,
    "start_time": "2023-03-31T09:12:15.668Z"
   },
   {
    "duration": 7,
    "start_time": "2023-03-31T09:12:15.891Z"
   },
   {
    "duration": 19,
    "start_time": "2023-03-31T09:12:15.900Z"
   },
   {
    "duration": 42,
    "start_time": "2023-03-31T09:12:15.921Z"
   },
   {
    "duration": 63,
    "start_time": "2023-03-31T09:12:15.965Z"
   },
   {
    "duration": 15,
    "start_time": "2023-03-31T09:12:16.046Z"
   },
   {
    "duration": 7,
    "start_time": "2023-03-31T09:12:16.064Z"
   },
   {
    "duration": 7,
    "start_time": "2023-03-31T09:12:16.073Z"
   },
   {
    "duration": 95,
    "start_time": "2023-03-31T09:12:16.083Z"
   },
   {
    "duration": 93,
    "start_time": "2023-03-31T09:12:16.181Z"
   },
   {
    "duration": 18,
    "start_time": "2023-03-31T09:12:16.276Z"
   },
   {
    "duration": 61,
    "start_time": "2023-03-31T09:12:16.296Z"
   },
   {
    "duration": 8,
    "start_time": "2023-03-31T09:12:16.362Z"
   },
   {
    "duration": 31,
    "start_time": "2023-03-31T09:12:16.372Z"
   },
   {
    "duration": 51,
    "start_time": "2023-03-31T09:12:16.406Z"
   },
   {
    "duration": 7,
    "start_time": "2023-03-31T09:12:16.459Z"
   },
   {
    "duration": 7,
    "start_time": "2023-03-31T09:12:16.468Z"
   },
   {
    "duration": 1416,
    "start_time": "2023-03-31T09:12:16.476Z"
   },
   {
    "duration": 36,
    "start_time": "2023-03-31T09:12:17.894Z"
   },
   {
    "duration": 20,
    "start_time": "2023-03-31T09:12:17.940Z"
   },
   {
    "duration": 7,
    "start_time": "2023-03-31T09:12:17.962Z"
   },
   {
    "duration": 7,
    "start_time": "2023-03-31T09:12:17.971Z"
   },
   {
    "duration": 86,
    "start_time": "2023-03-31T09:12:17.980Z"
   },
   {
    "duration": 244,
    "start_time": "2023-03-31T09:12:18.067Z"
   },
   {
    "duration": 556,
    "start_time": "2023-03-31T09:12:18.313Z"
   },
   {
    "duration": 603,
    "start_time": "2023-03-31T09:12:18.871Z"
   },
   {
    "duration": 538,
    "start_time": "2023-03-31T09:12:19.477Z"
   },
   {
    "duration": 65,
    "start_time": "2023-03-31T09:12:20.016Z"
   },
   {
    "duration": 6,
    "start_time": "2023-03-31T09:12:20.083Z"
   },
   {
    "duration": 16,
    "start_time": "2023-03-31T09:12:20.092Z"
   },
   {
    "duration": 4,
    "start_time": "2023-03-31T09:12:20.110Z"
   },
   {
    "duration": 37,
    "start_time": "2023-03-31T09:12:20.116Z"
   },
   {
    "duration": 5,
    "start_time": "2023-03-31T09:12:20.154Z"
   },
   {
    "duration": 49,
    "start_time": "2023-03-31T09:12:20.160Z"
   },
   {
    "duration": 60,
    "start_time": "2023-03-31T09:12:20.211Z"
   },
   {
    "duration": 27,
    "start_time": "2023-03-31T09:12:20.273Z"
   },
   {
    "duration": 51,
    "start_time": "2023-03-31T09:12:20.302Z"
   },
   {
    "duration": 219,
    "start_time": "2023-03-31T09:12:20.354Z"
   },
   {
    "duration": 91,
    "start_time": "2023-03-31T09:12:20.575Z"
   },
   {
    "duration": 236,
    "start_time": "2023-03-31T09:12:20.668Z"
   },
   {
    "duration": 13,
    "start_time": "2023-03-31T09:12:20.906Z"
   },
   {
    "duration": 42,
    "start_time": "2023-03-31T09:12:20.921Z"
   },
   {
    "duration": 11,
    "start_time": "2023-03-31T09:12:20.964Z"
   },
   {
    "duration": 15,
    "start_time": "2023-03-31T09:12:20.977Z"
   },
   {
    "duration": 17,
    "start_time": "2023-03-31T09:12:20.994Z"
   },
   {
    "duration": 23,
    "start_time": "2023-03-31T09:12:21.014Z"
   },
   {
    "duration": 67,
    "start_time": "2023-03-31T09:12:21.039Z"
   },
   {
    "duration": 153,
    "start_time": "2023-03-31T09:12:21.108Z"
   },
   {
    "duration": 103,
    "start_time": "2023-03-31T09:12:21.263Z"
   },
   {
    "duration": 114,
    "start_time": "2023-03-31T09:12:21.368Z"
   },
   {
    "duration": 3,
    "start_time": "2023-03-31T09:12:21.484Z"
   },
   {
    "duration": 233,
    "start_time": "2023-03-31T09:12:21.488Z"
   },
   {
    "duration": 7,
    "start_time": "2023-03-31T09:12:21.723Z"
   },
   {
    "duration": 29,
    "start_time": "2023-03-31T09:12:21.732Z"
   },
   {
    "duration": 162,
    "start_time": "2023-03-31T09:12:21.763Z"
   },
   {
    "duration": 6,
    "start_time": "2023-03-31T09:12:21.927Z"
   },
   {
    "duration": 148,
    "start_time": "2023-03-31T09:12:21.944Z"
   },
   {
    "duration": 166,
    "start_time": "2023-03-31T09:12:22.093Z"
   },
   {
    "duration": 264,
    "start_time": "2023-03-31T09:12:22.261Z"
   },
   {
    "duration": 212,
    "start_time": "2023-03-31T10:20:34.604Z"
   },
   {
    "duration": 5,
    "start_time": "2023-03-31T10:20:37.798Z"
   },
   {
    "duration": 185,
    "start_time": "2023-03-31T10:20:37.805Z"
   },
   {
    "duration": 8,
    "start_time": "2023-03-31T10:20:37.992Z"
   },
   {
    "duration": 50,
    "start_time": "2023-03-31T10:20:38.001Z"
   },
   {
    "duration": 15,
    "start_time": "2023-03-31T10:20:38.055Z"
   },
   {
    "duration": 69,
    "start_time": "2023-03-31T10:20:38.071Z"
   },
   {
    "duration": 4,
    "start_time": "2023-03-31T10:20:38.144Z"
   },
   {
    "duration": 11,
    "start_time": "2023-03-31T10:20:38.150Z"
   },
   {
    "duration": 37,
    "start_time": "2023-03-31T10:20:38.162Z"
   },
   {
    "duration": 68,
    "start_time": "2023-03-31T10:20:38.200Z"
   },
   {
    "duration": 56,
    "start_time": "2023-03-31T10:20:38.271Z"
   },
   {
    "duration": 12,
    "start_time": "2023-03-31T10:20:38.329Z"
   },
   {
    "duration": 40,
    "start_time": "2023-03-31T10:20:38.343Z"
   },
   {
    "duration": 13,
    "start_time": "2023-03-31T10:20:38.384Z"
   },
   {
    "duration": 38,
    "start_time": "2023-03-31T10:20:38.399Z"
   },
   {
    "duration": 72,
    "start_time": "2023-03-31T10:20:38.439Z"
   },
   {
    "duration": 14,
    "start_time": "2023-03-31T10:20:38.513Z"
   },
   {
    "duration": 16,
    "start_time": "2023-03-31T10:20:38.529Z"
   },
   {
    "duration": 1144,
    "start_time": "2023-03-31T10:20:38.546Z"
   },
   {
    "duration": 24,
    "start_time": "2023-03-31T10:20:39.691Z"
   },
   {
    "duration": 4,
    "start_time": "2023-03-31T10:20:39.716Z"
   },
   {
    "duration": 10,
    "start_time": "2023-03-31T10:20:39.740Z"
   },
   {
    "duration": 5,
    "start_time": "2023-03-31T10:20:39.753Z"
   },
   {
    "duration": 43,
    "start_time": "2023-03-31T10:20:39.760Z"
   },
   {
    "duration": 246,
    "start_time": "2023-03-31T10:20:39.804Z"
   },
   {
    "duration": 536,
    "start_time": "2023-03-31T10:20:40.051Z"
   },
   {
    "duration": 574,
    "start_time": "2023-03-31T10:20:40.589Z"
   },
   {
    "duration": 501,
    "start_time": "2023-03-31T10:20:41.165Z"
   },
   {
    "duration": 43,
    "start_time": "2023-03-31T10:20:41.670Z"
   },
   {
    "duration": 25,
    "start_time": "2023-03-31T10:20:41.715Z"
   },
   {
    "duration": 14,
    "start_time": "2023-03-31T10:20:41.742Z"
   },
   {
    "duration": 5,
    "start_time": "2023-03-31T10:20:41.758Z"
   },
   {
    "duration": 15,
    "start_time": "2023-03-31T10:20:41.764Z"
   },
   {
    "duration": 6,
    "start_time": "2023-03-31T10:20:41.781Z"
   },
   {
    "duration": 65,
    "start_time": "2023-03-31T10:20:41.788Z"
   },
   {
    "duration": 35,
    "start_time": "2023-03-31T10:20:41.855Z"
   },
   {
    "duration": 17,
    "start_time": "2023-03-31T10:20:41.892Z"
   },
   {
    "duration": 56,
    "start_time": "2023-03-31T10:20:41.910Z"
   },
   {
    "duration": 195,
    "start_time": "2023-03-31T10:20:41.968Z"
   },
   {
    "duration": 56,
    "start_time": "2023-03-31T10:20:42.165Z"
   },
   {
    "duration": 173,
    "start_time": "2023-03-31T10:20:42.223Z"
   },
   {
    "duration": 9,
    "start_time": "2023-03-31T10:20:42.398Z"
   },
   {
    "duration": 16,
    "start_time": "2023-03-31T10:20:42.408Z"
   },
   {
    "duration": 21,
    "start_time": "2023-03-31T10:20:42.425Z"
   },
   {
    "duration": 11,
    "start_time": "2023-03-31T10:20:42.448Z"
   },
   {
    "duration": 19,
    "start_time": "2023-03-31T10:20:42.461Z"
   },
   {
    "duration": 17,
    "start_time": "2023-03-31T10:20:42.482Z"
   },
   {
    "duration": 61,
    "start_time": "2023-03-31T10:20:42.502Z"
   },
   {
    "duration": 120,
    "start_time": "2023-03-31T10:20:42.564Z"
   },
   {
    "duration": 85,
    "start_time": "2023-03-31T10:20:42.685Z"
   },
   {
    "duration": 104,
    "start_time": "2023-03-31T10:20:42.772Z"
   },
   {
    "duration": 3,
    "start_time": "2023-03-31T10:20:42.878Z"
   },
   {
    "duration": 233,
    "start_time": "2023-03-31T10:20:42.882Z"
   },
   {
    "duration": 8,
    "start_time": "2023-03-31T10:20:43.116Z"
   },
   {
    "duration": 6,
    "start_time": "2023-03-31T10:20:43.126Z"
   },
   {
    "duration": 144,
    "start_time": "2023-03-31T10:20:43.140Z"
   },
   {
    "duration": 6,
    "start_time": "2023-03-31T10:20:43.286Z"
   },
   {
    "duration": 160,
    "start_time": "2023-03-31T10:20:43.293Z"
   },
   {
    "duration": 166,
    "start_time": "2023-03-31T10:20:43.455Z"
   },
   {
    "duration": 245,
    "start_time": "2023-03-31T10:20:43.623Z"
   },
   {
    "duration": 98,
    "start_time": "2023-03-31T14:13:03.243Z"
   },
   {
    "duration": 6,
    "start_time": "2023-03-31T14:13:20.841Z"
   },
   {
    "duration": 40,
    "start_time": "2023-03-31T14:27:42.106Z"
   },
   {
    "duration": 5,
    "start_time": "2023-03-31T14:29:13.972Z"
   },
   {
    "duration": 188,
    "start_time": "2023-03-31T14:29:13.980Z"
   },
   {
    "duration": 8,
    "start_time": "2023-03-31T14:29:14.170Z"
   },
   {
    "duration": 32,
    "start_time": "2023-03-31T14:29:14.180Z"
   },
   {
    "duration": 27,
    "start_time": "2023-03-31T14:29:14.214Z"
   },
   {
    "duration": 61,
    "start_time": "2023-03-31T14:29:14.242Z"
   },
   {
    "duration": 4,
    "start_time": "2023-03-31T14:29:14.304Z"
   },
   {
    "duration": 35,
    "start_time": "2023-03-31T14:29:14.310Z"
   },
   {
    "duration": 9,
    "start_time": "2023-03-31T14:29:14.347Z"
   },
   {
    "duration": 86,
    "start_time": "2023-03-31T14:29:14.357Z"
   },
   {
    "duration": 58,
    "start_time": "2023-03-31T14:29:14.446Z"
   },
   {
    "duration": 10,
    "start_time": "2023-03-31T14:29:14.506Z"
   },
   {
    "duration": 45,
    "start_time": "2023-03-31T14:29:14.517Z"
   },
   {
    "duration": 3,
    "start_time": "2023-03-31T14:29:14.565Z"
   },
   {
    "duration": 21,
    "start_time": "2023-03-31T14:29:14.570Z"
   },
   {
    "duration": 22,
    "start_time": "2023-03-31T14:29:14.593Z"
   },
   {
    "duration": 30,
    "start_time": "2023-03-31T14:29:14.616Z"
   },
   {
    "duration": 9,
    "start_time": "2023-03-31T14:29:14.647Z"
   },
   {
    "duration": 1177,
    "start_time": "2023-03-31T14:29:14.658Z"
   },
   {
    "duration": 27,
    "start_time": "2023-03-31T14:29:15.836Z"
   },
   {
    "duration": 6,
    "start_time": "2023-03-31T14:29:15.865Z"
   },
   {
    "duration": 7,
    "start_time": "2023-03-31T14:29:15.873Z"
   },
   {
    "duration": 9,
    "start_time": "2023-03-31T14:29:15.882Z"
   },
   {
    "duration": 78,
    "start_time": "2023-03-31T14:29:15.893Z"
   },
   {
    "duration": 217,
    "start_time": "2023-03-31T14:29:15.973Z"
   },
   {
    "duration": 535,
    "start_time": "2023-03-31T14:29:16.192Z"
   },
   {
    "duration": 649,
    "start_time": "2023-03-31T14:29:16.728Z"
   },
   {
    "duration": 539,
    "start_time": "2023-03-31T14:29:17.379Z"
   },
   {
    "duration": 50,
    "start_time": "2023-03-31T14:29:17.922Z"
   },
   {
    "duration": 7,
    "start_time": "2023-03-31T14:29:17.974Z"
   },
   {
    "duration": 10,
    "start_time": "2023-03-31T14:29:17.983Z"
   },
   {
    "duration": 4,
    "start_time": "2023-03-31T14:29:17.994Z"
   },
   {
    "duration": 8,
    "start_time": "2023-03-31T14:29:18.000Z"
   },
   {
    "duration": 5,
    "start_time": "2023-03-31T14:29:18.039Z"
   },
   {
    "duration": 42,
    "start_time": "2023-03-31T14:29:18.045Z"
   },
   {
    "duration": 52,
    "start_time": "2023-03-31T14:29:18.089Z"
   },
   {
    "duration": 19,
    "start_time": "2023-03-31T14:29:18.142Z"
   },
   {
    "duration": 32,
    "start_time": "2023-03-31T14:29:18.163Z"
   },
   {
    "duration": 209,
    "start_time": "2023-03-31T14:29:18.197Z"
   },
   {
    "duration": 70,
    "start_time": "2023-03-31T14:29:18.408Z"
   },
   {
    "duration": 186,
    "start_time": "2023-03-31T14:29:18.480Z"
   },
   {
    "duration": 11,
    "start_time": "2023-03-31T14:29:18.667Z"
   },
   {
    "duration": 16,
    "start_time": "2023-03-31T14:29:18.680Z"
   },
   {
    "duration": 29,
    "start_time": "2023-03-31T14:29:18.698Z"
   },
   {
    "duration": 7,
    "start_time": "2023-03-31T14:29:18.729Z"
   },
   {
    "duration": 15,
    "start_time": "2023-03-31T14:29:18.737Z"
   },
   {
    "duration": 9,
    "start_time": "2023-03-31T14:29:18.754Z"
   },
   {
    "duration": 39,
    "start_time": "2023-03-31T14:29:18.764Z"
   },
   {
    "duration": 142,
    "start_time": "2023-03-31T14:29:18.805Z"
   },
   {
    "duration": 80,
    "start_time": "2023-03-31T14:29:18.948Z"
   },
   {
    "duration": 114,
    "start_time": "2023-03-31T14:29:19.040Z"
   },
   {
    "duration": 3,
    "start_time": "2023-03-31T14:29:19.155Z"
   },
   {
    "duration": 112,
    "start_time": "2023-03-31T14:29:19.160Z"
   },
   {
    "duration": 7,
    "start_time": "2023-03-31T14:29:19.273Z"
   },
   {
    "duration": 18,
    "start_time": "2023-03-31T14:29:19.281Z"
   },
   {
    "duration": 124,
    "start_time": "2023-03-31T14:29:19.301Z"
   },
   {
    "duration": 13,
    "start_time": "2023-03-31T14:29:19.427Z"
   },
   {
    "duration": 155,
    "start_time": "2023-03-31T14:29:19.442Z"
   },
   {
    "duration": 141,
    "start_time": "2023-03-31T14:29:19.599Z"
   },
   {
    "duration": 164,
    "start_time": "2023-03-31T14:29:19.742Z"
   },
   {
    "duration": 5,
    "start_time": "2023-03-31T14:31:41.236Z"
   },
   {
    "duration": 184,
    "start_time": "2023-03-31T14:31:41.243Z"
   },
   {
    "duration": 8,
    "start_time": "2023-03-31T14:31:41.440Z"
   },
   {
    "duration": 19,
    "start_time": "2023-03-31T14:31:41.450Z"
   },
   {
    "duration": 14,
    "start_time": "2023-03-31T14:31:41.472Z"
   },
   {
    "duration": 91,
    "start_time": "2023-03-31T14:31:41.488Z"
   },
   {
    "duration": 3,
    "start_time": "2023-03-31T14:31:41.581Z"
   },
   {
    "duration": 8,
    "start_time": "2023-03-31T14:31:41.586Z"
   },
   {
    "duration": 9,
    "start_time": "2023-03-31T14:31:41.596Z"
   },
   {
    "duration": 103,
    "start_time": "2023-03-31T14:31:41.606Z"
   },
   {
    "duration": 72,
    "start_time": "2023-03-31T14:31:41.711Z"
   },
   {
    "duration": 10,
    "start_time": "2023-03-31T14:31:41.784Z"
   },
   {
    "duration": 27,
    "start_time": "2023-03-31T14:31:41.795Z"
   },
   {
    "duration": 4,
    "start_time": "2023-03-31T14:31:41.840Z"
   },
   {
    "duration": 22,
    "start_time": "2023-03-31T14:31:41.845Z"
   },
   {
    "duration": 23,
    "start_time": "2023-03-31T14:31:41.868Z"
   },
   {
    "duration": 11,
    "start_time": "2023-03-31T14:31:41.893Z"
   },
   {
    "duration": 11,
    "start_time": "2023-03-31T14:31:41.906Z"
   },
   {
    "duration": 1169,
    "start_time": "2023-03-31T14:31:41.941Z"
   },
   {
    "duration": 32,
    "start_time": "2023-03-31T14:31:43.112Z"
   },
   {
    "duration": 6,
    "start_time": "2023-03-31T14:31:43.146Z"
   },
   {
    "duration": 9,
    "start_time": "2023-03-31T14:31:43.154Z"
   },
   {
    "duration": 18,
    "start_time": "2023-03-31T14:31:43.165Z"
   },
   {
    "duration": 58,
    "start_time": "2023-03-31T14:31:43.184Z"
   },
   {
    "duration": 215,
    "start_time": "2023-03-31T14:31:43.244Z"
   },
   {
    "duration": 503,
    "start_time": "2023-03-31T14:31:43.461Z"
   },
   {
    "duration": 605,
    "start_time": "2023-03-31T14:31:43.965Z"
   },
   {
    "duration": 531,
    "start_time": "2023-03-31T14:31:44.571Z"
   },
   {
    "duration": 54,
    "start_time": "2023-03-31T14:31:45.106Z"
   },
   {
    "duration": 6,
    "start_time": "2023-03-31T14:31:45.162Z"
   },
   {
    "duration": 13,
    "start_time": "2023-03-31T14:31:45.169Z"
   },
   {
    "duration": 5,
    "start_time": "2023-03-31T14:31:45.184Z"
   },
   {
    "duration": 10,
    "start_time": "2023-03-31T14:31:45.190Z"
   },
   {
    "duration": 3,
    "start_time": "2023-03-31T14:31:45.202Z"
   },
   {
    "duration": 64,
    "start_time": "2023-03-31T14:31:45.207Z"
   },
   {
    "duration": 34,
    "start_time": "2023-03-31T14:31:45.273Z"
   },
   {
    "duration": 37,
    "start_time": "2023-03-31T14:31:45.309Z"
   },
   {
    "duration": 31,
    "start_time": "2023-03-31T14:31:45.348Z"
   },
   {
    "duration": 212,
    "start_time": "2023-03-31T14:31:45.380Z"
   },
   {
    "duration": 66,
    "start_time": "2023-03-31T14:31:45.594Z"
   },
   {
    "duration": 173,
    "start_time": "2023-03-31T14:31:45.662Z"
   },
   {
    "duration": 12,
    "start_time": "2023-03-31T14:31:45.839Z"
   },
   {
    "duration": 13,
    "start_time": "2023-03-31T14:31:45.852Z"
   },
   {
    "duration": 13,
    "start_time": "2023-03-31T14:31:45.867Z"
   },
   {
    "duration": 4,
    "start_time": "2023-03-31T14:31:45.882Z"
   },
   {
    "duration": 28,
    "start_time": "2023-03-31T14:31:45.888Z"
   },
   {
    "duration": 25,
    "start_time": "2023-03-31T14:31:45.918Z"
   },
   {
    "duration": 34,
    "start_time": "2023-03-31T14:31:45.945Z"
   },
   {
    "duration": 132,
    "start_time": "2023-03-31T14:31:45.980Z"
   },
   {
    "duration": 90,
    "start_time": "2023-03-31T14:31:46.114Z"
   },
   {
    "duration": 134,
    "start_time": "2023-03-31T14:31:46.206Z"
   },
   {
    "duration": 3,
    "start_time": "2023-03-31T14:31:46.341Z"
   },
   {
    "duration": 126,
    "start_time": "2023-03-31T14:31:46.345Z"
   },
   {
    "duration": 8,
    "start_time": "2023-03-31T14:31:46.473Z"
   },
   {
    "duration": 7,
    "start_time": "2023-03-31T14:31:46.483Z"
   },
   {
    "duration": 142,
    "start_time": "2023-03-31T14:31:46.492Z"
   },
   {
    "duration": 156,
    "start_time": "2023-03-31T14:31:46.640Z"
   },
   {
    "duration": 161,
    "start_time": "2023-03-31T14:31:46.798Z"
   },
   {
    "duration": 170,
    "start_time": "2023-03-31T14:31:46.960Z"
   },
   {
    "duration": 1314,
    "start_time": "2023-03-31T14:32:11.005Z"
   },
   {
    "duration": 174,
    "start_time": "2023-03-31T14:32:12.321Z"
   },
   {
    "duration": 13,
    "start_time": "2023-03-31T14:32:12.496Z"
   },
   {
    "duration": 30,
    "start_time": "2023-03-31T14:32:12.512Z"
   },
   {
    "duration": 15,
    "start_time": "2023-03-31T14:32:12.544Z"
   },
   {
    "duration": 85,
    "start_time": "2023-03-31T14:32:12.561Z"
   },
   {
    "duration": 4,
    "start_time": "2023-03-31T14:32:12.647Z"
   },
   {
    "duration": 11,
    "start_time": "2023-03-31T14:32:12.652Z"
   },
   {
    "duration": 14,
    "start_time": "2023-03-31T14:32:12.664Z"
   },
   {
    "duration": 105,
    "start_time": "2023-03-31T14:32:12.681Z"
   },
   {
    "duration": 63,
    "start_time": "2023-03-31T14:32:12.788Z"
   },
   {
    "duration": 17,
    "start_time": "2023-03-31T14:32:12.853Z"
   },
   {
    "duration": 27,
    "start_time": "2023-03-31T14:32:12.872Z"
   },
   {
    "duration": 4,
    "start_time": "2023-03-31T14:32:12.901Z"
   },
   {
    "duration": 39,
    "start_time": "2023-03-31T14:32:12.906Z"
   },
   {
    "duration": 21,
    "start_time": "2023-03-31T14:32:12.947Z"
   },
   {
    "duration": 8,
    "start_time": "2023-03-31T14:32:12.970Z"
   },
   {
    "duration": 8,
    "start_time": "2023-03-31T14:32:12.980Z"
   },
   {
    "duration": 1176,
    "start_time": "2023-03-31T14:32:12.990Z"
   },
   {
    "duration": 29,
    "start_time": "2023-03-31T14:32:14.168Z"
   },
   {
    "duration": 6,
    "start_time": "2023-03-31T14:32:14.199Z"
   },
   {
    "duration": 33,
    "start_time": "2023-03-31T14:32:14.207Z"
   },
   {
    "duration": 34,
    "start_time": "2023-03-31T14:32:14.242Z"
   },
   {
    "duration": 86,
    "start_time": "2023-03-31T14:32:14.278Z"
   },
   {
    "duration": 247,
    "start_time": "2023-03-31T14:32:14.365Z"
   },
   {
    "duration": 597,
    "start_time": "2023-03-31T14:32:14.614Z"
   },
   {
    "duration": 760,
    "start_time": "2023-03-31T14:32:15.214Z"
   },
   {
    "duration": 391,
    "start_time": "2023-03-31T14:32:15.979Z"
   },
   {
    "duration": 57,
    "start_time": "2023-03-31T14:32:16.372Z"
   },
   {
    "duration": 6,
    "start_time": "2023-03-31T14:32:16.431Z"
   },
   {
    "duration": 11,
    "start_time": "2023-03-31T14:32:16.440Z"
   },
   {
    "duration": 4,
    "start_time": "2023-03-31T14:32:16.453Z"
   },
   {
    "duration": 9,
    "start_time": "2023-03-31T14:32:16.458Z"
   },
   {
    "duration": 3,
    "start_time": "2023-03-31T14:32:16.469Z"
   },
   {
    "duration": 73,
    "start_time": "2023-03-31T14:32:16.474Z"
   },
   {
    "duration": 34,
    "start_time": "2023-03-31T14:32:16.549Z"
   },
   {
    "duration": 19,
    "start_time": "2023-03-31T14:32:16.584Z"
   },
   {
    "duration": 59,
    "start_time": "2023-03-31T14:32:16.606Z"
   },
   {
    "duration": 197,
    "start_time": "2023-03-31T14:32:16.667Z"
   },
   {
    "duration": 74,
    "start_time": "2023-03-31T14:32:16.866Z"
   },
   {
    "duration": 182,
    "start_time": "2023-03-31T14:32:16.942Z"
   },
   {
    "duration": 15,
    "start_time": "2023-03-31T14:32:17.126Z"
   },
   {
    "duration": 29,
    "start_time": "2023-03-31T14:32:17.143Z"
   },
   {
    "duration": 12,
    "start_time": "2023-03-31T14:32:17.174Z"
   },
   {
    "duration": 3,
    "start_time": "2023-03-31T14:32:17.188Z"
   },
   {
    "duration": 14,
    "start_time": "2023-03-31T14:32:17.193Z"
   },
   {
    "duration": 43,
    "start_time": "2023-03-31T14:32:17.208Z"
   },
   {
    "duration": 40,
    "start_time": "2023-03-31T14:32:17.252Z"
   },
   {
    "duration": 275,
    "start_time": "2023-03-31T14:32:17.294Z"
   },
   {
    "duration": 102,
    "start_time": "2023-03-31T14:32:17.571Z"
   },
   {
    "duration": 140,
    "start_time": "2023-03-31T14:32:17.675Z"
   },
   {
    "duration": 3,
    "start_time": "2023-03-31T14:32:17.817Z"
   },
   {
    "duration": 142,
    "start_time": "2023-03-31T14:32:17.822Z"
   },
   {
    "duration": 6,
    "start_time": "2023-03-31T14:32:17.965Z"
   },
   {
    "duration": 6,
    "start_time": "2023-03-31T14:32:17.973Z"
   },
   {
    "duration": 159,
    "start_time": "2023-03-31T14:32:17.981Z"
   },
   {
    "duration": 169,
    "start_time": "2023-03-31T14:32:18.142Z"
   },
   {
    "duration": 171,
    "start_time": "2023-03-31T14:32:18.312Z"
   },
   {
    "duration": 226,
    "start_time": "2023-03-31T14:32:18.485Z"
   },
   {
    "duration": 111,
    "start_time": "2023-03-31T14:35:43.608Z"
   },
   {
    "duration": 5,
    "start_time": "2023-03-31T14:35:51.673Z"
   },
   {
    "duration": 224,
    "start_time": "2023-03-31T14:35:51.680Z"
   },
   {
    "duration": 8,
    "start_time": "2023-03-31T14:35:51.906Z"
   },
   {
    "duration": 36,
    "start_time": "2023-03-31T14:35:51.916Z"
   },
   {
    "duration": 30,
    "start_time": "2023-03-31T14:35:51.953Z"
   },
   {
    "duration": 71,
    "start_time": "2023-03-31T14:35:51.985Z"
   },
   {
    "duration": 4,
    "start_time": "2023-03-31T14:35:52.058Z"
   },
   {
    "duration": 18,
    "start_time": "2023-03-31T14:35:52.063Z"
   },
   {
    "duration": 28,
    "start_time": "2023-03-31T14:35:52.083Z"
   },
   {
    "duration": 73,
    "start_time": "2023-03-31T14:35:52.113Z"
   },
   {
    "duration": 60,
    "start_time": "2023-03-31T14:35:52.188Z"
   },
   {
    "duration": 17,
    "start_time": "2023-03-31T14:35:52.250Z"
   },
   {
    "duration": 30,
    "start_time": "2023-03-31T14:35:52.269Z"
   },
   {
    "duration": 4,
    "start_time": "2023-03-31T14:35:52.301Z"
   },
   {
    "duration": 39,
    "start_time": "2023-03-31T14:35:52.307Z"
   },
   {
    "duration": 23,
    "start_time": "2023-03-31T14:35:52.347Z"
   },
   {
    "duration": 16,
    "start_time": "2023-03-31T14:35:52.372Z"
   },
   {
    "duration": 13,
    "start_time": "2023-03-31T14:35:52.389Z"
   },
   {
    "duration": 1218,
    "start_time": "2023-03-31T14:35:52.404Z"
   },
   {
    "duration": 33,
    "start_time": "2023-03-31T14:35:53.624Z"
   },
   {
    "duration": 6,
    "start_time": "2023-03-31T14:35:53.659Z"
   },
   {
    "duration": 6,
    "start_time": "2023-03-31T14:35:53.667Z"
   },
   {
    "duration": 4,
    "start_time": "2023-03-31T14:35:53.675Z"
   },
   {
    "duration": 75,
    "start_time": "2023-03-31T14:35:53.684Z"
   },
   {
    "duration": 224,
    "start_time": "2023-03-31T14:35:53.761Z"
   },
   {
    "duration": 531,
    "start_time": "2023-03-31T14:35:53.987Z"
   },
   {
    "duration": 770,
    "start_time": "2023-03-31T14:35:54.520Z"
   },
   {
    "duration": 361,
    "start_time": "2023-03-31T14:35:55.292Z"
   },
   {
    "duration": 50,
    "start_time": "2023-03-31T14:35:55.655Z"
   },
   {
    "duration": 7,
    "start_time": "2023-03-31T14:35:55.707Z"
   },
   {
    "duration": 32,
    "start_time": "2023-03-31T14:35:55.716Z"
   },
   {
    "duration": 4,
    "start_time": "2023-03-31T14:35:55.750Z"
   },
   {
    "duration": 11,
    "start_time": "2023-03-31T14:35:55.756Z"
   },
   {
    "duration": 4,
    "start_time": "2023-03-31T14:35:55.769Z"
   },
   {
    "duration": 68,
    "start_time": "2023-03-31T14:35:55.774Z"
   },
   {
    "duration": 34,
    "start_time": "2023-03-31T14:35:55.844Z"
   },
   {
    "duration": 18,
    "start_time": "2023-03-31T14:35:55.880Z"
   },
   {
    "duration": 58,
    "start_time": "2023-03-31T14:35:55.900Z"
   },
   {
    "duration": 204,
    "start_time": "2023-03-31T14:35:55.960Z"
   },
   {
    "duration": 89,
    "start_time": "2023-03-31T14:35:56.166Z"
   },
   {
    "duration": 209,
    "start_time": "2023-03-31T14:35:56.257Z"
   },
   {
    "duration": 12,
    "start_time": "2023-03-31T14:35:56.468Z"
   },
   {
    "duration": 14,
    "start_time": "2023-03-31T14:35:56.481Z"
   },
   {
    "duration": 12,
    "start_time": "2023-03-31T14:35:56.496Z"
   },
   {
    "duration": 31,
    "start_time": "2023-03-31T14:35:56.510Z"
   },
   {
    "duration": 17,
    "start_time": "2023-03-31T14:35:56.543Z"
   },
   {
    "duration": 11,
    "start_time": "2023-03-31T14:35:56.562Z"
   },
   {
    "duration": 37,
    "start_time": "2023-03-31T14:35:56.574Z"
   },
   {
    "duration": 136,
    "start_time": "2023-03-31T14:35:56.639Z"
   },
   {
    "duration": 89,
    "start_time": "2023-03-31T14:35:56.777Z"
   },
   {
    "duration": 115,
    "start_time": "2023-03-31T14:35:56.867Z"
   },
   {
    "duration": 3,
    "start_time": "2023-03-31T14:35:56.984Z"
   },
   {
    "duration": 152,
    "start_time": "2023-03-31T14:35:56.988Z"
   },
   {
    "duration": 8,
    "start_time": "2023-03-31T14:35:57.142Z"
   },
   {
    "duration": 23,
    "start_time": "2023-03-31T14:35:57.152Z"
   },
   {
    "duration": 154,
    "start_time": "2023-03-31T14:35:57.176Z"
   },
   {
    "duration": 143,
    "start_time": "2023-03-31T14:35:57.332Z"
   },
   {
    "duration": 141,
    "start_time": "2023-03-31T14:35:57.477Z"
   },
   {
    "duration": 190,
    "start_time": "2023-03-31T14:35:57.619Z"
   },
   {
    "duration": 1264,
    "start_time": "2023-03-31T14:38:08.862Z"
   },
   {
    "duration": 191,
    "start_time": "2023-03-31T14:38:10.128Z"
   },
   {
    "duration": 19,
    "start_time": "2023-03-31T14:38:10.321Z"
   },
   {
    "duration": 21,
    "start_time": "2023-03-31T14:38:10.343Z"
   },
   {
    "duration": 16,
    "start_time": "2023-03-31T14:38:10.366Z"
   },
   {
    "duration": 96,
    "start_time": "2023-03-31T14:38:10.383Z"
   },
   {
    "duration": 3,
    "start_time": "2023-03-31T14:38:10.481Z"
   },
   {
    "duration": 9,
    "start_time": "2023-03-31T14:38:10.486Z"
   },
   {
    "duration": 10,
    "start_time": "2023-03-31T14:38:10.496Z"
   },
   {
    "duration": 100,
    "start_time": "2023-03-31T14:38:10.508Z"
   },
   {
    "duration": 73,
    "start_time": "2023-03-31T14:38:10.610Z"
   },
   {
    "duration": 10,
    "start_time": "2023-03-31T14:38:10.685Z"
   },
   {
    "duration": 48,
    "start_time": "2023-03-31T14:38:10.697Z"
   },
   {
    "duration": 4,
    "start_time": "2023-03-31T14:38:10.747Z"
   },
   {
    "duration": 26,
    "start_time": "2023-03-31T14:38:10.753Z"
   },
   {
    "duration": 24,
    "start_time": "2023-03-31T14:38:10.781Z"
   },
   {
    "duration": 16,
    "start_time": "2023-03-31T14:38:10.807Z"
   },
   {
    "duration": 21,
    "start_time": "2023-03-31T14:38:10.825Z"
   },
   {
    "duration": 1159,
    "start_time": "2023-03-31T14:38:10.849Z"
   },
   {
    "duration": 40,
    "start_time": "2023-03-31T14:38:12.010Z"
   },
   {
    "duration": 6,
    "start_time": "2023-03-31T14:38:12.052Z"
   },
   {
    "duration": 16,
    "start_time": "2023-03-31T14:38:12.060Z"
   },
   {
    "duration": 19,
    "start_time": "2023-03-31T14:38:12.078Z"
   },
   {
    "duration": 57,
    "start_time": "2023-03-31T14:38:12.099Z"
   },
   {
    "duration": 235,
    "start_time": "2023-03-31T14:38:12.158Z"
   },
   {
    "duration": 590,
    "start_time": "2023-03-31T14:38:12.395Z"
   },
   {
    "duration": 754,
    "start_time": "2023-03-31T14:38:12.986Z"
   },
   {
    "duration": 366,
    "start_time": "2023-03-31T14:38:13.744Z"
   },
   {
    "duration": 49,
    "start_time": "2023-03-31T14:38:14.112Z"
   },
   {
    "duration": 6,
    "start_time": "2023-03-31T14:38:14.163Z"
   },
   {
    "duration": 17,
    "start_time": "2023-03-31T14:38:14.171Z"
   },
   {
    "duration": 4,
    "start_time": "2023-03-31T14:38:14.190Z"
   },
   {
    "duration": 10,
    "start_time": "2023-03-31T14:38:14.195Z"
   },
   {
    "duration": 3,
    "start_time": "2023-03-31T14:38:14.207Z"
   },
   {
    "duration": 65,
    "start_time": "2023-03-31T14:38:14.212Z"
   },
   {
    "duration": 34,
    "start_time": "2023-03-31T14:38:14.278Z"
   },
   {
    "duration": 33,
    "start_time": "2023-03-31T14:38:14.314Z"
   },
   {
    "duration": 36,
    "start_time": "2023-03-31T14:38:14.349Z"
   },
   {
    "duration": 207,
    "start_time": "2023-03-31T14:38:14.387Z"
   },
   {
    "duration": 72,
    "start_time": "2023-03-31T14:38:14.595Z"
   },
   {
    "duration": 179,
    "start_time": "2023-03-31T14:38:14.668Z"
   },
   {
    "duration": 10,
    "start_time": "2023-03-31T14:38:14.849Z"
   },
   {
    "duration": 37,
    "start_time": "2023-03-31T14:38:14.861Z"
   },
   {
    "duration": 10,
    "start_time": "2023-03-31T14:38:14.899Z"
   },
   {
    "duration": 5,
    "start_time": "2023-03-31T14:38:14.911Z"
   },
   {
    "duration": 24,
    "start_time": "2023-03-31T14:38:14.918Z"
   },
   {
    "duration": 16,
    "start_time": "2023-03-31T14:38:14.943Z"
   },
   {
    "duration": 42,
    "start_time": "2023-03-31T14:38:14.960Z"
   },
   {
    "duration": 252,
    "start_time": "2023-03-31T14:38:15.003Z"
   },
   {
    "duration": 95,
    "start_time": "2023-03-31T14:38:15.257Z"
   },
   {
    "duration": 121,
    "start_time": "2023-03-31T14:38:15.353Z"
   },
   {
    "duration": 2,
    "start_time": "2023-03-31T14:38:15.475Z"
   },
   {
    "duration": 115,
    "start_time": "2023-03-31T14:38:15.479Z"
   },
   {
    "duration": 6,
    "start_time": "2023-03-31T14:38:15.596Z"
   },
   {
    "duration": 12,
    "start_time": "2023-03-31T14:38:15.603Z"
   },
   {
    "duration": 133,
    "start_time": "2023-03-31T14:38:15.616Z"
   },
   {
    "duration": 143,
    "start_time": "2023-03-31T14:38:15.751Z"
   },
   {
    "duration": 146,
    "start_time": "2023-03-31T14:38:15.895Z"
   },
   {
    "duration": 203,
    "start_time": "2023-03-31T14:38:16.043Z"
   },
   {
    "duration": 50,
    "start_time": "2023-03-31T14:43:40.088Z"
   },
   {
    "duration": 1275,
    "start_time": "2023-03-31T21:18:21.492Z"
   },
   {
    "duration": 188,
    "start_time": "2023-03-31T21:18:22.768Z"
   },
   {
    "duration": 11,
    "start_time": "2023-03-31T21:18:22.958Z"
   },
   {
    "duration": 36,
    "start_time": "2023-03-31T21:18:22.970Z"
   },
   {
    "duration": 18,
    "start_time": "2023-03-31T21:18:23.008Z"
   },
   {
    "duration": 90,
    "start_time": "2023-03-31T21:18:23.027Z"
   },
   {
    "duration": 3,
    "start_time": "2023-03-31T21:18:23.118Z"
   },
   {
    "duration": 20,
    "start_time": "2023-03-31T21:18:23.123Z"
   },
   {
    "duration": 13,
    "start_time": "2023-03-31T21:18:23.145Z"
   },
   {
    "duration": 75,
    "start_time": "2023-03-31T21:18:23.160Z"
   },
   {
    "duration": 75,
    "start_time": "2023-03-31T21:18:23.236Z"
   },
   {
    "duration": 22,
    "start_time": "2023-03-31T21:18:23.313Z"
   },
   {
    "duration": 29,
    "start_time": "2023-03-31T21:18:23.336Z"
   },
   {
    "duration": 4,
    "start_time": "2023-03-31T21:18:23.367Z"
   },
   {
    "duration": 20,
    "start_time": "2023-03-31T21:18:23.373Z"
   },
   {
    "duration": 21,
    "start_time": "2023-03-31T21:18:23.395Z"
   },
   {
    "duration": 20,
    "start_time": "2023-03-31T21:18:23.417Z"
   },
   {
    "duration": 6,
    "start_time": "2023-03-31T21:18:23.439Z"
   },
   {
    "duration": 1204,
    "start_time": "2023-03-31T21:18:23.447Z"
   },
   {
    "duration": 31,
    "start_time": "2023-03-31T21:18:24.653Z"
   },
   {
    "duration": 6,
    "start_time": "2023-03-31T21:18:24.686Z"
   },
   {
    "duration": 24,
    "start_time": "2023-03-31T21:18:24.694Z"
   },
   {
    "duration": 15,
    "start_time": "2023-03-31T21:18:24.721Z"
   },
   {
    "duration": 60,
    "start_time": "2023-03-31T21:18:24.738Z"
   },
   {
    "duration": 211,
    "start_time": "2023-03-31T21:18:24.800Z"
   },
   {
    "duration": 591,
    "start_time": "2023-03-31T21:18:25.013Z"
   },
   {
    "duration": 693,
    "start_time": "2023-03-31T21:18:25.606Z"
   },
   {
    "duration": 346,
    "start_time": "2023-03-31T21:18:26.301Z"
   },
   {
    "duration": 46,
    "start_time": "2023-03-31T21:18:26.649Z"
   },
   {
    "duration": 6,
    "start_time": "2023-03-31T21:18:26.697Z"
   },
   {
    "duration": 26,
    "start_time": "2023-03-31T21:18:26.705Z"
   },
   {
    "duration": 7,
    "start_time": "2023-03-31T21:18:26.733Z"
   },
   {
    "duration": 16,
    "start_time": "2023-03-31T21:18:26.742Z"
   },
   {
    "duration": 6,
    "start_time": "2023-03-31T21:18:26.760Z"
   },
   {
    "duration": 59,
    "start_time": "2023-03-31T21:18:26.767Z"
   },
   {
    "duration": 30,
    "start_time": "2023-03-31T21:18:26.827Z"
   },
   {
    "duration": 15,
    "start_time": "2023-03-31T21:18:26.859Z"
   },
   {
    "duration": 41,
    "start_time": "2023-03-31T21:18:26.875Z"
   },
   {
    "duration": 167,
    "start_time": "2023-03-31T21:18:26.917Z"
   },
   {
    "duration": 63,
    "start_time": "2023-03-31T21:18:27.086Z"
   },
   {
    "duration": 171,
    "start_time": "2023-03-31T21:18:27.153Z"
   },
   {
    "duration": 14,
    "start_time": "2023-03-31T21:18:27.326Z"
   },
   {
    "duration": 27,
    "start_time": "2023-03-31T21:18:27.341Z"
   },
   {
    "duration": 10,
    "start_time": "2023-03-31T21:18:27.369Z"
   },
   {
    "duration": 8,
    "start_time": "2023-03-31T21:18:27.381Z"
   },
   {
    "duration": 16,
    "start_time": "2023-03-31T21:18:27.390Z"
   },
   {
    "duration": 27,
    "start_time": "2023-03-31T21:18:27.408Z"
   },
   {
    "duration": 35,
    "start_time": "2023-03-31T21:18:27.436Z"
   },
   {
    "duration": 207,
    "start_time": "2023-03-31T21:18:27.473Z"
   },
   {
    "duration": 88,
    "start_time": "2023-03-31T21:18:27.682Z"
   },
   {
    "duration": 104,
    "start_time": "2023-03-31T21:18:27.771Z"
   },
   {
    "duration": 2,
    "start_time": "2023-03-31T21:18:27.877Z"
   },
   {
    "duration": 106,
    "start_time": "2023-03-31T21:18:27.880Z"
   },
   {
    "duration": 6,
    "start_time": "2023-03-31T21:18:27.989Z"
   },
   {
    "duration": 9,
    "start_time": "2023-03-31T21:18:27.997Z"
   },
   {
    "duration": 119,
    "start_time": "2023-03-31T21:18:28.008Z"
   },
   {
    "duration": 129,
    "start_time": "2023-03-31T21:18:28.128Z"
   },
   {
    "duration": 135,
    "start_time": "2023-03-31T21:18:28.258Z"
   },
   {
    "duration": 170,
    "start_time": "2023-03-31T21:18:28.395Z"
   }
  ],
  "kernelspec": {
   "display_name": "Python 3",
   "language": "python",
   "name": "python3"
  },
  "language_info": {
   "codemirror_mode": {
    "name": "ipython",
    "version": 3
   },
   "file_extension": ".py",
   "mimetype": "text/x-python",
   "name": "python",
   "nbconvert_exporter": "python",
   "pygments_lexer": "ipython3",
   "version": "3.8.8"
  },
  "toc": {
   "base_numbering": 1,
   "nav_menu": {},
   "number_sections": false,
   "sideBar": true,
   "skip_h1_title": false,
   "title_cell": "Table of Contents",
   "title_sidebar": "Contents",
   "toc_cell": false,
   "toc_position": {
    "height": "calc(100% - 180px)",
    "left": "10px",
    "top": "150px",
    "width": "308.807px"
   },
   "toc_section_display": true,
   "toc_window_display": false
  }
 },
 "nbformat": 4,
 "nbformat_minor": 2
}
