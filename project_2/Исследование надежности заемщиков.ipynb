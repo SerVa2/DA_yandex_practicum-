{
 "cells": [
  {
   "cell_type": "markdown",
   "id": "5fd2b7be",
   "metadata": {},
   "source": [
    "Привет, меня зовут Гребенюк Артём. Сегодня я буду делать ревью твоего проекта!\\\n",
    "В Практикуме принято общаться на \"ты\", однако если это неудобно - дай знать, и можем перейти на более официальное общение.\n",
    "\n",
    "Ниже ты найдешь мои комментарии - пожалуйста, не перемещай, не изменяй и не удаляй их. Я буду использовать цветовую разметку: \n",
    "\n",
    "<div class=\"alert alert-block alert-success\">\n",
    "<b>✔️ Success:</b> Если все сделано хорошо. </div>\n",
    "\n",
    "<div class=\"alert alert-block alert-warning\">\n",
    "<b>⚠️ Remarks:</b> Некритичное замечание; если таких замечаний меньше трех — проект может быть принят без их отработки.</div>\n",
    "\n",
    "<div class=\"alert alert-block alert-danger\">\n",
    "<b>❌ Needs fixing:</b> Грубая ошибка, необходимо исправить, иначе проект не будет принят.\n",
    "</div>\n",
    "\n",
    "Давай работать над проектом в диалоге: если ты что-то меняешь в проекте или отвечаешь на мои комменатри — пиши об этом. Мне будет легче отследить изменения, если ты выделишь свои комментарии:\n",
    "Например так:\n",
    "\n",
    "<div class=\"alert alert-block alert-info\">\n",
    "<b>💾 Fixed:</b> \n",
    "Hello World! ✔\n",
    "</div>\n",
    "\n",
    "Или можешь использовать эту галочку ✔ в моих комментариях, если писать особо нечего.\n",
    "\n",
    "<div class=\"alert alert-block alert-success\">\n",
    "<b>Общее впечатление:</b> \n",
    "    \n",
    "- Спасибо за работу :)\n",
    "- Проект получился превосходным - код и аналитика на высоком уровне, так держать!\n",
    "- я оставил несколько комментариев по первой (автоматической) части проекта, описывающих, как бы тут можно было лучше написать код. настоятельно рекомендую с ними ознакомиться - в реальной работе пригодится.\n",
    "- Работа принята, поздравляю и желаю удачи в дальнейшем обучении :)\n",
    "    \n",
    "</div>\n",
    "\n"
   ]
  },
  {
   "cell_type": "markdown",
   "id": "e5ff6299",
   "metadata": {
    "deletable": false,
    "editable": false,
    "id": "c81daeeb"
   },
   "source": [
    "# Исследование надежности заемщиков\n"
   ]
  },
  {
   "cell_type": "markdown",
   "id": "0436c2fe",
   "metadata": {
    "deletable": false,
    "editable": false,
    "id": "827c20bf"
   },
   "source": [
    "Во второй части проекта вы выполните шаги 3 и 4. Их вручную проверит ревьюер.\n",
    "Чтобы вам не пришлось писать код заново для шагов 1 и 2, мы добавили авторские решения в ячейки с кодом. \n",
    "\n"
   ]
  },
  {
   "cell_type": "markdown",
   "id": "962dc4a9",
   "metadata": {},
   "source": [
    "<div class=\"alert alert-block alert-warning\">\n",
    "<b>Remarks (не обязательно):</b>\n",
    "\n",
    "Любому проекту нужно введение. Также стоит задуматься, как еще его можно дополнить, чтобы сделать более ценным для читателя.\n",
    "    \n",
    "Также советую тебе взглянуть на <a href=\"https://www.kaggle.com/notebooks/\">работы</a> профессиональных аналитиков, чтобы оценить, как другие люди оформляют и проводят исследования. </div>"
   ]
  },
  {
   "cell_type": "markdown",
   "id": "3a5d7076",
   "metadata": {
    "deletable": false,
    "editable": false,
    "id": "744d7639"
   },
   "source": [
    "## Откройте таблицу и изучите общую информацию о данных"
   ]
  },
  {
   "cell_type": "markdown",
   "id": "ac22eb24",
   "metadata": {
    "deletable": false,
    "editable": false,
    "id": "e7a14c31"
   },
   "source": [
    "**Задание 1. Импортируйте библиотеку pandas. Считайте данные из csv-файла в датафрейм и сохраните в переменную `data`. Путь к файлу:**\n",
    "\n",
    "`/datasets/data.csv`"
   ]
  },
  {
   "cell_type": "code",
   "execution_count": 1,
   "id": "e64059a3",
   "metadata": {
    "deletable": false,
    "id": "7bcf75c9"
   },
   "outputs": [],
   "source": [
    "import pandas as pd\n",
    "\n",
    "try:\n",
    "    data = pd.read_csv('/datasets/data.csv')\n",
    "except:\n",
    "    data = pd.read_csv('https://code.s3.yandex.net/datasets/data.csv')"
   ]
  },
  {
   "cell_type": "markdown",
   "id": "15c3f95d",
   "metadata": {},
   "source": [
    "<div class=\"alert alert-block alert-warning\">\n",
    "<b>⚠️ Remarks (не обязательно):</b>\n",
    "    \n",
    "- стоит отделять импорты от открытия датасета. Это делается для того, чтобы иметь возможность в любой момент дописать новые библиотеки, настройки или ключевые константы, перезапустить ячейку с импортами и продолжить работу, не перетирая датасет.\n"
   ]
  },
  {
   "cell_type": "markdown",
   "id": "67d6a86e",
   "metadata": {
    "deletable": false,
    "editable": false,
    "id": "b8038fe3"
   },
   "source": [
    "**Задание 2. Выведите первые 20 строчек датафрейма `data` на экран.**"
   ]
  },
  {
   "cell_type": "code",
   "execution_count": 2,
   "id": "4b0ced96",
   "metadata": {
    "deletable": false,
    "id": "2a7cab99",
    "outputId": "1a8f3ef2-d323-4ec2-ddf7-89670b5944c4"
   },
   "outputs": [
    {
     "data": {
      "text/html": [
       "<div>\n",
       "<style scoped>\n",
       "    .dataframe tbody tr th:only-of-type {\n",
       "        vertical-align: middle;\n",
       "    }\n",
       "\n",
       "    .dataframe tbody tr th {\n",
       "        vertical-align: top;\n",
       "    }\n",
       "\n",
       "    .dataframe thead th {\n",
       "        text-align: right;\n",
       "    }\n",
       "</style>\n",
       "<table border=\"1\" class=\"dataframe\">\n",
       "  <thead>\n",
       "    <tr style=\"text-align: right;\">\n",
       "      <th></th>\n",
       "      <th>children</th>\n",
       "      <th>days_employed</th>\n",
       "      <th>dob_years</th>\n",
       "      <th>education</th>\n",
       "      <th>education_id</th>\n",
       "      <th>family_status</th>\n",
       "      <th>family_status_id</th>\n",
       "      <th>gender</th>\n",
       "      <th>income_type</th>\n",
       "      <th>debt</th>\n",
       "      <th>total_income</th>\n",
       "      <th>purpose</th>\n",
       "    </tr>\n",
       "  </thead>\n",
       "  <tbody>\n",
       "    <tr>\n",
       "      <th>0</th>\n",
       "      <td>1</td>\n",
       "      <td>-8437.673028</td>\n",
       "      <td>42</td>\n",
       "      <td>высшее</td>\n",
       "      <td>0</td>\n",
       "      <td>женат / замужем</td>\n",
       "      <td>0</td>\n",
       "      <td>F</td>\n",
       "      <td>сотрудник</td>\n",
       "      <td>0</td>\n",
       "      <td>253875.639453</td>\n",
       "      <td>покупка жилья</td>\n",
       "    </tr>\n",
       "    <tr>\n",
       "      <th>1</th>\n",
       "      <td>1</td>\n",
       "      <td>-4024.803754</td>\n",
       "      <td>36</td>\n",
       "      <td>среднее</td>\n",
       "      <td>1</td>\n",
       "      <td>женат / замужем</td>\n",
       "      <td>0</td>\n",
       "      <td>F</td>\n",
       "      <td>сотрудник</td>\n",
       "      <td>0</td>\n",
       "      <td>112080.014102</td>\n",
       "      <td>приобретение автомобиля</td>\n",
       "    </tr>\n",
       "    <tr>\n",
       "      <th>2</th>\n",
       "      <td>0</td>\n",
       "      <td>-5623.422610</td>\n",
       "      <td>33</td>\n",
       "      <td>Среднее</td>\n",
       "      <td>1</td>\n",
       "      <td>женат / замужем</td>\n",
       "      <td>0</td>\n",
       "      <td>M</td>\n",
       "      <td>сотрудник</td>\n",
       "      <td>0</td>\n",
       "      <td>145885.952297</td>\n",
       "      <td>покупка жилья</td>\n",
       "    </tr>\n",
       "    <tr>\n",
       "      <th>3</th>\n",
       "      <td>3</td>\n",
       "      <td>-4124.747207</td>\n",
       "      <td>32</td>\n",
       "      <td>среднее</td>\n",
       "      <td>1</td>\n",
       "      <td>женат / замужем</td>\n",
       "      <td>0</td>\n",
       "      <td>M</td>\n",
       "      <td>сотрудник</td>\n",
       "      <td>0</td>\n",
       "      <td>267628.550329</td>\n",
       "      <td>дополнительное образование</td>\n",
       "    </tr>\n",
       "    <tr>\n",
       "      <th>4</th>\n",
       "      <td>0</td>\n",
       "      <td>340266.072047</td>\n",
       "      <td>53</td>\n",
       "      <td>среднее</td>\n",
       "      <td>1</td>\n",
       "      <td>гражданский брак</td>\n",
       "      <td>1</td>\n",
       "      <td>F</td>\n",
       "      <td>пенсионер</td>\n",
       "      <td>0</td>\n",
       "      <td>158616.077870</td>\n",
       "      <td>сыграть свадьбу</td>\n",
       "    </tr>\n",
       "    <tr>\n",
       "      <th>5</th>\n",
       "      <td>0</td>\n",
       "      <td>-926.185831</td>\n",
       "      <td>27</td>\n",
       "      <td>высшее</td>\n",
       "      <td>0</td>\n",
       "      <td>гражданский брак</td>\n",
       "      <td>1</td>\n",
       "      <td>M</td>\n",
       "      <td>компаньон</td>\n",
       "      <td>0</td>\n",
       "      <td>255763.565419</td>\n",
       "      <td>покупка жилья</td>\n",
       "    </tr>\n",
       "    <tr>\n",
       "      <th>6</th>\n",
       "      <td>0</td>\n",
       "      <td>-2879.202052</td>\n",
       "      <td>43</td>\n",
       "      <td>высшее</td>\n",
       "      <td>0</td>\n",
       "      <td>женат / замужем</td>\n",
       "      <td>0</td>\n",
       "      <td>F</td>\n",
       "      <td>компаньон</td>\n",
       "      <td>0</td>\n",
       "      <td>240525.971920</td>\n",
       "      <td>операции с жильем</td>\n",
       "    </tr>\n",
       "    <tr>\n",
       "      <th>7</th>\n",
       "      <td>0</td>\n",
       "      <td>-152.779569</td>\n",
       "      <td>50</td>\n",
       "      <td>СРЕДНЕЕ</td>\n",
       "      <td>1</td>\n",
       "      <td>женат / замужем</td>\n",
       "      <td>0</td>\n",
       "      <td>M</td>\n",
       "      <td>сотрудник</td>\n",
       "      <td>0</td>\n",
       "      <td>135823.934197</td>\n",
       "      <td>образование</td>\n",
       "    </tr>\n",
       "    <tr>\n",
       "      <th>8</th>\n",
       "      <td>2</td>\n",
       "      <td>-6929.865299</td>\n",
       "      <td>35</td>\n",
       "      <td>ВЫСШЕЕ</td>\n",
       "      <td>0</td>\n",
       "      <td>гражданский брак</td>\n",
       "      <td>1</td>\n",
       "      <td>F</td>\n",
       "      <td>сотрудник</td>\n",
       "      <td>0</td>\n",
       "      <td>95856.832424</td>\n",
       "      <td>на проведение свадьбы</td>\n",
       "    </tr>\n",
       "    <tr>\n",
       "      <th>9</th>\n",
       "      <td>0</td>\n",
       "      <td>-2188.756445</td>\n",
       "      <td>41</td>\n",
       "      <td>среднее</td>\n",
       "      <td>1</td>\n",
       "      <td>женат / замужем</td>\n",
       "      <td>0</td>\n",
       "      <td>M</td>\n",
       "      <td>сотрудник</td>\n",
       "      <td>0</td>\n",
       "      <td>144425.938277</td>\n",
       "      <td>покупка жилья для семьи</td>\n",
       "    </tr>\n",
       "    <tr>\n",
       "      <th>10</th>\n",
       "      <td>2</td>\n",
       "      <td>-4171.483647</td>\n",
       "      <td>36</td>\n",
       "      <td>высшее</td>\n",
       "      <td>0</td>\n",
       "      <td>женат / замужем</td>\n",
       "      <td>0</td>\n",
       "      <td>M</td>\n",
       "      <td>компаньон</td>\n",
       "      <td>0</td>\n",
       "      <td>113943.491460</td>\n",
       "      <td>покупка недвижимости</td>\n",
       "    </tr>\n",
       "    <tr>\n",
       "      <th>11</th>\n",
       "      <td>0</td>\n",
       "      <td>-792.701887</td>\n",
       "      <td>40</td>\n",
       "      <td>среднее</td>\n",
       "      <td>1</td>\n",
       "      <td>женат / замужем</td>\n",
       "      <td>0</td>\n",
       "      <td>F</td>\n",
       "      <td>сотрудник</td>\n",
       "      <td>0</td>\n",
       "      <td>77069.234271</td>\n",
       "      <td>покупка коммерческой недвижимости</td>\n",
       "    </tr>\n",
       "    <tr>\n",
       "      <th>12</th>\n",
       "      <td>0</td>\n",
       "      <td>NaN</td>\n",
       "      <td>65</td>\n",
       "      <td>среднее</td>\n",
       "      <td>1</td>\n",
       "      <td>гражданский брак</td>\n",
       "      <td>1</td>\n",
       "      <td>M</td>\n",
       "      <td>пенсионер</td>\n",
       "      <td>0</td>\n",
       "      <td>NaN</td>\n",
       "      <td>сыграть свадьбу</td>\n",
       "    </tr>\n",
       "    <tr>\n",
       "      <th>13</th>\n",
       "      <td>0</td>\n",
       "      <td>-1846.641941</td>\n",
       "      <td>54</td>\n",
       "      <td>неоконченное высшее</td>\n",
       "      <td>2</td>\n",
       "      <td>женат / замужем</td>\n",
       "      <td>0</td>\n",
       "      <td>F</td>\n",
       "      <td>сотрудник</td>\n",
       "      <td>0</td>\n",
       "      <td>130458.228857</td>\n",
       "      <td>приобретение автомобиля</td>\n",
       "    </tr>\n",
       "    <tr>\n",
       "      <th>14</th>\n",
       "      <td>0</td>\n",
       "      <td>-1844.956182</td>\n",
       "      <td>56</td>\n",
       "      <td>высшее</td>\n",
       "      <td>0</td>\n",
       "      <td>гражданский брак</td>\n",
       "      <td>1</td>\n",
       "      <td>F</td>\n",
       "      <td>компаньон</td>\n",
       "      <td>1</td>\n",
       "      <td>165127.911772</td>\n",
       "      <td>покупка жилой недвижимости</td>\n",
       "    </tr>\n",
       "    <tr>\n",
       "      <th>15</th>\n",
       "      <td>1</td>\n",
       "      <td>-972.364419</td>\n",
       "      <td>26</td>\n",
       "      <td>среднее</td>\n",
       "      <td>1</td>\n",
       "      <td>женат / замужем</td>\n",
       "      <td>0</td>\n",
       "      <td>F</td>\n",
       "      <td>сотрудник</td>\n",
       "      <td>0</td>\n",
       "      <td>116820.904450</td>\n",
       "      <td>строительство собственной недвижимости</td>\n",
       "    </tr>\n",
       "    <tr>\n",
       "      <th>16</th>\n",
       "      <td>0</td>\n",
       "      <td>-1719.934226</td>\n",
       "      <td>35</td>\n",
       "      <td>среднее</td>\n",
       "      <td>1</td>\n",
       "      <td>женат / замужем</td>\n",
       "      <td>0</td>\n",
       "      <td>F</td>\n",
       "      <td>сотрудник</td>\n",
       "      <td>0</td>\n",
       "      <td>289202.704229</td>\n",
       "      <td>недвижимость</td>\n",
       "    </tr>\n",
       "    <tr>\n",
       "      <th>17</th>\n",
       "      <td>0</td>\n",
       "      <td>-2369.999720</td>\n",
       "      <td>33</td>\n",
       "      <td>высшее</td>\n",
       "      <td>0</td>\n",
       "      <td>гражданский брак</td>\n",
       "      <td>1</td>\n",
       "      <td>M</td>\n",
       "      <td>сотрудник</td>\n",
       "      <td>0</td>\n",
       "      <td>90410.586745</td>\n",
       "      <td>строительство недвижимости</td>\n",
       "    </tr>\n",
       "    <tr>\n",
       "      <th>18</th>\n",
       "      <td>0</td>\n",
       "      <td>400281.136913</td>\n",
       "      <td>53</td>\n",
       "      <td>среднее</td>\n",
       "      <td>1</td>\n",
       "      <td>вдовец / вдова</td>\n",
       "      <td>2</td>\n",
       "      <td>F</td>\n",
       "      <td>пенсионер</td>\n",
       "      <td>0</td>\n",
       "      <td>56823.777243</td>\n",
       "      <td>на покупку подержанного автомобиля</td>\n",
       "    </tr>\n",
       "    <tr>\n",
       "      <th>19</th>\n",
       "      <td>0</td>\n",
       "      <td>-10038.818549</td>\n",
       "      <td>48</td>\n",
       "      <td>СРЕДНЕЕ</td>\n",
       "      <td>1</td>\n",
       "      <td>в разводе</td>\n",
       "      <td>3</td>\n",
       "      <td>F</td>\n",
       "      <td>сотрудник</td>\n",
       "      <td>0</td>\n",
       "      <td>242831.107982</td>\n",
       "      <td>на покупку своего автомобиля</td>\n",
       "    </tr>\n",
       "  </tbody>\n",
       "</table>\n",
       "</div>"
      ],
      "text/plain": [
       "    children  days_employed  dob_years            education  education_id  \\\n",
       "0          1   -8437.673028         42               высшее             0   \n",
       "1          1   -4024.803754         36              среднее             1   \n",
       "2          0   -5623.422610         33              Среднее             1   \n",
       "3          3   -4124.747207         32              среднее             1   \n",
       "4          0  340266.072047         53              среднее             1   \n",
       "5          0    -926.185831         27               высшее             0   \n",
       "6          0   -2879.202052         43               высшее             0   \n",
       "7          0    -152.779569         50              СРЕДНЕЕ             1   \n",
       "8          2   -6929.865299         35               ВЫСШЕЕ             0   \n",
       "9          0   -2188.756445         41              среднее             1   \n",
       "10         2   -4171.483647         36               высшее             0   \n",
       "11         0    -792.701887         40              среднее             1   \n",
       "12         0            NaN         65              среднее             1   \n",
       "13         0   -1846.641941         54  неоконченное высшее             2   \n",
       "14         0   -1844.956182         56               высшее             0   \n",
       "15         1    -972.364419         26              среднее             1   \n",
       "16         0   -1719.934226         35              среднее             1   \n",
       "17         0   -2369.999720         33               высшее             0   \n",
       "18         0  400281.136913         53              среднее             1   \n",
       "19         0  -10038.818549         48              СРЕДНЕЕ             1   \n",
       "\n",
       "       family_status  family_status_id gender income_type  debt  \\\n",
       "0    женат / замужем                 0      F   сотрудник     0   \n",
       "1    женат / замужем                 0      F   сотрудник     0   \n",
       "2    женат / замужем                 0      M   сотрудник     0   \n",
       "3    женат / замужем                 0      M   сотрудник     0   \n",
       "4   гражданский брак                 1      F   пенсионер     0   \n",
       "5   гражданский брак                 1      M   компаньон     0   \n",
       "6    женат / замужем                 0      F   компаньон     0   \n",
       "7    женат / замужем                 0      M   сотрудник     0   \n",
       "8   гражданский брак                 1      F   сотрудник     0   \n",
       "9    женат / замужем                 0      M   сотрудник     0   \n",
       "10   женат / замужем                 0      M   компаньон     0   \n",
       "11   женат / замужем                 0      F   сотрудник     0   \n",
       "12  гражданский брак                 1      M   пенсионер     0   \n",
       "13   женат / замужем                 0      F   сотрудник     0   \n",
       "14  гражданский брак                 1      F   компаньон     1   \n",
       "15   женат / замужем                 0      F   сотрудник     0   \n",
       "16   женат / замужем                 0      F   сотрудник     0   \n",
       "17  гражданский брак                 1      M   сотрудник     0   \n",
       "18    вдовец / вдова                 2      F   пенсионер     0   \n",
       "19         в разводе                 3      F   сотрудник     0   \n",
       "\n",
       "     total_income                                 purpose  \n",
       "0   253875.639453                           покупка жилья  \n",
       "1   112080.014102                 приобретение автомобиля  \n",
       "2   145885.952297                           покупка жилья  \n",
       "3   267628.550329              дополнительное образование  \n",
       "4   158616.077870                         сыграть свадьбу  \n",
       "5   255763.565419                           покупка жилья  \n",
       "6   240525.971920                       операции с жильем  \n",
       "7   135823.934197                             образование  \n",
       "8    95856.832424                   на проведение свадьбы  \n",
       "9   144425.938277                 покупка жилья для семьи  \n",
       "10  113943.491460                    покупка недвижимости  \n",
       "11   77069.234271       покупка коммерческой недвижимости  \n",
       "12            NaN                         сыграть свадьбу  \n",
       "13  130458.228857                 приобретение автомобиля  \n",
       "14  165127.911772              покупка жилой недвижимости  \n",
       "15  116820.904450  строительство собственной недвижимости  \n",
       "16  289202.704229                            недвижимость  \n",
       "17   90410.586745              строительство недвижимости  \n",
       "18   56823.777243      на покупку подержанного автомобиля  \n",
       "19  242831.107982            на покупку своего автомобиля  "
      ]
     },
     "execution_count": 2,
     "metadata": {},
     "output_type": "execute_result"
    }
   ],
   "source": [
    "data.head(20)"
   ]
  },
  {
   "cell_type": "markdown",
   "id": "72942a1e",
   "metadata": {
    "deletable": false,
    "editable": false,
    "id": "1c12e233"
   },
   "source": [
    "**Задание 3. Выведите основную информацию о датафрейме с помощью метода `info()`.**"
   ]
  },
  {
   "cell_type": "markdown",
   "id": "a435d503",
   "metadata": {},
   "source": [
    "<div class=\"alert alert-block alert-warning\">\n",
    "<b>⚠️ Remarks (не обязательно):</b> \n",
    "    \n",
    "функция `describe()` может быть очень полезна при знакомстве с датасетом, давай её используем. Советую почитать про её аргументы - пригодится в следующих проектах, а также рекомендую рассматривать её в транспонированном виде - нв больших датасетах будет удобнее - `df.describe().T` "
   ]
  },
  {
   "cell_type": "code",
   "execution_count": 3,
   "id": "bff1c4ad",
   "metadata": {
    "deletable": false,
    "id": "2b757bca",
    "outputId": "15376089-8dad-46c9-b520-c05248d43158"
   },
   "outputs": [
    {
     "name": "stdout",
     "output_type": "stream",
     "text": [
      "<class 'pandas.core.frame.DataFrame'>\n",
      "RangeIndex: 21525 entries, 0 to 21524\n",
      "Data columns (total 12 columns):\n",
      " #   Column            Non-Null Count  Dtype  \n",
      "---  ------            --------------  -----  \n",
      " 0   children          21525 non-null  int64  \n",
      " 1   days_employed     19351 non-null  float64\n",
      " 2   dob_years         21525 non-null  int64  \n",
      " 3   education         21525 non-null  object \n",
      " 4   education_id      21525 non-null  int64  \n",
      " 5   family_status     21525 non-null  object \n",
      " 6   family_status_id  21525 non-null  int64  \n",
      " 7   gender            21525 non-null  object \n",
      " 8   income_type       21525 non-null  object \n",
      " 9   debt              21525 non-null  int64  \n",
      " 10  total_income      19351 non-null  float64\n",
      " 11  purpose           21525 non-null  object \n",
      "dtypes: float64(2), int64(5), object(5)\n",
      "memory usage: 2.0+ MB\n"
     ]
    }
   ],
   "source": [
    "data.info()"
   ]
  },
  {
   "cell_type": "markdown",
   "id": "7c9c3453",
   "metadata": {},
   "source": [
    "\n",
    " <div class=\"alert alert-block alert-warning\">\n",
    "<b>⚠️ Remarks (не обязательно):</b> стоило бы тут разместить промежуточный вывод с описанием датасета и планов на обработку столбцов"
   ]
  },
  {
   "cell_type": "markdown",
   "id": "e2335118",
   "metadata": {
    "deletable": false,
    "editable": false,
    "id": "333ec665"
   },
   "source": [
    "## Предобработка данных"
   ]
  },
  {
   "cell_type": "markdown",
   "id": "a4d26357",
   "metadata": {
    "deletable": false,
    "editable": false,
    "id": "02d92d53"
   },
   "source": [
    "### Удаление пропусков"
   ]
  },
  {
   "cell_type": "markdown",
   "id": "a3ae0cd9",
   "metadata": {
    "deletable": false,
    "editable": false,
    "id": "cd84967c"
   },
   "source": [
    "**Задание 4. Выведите количество пропущенных значений для каждого столбца. Используйте комбинацию двух методов.**"
   ]
  },
  {
   "cell_type": "code",
   "execution_count": 4,
   "id": "061910d0",
   "metadata": {
    "deletable": false,
    "id": "7f9b2309",
    "outputId": "81f4d817-781c-465c-ed15-91ce4446810d"
   },
   "outputs": [
    {
     "data": {
      "text/plain": [
       "children               0\n",
       "days_employed       2174\n",
       "dob_years              0\n",
       "education              0\n",
       "education_id           0\n",
       "family_status          0\n",
       "family_status_id       0\n",
       "gender                 0\n",
       "income_type            0\n",
       "debt                   0\n",
       "total_income        2174\n",
       "purpose                0\n",
       "dtype: int64"
      ]
     },
     "execution_count": 4,
     "metadata": {},
     "output_type": "execute_result"
    }
   ],
   "source": [
    "data.isna().sum()"
   ]
  },
  {
   "cell_type": "markdown",
   "id": "aa89827e",
   "metadata": {
    "deletable": false,
    "editable": false,
    "id": "db86e27b"
   },
   "source": [
    "**Задание 5. В двух столбцах есть пропущенные значения. Один из них — `days_employed`. Пропуски в этом столбце вы обработаете на следующем этапе. Другой столбец с пропущенными значениями — `total_income` — хранит данные о доходах. На сумму дохода сильнее всего влияет тип занятости, поэтому заполнить пропуски в этом столбце нужно медианным значением по каждому типу из столбца `income_type`. Например, у человека с типом занятости `сотрудник` пропуск в столбце `total_income` должен быть заполнен медианным доходом среди всех записей с тем же типом.**"
   ]
  },
  {
   "cell_type": "code",
   "execution_count": 5,
   "id": "9f00d3ea",
   "metadata": {
    "deletable": false,
    "id": "42006a93"
   },
   "outputs": [],
   "source": [
    "for t in data['income_type'].unique():\n",
    "    data.loc[(data['income_type'] == t) & (data['total_income'].isna()), 'total_income'] = \\\n",
    "    data.loc[(data['income_type'] == t), 'total_income'].median()"
   ]
  },
  {
   "cell_type": "markdown",
   "id": "c86ee556",
   "metadata": {},
   "source": [
    "\n",
    " <div class=\"alert alert-block alert-warning\">\n",
    "<b>⚠️ Remarks (не обязательно):</b> \n",
    "    \n",
    "это действие можно очень элегантно выполнить при помощи двух методов - `transform()` и `groupby()`, тогда все преобразование будет описано одной строкой"
   ]
  },
  {
   "cell_type": "markdown",
   "id": "e0d1f4d5",
   "metadata": {
    "deletable": false,
    "editable": false,
    "id": "89da5ece"
   },
   "source": [
    "### Обработка аномальных значений"
   ]
  },
  {
   "cell_type": "markdown",
   "id": "5dd14f24",
   "metadata": {
    "deletable": false,
    "editable": false,
    "id": "57964554"
   },
   "source": [
    "**Задание 6. В данных могут встречаться артефакты (аномалии) — значения, которые не отражают действительность и появились по какой-то ошибке. таким артефактом будет отрицательное количество дней трудового стажа в столбце `days_employed`. Для реальных данных это нормально. Обработайте значения в этом столбце: замените все отрицательные значения положительными с помощью метода `abs()`.**"
   ]
  },
  {
   "cell_type": "code",
   "execution_count": 6,
   "id": "c4416917",
   "metadata": {
    "deletable": false,
    "id": "f6f055bf"
   },
   "outputs": [],
   "source": [
    "data['days_employed'] = data['days_employed'].abs()"
   ]
  },
  {
   "cell_type": "markdown",
   "id": "9e30841f",
   "metadata": {
    "deletable": false,
    "editable": false,
    "id": "6107dd2f"
   },
   "source": [
    "**Задание 7. Для каждого типа занятости выведите медианное значение трудового стажа `days_employed` в днях.**"
   ]
  },
  {
   "cell_type": "code",
   "execution_count": 7,
   "id": "2e8e90df",
   "metadata": {
    "deletable": false,
    "id": "85a5faf6",
    "outputId": "801ef80e-522b-4668-f34e-565af7432bcf"
   },
   "outputs": [
    {
     "data": {
      "text/plain": [
       "income_type\n",
       "безработный        366413.652744\n",
       "в декрете            3296.759962\n",
       "госслужащий          2689.368353\n",
       "компаньон            1547.382223\n",
       "пенсионер          365213.306266\n",
       "предприниматель       520.848083\n",
       "сотрудник            1574.202821\n",
       "студент               578.751554\n",
       "Name: days_employed, dtype: float64"
      ]
     },
     "execution_count": 7,
     "metadata": {},
     "output_type": "execute_result"
    }
   ],
   "source": [
    "data.groupby('income_type')['days_employed'].agg('median')"
   ]
  },
  {
   "cell_type": "markdown",
   "id": "c5f38d91",
   "metadata": {
    "deletable": false,
    "editable": false,
    "id": "38d1a030"
   },
   "source": [
    "У двух типов (безработные и пенсионеры) получатся аномально большие значения. Исправить такие значения сложно, поэтому оставьте их как есть. Тем более этот столбец не понадобится вам для исследования."
   ]
  },
  {
   "cell_type": "markdown",
   "id": "a7f144cb",
   "metadata": {
    "deletable": false,
    "editable": false,
    "id": "d8a9f147"
   },
   "source": [
    "**Задание 8. Выведите перечень уникальных значений столбца `children`.**"
   ]
  },
  {
   "cell_type": "code",
   "execution_count": 8,
   "id": "183d48c0",
   "metadata": {
    "deletable": false,
    "id": "ef5056eb",
    "outputId": "6975b15c-7f95-4697-d16d-a0c79b657b03"
   },
   "outputs": [
    {
     "data": {
      "text/plain": [
       "array([ 1,  0,  3,  2, -1,  4, 20,  5])"
      ]
     },
     "execution_count": 8,
     "metadata": {},
     "output_type": "execute_result"
    }
   ],
   "source": [
    "data['children'].unique()"
   ]
  },
  {
   "cell_type": "markdown",
   "id": "2cce33a1",
   "metadata": {
    "deletable": false,
    "editable": false,
    "id": "40b9ebf2"
   },
   "source": [
    "**Задание 9. В столбце `children` есть два аномальных значения. Удалите строки, в которых встречаются такие аномальные значения из датафрейма `data`.**"
   ]
  },
  {
   "cell_type": "code",
   "execution_count": 9,
   "id": "905cb0aa",
   "metadata": {
    "deletable": false,
    "id": "3ff9801d"
   },
   "outputs": [],
   "source": [
    "data = data[(data['children'] != -1) & (data['children'] != 20)]"
   ]
  },
  {
   "cell_type": "markdown",
   "id": "de238c65",
   "metadata": {
    "deletable": false,
    "editable": false,
    "id": "bbc4d0ce"
   },
   "source": [
    "**Задание 10. Ещё раз выведите перечень уникальных значений столбца `children`, чтобы убедиться, что артефакты удалены.**"
   ]
  },
  {
   "cell_type": "code",
   "execution_count": 10,
   "id": "44ae805b",
   "metadata": {
    "deletable": false,
    "id": "ad4fa8b7",
    "outputId": "b2097101-d49d-44d9-901b-32a65c9463d1"
   },
   "outputs": [
    {
     "data": {
      "text/plain": [
       "array([1, 0, 3, 2, 4, 5])"
      ]
     },
     "execution_count": 10,
     "metadata": {},
     "output_type": "execute_result"
    }
   ],
   "source": [
    "data['children'].unique()"
   ]
  },
  {
   "cell_type": "markdown",
   "id": "2b457ba6",
   "metadata": {
    "deletable": false,
    "editable": false,
    "id": "75440b63"
   },
   "source": [
    "### Удаление пропусков (продолжение)"
   ]
  },
  {
   "cell_type": "markdown",
   "id": "8e9db654",
   "metadata": {
    "deletable": false,
    "editable": false,
    "id": "f4ea573f"
   },
   "source": [
    "**Задание 11. Заполните пропуски в столбце `days_employed` медианными значениями по каждого типа занятости `income_type`.**"
   ]
  },
  {
   "cell_type": "code",
   "execution_count": 11,
   "id": "28315927",
   "metadata": {
    "deletable": false,
    "id": "af6b1a7e"
   },
   "outputs": [],
   "source": [
    "for t in data['income_type'].unique():\n",
    "    data.loc[(data['income_type'] == t) & (data['days_employed'].isna()), 'days_employed'] = \\\n",
    "    data.loc[(data['income_type'] == t), 'days_employed'].median()"
   ]
  },
  {
   "cell_type": "markdown",
   "id": "3743d176",
   "metadata": {
    "deletable": false,
    "editable": false,
    "id": "2753f40d"
   },
   "source": [
    "**Задание 12. Убедитесь, что все пропуски заполнены. Проверьте себя и ещё раз выведите количество пропущенных значений для каждого столбца с помощью двух методов.**"
   ]
  },
  {
   "cell_type": "code",
   "execution_count": 12,
   "id": "75373aa3",
   "metadata": {
    "deletable": false,
    "id": "55f78bc2",
    "outputId": "8da1e4e1-358e-4e87-98c9-f261bce0a7b2"
   },
   "outputs": [
    {
     "data": {
      "text/plain": [
       "children            0\n",
       "days_employed       0\n",
       "dob_years           0\n",
       "education           0\n",
       "education_id        0\n",
       "family_status       0\n",
       "family_status_id    0\n",
       "gender              0\n",
       "income_type         0\n",
       "debt                0\n",
       "total_income        0\n",
       "purpose             0\n",
       "dtype: int64"
      ]
     },
     "execution_count": 12,
     "metadata": {},
     "output_type": "execute_result"
    }
   ],
   "source": [
    "data.isna().sum()"
   ]
  },
  {
   "cell_type": "markdown",
   "id": "124f80e3",
   "metadata": {
    "deletable": false,
    "editable": false,
    "id": "ddc81e43"
   },
   "source": [
    "### Изменение типов данных"
   ]
  },
  {
   "cell_type": "markdown",
   "id": "c2064be4",
   "metadata": {
    "deletable": false,
    "editable": false,
    "id": "42d19d24"
   },
   "source": [
    "**Задание 13. Замените вещественный тип данных в столбце `total_income` на целочисленный с помощью метода `astype()`.**"
   ]
  },
  {
   "cell_type": "code",
   "execution_count": 13,
   "id": "1a2331da",
   "metadata": {
    "deletable": false,
    "id": "920b65ad"
   },
   "outputs": [],
   "source": [
    "data['total_income'] = data['total_income'].astype(int)"
   ]
  },
  {
   "cell_type": "markdown",
   "id": "c3edb200",
   "metadata": {},
   "source": [
    "\n",
    " <div class=\"alert alert-block alert-warning\">\n",
    "<b>⚠️ Remarks (не обязательно):</b>\n",
    "    \n",
    "Потенциал для эффективного изменения типов тут очень широк.\n",
    "    \n",
    "Давай я дам тебе две классные статьи, а ты попробуешь изменить типы данных на еще более подходящие и замеришь, сколько памяти в % ты сэкономишь:\n",
    "    \n",
    "https://pyprog.pro/data_types.html\n",
    "    \n",
    "https://habr.com/ru/company/ruvds/blog/442516/\n",
    "    \n",
    "Советую рассмотреть все столбцы, а не только доход"
   ]
  },
  {
   "cell_type": "markdown",
   "id": "98df1604",
   "metadata": {
    "deletable": false,
    "editable": false,
    "id": "80c420ba"
   },
   "source": [
    "### Обработка дубликатов"
   ]
  },
  {
   "cell_type": "markdown",
   "id": "5e7a061f",
   "metadata": {
    "deletable": false,
    "editable": false
   },
   "source": [
    "**Задание 14. Обработайте неявные дубликаты в столбце `education`. В этом столбце есть одни и те же значения, но записанные по-разному: с использованием заглавных и строчных букв. Приведите их к нижнему регистру. Проверьте остальные столбцы.**"
   ]
  },
  {
   "cell_type": "code",
   "execution_count": 14,
   "id": "424f1753",
   "metadata": {
    "deletable": false
   },
   "outputs": [],
   "source": [
    "data['education'] = data['education'].str.lower()"
   ]
  },
  {
   "cell_type": "markdown",
   "id": "204a6988",
   "metadata": {
    "deletable": false,
    "editable": false,
    "id": "dc587695"
   },
   "source": [
    "**Задание 15. Выведите на экран количество строк-дубликатов в данных. Если такие строки присутствуют, удалите их.**"
   ]
  },
  {
   "cell_type": "code",
   "execution_count": 15,
   "id": "b16a3c83",
   "metadata": {
    "deletable": false,
    "id": "3ee445e4",
    "outputId": "9684deba-1934-42d1-99e1-cda61740f822"
   },
   "outputs": [
    {
     "data": {
      "text/plain": [
       "71"
      ]
     },
     "execution_count": 15,
     "metadata": {},
     "output_type": "execute_result"
    }
   ],
   "source": [
    "data.duplicated().sum()"
   ]
  },
  {
   "cell_type": "code",
   "execution_count": 16,
   "id": "80ff9654",
   "metadata": {
    "deletable": false,
    "id": "8575fe05"
   },
   "outputs": [],
   "source": [
    "data = data.drop_duplicates()"
   ]
  },
  {
   "cell_type": "markdown",
   "id": "1fc4ca8a",
   "metadata": {
    "deletable": false,
    "editable": false,
    "id": "9904cf55"
   },
   "source": [
    "### Категоризация данных"
   ]
  },
  {
   "cell_type": "markdown",
   "id": "1697d99d",
   "metadata": {
    "deletable": false,
    "editable": false,
    "id": "72fcc8a2"
   },
   "source": [
    "**Задание 16. На основании диапазонов, указанных ниже, создайте в датафрейме `data` столбец `total_income_category` с категориями:**\n",
    "\n",
    "- 0–30000 — `'E'`;\n",
    "- 30001–50000 — `'D'`;\n",
    "- 50001–200000 — `'C'`;\n",
    "- 200001–1000000 — `'B'`;\n",
    "- 1000001 и выше — `'A'`.\n",
    "\n",
    "\n",
    "**Например, кредитополучателю с доходом 25000 нужно назначить категорию `'E'`, а клиенту, получающему 235000, — `'B'`. Используйте собственную функцию с именем `categorize_income()` и метод `apply()`.**"
   ]
  },
  {
   "cell_type": "code",
   "execution_count": 17,
   "id": "75ad1e19",
   "metadata": {
    "deletable": false,
    "id": "e1771346"
   },
   "outputs": [],
   "source": [
    "def categorize_income(income):\n",
    "    try:\n",
    "        if 0 <= income <= 30000:\n",
    "            return 'E'\n",
    "        elif 30001 <= income <= 50000:\n",
    "            return 'D'\n",
    "        elif 50001 <= income <= 200000:\n",
    "            return 'C'\n",
    "        elif 200001 <= income <= 1000000:\n",
    "            return 'B'\n",
    "        elif income >= 1000001:\n",
    "            return 'A'\n",
    "    except:\n",
    "        pass"
   ]
  },
  {
   "cell_type": "code",
   "execution_count": 18,
   "id": "e0e390a3",
   "metadata": {
    "deletable": false,
    "id": "d5f3586d"
   },
   "outputs": [],
   "source": [
    "data['total_income_category'] = data['total_income'].apply(categorize_income)"
   ]
  },
  {
   "cell_type": "markdown",
   "id": "386ef1da",
   "metadata": {
    "deletable": false,
    "editable": false,
    "id": "dde49b5c"
   },
   "source": [
    "**Задание 17. Выведите на экран перечень уникальных целей взятия кредита из столбца `purpose`.**"
   ]
  },
  {
   "cell_type": "code",
   "execution_count": 19,
   "id": "6c94ecae",
   "metadata": {
    "deletable": false,
    "id": "f67ce9b3",
    "outputId": "673c12d9-7d7e-4ae0-9812-c622c89dd244"
   },
   "outputs": [
    {
     "data": {
      "text/plain": [
       "array(['покупка жилья', 'приобретение автомобиля',\n",
       "       'дополнительное образование', 'сыграть свадьбу',\n",
       "       'операции с жильем', 'образование', 'на проведение свадьбы',\n",
       "       'покупка жилья для семьи', 'покупка недвижимости',\n",
       "       'покупка коммерческой недвижимости', 'покупка жилой недвижимости',\n",
       "       'строительство собственной недвижимости', 'недвижимость',\n",
       "       'строительство недвижимости', 'на покупку подержанного автомобиля',\n",
       "       'на покупку своего автомобиля',\n",
       "       'операции с коммерческой недвижимостью',\n",
       "       'строительство жилой недвижимости', 'жилье',\n",
       "       'операции со своей недвижимостью', 'автомобили',\n",
       "       'заняться образованием', 'сделка с подержанным автомобилем',\n",
       "       'получение образования', 'автомобиль', 'свадьба',\n",
       "       'получение дополнительного образования', 'покупка своего жилья',\n",
       "       'операции с недвижимостью', 'получение высшего образования',\n",
       "       'свой автомобиль', 'сделка с автомобилем',\n",
       "       'профильное образование', 'высшее образование',\n",
       "       'покупка жилья для сдачи', 'на покупку автомобиля', 'ремонт жилью',\n",
       "       'заняться высшим образованием'], dtype=object)"
      ]
     },
     "execution_count": 19,
     "metadata": {},
     "output_type": "execute_result"
    }
   ],
   "source": [
    "data['purpose'].unique()"
   ]
  },
  {
   "cell_type": "markdown",
   "id": "483995db",
   "metadata": {
    "deletable": false,
    "editable": false,
    "id": "85d0aef0"
   },
   "source": [
    "**Задание 18. Создайте функцию, которая на основании данных из столбца `purpose` сформирует новый столбец `purpose_category`, в который войдут следующие категории:**\n",
    "\n",
    "- `'операции с автомобилем'`,\n",
    "- `'операции с недвижимостью'`,\n",
    "- `'проведение свадьбы'`,\n",
    "- `'получение образования'`.\n",
    "\n",
    "**Например, если в столбце `purpose` находится подстрока `'на покупку автомобиля'`, то в столбце `purpose_category` должна появиться строка `'операции с автомобилем'`.**\n",
    "\n",
    "**Используйте собственную функцию с именем `categorize_purpose()` и метод `apply()`. Изучите данные в столбце `purpose` и определите, какие подстроки помогут вам правильно определить категорию.**"
   ]
  },
  {
   "cell_type": "code",
   "execution_count": 20,
   "id": "09eec23f",
   "metadata": {
    "deletable": false,
    "id": "e149fab4"
   },
   "outputs": [],
   "source": [
    "def categorize_purpose(row):\n",
    "    try:\n",
    "        if 'автом' in row:\n",
    "            return 'операции с автомобилем'\n",
    "        elif 'жил' in row or 'недвиж' in row:\n",
    "            return 'операции с недвижимостью'\n",
    "        elif 'свад' in row:\n",
    "            return 'проведение свадьбы'\n",
    "        elif 'образов' in row:\n",
    "            return 'получение образования'\n",
    "    except:\n",
    "        return 'нет категории'"
   ]
  },
  {
   "cell_type": "code",
   "execution_count": 21,
   "id": "2582e998",
   "metadata": {
    "deletable": false,
    "id": "bf36e69b"
   },
   "outputs": [],
   "source": [
    "data['purpose_category'] = data['purpose'].apply(categorize_purpose)"
   ]
  },
  {
   "cell_type": "markdown",
   "id": "60942ae8",
   "metadata": {
    "deletable": false,
    "editable": false,
    "id": "09b242bf"
   },
   "source": [
    "### Шаг 3. Исследуйте данные и ответьте на вопросы"
   ]
  },
  {
   "cell_type": "markdown",
   "id": "88fc33a8",
   "metadata": {
    "deletable": false,
    "editable": false,
    "id": "c5d66278"
   },
   "source": [
    "#### 3.1 Есть ли зависимость между количеством детей и возвратом кредита в срок?"
   ]
  },
  {
   "cell_type": "markdown",
   "id": "0f7f34c9",
   "metadata": {},
   "source": [
    "Посмотрим на уникальные значения переменных `children`(наличие детей у клиентов) и `debt`(наличие задолженности по кредиту)"
   ]
  },
  {
   "cell_type": "code",
   "execution_count": 22,
   "id": "85020479",
   "metadata": {
    "deletable": false,
    "id": "2cacfc4a"
   },
   "outputs": [
    {
     "data": {
      "text/plain": [
       "0    14091\n",
       "1     4808\n",
       "2     2052\n",
       "3      330\n",
       "4       41\n",
       "5        9\n",
       "Name: children, dtype: int64"
      ]
     },
     "execution_count": 22,
     "metadata": {},
     "output_type": "execute_result"
    }
   ],
   "source": [
    "data['children'].value_counts()# уникальные значения в столбце children"
   ]
  },
  {
   "cell_type": "code",
   "execution_count": 23,
   "id": "e11c2b9e",
   "metadata": {},
   "outputs": [
    {
     "data": {
      "text/plain": [
       "0    19599\n",
       "1     1732\n",
       "Name: debt, dtype: int64"
      ]
     },
     "execution_count": 23,
     "metadata": {},
     "output_type": "execute_result"
    }
   ],
   "source": [
    "data['debt'].value_counts()# уникальные значения в столбце debt"
   ]
  },
  {
   "cell_type": "markdown",
   "id": "f5e08283",
   "metadata": {},
   "source": [
    "Видно, что большинство заемщиков не имеют задолженности и не имеет детей.Сгруппируем данные по столбцам`children` и `debt`\n",
    "рассчитаем встроенными функциями `count()`, `sum()`,`mean()` соответственно значения общего количества заемщиков,количество клиентов, имевших задолженность по возврату кредитов (debt = True -- задолженность была)  и долю клиентов,имеющих задолженность.\n",
    "Выведем их в отдельную таблицу.\n"
   ]
  },
  {
   "cell_type": "code",
   "execution_count": 24,
   "id": "a022699c",
   "metadata": {},
   "outputs": [
    {
     "data": {
      "text/html": [
       "<div>\n",
       "<style scoped>\n",
       "    .dataframe tbody tr th:only-of-type {\n",
       "        vertical-align: middle;\n",
       "    }\n",
       "\n",
       "    .dataframe tbody tr th {\n",
       "        vertical-align: top;\n",
       "    }\n",
       "\n",
       "    .dataframe thead th {\n",
       "        text-align: right;\n",
       "    }\n",
       "</style>\n",
       "<table border=\"1\" class=\"dataframe\">\n",
       "  <thead>\n",
       "    <tr style=\"text-align: right;\">\n",
       "      <th></th>\n",
       "      <th>count</th>\n",
       "      <th>sum</th>\n",
       "      <th>mean</th>\n",
       "    </tr>\n",
       "    <tr>\n",
       "      <th>children</th>\n",
       "      <th></th>\n",
       "      <th></th>\n",
       "      <th></th>\n",
       "    </tr>\n",
       "  </thead>\n",
       "  <tbody>\n",
       "    <tr>\n",
       "      <th>0</th>\n",
       "      <td>14091</td>\n",
       "      <td>1063</td>\n",
       "      <td>0.075438</td>\n",
       "    </tr>\n",
       "    <tr>\n",
       "      <th>1</th>\n",
       "      <td>4808</td>\n",
       "      <td>444</td>\n",
       "      <td>0.092346</td>\n",
       "    </tr>\n",
       "    <tr>\n",
       "      <th>2</th>\n",
       "      <td>2052</td>\n",
       "      <td>194</td>\n",
       "      <td>0.094542</td>\n",
       "    </tr>\n",
       "    <tr>\n",
       "      <th>3</th>\n",
       "      <td>330</td>\n",
       "      <td>27</td>\n",
       "      <td>0.081818</td>\n",
       "    </tr>\n",
       "    <tr>\n",
       "      <th>4</th>\n",
       "      <td>41</td>\n",
       "      <td>4</td>\n",
       "      <td>0.097561</td>\n",
       "    </tr>\n",
       "    <tr>\n",
       "      <th>5</th>\n",
       "      <td>9</td>\n",
       "      <td>0</td>\n",
       "      <td>0.000000</td>\n",
       "    </tr>\n",
       "  </tbody>\n",
       "</table>\n",
       "</div>"
      ],
      "text/plain": [
       "          count   sum      mean\n",
       "children                       \n",
       "0         14091  1063  0.075438\n",
       "1          4808   444  0.092346\n",
       "2          2052   194  0.094542\n",
       "3           330    27  0.081818\n",
       "4            41     4  0.097561\n",
       "5             9     0  0.000000"
      ]
     },
     "execution_count": 24,
     "metadata": {},
     "output_type": "execute_result"
    }
   ],
   "source": [
    "\n",
    "child_of_debt = data.groupby('children')['debt'].agg({'count', 'sum', 'mean'}) \n",
    "child_of_debt"
   ]
  },
  {
   "cell_type": "markdown",
   "id": "b295b3ac",
   "metadata": {},
   "source": [
    "Видно,что клиенты без детей чаще отдают кредит в срок(**7.5%** из них не платят вовремя).В то время, как клиенты с детьми чаще не оплачивают вовремя(процент в этом случае от **8.2 до 9.4%**).Но от количества детей этот показатель,как мы видим напрямую не зависит.Сгруппируем клиентов банка по признаку:есть дети/нет детей и посмотрим на картину вцелом."
   ]
  },
  {
   "cell_type": "markdown",
   "id": "8cba906b",
   "metadata": {},
   "source": [
    "<div class=\"alert alert-block alert-success\">\n",
    "<b>✔️ Success:</b> Отличная идея - дополнительно сгруппировать заемщиков по наличию детей, ведь многодетных заемщиков в датасете слишком мало, чтобы делать выводы!"
   ]
  },
  {
   "cell_type": "code",
   "execution_count": 25,
   "id": "f520239c",
   "metadata": {},
   "outputs": [],
   "source": [
    "def s_children(children): # функция для группировки\n",
    "    if children > 0: return 'есть дети'\n",
    "    else: return 'нет детей'\n",
    "data['child_ex'] = data['children'].apply(s_children)\n"
   ]
  },
  {
   "cell_type": "code",
   "execution_count": 26,
   "id": "1aa4f619",
   "metadata": {},
   "outputs": [
    {
     "data": {
      "text/html": [
       "<div>\n",
       "<style scoped>\n",
       "    .dataframe tbody tr th:only-of-type {\n",
       "        vertical-align: middle;\n",
       "    }\n",
       "\n",
       "    .dataframe tbody tr th {\n",
       "        vertical-align: top;\n",
       "    }\n",
       "\n",
       "    .dataframe thead th {\n",
       "        text-align: right;\n",
       "    }\n",
       "</style>\n",
       "<table border=\"1\" class=\"dataframe\">\n",
       "  <thead>\n",
       "    <tr style=\"text-align: right;\">\n",
       "      <th></th>\n",
       "      <th>count</th>\n",
       "      <th>sum</th>\n",
       "      <th>mean</th>\n",
       "    </tr>\n",
       "    <tr>\n",
       "      <th>child_ex</th>\n",
       "      <th></th>\n",
       "      <th></th>\n",
       "      <th></th>\n",
       "    </tr>\n",
       "  </thead>\n",
       "  <tbody>\n",
       "    <tr>\n",
       "      <th>есть дети</th>\n",
       "      <td>7240</td>\n",
       "      <td>669</td>\n",
       "      <td>0.092403</td>\n",
       "    </tr>\n",
       "    <tr>\n",
       "      <th>нет детей</th>\n",
       "      <td>14091</td>\n",
       "      <td>1063</td>\n",
       "      <td>0.075438</td>\n",
       "    </tr>\n",
       "  </tbody>\n",
       "</table>\n",
       "</div>"
      ],
      "text/plain": [
       "           count   sum      mean\n",
       "child_ex                        \n",
       "есть дети   7240   669  0.092403\n",
       "нет детей  14091  1063  0.075438"
      ]
     },
     "execution_count": 26,
     "metadata": {},
     "output_type": "execute_result"
    }
   ],
   "source": [
    "child_of_debt_new = data.groupby('child_ex')['debt'].agg({'count','sum','mean'})\n",
    "\n",
    "child_of_debt_new"
   ]
  },
  {
   "cell_type": "markdown",
   "id": "b75c89a4",
   "metadata": {},
   "source": [
    "**Вывод:** \n",
    "На основании проведенного анализа можно сделать следующие выводы:\n",
    " - Небольшая зависимость между наличием детей и возвратом кредита есть. Заемщик без детей платит по кредиту в срок чаще, чем заемщик с детьми.(**7.5% против 9.2%**).Возможно на это влияет факт наличия \"свободных денег\", ведь когда есть дети в семье,то возможны незапланированные расходы.\n",
    " - Но среди заемщиков с детьми уже сложнее понять зависимость - можно было бы предположить, что чем больше детей, тем чаще заемщик не выплачивает кредит в срок, но процент должников при 1,2,3,4 и 5 детях не дает нам подтвердить гипотезу о зависимости. "
   ]
  },
  {
   "cell_type": "markdown",
   "id": "ef4b5275",
   "metadata": {},
   "source": [
    "<div class=\"alert alert-block alert-success\">\n",
    "<b>✔️ Success:</b> очень хорошо, не зря категоризовали дополнительно!"
   ]
  },
  {
   "cell_type": "markdown",
   "id": "c072a2ca",
   "metadata": {
    "deletable": false,
    "editable": false,
    "id": "97be82ca"
   },
   "source": [
    "#### 3.2 Есть ли зависимость между семейным положением и возвратом кредита в срок?"
   ]
  },
  {
   "cell_type": "markdown",
   "id": "9cee16b7",
   "metadata": {},
   "source": [
    "Посмотрим на уникальные знчения признака `family_status`"
   ]
  },
  {
   "cell_type": "code",
   "execution_count": 27,
   "id": "6e0bda97",
   "metadata": {
    "deletable": false,
    "id": "3a6b99ec"
   },
   "outputs": [
    {
     "data": {
      "text/plain": [
       "женат / замужем          12261\n",
       "гражданский брак          4134\n",
       "Не женат / не замужем     2796\n",
       "в разводе                 1189\n",
       "вдовец / вдова             951\n",
       "Name: family_status, dtype: int64"
      ]
     },
     "execution_count": 27,
     "metadata": {},
     "output_type": "execute_result"
    }
   ],
   "source": [
    "data['family_status'].value_counts() # уникальные значения семейного статуса"
   ]
  },
  {
   "cell_type": "markdown",
   "id": "e32bc531",
   "metadata": {
    "deletable": false,
    "id": "dc3f7ee8"
   },
   "source": [
    "Сгруппируем данные по столбцам`family_status` и `debt` и посмотрим  долю клиентов,имеющих задолженность в зависимости от семейного статуса.\n",
    "Выведем такхе их в отдельную таблицу."
   ]
  },
  {
   "cell_type": "code",
   "execution_count": 28,
   "id": "dcb5bee9",
   "metadata": {},
   "outputs": [
    {
     "data": {
      "text/html": [
       "<div>\n",
       "<style scoped>\n",
       "    .dataframe tbody tr th:only-of-type {\n",
       "        vertical-align: middle;\n",
       "    }\n",
       "\n",
       "    .dataframe tbody tr th {\n",
       "        vertical-align: top;\n",
       "    }\n",
       "\n",
       "    .dataframe thead th {\n",
       "        text-align: right;\n",
       "    }\n",
       "</style>\n",
       "<table border=\"1\" class=\"dataframe\">\n",
       "  <thead>\n",
       "    <tr style=\"text-align: right;\">\n",
       "      <th></th>\n",
       "      <th>debt</th>\n",
       "    </tr>\n",
       "    <tr>\n",
       "      <th>family_status</th>\n",
       "      <th></th>\n",
       "    </tr>\n",
       "  </thead>\n",
       "  <tbody>\n",
       "    <tr>\n",
       "      <th>Не женат / не замужем</th>\n",
       "      <td>0.097639</td>\n",
       "    </tr>\n",
       "    <tr>\n",
       "      <th>гражданский брак</th>\n",
       "      <td>0.093130</td>\n",
       "    </tr>\n",
       "    <tr>\n",
       "      <th>женат / замужем</th>\n",
       "      <td>0.075606</td>\n",
       "    </tr>\n",
       "    <tr>\n",
       "      <th>в разводе</th>\n",
       "      <td>0.070648</td>\n",
       "    </tr>\n",
       "    <tr>\n",
       "      <th>вдовец / вдова</th>\n",
       "      <td>0.066246</td>\n",
       "    </tr>\n",
       "  </tbody>\n",
       "</table>\n",
       "</div>"
      ],
      "text/plain": [
       "                           debt\n",
       "family_status                  \n",
       "Не женат / не замужем  0.097639\n",
       "гражданский брак       0.093130\n",
       "женат / замужем        0.075606\n",
       "в разводе              0.070648\n",
       "вдовец / вдова         0.066246"
      ]
     },
     "execution_count": 28,
     "metadata": {},
     "output_type": "execute_result"
    }
   ],
   "source": [
    "data_group_fam_stat = data.groupby('family_status').agg({'debt': 'mean'})\n",
    "data_group_fam_stat.sort_values('debt', ascending = False)"
   ]
  },
  {
   "cell_type": "markdown",
   "id": "c15d9463",
   "metadata": {
    "deletable": false,
    "id": "1cef7837"
   },
   "source": [
    "**Вывод:** \n",
    "- Из полученных данных видно, что процент невозврата кредита вовремя для групп такой:\n",
    "  не женат / не замужем = 9,8%\n",
    "  гражданский брак = 9,3%\n",
    "  женат / замужем = 7,5%\n",
    "  в разводе = 7,1%\n",
    "  вдовец / вдова = 6,6%\n",
    "- Можно педположить,что клиентов состоящих в браке('женат / замужем') или бывшие ранее в официальном браке('вдовец / вдова' или   'в разводе') можно назвать боллее надежными.\n",
    "- И напротив клиенты имеющие статус 'Не женат / не замужем' и 'гражданский брак' менее надежны.\n",
    "- Таким образом можно сказать, что зависимость между семейным положением и возвратом кредита в срок есть."
   ]
  },
  {
   "cell_type": "markdown",
   "id": "2f52c3fc",
   "metadata": {},
   "source": [
    "<div class=\"alert alert-block alert-success\">\n",
    "<b>✔️ Success:</b> отличная работа!"
   ]
  },
  {
   "cell_type": "markdown",
   "id": "0f3069c9",
   "metadata": {
    "deletable": false,
    "editable": false,
    "id": "1e8b2fca"
   },
   "source": [
    "#### 3.3 Есть ли зависимость между уровнем дохода и возвратом кредита в срок?"
   ]
  },
  {
   "cell_type": "markdown",
   "id": "117dcabd",
   "metadata": {},
   "source": [
    "Выше была проведена категоризация переменной `total_income`(уровень дохода),был создан столбец `total_income_category` с категориями A,B,C,D,E.\n",
    "- 0–30000 — `'E'`;\n",
    "- 30001–50000 — `'D'`;\n",
    "- 50001–200000 — `'C'`;\n",
    "- 200001–1000000 — `'B'`;\n",
    "- 1000001 и выше — `'A'`.\n",
    "прсмотрим на минимальный,максимальнвый доход клиетов банка и как они распределились по категориям"
   ]
  },
  {
   "cell_type": "code",
   "execution_count": 29,
   "id": "4e37fd5f",
   "metadata": {
    "deletable": false,
    "id": "cd7e3720"
   },
   "outputs": [
    {
     "data": {
      "text/plain": [
       "20667"
      ]
     },
     "execution_count": 29,
     "metadata": {},
     "output_type": "execute_result"
    }
   ],
   "source": [
    "data['total_income'].min() # минимальный доход"
   ]
  },
  {
   "cell_type": "code",
   "execution_count": 30,
   "id": "91a1f97f",
   "metadata": {},
   "outputs": [
    {
     "data": {
      "text/plain": [
       "2265604"
      ]
     },
     "execution_count": 30,
     "metadata": {},
     "output_type": "execute_result"
    }
   ],
   "source": [
    "data['total_income'].max() # максимальный доход"
   ]
  },
  {
   "cell_type": "code",
   "execution_count": 31,
   "id": "0a6f16ef",
   "metadata": {},
   "outputs": [
    {
     "data": {
      "text/plain": [
       "C    15921\n",
       "B     5014\n",
       "D      349\n",
       "A       25\n",
       "E       22\n",
       "Name: total_income_category, dtype: int64"
      ]
     },
     "execution_count": 31,
     "metadata": {},
     "output_type": "execute_result"
    }
   ],
   "source": [
    "data['total_income_category'].value_counts() # выводим данные из столбца \"total_income_category\""
   ]
  },
  {
   "cell_type": "markdown",
   "id": "87f7d4fe",
   "metadata": {},
   "source": [
    "Видно, что минимальный и максимальный доход отличается практически в  100 раз! И данные по группам распределились неравномерно.\n",
    "Стоит видимо провести категоризацию признака другим способом.Сложность есть в определении границ групп.В этом случае можно воспользоваться методом `.gcut()` и разделить ежемесячный доход на 5 групп. Названия этим группам дадим следующие: `очень низкий доход`,  `низкий доход`, `средний доход`, `доход выше среднего`, `очень высокий доход`. Запишем результат в исходную таблицу в новую переменную `cat_total_income`"
   ]
  },
  {
   "cell_type": "markdown",
   "id": "3ccb857c",
   "metadata": {},
   "source": [
    "<div class=\"alert alert-block alert-success\">\n",
    "<b>✔️ Success:</b> все верно! qcut идеально подходит для такой задачи"
   ]
  },
  {
   "cell_type": "code",
   "execution_count": 32,
   "id": "adba4f3e",
   "metadata": {},
   "outputs": [
    {
     "data": {
      "text/plain": [
       "0        очень высокий доход\n",
       "1               низкий доход\n",
       "2              средний доход\n",
       "3        очень высокий доход\n",
       "4              средний доход\n",
       "                ...         \n",
       "21520    очень высокий доход\n",
       "21521          средний доход\n",
       "21522     очень низкий доход\n",
       "21523    очень высокий доход\n",
       "21524     очень низкий доход\n",
       "Name: cat_total_income, Length: 21331, dtype: category\n",
       "Categories (5, object): ['очень низкий доход' < 'низкий доход' < 'средний доход' < 'доход выше среднего' < 'очень высокий доход']"
      ]
     },
     "execution_count": 32,
     "metadata": {},
     "output_type": "execute_result"
    }
   ],
   "source": [
    "data['cat_total_income'] = pd.qcut(data['total_income'], 5, labels=['очень низкий доход', 'низкий доход', 'средний доход', 'доход выше среднего', 'очень высокий доход'])\n",
    "data['cat_total_income']"
   ]
  },
  {
   "cell_type": "code",
   "execution_count": 33,
   "id": "3192061b",
   "metadata": {},
   "outputs": [
    {
     "data": {
      "text/html": [
       "<div>\n",
       "<style scoped>\n",
       "    .dataframe tbody tr th:only-of-type {\n",
       "        vertical-align: middle;\n",
       "    }\n",
       "\n",
       "    .dataframe tbody tr th {\n",
       "        vertical-align: top;\n",
       "    }\n",
       "\n",
       "    .dataframe thead tr th {\n",
       "        text-align: left;\n",
       "    }\n",
       "\n",
       "    .dataframe thead tr:last-of-type th {\n",
       "        text-align: right;\n",
       "    }\n",
       "</style>\n",
       "<table border=\"1\" class=\"dataframe\">\n",
       "  <thead>\n",
       "    <tr>\n",
       "      <th></th>\n",
       "      <th>sum</th>\n",
       "      <th>count</th>\n",
       "      <th>mean</th>\n",
       "    </tr>\n",
       "    <tr>\n",
       "      <th></th>\n",
       "      <th>debt</th>\n",
       "      <th>debt</th>\n",
       "      <th>debt</th>\n",
       "    </tr>\n",
       "    <tr>\n",
       "      <th>cat_total_income</th>\n",
       "      <th></th>\n",
       "      <th></th>\n",
       "      <th></th>\n",
       "    </tr>\n",
       "  </thead>\n",
       "  <tbody>\n",
       "    <tr>\n",
       "      <th>очень низкий доход</th>\n",
       "      <td>344</td>\n",
       "      <td>4267</td>\n",
       "      <td>0.080619</td>\n",
       "    </tr>\n",
       "    <tr>\n",
       "      <th>низкий доход</th>\n",
       "      <td>358</td>\n",
       "      <td>4266</td>\n",
       "      <td>0.083919</td>\n",
       "    </tr>\n",
       "    <tr>\n",
       "      <th>средний доход</th>\n",
       "      <td>373</td>\n",
       "      <td>4266</td>\n",
       "      <td>0.087436</td>\n",
       "    </tr>\n",
       "    <tr>\n",
       "      <th>доход выше среднего</th>\n",
       "      <td>358</td>\n",
       "      <td>4266</td>\n",
       "      <td>0.083919</td>\n",
       "    </tr>\n",
       "    <tr>\n",
       "      <th>очень высокий доход</th>\n",
       "      <td>299</td>\n",
       "      <td>4266</td>\n",
       "      <td>0.070089</td>\n",
       "    </tr>\n",
       "  </tbody>\n",
       "</table>\n",
       "</div>"
      ],
      "text/plain": [
       "                     sum count      mean\n",
       "                    debt  debt      debt\n",
       "cat_total_income                        \n",
       "очень низкий доход   344  4267  0.080619\n",
       "низкий доход         358  4266  0.083919\n",
       "средний доход        373  4266  0.087436\n",
       "доход выше среднего  358  4266  0.083919\n",
       "очень высокий доход  299  4266  0.070089"
      ]
     },
     "execution_count": 33,
     "metadata": {},
     "output_type": "execute_result"
    }
   ],
   "source": [
    "data.pivot_table(index=['cat_total_income'], values='debt', aggfunc=['sum','count','mean']) # сводная таблица мнтодом pivot_table"
   ]
  },
  {
   "cell_type": "markdown",
   "id": "08ea5619",
   "metadata": {
    "deletable": false,
    "id": "e8593def"
   },
   "source": [
    "**Вывод:** "
   ]
  },
  {
   "cell_type": "markdown",
   "id": "cb8978b8",
   "metadata": {},
   "source": [
    "- Из полученных результатов видно, что процент невозврата кредита вовремя в зависимости от уровня дохода такой:\n",
    "  очень низкий доход= 8,0%\n",
    "  низкий доход = 8,3%\n",
    "  средний доход = 8,7%\n",
    "  доход выше среднего = 8,3%\n",
    "  очень высокий доход = 7,0%\n",
    "- Видно, что люди с высоким доходом более ответственно относятся к соблюдению сроков погашения кредита.(У них видимо проблем с     возвратом меньше).\n",
    "- Наименее надежны клиенты со средним уровнем дохода.\n",
    "- Таким образом можно сказать, что зависимость между уровнем дохода и возвратом кредита в срок имеетя.Но однозначно на мой         взгляд к ней не стоит относится."
   ]
  },
  {
   "cell_type": "markdown",
   "id": "bd3b9651",
   "metadata": {
    "deletable": false,
    "editable": false,
    "id": "99ecbd1f"
   },
   "source": [
    "#### 3.4 Как разные цели кредита влияют на его возврат в срок?"
   ]
  },
  {
   "cell_type": "markdown",
   "id": "96864ecd",
   "metadata": {},
   "source": [
    "Ранее при категоризации данных(задание 18) из столбца `purpose`(цели кредита) был сформирован  новый столбец `purpose_category`   с категориями.Посмотрим на их значения."
   ]
  },
  {
   "cell_type": "code",
   "execution_count": 34,
   "id": "39d2a006",
   "metadata": {
    "deletable": false,
    "id": "2b687290"
   },
   "outputs": [
    {
     "data": {
      "text/plain": [
       "операции с недвижимостью    10751\n",
       "операции с автомобилем       4279\n",
       "получение образования        3988\n",
       "проведение свадьбы           2313\n",
       "Name: purpose_category, dtype: int64"
      ]
     },
     "execution_count": 34,
     "metadata": {},
     "output_type": "execute_result"
    }
   ],
   "source": [
    "data['purpose_category'].value_counts()  "
   ]
  },
  {
   "cell_type": "markdown",
   "id": "4f5ca9f9",
   "metadata": {},
   "source": [
    "Сформируем сводную таблицу"
   ]
  },
  {
   "cell_type": "code",
   "execution_count": 35,
   "id": "cfe743c3",
   "metadata": {},
   "outputs": [
    {
     "data": {
      "text/html": [
       "<div>\n",
       "<style scoped>\n",
       "    .dataframe tbody tr th:only-of-type {\n",
       "        vertical-align: middle;\n",
       "    }\n",
       "\n",
       "    .dataframe tbody tr th {\n",
       "        vertical-align: top;\n",
       "    }\n",
       "\n",
       "    .dataframe thead tr th {\n",
       "        text-align: left;\n",
       "    }\n",
       "\n",
       "    .dataframe thead tr:last-of-type th {\n",
       "        text-align: right;\n",
       "    }\n",
       "</style>\n",
       "<table border=\"1\" class=\"dataframe\">\n",
       "  <thead>\n",
       "    <tr>\n",
       "      <th></th>\n",
       "      <th>sum</th>\n",
       "      <th>count</th>\n",
       "      <th>mean</th>\n",
       "    </tr>\n",
       "    <tr>\n",
       "      <th></th>\n",
       "      <th>debt</th>\n",
       "      <th>debt</th>\n",
       "      <th>debt</th>\n",
       "    </tr>\n",
       "    <tr>\n",
       "      <th>purpose_category</th>\n",
       "      <th></th>\n",
       "      <th></th>\n",
       "      <th></th>\n",
       "    </tr>\n",
       "  </thead>\n",
       "  <tbody>\n",
       "    <tr>\n",
       "      <th>операции с автомобилем</th>\n",
       "      <td>400</td>\n",
       "      <td>4279</td>\n",
       "      <td>0.093480</td>\n",
       "    </tr>\n",
       "    <tr>\n",
       "      <th>операции с недвижимостью</th>\n",
       "      <td>780</td>\n",
       "      <td>10751</td>\n",
       "      <td>0.072551</td>\n",
       "    </tr>\n",
       "    <tr>\n",
       "      <th>получение образования</th>\n",
       "      <td>369</td>\n",
       "      <td>3988</td>\n",
       "      <td>0.092528</td>\n",
       "    </tr>\n",
       "    <tr>\n",
       "      <th>проведение свадьбы</th>\n",
       "      <td>183</td>\n",
       "      <td>2313</td>\n",
       "      <td>0.079118</td>\n",
       "    </tr>\n",
       "  </tbody>\n",
       "</table>\n",
       "</div>"
      ],
      "text/plain": [
       "                          sum  count      mean\n",
       "                         debt   debt      debt\n",
       "purpose_category                              \n",
       "операции с автомобилем    400   4279  0.093480\n",
       "операции с недвижимостью  780  10751  0.072551\n",
       "получение образования     369   3988  0.092528\n",
       "проведение свадьбы        183   2313  0.079118"
      ]
     },
     "execution_count": 35,
     "metadata": {},
     "output_type": "execute_result"
    }
   ],
   "source": [
    "data.pivot_table(index=['purpose_category'], values='debt', aggfunc=['sum','count','mean'])"
   ]
  },
  {
   "cell_type": "markdown",
   "id": "b3ee5292",
   "metadata": {
    "deletable": false,
    "id": "b4bb2ce6"
   },
   "source": [
    "**Вывод:** \n",
    "\n",
    "Из полученных результатов видно:\n",
    " - по операциям с недвижимостью процент невозврата кредита вовремя самый низкий(**7.2%**) и число таких заемщиков больше всего.\n",
    "   (видимо люди, берущие кредит на эти цели более ответственны)\n",
    " - самый высокий процент невозврата кредита вовремя по операциям, связанным с приобретением автомобиля и получением                образования(**9.3% и 9.2% соответственно**).\n",
    " - Можно заметить, что цель кредита влияет на срок его возврата."
   ]
  },
  {
   "cell_type": "markdown",
   "id": "736ff921",
   "metadata": {
    "deletable": false,
    "editable": false,
    "id": "09c3ac4c"
   },
   "source": [
    "#### 3.5 Приведите возможные причины появления пропусков в исходных данных."
   ]
  },
  {
   "cell_type": "markdown",
   "id": "8d3515a3",
   "metadata": {
    "deletable": false,
    "id": "9da2ceda"
   },
   "source": [
    "*Ответ:* \n",
    "\n",
    "Причинами, приводящими к появлению пропусков в данных , являются:\n",
    " - невозможность получения данных или проблемы обработки(произошел технический сбой: поломка аппаратуры снимающей,например,показания температуры объекта)\n",
    " - искажение информации(ошибки,связанные с человеческим фактором при ручном введении данных:забыли что-то указать или ввели с ошибкой)\n",
    " - сокрытие информации(клиент намеренно не указал сведения о себе или данные имеют скрытый характер по соображениям безопасности)."
   ]
  },
  {
   "cell_type": "markdown",
   "id": "feabb1a2",
   "metadata": {
    "deletable": false,
    "editable": false,
    "id": "7b0487d6"
   },
   "source": [
    "#### 3.6 Объясните, почему заполнить пропуски медианным значением — лучшее решение для количественных переменных."
   ]
  },
  {
   "cell_type": "markdown",
   "id": "7b6adb0f",
   "metadata": {
    "deletable": false,
    "id": "7ecf2b8e"
   },
   "source": [
    "*Ответ:* \n",
    "\n",
    "Для колличественных переменных в случае,если пропусков мало - самое простое,что можно сделать - зто удалить строки с пропущенными значениями.Однако если пропусков достаточно много,рекрмендуется замена на среднее значение,медиану и т.п.(простые способы) Заполнить пропуски медианным значением — лучшее решение, так как медиана – значение, которое делит отсортированные по возрастанию данные на две равные части и в отличии от среднего значения, на нее не влияют выбросы(нулевые и крайне высокие значения)"
   ]
  },
  {
   "cell_type": "markdown",
   "id": "7b61f482",
   "metadata": {},
   "source": [
    "<div class=\"alert alert-block alert-success\">\n",
    "<b>✔️ Success:</b> правильно!"
   ]
  },
  {
   "cell_type": "markdown",
   "id": "286cd4a4",
   "metadata": {
    "deletable": false,
    "editable": false,
    "id": "6db5255a"
   },
   "source": [
    "### Шаг 4: общий вывод."
   ]
  },
  {
   "cell_type": "markdown",
   "id": "0af30cd2",
   "metadata": {
    "deletable": false,
    "id": "bad65432"
   },
   "source": [
    "***В результате выполнения проекта были решены следуюшие задачи:***"
   ]
  },
  {
   "cell_type": "markdown",
   "id": "88bdf14f",
   "metadata": {},
   "source": [
    "**Шаг 1:** \n",
    "  Выполненна загрузка данных и предварительное знакомство с ними.Таблица представляет собой данные о клиентах банка и их           платежеспособности.На этом этапе обнаружено:\n",
    "  - Заголовки  столбцов корректны и исправления не требуют.\n",
    "  - Есть пропуски в признаках `days_employed` и `total_income`\n",
    "  - В `days_employed`(количество дней трудового стажа) есть отрицательные значения, что является аномалией\n",
    "  - В `total_income` тип данных вещественный, удобнее его будет заменить на целочисленный.\n",
    "\n",
    "**Шаг 2:** \n",
    "  Выполнена предобрабработка данных:\n",
    "  - Проведена замена пропусковв столбцах `days_employed` и `total_income` на медианные значения\n",
    "  - В столбце `days_employed` всеотрицательные значения заменены на положительные с помощью метода `abs()`\n",
    "  - Удалены строки с аномальным значением признака `children`(**-1 и 20**)\n",
    "  - Обработаны неявные дубликаты в столбце `education`\n",
    "  - Проведена категоризация  для признаков `total_income` и `purpose`, что помогло в дальнейших исследованиях\n",
    "  \n",
    " \n",
    "**Шаг 3:** \n",
    "     **Исследовательский анализ данных:**\n",
    "     \n",
    "   **1.Есть ли зависимость между количеством детей и возвратом кредита в срок?**\n",
    "    \n",
    " \n",
    " - Выявлена зависимость между наличием детей и возвратом кредита. Заемщик без детей платит по кредиту в срок чаще, чем заемщик      с детьми.(**7.5% против 9.2%**).Но количество детей напрямую не влияет на платежеспособность.\n",
    "  \n",
    "  **2.Есть ли зависимость между семейным положением и возвратом кредита в срок?** \n",
    "    \n",
    "  \n",
    "  - Зависимость между семейным положением и возвратом кредита в срок есть.Клиентов состоящих вбраке('женат / замужем') или           бывшие ранее в официальном браке('вдовец / вдова' или   'в разводе') можно назвать боллее надежными.И напротив,клиенты           имеющие статус 'Не женат / не замужем' и 'гражданский брак' менее надежны.\n",
    "  \n",
    "   **3.Есть ли зависимость между уровнем дохода и возвратом кредита в срок?**\n",
    "   \n",
    " \n",
    " - Видно, что люди с высоким доходом более ответственно относятся к соблюдению сроков погашения кредита.(У них проблем с            возвратом меньше). Наименее надежны клиенты со средним уровнем дохода.можно сказать, что зависимость между уровнем дохода и      возвратом кредита в срок также присутствует.Но однозначно на мой взгляд к ней не стоит относится.\n",
    "  \n",
    "  **4.Как разные цели кредита влияют на его возврат в срок?**\n",
    "  \n",
    " \n",
    " - Выявлено,что по операциям с недвижимостью процент невозврата кредита вовремя самый низкий(**7.2%**) и число таких заемщиков      больше всего.(видимо люди, берущие кредит на эти цели более ответственны).Самый высокий процент невозврата кредита вовремя       по операциям, связанным с приобретением автомобиля и получением образования(**9.3% и 9.2% соответственно**).\n",
    "  \n",
    "**ИТОГ**  : Банку выгоднее и надежнее выдавать кредиты клиентам с отсутствием детей и семейным положением \"женат / замужем\",       со стабильным достаточно высоким доходом и на операции связанные с недвижимостью.Эти категории граждан  с большей               вероятностью смогут погасить кредиты в сроки,установленные договором."
   ]
  },
  {
   "cell_type": "markdown",
   "id": "e3ab50f9",
   "metadata": {},
   "source": [
    "<div class=\"alert alert-block alert-success\">\n",
    "<b>✔️ Success:</b> отличный очень информативный общий вывод!\n",
    "    "
   ]
  },
  {
   "cell_type": "code",
   "execution_count": null,
   "id": "ee046b53",
   "metadata": {},
   "outputs": [],
   "source": []
  }
 ],
 "metadata": {
  "ExecuteTimeLog": [
   {
    "duration": 478,
    "start_time": "2022-11-30T21:12:57.449Z"
   },
   {
    "duration": 22,
    "start_time": "2022-11-30T21:13:01.590Z"
   },
   {
    "duration": 29,
    "start_time": "2022-11-30T21:13:05.728Z"
   },
   {
    "duration": 35,
    "start_time": "2022-11-30T21:14:53.649Z"
   },
   {
    "duration": 83,
    "start_time": "2022-11-30T21:15:04.570Z"
   },
   {
    "duration": 15,
    "start_time": "2022-11-30T21:15:04.655Z"
   },
   {
    "duration": 19,
    "start_time": "2022-11-30T21:15:04.673Z"
   },
   {
    "duration": 10,
    "start_time": "2022-11-30T21:15:04.694Z"
   },
   {
    "duration": 57,
    "start_time": "2022-11-30T21:15:04.706Z"
   },
   {
    "duration": 3,
    "start_time": "2022-11-30T21:15:04.765Z"
   },
   {
    "duration": 12,
    "start_time": "2022-11-30T21:15:04.769Z"
   },
   {
    "duration": 4,
    "start_time": "2022-11-30T21:15:04.782Z"
   },
   {
    "duration": 9,
    "start_time": "2022-11-30T21:15:04.787Z"
   },
   {
    "duration": 5,
    "start_time": "2022-11-30T21:15:04.798Z"
   },
   {
    "duration": 66,
    "start_time": "2022-11-30T21:15:04.804Z"
   },
   {
    "duration": 10,
    "start_time": "2022-11-30T21:15:04.871Z"
   },
   {
    "duration": 9,
    "start_time": "2022-11-30T21:15:04.882Z"
   },
   {
    "duration": 28,
    "start_time": "2022-11-30T21:15:04.892Z"
   },
   {
    "duration": 51,
    "start_time": "2022-11-30T21:15:04.922Z"
   },
   {
    "duration": 18,
    "start_time": "2022-11-30T21:15:04.975Z"
   },
   {
    "duration": 8,
    "start_time": "2022-11-30T21:15:04.995Z"
   },
   {
    "duration": 18,
    "start_time": "2022-11-30T21:15:05.005Z"
   },
   {
    "duration": 25,
    "start_time": "2022-11-30T21:15:05.025Z"
   },
   {
    "duration": 10,
    "start_time": "2022-11-30T21:15:05.051Z"
   },
   {
    "duration": 26,
    "start_time": "2022-11-30T21:15:05.063Z"
   },
   {
    "duration": 19,
    "start_time": "2022-11-30T21:15:05.090Z"
   },
   {
    "duration": 15,
    "start_time": "2022-11-30T21:15:05.110Z"
   },
   {
    "duration": 21,
    "start_time": "2022-11-30T21:15:05.127Z"
   },
   {
    "duration": 20,
    "start_time": "2022-11-30T21:15:05.150Z"
   },
   {
    "duration": 524,
    "start_time": "2022-11-30T21:15:18.758Z"
   },
   {
    "duration": 31,
    "start_time": "2022-11-30T21:15:22.315Z"
   },
   {
    "duration": 14,
    "start_time": "2022-11-30T21:15:26.058Z"
   },
   {
    "duration": 10,
    "start_time": "2022-11-30T21:15:29.494Z"
   },
   {
    "duration": 42,
    "start_time": "2022-11-30T21:15:32.206Z"
   },
   {
    "duration": 4,
    "start_time": "2022-11-30T21:15:34.895Z"
   },
   {
    "duration": 8,
    "start_time": "2022-11-30T21:15:36.730Z"
   },
   {
    "duration": 5,
    "start_time": "2022-11-30T21:15:39.699Z"
   },
   {
    "duration": 8,
    "start_time": "2022-11-30T21:15:42.454Z"
   },
   {
    "duration": 4,
    "start_time": "2022-11-30T21:15:44.395Z"
   },
   {
    "duration": 53,
    "start_time": "2022-11-30T21:15:46.703Z"
   },
   {
    "duration": 11,
    "start_time": "2022-11-30T21:15:48.595Z"
   },
   {
    "duration": 4,
    "start_time": "2022-11-30T21:15:51.906Z"
   },
   {
    "duration": 12,
    "start_time": "2022-11-30T21:15:54.350Z"
   },
   {
    "duration": 20,
    "start_time": "2022-11-30T21:15:56.512Z"
   },
   {
    "duration": 19,
    "start_time": "2022-11-30T21:15:58.150Z"
   },
   {
    "duration": 3,
    "start_time": "2022-11-30T21:16:09.924Z"
   },
   {
    "duration": 11,
    "start_time": "2022-11-30T21:16:18.707Z"
   },
   {
    "duration": 7,
    "start_time": "2022-11-30T21:16:22.210Z"
   },
   {
    "duration": 3,
    "start_time": "2022-11-30T21:16:26.314Z"
   },
   {
    "duration": 10,
    "start_time": "2022-11-30T21:16:28.646Z"
   },
   {
    "duration": 51,
    "start_time": "2022-12-01T11:19:27.075Z"
   },
   {
    "duration": 771,
    "start_time": "2022-12-01T11:19:35.901Z"
   },
   {
    "duration": 29,
    "start_time": "2022-12-01T11:19:36.675Z"
   },
   {
    "duration": 27,
    "start_time": "2022-12-01T11:19:36.706Z"
   },
   {
    "duration": 17,
    "start_time": "2022-12-01T11:19:36.736Z"
   },
   {
    "duration": 49,
    "start_time": "2022-12-01T11:19:36.755Z"
   },
   {
    "duration": 4,
    "start_time": "2022-12-01T11:19:36.806Z"
   },
   {
    "duration": 16,
    "start_time": "2022-12-01T11:19:36.812Z"
   },
   {
    "duration": 10,
    "start_time": "2022-12-01T11:19:36.830Z"
   },
   {
    "duration": 20,
    "start_time": "2022-12-01T11:19:36.842Z"
   },
   {
    "duration": 16,
    "start_time": "2022-12-01T11:19:36.865Z"
   },
   {
    "duration": 38,
    "start_time": "2022-12-01T11:19:36.883Z"
   },
   {
    "duration": 10,
    "start_time": "2022-12-01T11:19:36.923Z"
   },
   {
    "duration": 18,
    "start_time": "2022-12-01T11:19:36.935Z"
   },
   {
    "duration": 15,
    "start_time": "2022-12-01T11:19:36.954Z"
   },
   {
    "duration": 20,
    "start_time": "2022-12-01T11:19:36.972Z"
   },
   {
    "duration": 28,
    "start_time": "2022-12-01T11:19:36.993Z"
   },
   {
    "duration": 4,
    "start_time": "2022-12-01T11:19:37.023Z"
   },
   {
    "duration": 20,
    "start_time": "2022-12-01T11:19:37.028Z"
   },
   {
    "duration": 23,
    "start_time": "2022-12-01T11:19:37.050Z"
   },
   {
    "duration": 8,
    "start_time": "2022-12-01T11:19:37.075Z"
   },
   {
    "duration": 22,
    "start_time": "2022-12-01T11:19:37.085Z"
   },
   {
    "duration": 24,
    "start_time": "2022-12-01T11:19:37.109Z"
   },
   {
    "duration": 24,
    "start_time": "2022-12-01T11:19:37.135Z"
   },
   {
    "duration": 14,
    "start_time": "2022-12-01T11:19:37.160Z"
   },
   {
    "duration": 16,
    "start_time": "2022-12-01T11:19:37.176Z"
   },
   {
    "duration": 18,
    "start_time": "2022-12-01T11:19:37.194Z"
   },
   {
    "duration": 505,
    "start_time": "2022-12-01T11:19:56.127Z"
   },
   {
    "duration": 30,
    "start_time": "2022-12-01T11:19:56.634Z"
   },
   {
    "duration": 30,
    "start_time": "2022-12-01T11:19:56.666Z"
   },
   {
    "duration": 23,
    "start_time": "2022-12-01T11:19:56.699Z"
   },
   {
    "duration": 39,
    "start_time": "2022-12-01T11:19:56.724Z"
   },
   {
    "duration": 4,
    "start_time": "2022-12-01T11:19:56.765Z"
   },
   {
    "duration": 15,
    "start_time": "2022-12-01T11:19:56.771Z"
   },
   {
    "duration": 26,
    "start_time": "2022-12-01T11:19:56.788Z"
   },
   {
    "duration": 8,
    "start_time": "2022-12-01T11:19:56.816Z"
   },
   {
    "duration": 5,
    "start_time": "2022-12-01T11:19:56.829Z"
   },
   {
    "duration": 40,
    "start_time": "2022-12-01T11:19:56.836Z"
   },
   {
    "duration": 37,
    "start_time": "2022-12-01T11:19:56.878Z"
   },
   {
    "duration": 5,
    "start_time": "2022-12-01T11:19:56.917Z"
   },
   {
    "duration": 15,
    "start_time": "2022-12-01T11:19:56.924Z"
   },
   {
    "duration": 27,
    "start_time": "2022-12-01T11:19:56.941Z"
   },
   {
    "duration": 20,
    "start_time": "2022-12-01T11:19:56.969Z"
   },
   {
    "duration": 22,
    "start_time": "2022-12-01T11:19:56.991Z"
   },
   {
    "duration": 12,
    "start_time": "2022-12-01T11:19:57.015Z"
   },
   {
    "duration": 8,
    "start_time": "2022-12-01T11:19:57.029Z"
   },
   {
    "duration": 5,
    "start_time": "2022-12-01T11:19:57.038Z"
   },
   {
    "duration": 11,
    "start_time": "2022-12-01T11:19:57.045Z"
   },
   {
    "duration": 9,
    "start_time": "2022-12-01T11:19:57.058Z"
   },
   {
    "duration": 10,
    "start_time": "2022-12-01T11:19:57.069Z"
   },
   {
    "duration": 5,
    "start_time": "2022-12-01T11:19:57.081Z"
   },
   {
    "duration": 26,
    "start_time": "2022-12-01T11:19:57.087Z"
   },
   {
    "duration": 5,
    "start_time": "2022-12-01T11:19:57.115Z"
   },
   {
    "duration": 5,
    "start_time": "2022-12-01T11:23:21.885Z"
   },
   {
    "duration": 7,
    "start_time": "2022-12-01T11:24:14.940Z"
   },
   {
    "duration": 49,
    "start_time": "2022-12-01T15:18:48.075Z"
   },
   {
    "duration": 1122,
    "start_time": "2022-12-01T15:18:58.200Z"
   },
   {
    "duration": 27,
    "start_time": "2022-12-01T15:18:59.324Z"
   },
   {
    "duration": 16,
    "start_time": "2022-12-01T15:18:59.353Z"
   },
   {
    "duration": 9,
    "start_time": "2022-12-01T15:18:59.371Z"
   },
   {
    "duration": 48,
    "start_time": "2022-12-01T15:18:59.382Z"
   },
   {
    "duration": 4,
    "start_time": "2022-12-01T15:18:59.431Z"
   },
   {
    "duration": 16,
    "start_time": "2022-12-01T15:18:59.436Z"
   },
   {
    "duration": 12,
    "start_time": "2022-12-01T15:18:59.453Z"
   },
   {
    "duration": 10,
    "start_time": "2022-12-01T15:18:59.467Z"
   },
   {
    "duration": 6,
    "start_time": "2022-12-01T15:18:59.480Z"
   },
   {
    "duration": 47,
    "start_time": "2022-12-01T15:18:59.488Z"
   },
   {
    "duration": 10,
    "start_time": "2022-12-01T15:18:59.537Z"
   },
   {
    "duration": 4,
    "start_time": "2022-12-01T15:18:59.548Z"
   },
   {
    "duration": 20,
    "start_time": "2022-12-01T15:18:59.554Z"
   },
   {
    "duration": 37,
    "start_time": "2022-12-01T15:18:59.576Z"
   },
   {
    "duration": 19,
    "start_time": "2022-12-01T15:18:59.614Z"
   },
   {
    "duration": 3,
    "start_time": "2022-12-01T15:18:59.635Z"
   },
   {
    "duration": 14,
    "start_time": "2022-12-01T15:18:59.640Z"
   },
   {
    "duration": 9,
    "start_time": "2022-12-01T15:18:59.655Z"
   },
   {
    "duration": 3,
    "start_time": "2022-12-01T15:18:59.666Z"
   },
   {
    "duration": 19,
    "start_time": "2022-12-01T15:18:59.671Z"
   },
   {
    "duration": 24,
    "start_time": "2022-12-01T15:18:59.691Z"
   },
   {
    "duration": 14,
    "start_time": "2022-12-01T15:18:59.717Z"
   },
   {
    "duration": 8,
    "start_time": "2022-12-01T15:18:59.732Z"
   },
   {
    "duration": 5,
    "start_time": "2022-12-01T15:18:59.742Z"
   },
   {
    "duration": 8,
    "start_time": "2022-12-01T15:18:59.748Z"
   },
   {
    "duration": 7,
    "start_time": "2022-12-01T15:18:59.758Z"
   },
   {
    "duration": 466,
    "start_time": "2022-12-01T15:19:49.577Z"
   },
   {
    "duration": 25,
    "start_time": "2022-12-01T15:19:59.142Z"
   },
   {
    "duration": 14,
    "start_time": "2022-12-01T15:20:02.831Z"
   },
   {
    "duration": 9,
    "start_time": "2022-12-01T15:20:05.813Z"
   },
   {
    "duration": 38,
    "start_time": "2022-12-01T15:20:09.395Z"
   },
   {
    "duration": 4,
    "start_time": "2022-12-01T15:20:11.519Z"
   },
   {
    "duration": 9,
    "start_time": "2022-12-01T15:20:13.200Z"
   },
   {
    "duration": 56,
    "start_time": "2022-12-01T16:13:03.672Z"
   },
   {
    "duration": 561,
    "start_time": "2022-12-01T16:13:08.881Z"
   },
   {
    "duration": 27,
    "start_time": "2022-12-01T16:13:09.445Z"
   },
   {
    "duration": 19,
    "start_time": "2022-12-01T16:13:09.473Z"
   },
   {
    "duration": 12,
    "start_time": "2022-12-01T16:13:09.494Z"
   },
   {
    "duration": 70,
    "start_time": "2022-12-01T16:13:09.507Z"
   },
   {
    "duration": 4,
    "start_time": "2022-12-01T16:13:09.580Z"
   },
   {
    "duration": 19,
    "start_time": "2022-12-01T16:13:09.587Z"
   },
   {
    "duration": 10,
    "start_time": "2022-12-01T16:13:09.609Z"
   },
   {
    "duration": 31,
    "start_time": "2022-12-01T16:13:09.621Z"
   },
   {
    "duration": 15,
    "start_time": "2022-12-01T16:13:09.657Z"
   },
   {
    "duration": 56,
    "start_time": "2022-12-01T16:13:09.674Z"
   },
   {
    "duration": 20,
    "start_time": "2022-12-01T16:13:09.733Z"
   },
   {
    "duration": 5,
    "start_time": "2022-12-01T16:13:09.755Z"
   },
   {
    "duration": 26,
    "start_time": "2022-12-01T16:13:09.762Z"
   },
   {
    "duration": 31,
    "start_time": "2022-12-01T16:13:09.790Z"
   },
   {
    "duration": 36,
    "start_time": "2022-12-01T16:13:09.823Z"
   },
   {
    "duration": 4,
    "start_time": "2022-12-01T16:13:09.861Z"
   },
   {
    "duration": 16,
    "start_time": "2022-12-01T16:13:09.867Z"
   },
   {
    "duration": 7,
    "start_time": "2022-12-01T16:13:09.885Z"
   },
   {
    "duration": 4,
    "start_time": "2022-12-01T16:13:09.894Z"
   },
   {
    "duration": 15,
    "start_time": "2022-12-01T16:13:09.899Z"
   },
   {
    "duration": 36,
    "start_time": "2022-12-01T16:13:09.916Z"
   },
   {
    "duration": 5,
    "start_time": "2022-12-01T16:13:09.954Z"
   },
   {
    "duration": 8,
    "start_time": "2022-12-01T16:13:09.961Z"
   },
   {
    "duration": 7,
    "start_time": "2022-12-01T16:13:09.970Z"
   },
   {
    "duration": 5,
    "start_time": "2022-12-01T16:13:09.979Z"
   },
   {
    "duration": 6,
    "start_time": "2022-12-01T16:13:09.986Z"
   },
   {
    "duration": 491,
    "start_time": "2022-12-01T16:13:31.078Z"
   },
   {
    "duration": 27,
    "start_time": "2022-12-01T16:13:34.563Z"
   },
   {
    "duration": 19,
    "start_time": "2022-12-01T16:13:44.134Z"
   },
   {
    "duration": 15,
    "start_time": "2022-12-01T16:13:47.199Z"
   },
   {
    "duration": 37,
    "start_time": "2022-12-01T16:13:51.231Z"
   },
   {
    "duration": 4,
    "start_time": "2022-12-01T16:13:57.927Z"
   },
   {
    "duration": 11,
    "start_time": "2022-12-01T16:14:00.478Z"
   },
   {
    "duration": 6,
    "start_time": "2022-12-01T16:14:03.074Z"
   },
   {
    "duration": 9,
    "start_time": "2022-12-01T16:14:04.972Z"
   },
   {
    "duration": 5,
    "start_time": "2022-12-01T16:14:07.245Z"
   },
   {
    "duration": 39,
    "start_time": "2022-12-01T16:14:09.310Z"
   },
   {
    "duration": 12,
    "start_time": "2022-12-01T16:14:11.194Z"
   },
   {
    "duration": 8,
    "start_time": "2022-12-01T16:14:14.265Z"
   },
   {
    "duration": 14,
    "start_time": "2022-12-01T16:14:17.874Z"
   },
   {
    "duration": 31,
    "start_time": "2022-12-01T16:14:19.727Z"
   },
   {
    "duration": 29,
    "start_time": "2022-12-01T16:14:21.232Z"
   },
   {
    "duration": 5,
    "start_time": "2022-12-01T16:14:24.212Z"
   },
   {
    "duration": 13,
    "start_time": "2022-12-01T16:14:26.400Z"
   },
   {
    "duration": 8,
    "start_time": "2022-12-01T16:14:31.651Z"
   },
   {
    "duration": 4,
    "start_time": "2022-12-01T16:14:34.717Z"
   },
   {
    "duration": 13,
    "start_time": "2022-12-01T16:14:40.168Z"
   },
   {
    "duration": 8,
    "start_time": "2022-12-01T16:14:41.170Z"
   },
   {
    "duration": 7,
    "start_time": "2022-12-01T16:14:44.269Z"
   },
   {
    "duration": 6,
    "start_time": "2022-12-01T16:14:49.401Z"
   },
   {
    "duration": 18,
    "start_time": "2022-12-01T16:17:28.924Z"
   },
   {
    "duration": 8,
    "start_time": "2022-12-01T16:19:11.953Z"
   },
   {
    "duration": 13,
    "start_time": "2022-12-01T16:19:37.893Z"
   },
   {
    "duration": 8,
    "start_time": "2022-12-01T16:22:36.033Z"
   },
   {
    "duration": 15,
    "start_time": "2022-12-01T16:23:51.262Z"
   },
   {
    "duration": 59,
    "start_time": "2022-12-02T12:03:39.169Z"
   },
   {
    "duration": 9,
    "start_time": "2022-12-02T12:04:03.631Z"
   },
   {
    "duration": 781,
    "start_time": "2022-12-02T12:04:25.296Z"
   },
   {
    "duration": 30,
    "start_time": "2022-12-02T12:04:26.080Z"
   },
   {
    "duration": 20,
    "start_time": "2022-12-02T12:04:26.112Z"
   },
   {
    "duration": 16,
    "start_time": "2022-12-02T12:04:26.134Z"
   },
   {
    "duration": 76,
    "start_time": "2022-12-02T12:04:26.152Z"
   },
   {
    "duration": 5,
    "start_time": "2022-12-02T12:04:26.230Z"
   },
   {
    "duration": 19,
    "start_time": "2022-12-02T12:04:26.237Z"
   },
   {
    "duration": 10,
    "start_time": "2022-12-02T12:04:26.259Z"
   },
   {
    "duration": 25,
    "start_time": "2022-12-02T12:04:26.271Z"
   },
   {
    "duration": 5,
    "start_time": "2022-12-02T12:04:26.299Z"
   },
   {
    "duration": 38,
    "start_time": "2022-12-02T12:04:26.305Z"
   },
   {
    "duration": 10,
    "start_time": "2022-12-02T12:04:26.345Z"
   },
   {
    "duration": 4,
    "start_time": "2022-12-02T12:04:26.356Z"
   },
   {
    "duration": 43,
    "start_time": "2022-12-02T12:04:26.361Z"
   },
   {
    "duration": 22,
    "start_time": "2022-12-02T12:04:26.406Z"
   },
   {
    "duration": 22,
    "start_time": "2022-12-02T12:04:26.430Z"
   },
   {
    "duration": 5,
    "start_time": "2022-12-02T12:04:26.454Z"
   },
   {
    "duration": 36,
    "start_time": "2022-12-02T12:04:26.461Z"
   },
   {
    "duration": 9,
    "start_time": "2022-12-02T12:04:26.499Z"
   },
   {
    "duration": 5,
    "start_time": "2022-12-02T12:04:26.510Z"
   },
   {
    "duration": 14,
    "start_time": "2022-12-02T12:04:26.517Z"
   },
   {
    "duration": 10,
    "start_time": "2022-12-02T12:04:26.533Z"
   },
   {
    "duration": 8,
    "start_time": "2022-12-02T12:04:26.545Z"
   },
   {
    "duration": 13,
    "start_time": "2022-12-02T12:04:26.555Z"
   },
   {
    "duration": 38,
    "start_time": "2022-12-02T12:04:26.570Z"
   },
   {
    "duration": 7,
    "start_time": "2022-12-02T12:04:26.610Z"
   },
   {
    "duration": 21,
    "start_time": "2022-12-02T12:04:26.619Z"
   },
   {
    "duration": 7,
    "start_time": "2022-12-02T12:04:26.644Z"
   },
   {
    "duration": 13,
    "start_time": "2022-12-02T12:04:26.652Z"
   },
   {
    "duration": 5,
    "start_time": "2022-12-02T12:04:26.696Z"
   },
   {
    "duration": 6,
    "start_time": "2022-12-02T12:04:26.702Z"
   },
   {
    "duration": 501,
    "start_time": "2022-12-02T12:04:46.263Z"
   },
   {
    "duration": 28,
    "start_time": "2022-12-02T12:04:49.172Z"
   },
   {
    "duration": 23,
    "start_time": "2022-12-02T12:04:53.027Z"
   },
   {
    "duration": 15,
    "start_time": "2022-12-02T12:04:56.868Z"
   },
   {
    "duration": 43,
    "start_time": "2022-12-02T12:05:02.237Z"
   },
   {
    "duration": 5,
    "start_time": "2022-12-02T12:05:04.998Z"
   },
   {
    "duration": 10,
    "start_time": "2022-12-02T12:05:16.443Z"
   },
   {
    "duration": 7,
    "start_time": "2022-12-02T12:05:21.016Z"
   },
   {
    "duration": 9,
    "start_time": "2022-12-02T12:05:23.251Z"
   },
   {
    "duration": 5,
    "start_time": "2022-12-02T12:05:25.203Z"
   },
   {
    "duration": 34,
    "start_time": "2022-12-02T12:05:28.227Z"
   },
   {
    "duration": 9,
    "start_time": "2022-12-02T12:05:30.721Z"
   },
   {
    "duration": 4,
    "start_time": "2022-12-02T12:05:33.458Z"
   },
   {
    "duration": 13,
    "start_time": "2022-12-02T12:05:35.542Z"
   },
   {
    "duration": 30,
    "start_time": "2022-12-02T12:05:37.829Z"
   },
   {
    "duration": 28,
    "start_time": "2022-12-02T12:05:41.269Z"
   },
   {
    "duration": 5,
    "start_time": "2022-12-02T12:05:46.286Z"
   },
   {
    "duration": 11,
    "start_time": "2022-12-02T12:05:48.214Z"
   },
   {
    "duration": 6,
    "start_time": "2022-12-02T12:05:50.447Z"
   },
   {
    "duration": 5,
    "start_time": "2022-12-02T12:05:54.885Z"
   },
   {
    "duration": 10,
    "start_time": "2022-12-02T12:05:56.569Z"
   },
   {
    "duration": 7,
    "start_time": "2022-12-02T12:05:57.615Z"
   },
   {
    "duration": 6,
    "start_time": "2022-12-02T12:06:02.206Z"
   },
   {
    "duration": 7,
    "start_time": "2022-12-02T12:06:04.534Z"
   },
   {
    "duration": 19,
    "start_time": "2022-12-02T12:06:07.416Z"
   },
   {
    "duration": 7,
    "start_time": "2022-12-02T12:06:11.275Z"
   },
   {
    "duration": 17,
    "start_time": "2022-12-02T12:06:13.719Z"
   },
   {
    "duration": 7,
    "start_time": "2022-12-02T12:06:18.416Z"
   },
   {
    "duration": 13,
    "start_time": "2022-12-02T12:06:21.174Z"
   },
   {
    "duration": 5,
    "start_time": "2022-12-02T12:06:26.872Z"
   },
   {
    "duration": 5,
    "start_time": "2022-12-02T12:06:47.193Z"
   },
   {
    "duration": 8,
    "start_time": "2022-12-02T12:07:29.563Z"
   },
   {
    "duration": 16,
    "start_time": "2022-12-02T12:08:24.534Z"
   },
   {
    "duration": 54,
    "start_time": "2022-12-02T12:09:02.912Z"
   },
   {
    "duration": 8,
    "start_time": "2022-12-02T12:15:17.008Z"
   },
   {
    "duration": 42,
    "start_time": "2022-12-02T12:15:56.253Z"
   },
   {
    "duration": 79,
    "start_time": "2022-12-02T15:20:56.204Z"
   },
   {
    "duration": 20,
    "start_time": "2022-12-02T15:20:56.286Z"
   },
   {
    "duration": 28,
    "start_time": "2022-12-02T15:20:56.308Z"
   },
   {
    "duration": 12,
    "start_time": "2022-12-02T15:20:56.338Z"
   },
   {
    "duration": 51,
    "start_time": "2022-12-02T15:20:56.353Z"
   },
   {
    "duration": 3,
    "start_time": "2022-12-02T15:20:56.406Z"
   },
   {
    "duration": 10,
    "start_time": "2022-12-02T15:20:56.411Z"
   },
   {
    "duration": 4,
    "start_time": "2022-12-02T15:20:56.422Z"
   },
   {
    "duration": 8,
    "start_time": "2022-12-02T15:20:56.428Z"
   },
   {
    "duration": 6,
    "start_time": "2022-12-02T15:20:56.437Z"
   },
   {
    "duration": 57,
    "start_time": "2022-12-02T15:20:56.444Z"
   },
   {
    "duration": 9,
    "start_time": "2022-12-02T15:20:56.503Z"
   },
   {
    "duration": 4,
    "start_time": "2022-12-02T15:20:56.513Z"
   },
   {
    "duration": 15,
    "start_time": "2022-12-02T15:20:56.520Z"
   },
   {
    "duration": 18,
    "start_time": "2022-12-02T15:20:56.537Z"
   },
   {
    "duration": 42,
    "start_time": "2022-12-02T15:20:56.556Z"
   },
   {
    "duration": 4,
    "start_time": "2022-12-02T15:20:56.600Z"
   },
   {
    "duration": 20,
    "start_time": "2022-12-02T15:20:56.605Z"
   },
   {
    "duration": 10,
    "start_time": "2022-12-02T15:20:56.627Z"
   },
   {
    "duration": 4,
    "start_time": "2022-12-02T15:20:56.639Z"
   },
   {
    "duration": 12,
    "start_time": "2022-12-02T15:20:56.644Z"
   },
   {
    "duration": 7,
    "start_time": "2022-12-02T15:20:56.658Z"
   },
   {
    "duration": 9,
    "start_time": "2022-12-02T15:20:56.666Z"
   },
   {
    "duration": 22,
    "start_time": "2022-12-02T15:20:56.676Z"
   },
   {
    "duration": 14,
    "start_time": "2022-12-02T15:20:56.700Z"
   },
   {
    "duration": 12,
    "start_time": "2022-12-02T15:20:56.715Z"
   },
   {
    "duration": 13,
    "start_time": "2022-12-02T15:20:56.729Z"
   },
   {
    "duration": 6,
    "start_time": "2022-12-02T15:20:56.744Z"
   },
   {
    "duration": 13,
    "start_time": "2022-12-02T15:20:56.751Z"
   },
   {
    "duration": 3,
    "start_time": "2022-12-02T15:20:56.765Z"
   },
   {
    "duration": 28,
    "start_time": "2022-12-02T15:20:56.770Z"
   },
   {
    "duration": 7,
    "start_time": "2022-12-02T15:20:56.799Z"
   },
   {
    "duration": 16,
    "start_time": "2022-12-02T15:20:56.807Z"
   },
   {
    "duration": 29,
    "start_time": "2022-12-02T15:20:56.824Z"
   },
   {
    "duration": 6,
    "start_time": "2022-12-02T15:20:56.855Z"
   },
   {
    "duration": 54,
    "start_time": "2022-12-02T15:20:56.863Z"
   },
   {
    "duration": 505,
    "start_time": "2022-12-02T15:21:16.282Z"
   },
   {
    "duration": 22,
    "start_time": "2022-12-02T15:21:19.974Z"
   },
   {
    "duration": 15,
    "start_time": "2022-12-02T15:21:23.843Z"
   },
   {
    "duration": 10,
    "start_time": "2022-12-02T15:21:28.030Z"
   },
   {
    "duration": 33,
    "start_time": "2022-12-02T15:21:31.695Z"
   },
   {
    "duration": 4,
    "start_time": "2022-12-02T15:21:38.578Z"
   },
   {
    "duration": 7,
    "start_time": "2022-12-02T15:21:41.029Z"
   },
   {
    "duration": 5,
    "start_time": "2022-12-02T15:21:48.741Z"
   },
   {
    "duration": 8,
    "start_time": "2022-12-02T15:21:50.920Z"
   },
   {
    "duration": 4,
    "start_time": "2022-12-02T15:21:52.640Z"
   },
   {
    "duration": 34,
    "start_time": "2022-12-02T15:21:55.639Z"
   },
   {
    "duration": 10,
    "start_time": "2022-12-02T15:21:57.510Z"
   },
   {
    "duration": 4,
    "start_time": "2022-12-02T15:22:00.017Z"
   },
   {
    "duration": 11,
    "start_time": "2022-12-02T15:22:02.300Z"
   },
   {
    "duration": 22,
    "start_time": "2022-12-02T15:22:04.315Z"
   },
   {
    "duration": 18,
    "start_time": "2022-12-02T15:22:05.828Z"
   },
   {
    "duration": 3,
    "start_time": "2022-12-02T15:22:09.354Z"
   },
   {
    "duration": 10,
    "start_time": "2022-12-02T15:22:11.436Z"
   },
   {
    "duration": 6,
    "start_time": "2022-12-02T15:22:13.254Z"
   },
   {
    "duration": 4,
    "start_time": "2022-12-02T15:22:21.601Z"
   },
   {
    "duration": 8,
    "start_time": "2022-12-02T15:22:24.579Z"
   },
   {
    "duration": 7,
    "start_time": "2022-12-02T15:22:26.999Z"
   },
   {
    "duration": 6,
    "start_time": "2022-12-02T15:22:31.052Z"
   },
   {
    "duration": 6,
    "start_time": "2022-12-02T15:22:32.306Z"
   },
   {
    "duration": 14,
    "start_time": "2022-12-02T15:22:35.060Z"
   },
   {
    "duration": 7,
    "start_time": "2022-12-02T15:22:38.459Z"
   },
   {
    "duration": 13,
    "start_time": "2022-12-02T15:22:40.277Z"
   },
   {
    "duration": 7,
    "start_time": "2022-12-02T15:22:44.493Z"
   },
   {
    "duration": 10,
    "start_time": "2022-12-02T15:22:46.860Z"
   },
   {
    "duration": 5,
    "start_time": "2022-12-02T15:22:50.872Z"
   },
   {
    "duration": 4,
    "start_time": "2022-12-02T15:22:52.244Z"
   },
   {
    "duration": 6,
    "start_time": "2022-12-02T15:22:53.834Z"
   },
   {
    "duration": 12,
    "start_time": "2022-12-02T15:22:56.538Z"
   },
   {
    "duration": 34,
    "start_time": "2022-12-02T15:23:00.026Z"
   },
   {
    "duration": 7,
    "start_time": "2022-12-02T15:23:05.394Z"
   },
   {
    "duration": 29,
    "start_time": "2022-12-02T15:23:08.216Z"
   },
   {
    "duration": 67,
    "start_time": "2022-12-02T15:27:11.519Z"
   },
   {
    "duration": 15,
    "start_time": "2022-12-02T15:27:11.588Z"
   },
   {
    "duration": 18,
    "start_time": "2022-12-02T15:27:11.604Z"
   },
   {
    "duration": 9,
    "start_time": "2022-12-02T15:27:11.624Z"
   },
   {
    "duration": 38,
    "start_time": "2022-12-02T15:27:11.634Z"
   },
   {
    "duration": 23,
    "start_time": "2022-12-02T15:27:11.674Z"
   },
   {
    "duration": 8,
    "start_time": "2022-12-02T15:27:11.699Z"
   },
   {
    "duration": 9,
    "start_time": "2022-12-02T15:27:11.708Z"
   },
   {
    "duration": 12,
    "start_time": "2022-12-02T15:27:11.719Z"
   },
   {
    "duration": 5,
    "start_time": "2022-12-02T15:27:11.733Z"
   },
   {
    "duration": 35,
    "start_time": "2022-12-02T15:27:11.739Z"
   },
   {
    "duration": 25,
    "start_time": "2022-12-02T15:27:11.776Z"
   },
   {
    "duration": 4,
    "start_time": "2022-12-02T15:27:11.803Z"
   },
   {
    "duration": 13,
    "start_time": "2022-12-02T15:27:11.808Z"
   },
   {
    "duration": 20,
    "start_time": "2022-12-02T15:27:11.823Z"
   },
   {
    "duration": 18,
    "start_time": "2022-12-02T15:27:11.845Z"
   },
   {
    "duration": 4,
    "start_time": "2022-12-02T15:27:11.864Z"
   },
   {
    "duration": 11,
    "start_time": "2022-12-02T15:27:11.896Z"
   },
   {
    "duration": 9,
    "start_time": "2022-12-02T15:27:11.909Z"
   },
   {
    "duration": 9,
    "start_time": "2022-12-02T15:27:11.920Z"
   },
   {
    "duration": 14,
    "start_time": "2022-12-02T15:27:11.930Z"
   },
   {
    "duration": 8,
    "start_time": "2022-12-02T15:27:11.945Z"
   },
   {
    "duration": 9,
    "start_time": "2022-12-02T15:27:11.955Z"
   },
   {
    "duration": 18,
    "start_time": "2022-12-02T15:27:11.965Z"
   },
   {
    "duration": 16,
    "start_time": "2022-12-02T15:27:11.985Z"
   },
   {
    "duration": 15,
    "start_time": "2022-12-02T15:27:12.002Z"
   },
   {
    "duration": 10,
    "start_time": "2022-12-02T15:27:12.019Z"
   },
   {
    "duration": 15,
    "start_time": "2022-12-02T15:27:12.032Z"
   },
   {
    "duration": 4,
    "start_time": "2022-12-02T15:27:12.049Z"
   },
   {
    "duration": 7,
    "start_time": "2022-12-02T15:27:12.055Z"
   },
   {
    "duration": 9,
    "start_time": "2022-12-02T15:27:12.064Z"
   },
   {
    "duration": 11,
    "start_time": "2022-12-02T15:27:12.097Z"
   },
   {
    "duration": 32,
    "start_time": "2022-12-02T15:27:12.110Z"
   },
   {
    "duration": 6,
    "start_time": "2022-12-02T15:27:12.144Z"
   },
   {
    "duration": 56,
    "start_time": "2022-12-02T15:27:12.152Z"
   },
   {
    "duration": 439,
    "start_time": "2022-12-02T15:27:34.258Z"
   },
   {
    "duration": 23,
    "start_time": "2022-12-02T15:27:37.191Z"
   },
   {
    "duration": 15,
    "start_time": "2022-12-02T15:27:40.753Z"
   },
   {
    "duration": 11,
    "start_time": "2022-12-02T15:27:43.614Z"
   },
   {
    "duration": 44,
    "start_time": "2022-12-02T15:27:46.747Z"
   },
   {
    "duration": 4,
    "start_time": "2022-12-02T15:27:50.766Z"
   },
   {
    "duration": 7,
    "start_time": "2022-12-02T15:27:52.682Z"
   },
   {
    "duration": 5,
    "start_time": "2022-12-02T15:27:57.101Z"
   },
   {
    "duration": 7,
    "start_time": "2022-12-02T15:27:59.134Z"
   },
   {
    "duration": 5,
    "start_time": "2022-12-02T15:28:02.998Z"
   },
   {
    "duration": 33,
    "start_time": "2022-12-02T15:28:05.574Z"
   },
   {
    "duration": 10,
    "start_time": "2022-12-02T15:28:08.568Z"
   },
   {
    "duration": 3,
    "start_time": "2022-12-02T15:28:11.735Z"
   },
   {
    "duration": 12,
    "start_time": "2022-12-02T15:28:14.422Z"
   },
   {
    "duration": 21,
    "start_time": "2022-12-02T15:28:16.211Z"
   },
   {
    "duration": 21,
    "start_time": "2022-12-02T15:28:17.839Z"
   },
   {
    "duration": 3,
    "start_time": "2022-12-02T15:28:27.256Z"
   },
   {
    "duration": 11,
    "start_time": "2022-12-02T15:28:29.379Z"
   },
   {
    "duration": 7,
    "start_time": "2022-12-02T15:28:32.240Z"
   },
   {
    "duration": 4,
    "start_time": "2022-12-02T15:28:35.117Z"
   },
   {
    "duration": 9,
    "start_time": "2022-12-02T15:28:37.412Z"
   },
   {
    "duration": 5,
    "start_time": "2022-12-02T15:28:45.522Z"
   },
   {
    "duration": 5,
    "start_time": "2022-12-02T15:28:46.724Z"
   },
   {
    "duration": 12,
    "start_time": "2022-12-02T15:28:49.190Z"
   },
   {
    "duration": 7,
    "start_time": "2022-12-02T15:28:51.657Z"
   },
   {
    "duration": 13,
    "start_time": "2022-12-02T15:28:53.052Z"
   },
   {
    "duration": 8,
    "start_time": "2022-12-02T15:28:56.092Z"
   },
   {
    "duration": 12,
    "start_time": "2022-12-02T15:28:58.687Z"
   },
   {
    "duration": 4,
    "start_time": "2022-12-02T15:29:07.838Z"
   },
   {
    "duration": 5,
    "start_time": "2022-12-02T15:29:08.545Z"
   },
   {
    "duration": 6,
    "start_time": "2022-12-02T15:29:10.556Z"
   },
   {
    "duration": 12,
    "start_time": "2022-12-02T15:29:12.758Z"
   },
   {
    "duration": 38,
    "start_time": "2022-12-02T15:29:16.129Z"
   },
   {
    "duration": 7,
    "start_time": "2022-12-02T15:29:20.162Z"
   },
   {
    "duration": 41,
    "start_time": "2022-12-02T15:29:22.835Z"
   }
  ],
  "colab": {
   "name": "dpp_template_part2.ipynb",
   "provenance": []
  },
  "kernelspec": {
   "display_name": "Python 3 (ipykernel)",
   "language": "python",
   "name": "python3"
  },
  "language_info": {
   "codemirror_mode": {
    "name": "ipython",
    "version": 3
   },
   "file_extension": ".py",
   "mimetype": "text/x-python",
   "name": "python",
   "nbconvert_exporter": "python",
   "pygments_lexer": "ipython3",
   "version": "3.9.5"
  },
  "toc": {
   "base_numbering": 1,
   "nav_menu": {},
   "number_sections": true,
   "sideBar": true,
   "skip_h1_title": true,
   "title_cell": "Table of Contents",
   "title_sidebar": "Contents",
   "toc_cell": false,
   "toc_position": {},
   "toc_section_display": true,
   "toc_window_display": false
  }
 },
 "nbformat": 4,
 "nbformat_minor": 5
}
